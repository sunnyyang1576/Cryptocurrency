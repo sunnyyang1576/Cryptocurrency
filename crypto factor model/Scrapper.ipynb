{
 "cells": [
  {
   "cell_type": "code",
   "execution_count": null,
   "metadata": {},
   "outputs": [],
   "source": []
  },
  {
   "cell_type": "code",
   "execution_count": 1,
   "metadata": {},
   "outputs": [],
   "source": [
    "import pandas as pd\n",
    "import numpy as np\n",
    "import requests as re\n",
    "from bs4 import BeautifulSoup"
   ]
  },
  {
   "cell_type": "code",
   "execution_count": null,
   "metadata": {},
   "outputs": [],
   "source": []
  },
  {
   "cell_type": "code",
   "execution_count": 2,
   "metadata": {},
   "outputs": [],
   "source": [
    "url = \"https://www.gemini.com/prices/ether\""
   ]
  },
  {
   "cell_type": "code",
   "execution_count": 3,
   "metadata": {},
   "outputs": [],
   "source": [
    "result = re.get(url)"
   ]
  },
  {
   "cell_type": "code",
   "execution_count": 4,
   "metadata": {},
   "outputs": [
    {
     "data": {
      "text/plain": [
       "<Response [200]>"
      ]
     },
     "execution_count": 4,
     "metadata": {},
     "output_type": "execute_result"
    }
   ],
   "source": [
    "result"
   ]
  },
  {
   "cell_type": "code",
   "execution_count": 6,
   "metadata": {},
   "outputs": [],
   "source": [
    "text = result.text"
   ]
  },
  {
   "cell_type": "code",
   "execution_count": 7,
   "metadata": {},
   "outputs": [],
   "source": [
    "html_file = BeautifulSoup(text,\"html.parser\")"
   ]
  },
  {
   "cell_type": "code",
   "execution_count": 10,
   "metadata": {},
   "outputs": [],
   "source": [
    "content = html_file.find(\"div\",{\"data-testid\":\"contentful-content\"})"
   ]
  },
  {
   "cell_type": "code",
   "execution_count": 13,
   "metadata": {},
   "outputs": [],
   "source": [
    "p_list = content.find_all(\"p\")"
   ]
  },
  {
   "cell_type": "code",
   "execution_count": 15,
   "metadata": {},
   "outputs": [],
   "source": [
    "p = p_list[0]"
   ]
  },
  {
   "cell_type": "code",
   "execution_count": 18,
   "metadata": {},
   "outputs": [
    {
     "data": {
      "text/plain": [
       "['Ethereum is a cryptocurrency and blockchain platform that provides a decentralized, global computer on which developers can build decentralized applications (Dapps) and their own crypto tokens.',\n",
       " None,\n",
       " None,\n",
       " None,\n",
       " None,\n",
       " 'If bitcoin resembles “digital gold” (i.e., a store of value), then ether resembles “digital oil” that powers a decentralized, global computer.',\n",
       " None,\n",
       " None]"
      ]
     },
     "execution_count": 18,
     "metadata": {},
     "output_type": "execute_result"
    }
   ],
   "source": [
    "[p.string for p in p_list]"
   ]
  },
  {
   "cell_type": "code",
   "execution_count": 21,
   "metadata": {},
   "outputs": [],
   "source": [
    "a = p_list[1]"
   ]
  },
  {
   "cell_type": "code",
   "execution_count": 25,
   "metadata": {},
   "outputs": [
    {
     "data": {
      "text/plain": [
       "['Ethereum was first described in a ',\n",
       " 'white paper',\n",
       " ' published by computer programmer ',\n",
       " 'Vitalik Buterin',\n",
       " ' in 2013',\n",
       " ' ',\n",
       " '.',\n",
       " ' ',\n",
       " ' The Ethereum network is a decentralized virtual computer with a programming language that allows developers to create and run smart contracts. Smart contracts are computer programs that can automatically facilitate, verify, or enforce the terms of a contract entered into by human or computer counterparties. The distributed computational resources that the Ethereum network brings to bear on a smart contract are paid for in ether, its currency unit.']"
      ]
     },
     "execution_count": 25,
     "metadata": {},
     "output_type": "execute_result"
    }
   ],
   "source": [
    "a.find_all(text=True)"
   ]
  },
  {
   "cell_type": "code",
   "execution_count": 26,
   "metadata": {},
   "outputs": [
    {
     "data": {
      "text/plain": [
       "['Ethereum is a cryptocurrency and blockchain platform that provides a decentralized, global computer on which developers can build decentralized applications (Dapps) and their own crypto tokens.',\n",
       " 'Ethereum was first described in a ',\n",
       " 'white paper',\n",
       " ' published by computer programmer ',\n",
       " 'Vitalik Buterin',\n",
       " ' in 2013',\n",
       " ' ',\n",
       " '.',\n",
       " ' ',\n",
       " ' The Ethereum network is a decentralized virtual computer with a programming language that allows developers to create and run smart contracts. Smart contracts are computer programs that can automatically facilitate, verify, or enforce the terms of a contract entered into by human or computer counterparties. The distributed computational resources that the Ethereum network brings to bear on a smart contract are paid for in ether, its currency unit.',\n",
       " 'Token',\n",
       " 'Ether or ETH is the digital asset token of the Ethereum network (similar to how ',\n",
       " 'bitcoin',\n",
       " ' or BTC is the digital asset token of the Bitcoin network). All ETH balances and transactions are recorded on the Ethereum blockchain. The smallest subunit of ETH is the “wei,” which is named after Wei Dai, a computer engineer and cryptographer best known as creator of b-money and the developer of the Crypto++ library. One wei is equal to 10-18 ETH or one quintillionth of an ether (.000000000000000001 ETH). Ether can be bought and sold for fiat currency, e.g. ETH to USD and vice versa, or other digital currencies.',\n",
       " 'Ether can be purchased on a ',\n",
       " 'cryptocurrency exchange',\n",
       " ' and stored in a ',\n",
       " 'crypto wallet',\n",
       " ' and custodian like Gemini.',\n",
       " 'Supply',\n",
       " 'Ether is issued at a constant annual linear rate via the block mining process. This rate is 0.3 times the total amount of ether sold (~60 million ETH) during the ether presale in June 2014, which equals 18 million ETH. This means that 18 million ETH will be ',\n",
       " 'issued',\n",
       " ' every year in perpetuity. This is in contrast to Bitcoin, which has a supply that is fixed at 21 million BTC. While the overall supply of Ethereum will continue to increase, the growth rate of its money supply will decrease over time because the amount of ether issued per year is fixed. Because the inflation rate of ether decreases every year, ether is considered a disinflationary digital asset. Like all cryptocurrencies, Etherem’s value and Ethereum price prediction is based on a variety of macroeconomic factors and crypto-market dynamics.',\n",
       " 'Characteristics',\n",
       " 'If bitcoin resembles “digital gold” (i.e., a store of value), then ether resembles “digital oil” that powers a decentralized, global computer.',\n",
       " 'Ethereum Mining',\n",
       " 'Ethereum’s consensus mechanism uses a ',\n",
       " 'proof of work',\n",
       " ' algorithm. This consensus mechanism both safeguards the integrity of the Ethereum blockchain and requires miners to run smart contracts during the mining process, which creates a decentralized pool of computation resources that forms a decentralized, global computer. As a result, Ethereum mining creates ',\n",
       " 'useful work',\n",
       " ' beyond securing the Ethereum network. Long-term, Ethereum intends to change its consensus mechanism to a ',\n",
       " 'proof of stake',\n",
       " ' algorithm.',\n",
       " 'Layer 2 Tokens',\n",
       " 'The Ethereum Virtual Machine (EVM) is considered Turing-complete and computationally universal. It allows developers to build Dapps that run on the EVM and pay for computational resources in ether. The EVM also allows developers to build their own ',\n",
       " 'digital asset tokens',\n",
       " ' or layer 2 tokens on top of the Ethereum network. A number of these layer 2 tokens use the ERC-20 standard for fungible tokens. Many of these ERC20 tokens were built during and contributed to the Initial Coin Offering (ICO) boom of 2017',\n",
       " ' ',\n",
       " '.',\n",
       " ' ',\n",
       " ' Other standards for layer 2 tokens have emerged such as the ERC-233 standard for fungible tokens and the ERC-721 standard for non-fungible tokens (also known as NFTs of “nifties”). The ',\n",
       " 'Gemini dollar',\n",
       " ' , a stablecoin issued and operated by Gemini, uses the ERC233 standard, whereas the blockchain game ',\n",
       " 'Cryptokitties',\n",
       " ' uses the ERC721 standard for non-fungible tokens.']"
      ]
     },
     "execution_count": 26,
     "metadata": {},
     "output_type": "execute_result"
    }
   ],
   "source": [
    "content.find_all(text=True)"
   ]
  },
  {
   "cell_type": "code",
   "execution_count": null,
   "metadata": {},
   "outputs": [],
   "source": []
  },
  {
   "cell_type": "code",
   "execution_count": null,
   "metadata": {},
   "outputs": [],
   "source": []
  },
  {
   "cell_type": "code",
   "execution_count": null,
   "metadata": {},
   "outputs": [],
   "source": []
  },
  {
   "cell_type": "code",
   "execution_count": null,
   "metadata": {},
   "outputs": [],
   "source": []
  },
  {
   "cell_type": "code",
   "execution_count": null,
   "metadata": {},
   "outputs": [],
   "source": []
  },
  {
   "cell_type": "code",
   "execution_count": null,
   "metadata": {},
   "outputs": [],
   "source": []
  },
  {
   "cell_type": "code",
   "execution_count": null,
   "metadata": {},
   "outputs": [],
   "source": []
  }
 ],
 "metadata": {
  "kernelspec": {
   "display_name": "Python 3",
   "language": "python",
   "name": "python3"
  },
  "language_info": {
   "codemirror_mode": {
    "name": "ipython",
    "version": 3
   },
   "file_extension": ".py",
   "mimetype": "text/x-python",
   "name": "python",
   "nbconvert_exporter": "python",
   "pygments_lexer": "ipython3",
   "version": "3.8.5"
  }
 },
 "nbformat": 4,
 "nbformat_minor": 4
}
