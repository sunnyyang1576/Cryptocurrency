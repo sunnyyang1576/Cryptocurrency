{
 "cells": [
  {
   "cell_type": "code",
   "execution_count": null,
   "metadata": {},
   "outputs": [],
   "source": []
  },
  {
   "cell_type": "code",
   "execution_count": 1,
   "metadata": {},
   "outputs": [],
   "source": [
    "import pandas as pd\n",
    "import numpy as np"
   ]
  },
  {
   "cell_type": "code",
   "execution_count": 2,
   "metadata": {},
   "outputs": [],
   "source": [
    "from src.PortfolioIndicator import PortfolioIndicator\n",
    "from src.PortfolioConstructor import PortfolioConstructor"
   ]
  },
  {
   "cell_type": "code",
   "execution_count": 3,
   "metadata": {},
   "outputs": [],
   "source": [
    "from scipy.stats import ttest_rel"
   ]
  },
  {
   "cell_type": "code",
   "execution_count": null,
   "metadata": {},
   "outputs": [],
   "source": []
  },
  {
   "cell_type": "code",
   "execution_count": null,
   "metadata": {},
   "outputs": [],
   "source": []
  },
  {
   "cell_type": "code",
   "execution_count": null,
   "metadata": {},
   "outputs": [],
   "source": []
  },
  {
   "cell_type": "code",
   "execution_count": 4,
   "metadata": {},
   "outputs": [],
   "source": [
    "def portfolio_return(universe_df,momentum_period,waiting_time,portfolio_number):\n",
    "    \n",
    "    complete_ret_sub_df = universe_df.pct_change(periods=momentum_period).shift(waiting_time).dropna()\n",
    "    complete_ret_sub_df_long = complete_ret_sub_df.stack()\n",
    "    \n",
    "    signal_df = complete_ret_sub_df_long.index.to_frame()\n",
    "    signal_df.index = range(0,signal_df.shape[0])\n",
    "    signal_df[\"momentum\"] = list(complete_ret_sub_df_long)\n",
    "    signal_df.columns=[\"date\",\"ticker\",\"momentum\"]\n",
    "    \n",
    "    rebalance_date_series = list(complete_ret_sub_df.index)\n",
    "    \n",
    "    portfolio_indicator = PortfolioIndicator()\n",
    "    portfolio_indicator = portfolio_indicator.create_indicator(signal_df,\"momentum\",rebalance_date_series,portfolio_number)\n",
    "    \n",
    "    complete_sub_df_1 = universe_df.pct_change().dropna()\n",
    "    complete_sub_df_1_long = complete_sub_df_1.stack()\n",
    "    \n",
    "    index_df = complete_sub_df_1_long.index.to_frame()\n",
    "    index_df[\"ret\"] = complete_sub_df_1_long\n",
    "    index_df.index=range(0,index_df.shape[0])\n",
    "    index_df.columns = [\"date\",\"ticker\",\"ret\"]\n",
    "    return_df = index_df\n",
    "    \n",
    "    merge_df = return_df.merge(portfolio_indicator,on=[\"date\",\"ticker\"])\n",
    "    \n",
    "    portfolio_constructor = PortfolioConstructor(merge_df)\n",
    "    strategy_ret_df = portfolio_constructor.create_portfolio_series(\"momentum_indicator\",equal_weight=True)\n",
    "    \n",
    "    return strategy_ret_df"
   ]
  },
  {
   "cell_type": "code",
   "execution_count": null,
   "metadata": {},
   "outputs": [],
   "source": []
  },
  {
   "cell_type": "code",
   "execution_count": 5,
   "metadata": {},
   "outputs": [],
   "source": [
    "df = pd.read_csv(\"data/yahoo_finance_data.csv\")"
   ]
  },
  {
   "cell_type": "code",
   "execution_count": 6,
   "metadata": {},
   "outputs": [],
   "source": [
    "df[\"date\"] = pd.to_datetime(df[\"date\"])"
   ]
  },
  {
   "cell_type": "code",
   "execution_count": null,
   "metadata": {},
   "outputs": [],
   "source": []
  },
  {
   "cell_type": "code",
   "execution_count": 7,
   "metadata": {},
   "outputs": [],
   "source": [
    "vol_df = df.pivot_table(columns=\"ticker\",values=\"volume\",index=\"date\")\n",
    "price_df = df.pivot_table(columns=\"ticker\",values=\"price\",index=\"date\")"
   ]
  },
  {
   "cell_type": "code",
   "execution_count": null,
   "metadata": {},
   "outputs": [],
   "source": []
  },
  {
   "cell_type": "markdown",
   "metadata": {},
   "source": [
    "### Volume Filter"
   ]
  },
  {
   "cell_type": "code",
   "execution_count": 8,
   "metadata": {},
   "outputs": [],
   "source": [
    "momentum_period = 3\n",
    "waiting_time = 1\n",
    "portfolio_number = 3"
   ]
  },
  {
   "cell_type": "code",
   "execution_count": null,
   "metadata": {},
   "outputs": [],
   "source": []
  },
  {
   "cell_type": "code",
   "execution_count": 9,
   "metadata": {},
   "outputs": [],
   "source": [
    "volume_threshold = 100"
   ]
  },
  {
   "cell_type": "code",
   "execution_count": 10,
   "metadata": {},
   "outputs": [
    {
     "name": "stdout",
     "output_type": "stream",
     "text": [
      "93\n",
      "initialized.\n"
     ]
    }
   ],
   "source": [
    "asset_list = list(vol_df.min()[vol_df.min()>volume_threshold].index)\n",
    "updated_price_df = price_df[asset_list]\n",
    "print(len(asset_list))\n",
    "\n",
    "universe_df = updated_price_df\n",
    "port_ret_df_100 = portfolio_return(universe_df,momentum_period,waiting_time,portfolio_number)"
   ]
  },
  {
   "cell_type": "code",
   "execution_count": null,
   "metadata": {},
   "outputs": [],
   "source": []
  },
  {
   "cell_type": "code",
   "execution_count": 11,
   "metadata": {},
   "outputs": [],
   "source": [
    "volume_threshold = 1000"
   ]
  },
  {
   "cell_type": "code",
   "execution_count": 12,
   "metadata": {},
   "outputs": [
    {
     "name": "stdout",
     "output_type": "stream",
     "text": [
      "85\n",
      "initialized.\n"
     ]
    }
   ],
   "source": [
    "asset_list = list(vol_df.min()[vol_df.min()>volume_threshold].index)\n",
    "updated_price_df = price_df[asset_list]\n",
    "print(len(asset_list))\n",
    "\n",
    "universe_df = updated_price_df\n",
    "port_ret_df_1000 = portfolio_return(universe_df,momentum_period,waiting_time,portfolio_number)"
   ]
  },
  {
   "cell_type": "code",
   "execution_count": null,
   "metadata": {},
   "outputs": [],
   "source": []
  },
  {
   "cell_type": "code",
   "execution_count": 13,
   "metadata": {},
   "outputs": [],
   "source": [
    "volume_threshold = 10000"
   ]
  },
  {
   "cell_type": "code",
   "execution_count": 14,
   "metadata": {},
   "outputs": [
    {
     "name": "stdout",
     "output_type": "stream",
     "text": [
      "71\n",
      "initialized.\n"
     ]
    }
   ],
   "source": [
    "asset_list = list(vol_df.min()[vol_df.min()>volume_threshold].index)\n",
    "updated_price_df = price_df[asset_list]\n",
    "print(len(asset_list))\n",
    "\n",
    "universe_df = updated_price_df\n",
    "port_ret_df_10000 = portfolio_return(universe_df,momentum_period,waiting_time,portfolio_number)"
   ]
  },
  {
   "cell_type": "code",
   "execution_count": null,
   "metadata": {},
   "outputs": [],
   "source": []
  },
  {
   "cell_type": "code",
   "execution_count": null,
   "metadata": {},
   "outputs": [],
   "source": []
  },
  {
   "cell_type": "code",
   "execution_count": 15,
   "metadata": {},
   "outputs": [],
   "source": [
    "volume_threshold = 20000"
   ]
  },
  {
   "cell_type": "code",
   "execution_count": 16,
   "metadata": {},
   "outputs": [
    {
     "name": "stdout",
     "output_type": "stream",
     "text": [
      "68\n",
      "initialized.\n"
     ]
    }
   ],
   "source": [
    "asset_list = list(vol_df.min()[vol_df.min()>volume_threshold].index)\n",
    "updated_price_df = price_df[asset_list]\n",
    "print(len(asset_list))\n",
    "\n",
    "universe_df = updated_price_df\n",
    "port_ret_df_20000 = portfolio_return(universe_df,momentum_period,waiting_time,portfolio_number)"
   ]
  },
  {
   "cell_type": "code",
   "execution_count": null,
   "metadata": {},
   "outputs": [],
   "source": []
  },
  {
   "cell_type": "code",
   "execution_count": 17,
   "metadata": {},
   "outputs": [],
   "source": [
    "volume_threshold = 30000"
   ]
  },
  {
   "cell_type": "code",
   "execution_count": 18,
   "metadata": {},
   "outputs": [
    {
     "name": "stdout",
     "output_type": "stream",
     "text": [
      "67\n",
      "initialized.\n"
     ]
    }
   ],
   "source": [
    "asset_list = list(vol_df.min()[vol_df.min()>volume_threshold].index)\n",
    "updated_price_df = price_df[asset_list]\n",
    "print(len(asset_list))\n",
    "\n",
    "universe_df = updated_price_df\n",
    "port_ret_df_30000 = portfolio_return(universe_df,momentum_period,waiting_time,portfolio_number)"
   ]
  },
  {
   "cell_type": "code",
   "execution_count": null,
   "metadata": {},
   "outputs": [],
   "source": []
  },
  {
   "cell_type": "code",
   "execution_count": 19,
   "metadata": {},
   "outputs": [],
   "source": [
    "volume_threshold = 40000"
   ]
  },
  {
   "cell_type": "code",
   "execution_count": 20,
   "metadata": {},
   "outputs": [
    {
     "name": "stdout",
     "output_type": "stream",
     "text": [
      "64\n",
      "initialized.\n"
     ]
    }
   ],
   "source": [
    "asset_list = list(vol_df.min()[vol_df.min()>volume_threshold].index)\n",
    "updated_price_df = price_df[asset_list]\n",
    "print(len(asset_list))\n",
    "\n",
    "universe_df = updated_price_df\n",
    "port_ret_df_40000 = portfolio_return(universe_df,momentum_period,waiting_time,portfolio_number)"
   ]
  },
  {
   "cell_type": "code",
   "execution_count": null,
   "metadata": {},
   "outputs": [],
   "source": [
    "\n"
   ]
  },
  {
   "cell_type": "code",
   "execution_count": 21,
   "metadata": {},
   "outputs": [],
   "source": [
    "volume_threshold = 50000"
   ]
  },
  {
   "cell_type": "code",
   "execution_count": 22,
   "metadata": {},
   "outputs": [
    {
     "name": "stdout",
     "output_type": "stream",
     "text": [
      "61\n",
      "initialized.\n"
     ]
    }
   ],
   "source": [
    "asset_list = list(vol_df.min()[vol_df.min()>volume_threshold].index)\n",
    "updated_price_df = price_df[asset_list]\n",
    "print(len(asset_list))\n",
    "\n",
    "universe_df = updated_price_df\n",
    "port_ret_df_50000 = portfolio_return(universe_df,momentum_period,waiting_time,portfolio_number)"
   ]
  },
  {
   "cell_type": "code",
   "execution_count": null,
   "metadata": {},
   "outputs": [],
   "source": []
  },
  {
   "cell_type": "code",
   "execution_count": 23,
   "metadata": {},
   "outputs": [],
   "source": [
    "volume_threshold = 100000"
   ]
  },
  {
   "cell_type": "code",
   "execution_count": 24,
   "metadata": {},
   "outputs": [
    {
     "name": "stdout",
     "output_type": "stream",
     "text": [
      "56\n",
      "initialized.\n"
     ]
    }
   ],
   "source": [
    "asset_list = list(vol_df.min()[vol_df.min()>volume_threshold].index)\n",
    "updated_price_df = price_df[asset_list]\n",
    "print(len(asset_list))\n",
    "\n",
    "universe_df = updated_price_df\n",
    "port_ret_df_100000 = portfolio_return(universe_df,momentum_period,waiting_time,portfolio_number)"
   ]
  },
  {
   "cell_type": "code",
   "execution_count": null,
   "metadata": {},
   "outputs": [],
   "source": []
  },
  {
   "cell_type": "code",
   "execution_count": 25,
   "metadata": {},
   "outputs": [],
   "source": [
    "volume_threshold = 500000"
   ]
  },
  {
   "cell_type": "code",
   "execution_count": 26,
   "metadata": {},
   "outputs": [
    {
     "name": "stdout",
     "output_type": "stream",
     "text": [
      "33\n",
      "initialized.\n"
     ]
    }
   ],
   "source": [
    "asset_list = list(vol_df.min()[vol_df.min()>volume_threshold].index)\n",
    "updated_price_df = price_df[asset_list]\n",
    "print(len(asset_list))\n",
    "\n",
    "universe_df = updated_price_df\n",
    "port_ret_df_500000 = portfolio_return(universe_df,momentum_period,waiting_time,portfolio_number)"
   ]
  },
  {
   "cell_type": "code",
   "execution_count": null,
   "metadata": {},
   "outputs": [],
   "source": []
  },
  {
   "cell_type": "code",
   "execution_count": 27,
   "metadata": {},
   "outputs": [],
   "source": [
    "volume_threshold = 1000000"
   ]
  },
  {
   "cell_type": "code",
   "execution_count": 28,
   "metadata": {},
   "outputs": [
    {
     "name": "stdout",
     "output_type": "stream",
     "text": [
      "28\n",
      "initialized.\n"
     ]
    }
   ],
   "source": [
    "asset_list = list(vol_df.min()[vol_df.min()>volume_threshold].index)\n",
    "updated_price_df = price_df[asset_list]\n",
    "print(len(asset_list))\n",
    "\n",
    "universe_df = updated_price_df\n",
    "port_ret_df_1000000 = portfolio_return(universe_df,momentum_period,waiting_time,portfolio_number)"
   ]
  },
  {
   "cell_type": "code",
   "execution_count": null,
   "metadata": {},
   "outputs": [],
   "source": []
  },
  {
   "cell_type": "code",
   "execution_count": 29,
   "metadata": {},
   "outputs": [],
   "source": [
    "volume_threshold = 2000000"
   ]
  },
  {
   "cell_type": "code",
   "execution_count": 30,
   "metadata": {},
   "outputs": [
    {
     "name": "stdout",
     "output_type": "stream",
     "text": [
      "23\n",
      "initialized.\n"
     ]
    }
   ],
   "source": [
    "asset_list = list(vol_df.min()[vol_df.min()>volume_threshold].index)\n",
    "updated_price_df = price_df[asset_list]\n",
    "print(len(asset_list))\n",
    "\n",
    "universe_df = updated_price_df\n",
    "port_ret_df_2000000 = portfolio_return(universe_df,momentum_period,waiting_time,portfolio_number)"
   ]
  },
  {
   "cell_type": "code",
   "execution_count": null,
   "metadata": {},
   "outputs": [],
   "source": []
  },
  {
   "cell_type": "code",
   "execution_count": 31,
   "metadata": {},
   "outputs": [],
   "source": [
    "volume_threshold = 3000000"
   ]
  },
  {
   "cell_type": "code",
   "execution_count": 32,
   "metadata": {},
   "outputs": [
    {
     "name": "stdout",
     "output_type": "stream",
     "text": [
      "19\n",
      "initialized.\n"
     ]
    }
   ],
   "source": [
    "asset_list = list(vol_df.min()[vol_df.min()>volume_threshold].index)\n",
    "updated_price_df = price_df[asset_list]\n",
    "print(len(asset_list))\n",
    "\n",
    "universe_df = updated_price_df\n",
    "port_ret_df_3000000 = portfolio_return(universe_df,momentum_period,waiting_time,portfolio_number)"
   ]
  },
  {
   "cell_type": "code",
   "execution_count": null,
   "metadata": {},
   "outputs": [],
   "source": []
  },
  {
   "cell_type": "code",
   "execution_count": 33,
   "metadata": {},
   "outputs": [],
   "source": [
    "volume_threshold = 10000000"
   ]
  },
  {
   "cell_type": "code",
   "execution_count": 34,
   "metadata": {},
   "outputs": [
    {
     "name": "stdout",
     "output_type": "stream",
     "text": [
      "16\n",
      "initialized.\n"
     ]
    }
   ],
   "source": [
    "asset_list = list(vol_df.min()[vol_df.min()>volume_threshold].index)\n",
    "updated_price_df = price_df[asset_list]\n",
    "print(len(asset_list))\n",
    "\n",
    "universe_df = updated_price_df\n",
    "port_ret_df_10000000 = portfolio_return(universe_df,momentum_period,waiting_time,portfolio_number)"
   ]
  },
  {
   "cell_type": "code",
   "execution_count": null,
   "metadata": {},
   "outputs": [],
   "source": []
  },
  {
   "cell_type": "code",
   "execution_count": 35,
   "metadata": {},
   "outputs": [],
   "source": [
    "volume_threshold = 50000000"
   ]
  },
  {
   "cell_type": "code",
   "execution_count": 36,
   "metadata": {},
   "outputs": [
    {
     "name": "stdout",
     "output_type": "stream",
     "text": [
      "10\n",
      "initialized.\n"
     ]
    }
   ],
   "source": [
    "asset_list = list(vol_df.min()[vol_df.min()>volume_threshold].index)\n",
    "updated_price_df = price_df[asset_list]\n",
    "print(len(asset_list))\n",
    "\n",
    "universe_df = updated_price_df\n",
    "port_ret_df_50000000 = portfolio_return(universe_df,momentum_period,waiting_time,portfolio_number)"
   ]
  },
  {
   "cell_type": "code",
   "execution_count": null,
   "metadata": {},
   "outputs": [],
   "source": []
  },
  {
   "cell_type": "markdown",
   "metadata": {},
   "source": [
    "### Comparison of Portfolio Performance"
   ]
  },
  {
   "cell_type": "markdown",
   "metadata": {},
   "source": [
    "#### Bacis Comparision"
   ]
  },
  {
   "cell_type": "code",
   "execution_count": null,
   "metadata": {},
   "outputs": [],
   "source": []
  },
  {
   "cell_type": "code",
   "execution_count": 37,
   "metadata": {},
   "outputs": [
    {
     "data": {
      "text/html": [
       "<div>\n",
       "<style scoped>\n",
       "    .dataframe tbody tr th:only-of-type {\n",
       "        vertical-align: middle;\n",
       "    }\n",
       "\n",
       "    .dataframe tbody tr th {\n",
       "        vertical-align: top;\n",
       "    }\n",
       "\n",
       "    .dataframe thead th {\n",
       "        text-align: right;\n",
       "    }\n",
       "</style>\n",
       "<table border=\"1\" class=\"dataframe\">\n",
       "  <thead>\n",
       "    <tr style=\"text-align: right;\">\n",
       "      <th>momentum_indicator</th>\n",
       "      <th>0</th>\n",
       "      <th>1</th>\n",
       "      <th>2</th>\n",
       "    </tr>\n",
       "  </thead>\n",
       "  <tbody>\n",
       "    <tr>\n",
       "      <th>count</th>\n",
       "      <td>1093.000000</td>\n",
       "      <td>1093.000000</td>\n",
       "      <td>1093.000000</td>\n",
       "    </tr>\n",
       "    <tr>\n",
       "      <th>mean</th>\n",
       "      <td>0.002534</td>\n",
       "      <td>0.000278</td>\n",
       "      <td>-0.001742</td>\n",
       "    </tr>\n",
       "    <tr>\n",
       "      <th>std</th>\n",
       "      <td>0.047020</td>\n",
       "      <td>0.046415</td>\n",
       "      <td>0.046394</td>\n",
       "    </tr>\n",
       "    <tr>\n",
       "      <th>min</th>\n",
       "      <td>-0.408573</td>\n",
       "      <td>-0.426765</td>\n",
       "      <td>-0.398829</td>\n",
       "    </tr>\n",
       "    <tr>\n",
       "      <th>25%</th>\n",
       "      <td>-0.016224</td>\n",
       "      <td>-0.018110</td>\n",
       "      <td>-0.021262</td>\n",
       "    </tr>\n",
       "    <tr>\n",
       "      <th>50%</th>\n",
       "      <td>0.005564</td>\n",
       "      <td>0.003129</td>\n",
       "      <td>0.001739</td>\n",
       "    </tr>\n",
       "    <tr>\n",
       "      <th>75%</th>\n",
       "      <td>0.025560</td>\n",
       "      <td>0.022742</td>\n",
       "      <td>0.021600</td>\n",
       "    </tr>\n",
       "    <tr>\n",
       "      <th>max</th>\n",
       "      <td>0.240545</td>\n",
       "      <td>0.201838</td>\n",
       "      <td>0.159191</td>\n",
       "    </tr>\n",
       "  </tbody>\n",
       "</table>\n",
       "</div>"
      ],
      "text/plain": [
       "momentum_indicator            0            1            2\n",
       "count               1093.000000  1093.000000  1093.000000\n",
       "mean                   0.002534     0.000278    -0.001742\n",
       "std                    0.047020     0.046415     0.046394\n",
       "min                   -0.408573    -0.426765    -0.398829\n",
       "25%                   -0.016224    -0.018110    -0.021262\n",
       "50%                    0.005564     0.003129     0.001739\n",
       "75%                    0.025560     0.022742     0.021600\n",
       "max                    0.240545     0.201838     0.159191"
      ]
     },
     "execution_count": 37,
     "metadata": {},
     "output_type": "execute_result"
    }
   ],
   "source": [
    "port_ret_df_100.describe()"
   ]
  },
  {
   "cell_type": "code",
   "execution_count": 38,
   "metadata": {},
   "outputs": [
    {
     "data": {
      "text/html": [
       "<div>\n",
       "<style scoped>\n",
       "    .dataframe tbody tr th:only-of-type {\n",
       "        vertical-align: middle;\n",
       "    }\n",
       "\n",
       "    .dataframe tbody tr th {\n",
       "        vertical-align: top;\n",
       "    }\n",
       "\n",
       "    .dataframe thead th {\n",
       "        text-align: right;\n",
       "    }\n",
       "</style>\n",
       "<table border=\"1\" class=\"dataframe\">\n",
       "  <thead>\n",
       "    <tr style=\"text-align: right;\">\n",
       "      <th>momentum_indicator</th>\n",
       "      <th>0</th>\n",
       "      <th>1</th>\n",
       "      <th>2</th>\n",
       "    </tr>\n",
       "  </thead>\n",
       "  <tbody>\n",
       "    <tr>\n",
       "      <th>count</th>\n",
       "      <td>1093.000000</td>\n",
       "      <td>1093.000000</td>\n",
       "      <td>1093.000000</td>\n",
       "    </tr>\n",
       "    <tr>\n",
       "      <th>mean</th>\n",
       "      <td>0.001681</td>\n",
       "      <td>0.000464</td>\n",
       "      <td>-0.001137</td>\n",
       "    </tr>\n",
       "    <tr>\n",
       "      <th>std</th>\n",
       "      <td>0.047351</td>\n",
       "      <td>0.046814</td>\n",
       "      <td>0.046891</td>\n",
       "    </tr>\n",
       "    <tr>\n",
       "      <th>min</th>\n",
       "      <td>-0.411503</td>\n",
       "      <td>-0.429251</td>\n",
       "      <td>-0.393732</td>\n",
       "    </tr>\n",
       "    <tr>\n",
       "      <th>25%</th>\n",
       "      <td>-0.017666</td>\n",
       "      <td>-0.018608</td>\n",
       "      <td>-0.021745</td>\n",
       "    </tr>\n",
       "    <tr>\n",
       "      <th>50%</th>\n",
       "      <td>0.004802</td>\n",
       "      <td>0.003774</td>\n",
       "      <td>0.001679</td>\n",
       "    </tr>\n",
       "    <tr>\n",
       "      <th>75%</th>\n",
       "      <td>0.024610</td>\n",
       "      <td>0.023242</td>\n",
       "      <td>0.022043</td>\n",
       "    </tr>\n",
       "    <tr>\n",
       "      <th>max</th>\n",
       "      <td>0.222816</td>\n",
       "      <td>0.201612</td>\n",
       "      <td>0.169891</td>\n",
       "    </tr>\n",
       "  </tbody>\n",
       "</table>\n",
       "</div>"
      ],
      "text/plain": [
       "momentum_indicator            0            1            2\n",
       "count               1093.000000  1093.000000  1093.000000\n",
       "mean                   0.001681     0.000464    -0.001137\n",
       "std                    0.047351     0.046814     0.046891\n",
       "min                   -0.411503    -0.429251    -0.393732\n",
       "25%                   -0.017666    -0.018608    -0.021745\n",
       "50%                    0.004802     0.003774     0.001679\n",
       "75%                    0.024610     0.023242     0.022043\n",
       "max                    0.222816     0.201612     0.169891"
      ]
     },
     "execution_count": 38,
     "metadata": {},
     "output_type": "execute_result"
    }
   ],
   "source": [
    "port_ret_df_1000.describe()"
   ]
  },
  {
   "cell_type": "code",
   "execution_count": 39,
   "metadata": {},
   "outputs": [
    {
     "data": {
      "text/html": [
       "<div>\n",
       "<style scoped>\n",
       "    .dataframe tbody tr th:only-of-type {\n",
       "        vertical-align: middle;\n",
       "    }\n",
       "\n",
       "    .dataframe tbody tr th {\n",
       "        vertical-align: top;\n",
       "    }\n",
       "\n",
       "    .dataframe thead th {\n",
       "        text-align: right;\n",
       "    }\n",
       "</style>\n",
       "<table border=\"1\" class=\"dataframe\">\n",
       "  <thead>\n",
       "    <tr style=\"text-align: right;\">\n",
       "      <th>momentum_indicator</th>\n",
       "      <th>0</th>\n",
       "      <th>1</th>\n",
       "      <th>2</th>\n",
       "    </tr>\n",
       "  </thead>\n",
       "  <tbody>\n",
       "    <tr>\n",
       "      <th>count</th>\n",
       "      <td>1093.000000</td>\n",
       "      <td>1093.000000</td>\n",
       "      <td>1093.000000</td>\n",
       "    </tr>\n",
       "    <tr>\n",
       "      <th>mean</th>\n",
       "      <td>0.000766</td>\n",
       "      <td>0.000629</td>\n",
       "      <td>-0.000824</td>\n",
       "    </tr>\n",
       "    <tr>\n",
       "      <th>std</th>\n",
       "      <td>0.048110</td>\n",
       "      <td>0.047374</td>\n",
       "      <td>0.047267</td>\n",
       "    </tr>\n",
       "    <tr>\n",
       "      <th>min</th>\n",
       "      <td>-0.428008</td>\n",
       "      <td>-0.400744</td>\n",
       "      <td>-0.408971</td>\n",
       "    </tr>\n",
       "    <tr>\n",
       "      <th>25%</th>\n",
       "      <td>-0.018606</td>\n",
       "      <td>-0.018777</td>\n",
       "      <td>-0.021501</td>\n",
       "    </tr>\n",
       "    <tr>\n",
       "      <th>50%</th>\n",
       "      <td>0.004126</td>\n",
       "      <td>0.004123</td>\n",
       "      <td>0.002791</td>\n",
       "    </tr>\n",
       "    <tr>\n",
       "      <th>75%</th>\n",
       "      <td>0.023482</td>\n",
       "      <td>0.023734</td>\n",
       "      <td>0.022359</td>\n",
       "    </tr>\n",
       "    <tr>\n",
       "      <th>max</th>\n",
       "      <td>0.250404</td>\n",
       "      <td>0.186544</td>\n",
       "      <td>0.178972</td>\n",
       "    </tr>\n",
       "  </tbody>\n",
       "</table>\n",
       "</div>"
      ],
      "text/plain": [
       "momentum_indicator            0            1            2\n",
       "count               1093.000000  1093.000000  1093.000000\n",
       "mean                   0.000766     0.000629    -0.000824\n",
       "std                    0.048110     0.047374     0.047267\n",
       "min                   -0.428008    -0.400744    -0.408971\n",
       "25%                   -0.018606    -0.018777    -0.021501\n",
       "50%                    0.004126     0.004123     0.002791\n",
       "75%                    0.023482     0.023734     0.022359\n",
       "max                    0.250404     0.186544     0.178972"
      ]
     },
     "execution_count": 39,
     "metadata": {},
     "output_type": "execute_result"
    }
   ],
   "source": [
    "port_ret_df_10000.describe()"
   ]
  },
  {
   "cell_type": "code",
   "execution_count": 43,
   "metadata": {},
   "outputs": [
    {
     "data": {
      "text/html": [
       "<div>\n",
       "<style scoped>\n",
       "    .dataframe tbody tr th:only-of-type {\n",
       "        vertical-align: middle;\n",
       "    }\n",
       "\n",
       "    .dataframe tbody tr th {\n",
       "        vertical-align: top;\n",
       "    }\n",
       "\n",
       "    .dataframe thead th {\n",
       "        text-align: right;\n",
       "    }\n",
       "</style>\n",
       "<table border=\"1\" class=\"dataframe\">\n",
       "  <thead>\n",
       "    <tr style=\"text-align: right;\">\n",
       "      <th>momentum_indicator</th>\n",
       "      <th>0</th>\n",
       "      <th>1</th>\n",
       "      <th>2</th>\n",
       "    </tr>\n",
       "  </thead>\n",
       "  <tbody>\n",
       "    <tr>\n",
       "      <th>count</th>\n",
       "      <td>1093.000000</td>\n",
       "      <td>1093.000000</td>\n",
       "      <td>1093.000000</td>\n",
       "    </tr>\n",
       "    <tr>\n",
       "      <th>mean</th>\n",
       "      <td>0.000724</td>\n",
       "      <td>0.000524</td>\n",
       "      <td>-0.000691</td>\n",
       "    </tr>\n",
       "    <tr>\n",
       "      <th>std</th>\n",
       "      <td>0.048238</td>\n",
       "      <td>0.047350</td>\n",
       "      <td>0.047285</td>\n",
       "    </tr>\n",
       "    <tr>\n",
       "      <th>min</th>\n",
       "      <td>-0.422627</td>\n",
       "      <td>-0.401996</td>\n",
       "      <td>-0.408633</td>\n",
       "    </tr>\n",
       "    <tr>\n",
       "      <th>25%</th>\n",
       "      <td>-0.018829</td>\n",
       "      <td>-0.018892</td>\n",
       "      <td>-0.022467</td>\n",
       "    </tr>\n",
       "    <tr>\n",
       "      <th>50%</th>\n",
       "      <td>0.003577</td>\n",
       "      <td>0.003776</td>\n",
       "      <td>0.002871</td>\n",
       "    </tr>\n",
       "    <tr>\n",
       "      <th>75%</th>\n",
       "      <td>0.023699</td>\n",
       "      <td>0.023486</td>\n",
       "      <td>0.022269</td>\n",
       "    </tr>\n",
       "    <tr>\n",
       "      <th>max</th>\n",
       "      <td>0.221828</td>\n",
       "      <td>0.186287</td>\n",
       "      <td>0.176607</td>\n",
       "    </tr>\n",
       "  </tbody>\n",
       "</table>\n",
       "</div>"
      ],
      "text/plain": [
       "momentum_indicator            0            1            2\n",
       "count               1093.000000  1093.000000  1093.000000\n",
       "mean                   0.000724     0.000524    -0.000691\n",
       "std                    0.048238     0.047350     0.047285\n",
       "min                   -0.422627    -0.401996    -0.408633\n",
       "25%                   -0.018829    -0.018892    -0.022467\n",
       "50%                    0.003577     0.003776     0.002871\n",
       "75%                    0.023699     0.023486     0.022269\n",
       "max                    0.221828     0.186287     0.176607"
      ]
     },
     "execution_count": 43,
     "metadata": {},
     "output_type": "execute_result"
    }
   ],
   "source": [
    "port_ret_df_20000.describe()"
   ]
  },
  {
   "cell_type": "code",
   "execution_count": 44,
   "metadata": {},
   "outputs": [
    {
     "data": {
      "text/html": [
       "<div>\n",
       "<style scoped>\n",
       "    .dataframe tbody tr th:only-of-type {\n",
       "        vertical-align: middle;\n",
       "    }\n",
       "\n",
       "    .dataframe tbody tr th {\n",
       "        vertical-align: top;\n",
       "    }\n",
       "\n",
       "    .dataframe thead th {\n",
       "        text-align: right;\n",
       "    }\n",
       "</style>\n",
       "<table border=\"1\" class=\"dataframe\">\n",
       "  <thead>\n",
       "    <tr style=\"text-align: right;\">\n",
       "      <th>momentum_indicator</th>\n",
       "      <th>0</th>\n",
       "      <th>1</th>\n",
       "      <th>2</th>\n",
       "    </tr>\n",
       "  </thead>\n",
       "  <tbody>\n",
       "    <tr>\n",
       "      <th>count</th>\n",
       "      <td>1093.000000</td>\n",
       "      <td>1093.000000</td>\n",
       "      <td>1093.000000</td>\n",
       "    </tr>\n",
       "    <tr>\n",
       "      <th>mean</th>\n",
       "      <td>0.000551</td>\n",
       "      <td>0.000435</td>\n",
       "      <td>-0.000535</td>\n",
       "    </tr>\n",
       "    <tr>\n",
       "      <th>std</th>\n",
       "      <td>0.048192</td>\n",
       "      <td>0.047256</td>\n",
       "      <td>0.047403</td>\n",
       "    </tr>\n",
       "    <tr>\n",
       "      <th>min</th>\n",
       "      <td>-0.419029</td>\n",
       "      <td>-0.400542</td>\n",
       "      <td>-0.411920</td>\n",
       "    </tr>\n",
       "    <tr>\n",
       "      <th>25%</th>\n",
       "      <td>-0.018661</td>\n",
       "      <td>-0.019232</td>\n",
       "      <td>-0.022533</td>\n",
       "    </tr>\n",
       "    <tr>\n",
       "      <th>50%</th>\n",
       "      <td>0.003381</td>\n",
       "      <td>0.003349</td>\n",
       "      <td>0.002757</td>\n",
       "    </tr>\n",
       "    <tr>\n",
       "      <th>75%</th>\n",
       "      <td>0.023711</td>\n",
       "      <td>0.023089</td>\n",
       "      <td>0.022722</td>\n",
       "    </tr>\n",
       "    <tr>\n",
       "      <th>max</th>\n",
       "      <td>0.220417</td>\n",
       "      <td>0.192430</td>\n",
       "      <td>0.176701</td>\n",
       "    </tr>\n",
       "  </tbody>\n",
       "</table>\n",
       "</div>"
      ],
      "text/plain": [
       "momentum_indicator            0            1            2\n",
       "count               1093.000000  1093.000000  1093.000000\n",
       "mean                   0.000551     0.000435    -0.000535\n",
       "std                    0.048192     0.047256     0.047403\n",
       "min                   -0.419029    -0.400542    -0.411920\n",
       "25%                   -0.018661    -0.019232    -0.022533\n",
       "50%                    0.003381     0.003349     0.002757\n",
       "75%                    0.023711     0.023089     0.022722\n",
       "max                    0.220417     0.192430     0.176701"
      ]
     },
     "execution_count": 44,
     "metadata": {},
     "output_type": "execute_result"
    }
   ],
   "source": [
    "port_ret_df_30000.describe()"
   ]
  },
  {
   "cell_type": "code",
   "execution_count": 45,
   "metadata": {},
   "outputs": [
    {
     "data": {
      "text/html": [
       "<div>\n",
       "<style scoped>\n",
       "    .dataframe tbody tr th:only-of-type {\n",
       "        vertical-align: middle;\n",
       "    }\n",
       "\n",
       "    .dataframe tbody tr th {\n",
       "        vertical-align: top;\n",
       "    }\n",
       "\n",
       "    .dataframe thead th {\n",
       "        text-align: right;\n",
       "    }\n",
       "</style>\n",
       "<table border=\"1\" class=\"dataframe\">\n",
       "  <thead>\n",
       "    <tr style=\"text-align: right;\">\n",
       "      <th>momentum_indicator</th>\n",
       "      <th>0</th>\n",
       "      <th>1</th>\n",
       "      <th>2</th>\n",
       "    </tr>\n",
       "  </thead>\n",
       "  <tbody>\n",
       "    <tr>\n",
       "      <th>count</th>\n",
       "      <td>1093.000000</td>\n",
       "      <td>1093.000000</td>\n",
       "      <td>1093.000000</td>\n",
       "    </tr>\n",
       "    <tr>\n",
       "      <th>mean</th>\n",
       "      <td>0.000392</td>\n",
       "      <td>0.000345</td>\n",
       "      <td>-0.000374</td>\n",
       "    </tr>\n",
       "    <tr>\n",
       "      <th>std</th>\n",
       "      <td>0.048058</td>\n",
       "      <td>0.047120</td>\n",
       "      <td>0.047305</td>\n",
       "    </tr>\n",
       "    <tr>\n",
       "      <th>min</th>\n",
       "      <td>-0.424579</td>\n",
       "      <td>-0.394196</td>\n",
       "      <td>-0.412677</td>\n",
       "    </tr>\n",
       "    <tr>\n",
       "      <th>25%</th>\n",
       "      <td>-0.019204</td>\n",
       "      <td>-0.019644</td>\n",
       "      <td>-0.021957</td>\n",
       "    </tr>\n",
       "    <tr>\n",
       "      <th>50%</th>\n",
       "      <td>0.003684</td>\n",
       "      <td>0.003497</td>\n",
       "      <td>0.002480</td>\n",
       "    </tr>\n",
       "    <tr>\n",
       "      <th>75%</th>\n",
       "      <td>0.022991</td>\n",
       "      <td>0.022860</td>\n",
       "      <td>0.022933</td>\n",
       "    </tr>\n",
       "    <tr>\n",
       "      <th>max</th>\n",
       "      <td>0.218899</td>\n",
       "      <td>0.189007</td>\n",
       "      <td>0.180346</td>\n",
       "    </tr>\n",
       "  </tbody>\n",
       "</table>\n",
       "</div>"
      ],
      "text/plain": [
       "momentum_indicator            0            1            2\n",
       "count               1093.000000  1093.000000  1093.000000\n",
       "mean                   0.000392     0.000345    -0.000374\n",
       "std                    0.048058     0.047120     0.047305\n",
       "min                   -0.424579    -0.394196    -0.412677\n",
       "25%                   -0.019204    -0.019644    -0.021957\n",
       "50%                    0.003684     0.003497     0.002480\n",
       "75%                    0.022991     0.022860     0.022933\n",
       "max                    0.218899     0.189007     0.180346"
      ]
     },
     "execution_count": 45,
     "metadata": {},
     "output_type": "execute_result"
    }
   ],
   "source": [
    "port_ret_df_40000.describe()"
   ]
  },
  {
   "cell_type": "code",
   "execution_count": 46,
   "metadata": {},
   "outputs": [
    {
     "data": {
      "text/html": [
       "<div>\n",
       "<style scoped>\n",
       "    .dataframe tbody tr th:only-of-type {\n",
       "        vertical-align: middle;\n",
       "    }\n",
       "\n",
       "    .dataframe tbody tr th {\n",
       "        vertical-align: top;\n",
       "    }\n",
       "\n",
       "    .dataframe thead th {\n",
       "        text-align: right;\n",
       "    }\n",
       "</style>\n",
       "<table border=\"1\" class=\"dataframe\">\n",
       "  <thead>\n",
       "    <tr style=\"text-align: right;\">\n",
       "      <th>momentum_indicator</th>\n",
       "      <th>0</th>\n",
       "      <th>1</th>\n",
       "      <th>2</th>\n",
       "    </tr>\n",
       "  </thead>\n",
       "  <tbody>\n",
       "    <tr>\n",
       "      <th>count</th>\n",
       "      <td>1093.000000</td>\n",
       "      <td>1093.000000</td>\n",
       "      <td>1093.000000</td>\n",
       "    </tr>\n",
       "    <tr>\n",
       "      <th>mean</th>\n",
       "      <td>0.000305</td>\n",
       "      <td>0.000331</td>\n",
       "      <td>-0.000221</td>\n",
       "    </tr>\n",
       "    <tr>\n",
       "      <th>std</th>\n",
       "      <td>0.048008</td>\n",
       "      <td>0.047106</td>\n",
       "      <td>0.047188</td>\n",
       "    </tr>\n",
       "    <tr>\n",
       "      <th>min</th>\n",
       "      <td>-0.421178</td>\n",
       "      <td>-0.391872</td>\n",
       "      <td>-0.408577</td>\n",
       "    </tr>\n",
       "    <tr>\n",
       "      <th>25%</th>\n",
       "      <td>-0.019007</td>\n",
       "      <td>-0.018859</td>\n",
       "      <td>-0.021649</td>\n",
       "    </tr>\n",
       "    <tr>\n",
       "      <th>50%</th>\n",
       "      <td>0.003846</td>\n",
       "      <td>0.003709</td>\n",
       "      <td>0.002747</td>\n",
       "    </tr>\n",
       "    <tr>\n",
       "      <th>75%</th>\n",
       "      <td>0.022869</td>\n",
       "      <td>0.022995</td>\n",
       "      <td>0.023641</td>\n",
       "    </tr>\n",
       "    <tr>\n",
       "      <th>max</th>\n",
       "      <td>0.217462</td>\n",
       "      <td>0.189208</td>\n",
       "      <td>0.183768</td>\n",
       "    </tr>\n",
       "  </tbody>\n",
       "</table>\n",
       "</div>"
      ],
      "text/plain": [
       "momentum_indicator            0            1            2\n",
       "count               1093.000000  1093.000000  1093.000000\n",
       "mean                   0.000305     0.000331    -0.000221\n",
       "std                    0.048008     0.047106     0.047188\n",
       "min                   -0.421178    -0.391872    -0.408577\n",
       "25%                   -0.019007    -0.018859    -0.021649\n",
       "50%                    0.003846     0.003709     0.002747\n",
       "75%                    0.022869     0.022995     0.023641\n",
       "max                    0.217462     0.189208     0.183768"
      ]
     },
     "execution_count": 46,
     "metadata": {},
     "output_type": "execute_result"
    }
   ],
   "source": [
    "port_ret_df_50000.describe()"
   ]
  },
  {
   "cell_type": "code",
   "execution_count": 47,
   "metadata": {},
   "outputs": [
    {
     "data": {
      "text/html": [
       "<div>\n",
       "<style scoped>\n",
       "    .dataframe tbody tr th:only-of-type {\n",
       "        vertical-align: middle;\n",
       "    }\n",
       "\n",
       "    .dataframe tbody tr th {\n",
       "        vertical-align: top;\n",
       "    }\n",
       "\n",
       "    .dataframe thead th {\n",
       "        text-align: right;\n",
       "    }\n",
       "</style>\n",
       "<table border=\"1\" class=\"dataframe\">\n",
       "  <thead>\n",
       "    <tr style=\"text-align: right;\">\n",
       "      <th>momentum_indicator</th>\n",
       "      <th>0</th>\n",
       "      <th>1</th>\n",
       "      <th>2</th>\n",
       "    </tr>\n",
       "  </thead>\n",
       "  <tbody>\n",
       "    <tr>\n",
       "      <th>count</th>\n",
       "      <td>1093.000000</td>\n",
       "      <td>1093.000000</td>\n",
       "      <td>1093.000000</td>\n",
       "    </tr>\n",
       "    <tr>\n",
       "      <th>mean</th>\n",
       "      <td>0.000250</td>\n",
       "      <td>0.000338</td>\n",
       "      <td>-0.000267</td>\n",
       "    </tr>\n",
       "    <tr>\n",
       "      <th>std</th>\n",
       "      <td>0.048287</td>\n",
       "      <td>0.047240</td>\n",
       "      <td>0.047685</td>\n",
       "    </tr>\n",
       "    <tr>\n",
       "      <th>min</th>\n",
       "      <td>-0.403325</td>\n",
       "      <td>-0.396391</td>\n",
       "      <td>-0.412468</td>\n",
       "    </tr>\n",
       "    <tr>\n",
       "      <th>25%</th>\n",
       "      <td>-0.019663</td>\n",
       "      <td>-0.019348</td>\n",
       "      <td>-0.022515</td>\n",
       "    </tr>\n",
       "    <tr>\n",
       "      <th>50%</th>\n",
       "      <td>0.003490</td>\n",
       "      <td>0.003844</td>\n",
       "      <td>0.002191</td>\n",
       "    </tr>\n",
       "    <tr>\n",
       "      <th>75%</th>\n",
       "      <td>0.023388</td>\n",
       "      <td>0.023445</td>\n",
       "      <td>0.023883</td>\n",
       "    </tr>\n",
       "    <tr>\n",
       "      <th>max</th>\n",
       "      <td>0.216824</td>\n",
       "      <td>0.188022</td>\n",
       "      <td>0.186287</td>\n",
       "    </tr>\n",
       "  </tbody>\n",
       "</table>\n",
       "</div>"
      ],
      "text/plain": [
       "momentum_indicator            0            1            2\n",
       "count               1093.000000  1093.000000  1093.000000\n",
       "mean                   0.000250     0.000338    -0.000267\n",
       "std                    0.048287     0.047240     0.047685\n",
       "min                   -0.403325    -0.396391    -0.412468\n",
       "25%                   -0.019663    -0.019348    -0.022515\n",
       "50%                    0.003490     0.003844     0.002191\n",
       "75%                    0.023388     0.023445     0.023883\n",
       "max                    0.216824     0.188022     0.186287"
      ]
     },
     "execution_count": 47,
     "metadata": {},
     "output_type": "execute_result"
    }
   ],
   "source": [
    "port_ret_df_100000.describe()"
   ]
  },
  {
   "cell_type": "code",
   "execution_count": 48,
   "metadata": {},
   "outputs": [
    {
     "data": {
      "text/html": [
       "<div>\n",
       "<style scoped>\n",
       "    .dataframe tbody tr th:only-of-type {\n",
       "        vertical-align: middle;\n",
       "    }\n",
       "\n",
       "    .dataframe tbody tr th {\n",
       "        vertical-align: top;\n",
       "    }\n",
       "\n",
       "    .dataframe thead th {\n",
       "        text-align: right;\n",
       "    }\n",
       "</style>\n",
       "<table border=\"1\" class=\"dataframe\">\n",
       "  <thead>\n",
       "    <tr style=\"text-align: right;\">\n",
       "      <th>momentum_indicator</th>\n",
       "      <th>0</th>\n",
       "      <th>1</th>\n",
       "      <th>2</th>\n",
       "    </tr>\n",
       "  </thead>\n",
       "  <tbody>\n",
       "    <tr>\n",
       "      <th>count</th>\n",
       "      <td>1093.000000</td>\n",
       "      <td>1093.000000</td>\n",
       "      <td>1093.000000</td>\n",
       "    </tr>\n",
       "    <tr>\n",
       "      <th>mean</th>\n",
       "      <td>-0.000644</td>\n",
       "      <td>-0.000002</td>\n",
       "      <td>0.001495</td>\n",
       "    </tr>\n",
       "    <tr>\n",
       "      <th>std</th>\n",
       "      <td>0.047634</td>\n",
       "      <td>0.046389</td>\n",
       "      <td>0.046419</td>\n",
       "    </tr>\n",
       "    <tr>\n",
       "      <th>min</th>\n",
       "      <td>-0.365101</td>\n",
       "      <td>-0.330029</td>\n",
       "      <td>-0.381372</td>\n",
       "    </tr>\n",
       "    <tr>\n",
       "      <th>25%</th>\n",
       "      <td>-0.019929</td>\n",
       "      <td>-0.019810</td>\n",
       "      <td>-0.020381</td>\n",
       "    </tr>\n",
       "    <tr>\n",
       "      <th>50%</th>\n",
       "      <td>0.001437</td>\n",
       "      <td>0.001000</td>\n",
       "      <td>0.001768</td>\n",
       "    </tr>\n",
       "    <tr>\n",
       "      <th>75%</th>\n",
       "      <td>0.022655</td>\n",
       "      <td>0.021577</td>\n",
       "      <td>0.023790</td>\n",
       "    </tr>\n",
       "    <tr>\n",
       "      <th>max</th>\n",
       "      <td>0.229503</td>\n",
       "      <td>0.191276</td>\n",
       "      <td>0.179156</td>\n",
       "    </tr>\n",
       "  </tbody>\n",
       "</table>\n",
       "</div>"
      ],
      "text/plain": [
       "momentum_indicator            0            1            2\n",
       "count               1093.000000  1093.000000  1093.000000\n",
       "mean                  -0.000644    -0.000002     0.001495\n",
       "std                    0.047634     0.046389     0.046419\n",
       "min                   -0.365101    -0.330029    -0.381372\n",
       "25%                   -0.019929    -0.019810    -0.020381\n",
       "50%                    0.001437     0.001000     0.001768\n",
       "75%                    0.022655     0.021577     0.023790\n",
       "max                    0.229503     0.191276     0.179156"
      ]
     },
     "execution_count": 48,
     "metadata": {},
     "output_type": "execute_result"
    }
   ],
   "source": [
    "port_ret_df_2000000.describe()"
   ]
  },
  {
   "cell_type": "code",
   "execution_count": 49,
   "metadata": {},
   "outputs": [
    {
     "data": {
      "text/html": [
       "<div>\n",
       "<style scoped>\n",
       "    .dataframe tbody tr th:only-of-type {\n",
       "        vertical-align: middle;\n",
       "    }\n",
       "\n",
       "    .dataframe tbody tr th {\n",
       "        vertical-align: top;\n",
       "    }\n",
       "\n",
       "    .dataframe thead th {\n",
       "        text-align: right;\n",
       "    }\n",
       "</style>\n",
       "<table border=\"1\" class=\"dataframe\">\n",
       "  <thead>\n",
       "    <tr style=\"text-align: right;\">\n",
       "      <th>momentum_indicator</th>\n",
       "      <th>0</th>\n",
       "      <th>1</th>\n",
       "      <th>2</th>\n",
       "    </tr>\n",
       "  </thead>\n",
       "  <tbody>\n",
       "    <tr>\n",
       "      <th>count</th>\n",
       "      <td>1093.000000</td>\n",
       "      <td>1093.000000</td>\n",
       "      <td>1093.000000</td>\n",
       "    </tr>\n",
       "    <tr>\n",
       "      <th>mean</th>\n",
       "      <td>-0.000619</td>\n",
       "      <td>-0.000063</td>\n",
       "      <td>0.001518</td>\n",
       "    </tr>\n",
       "    <tr>\n",
       "      <th>std</th>\n",
       "      <td>0.047569</td>\n",
       "      <td>0.046530</td>\n",
       "      <td>0.046701</td>\n",
       "    </tr>\n",
       "    <tr>\n",
       "      <th>min</th>\n",
       "      <td>-0.355893</td>\n",
       "      <td>-0.322727</td>\n",
       "      <td>-0.384466</td>\n",
       "    </tr>\n",
       "    <tr>\n",
       "      <th>25%</th>\n",
       "      <td>-0.020317</td>\n",
       "      <td>-0.019743</td>\n",
       "      <td>-0.019945</td>\n",
       "    </tr>\n",
       "    <tr>\n",
       "      <th>50%</th>\n",
       "      <td>0.001826</td>\n",
       "      <td>0.001518</td>\n",
       "      <td>0.002247</td>\n",
       "    </tr>\n",
       "    <tr>\n",
       "      <th>75%</th>\n",
       "      <td>0.022813</td>\n",
       "      <td>0.022199</td>\n",
       "      <td>0.023608</td>\n",
       "    </tr>\n",
       "    <tr>\n",
       "      <th>max</th>\n",
       "      <td>0.213724</td>\n",
       "      <td>0.176807</td>\n",
       "      <td>0.180795</td>\n",
       "    </tr>\n",
       "  </tbody>\n",
       "</table>\n",
       "</div>"
      ],
      "text/plain": [
       "momentum_indicator            0            1            2\n",
       "count               1093.000000  1093.000000  1093.000000\n",
       "mean                  -0.000619    -0.000063     0.001518\n",
       "std                    0.047569     0.046530     0.046701\n",
       "min                   -0.355893    -0.322727    -0.384466\n",
       "25%                   -0.020317    -0.019743    -0.019945\n",
       "50%                    0.001826     0.001518     0.002247\n",
       "75%                    0.022813     0.022199     0.023608\n",
       "max                    0.213724     0.176807     0.180795"
      ]
     },
     "execution_count": 49,
     "metadata": {},
     "output_type": "execute_result"
    }
   ],
   "source": [
    "port_ret_df_3000000.describe()"
   ]
  },
  {
   "cell_type": "code",
   "execution_count": 50,
   "metadata": {},
   "outputs": [
    {
     "data": {
      "text/html": [
       "<div>\n",
       "<style scoped>\n",
       "    .dataframe tbody tr th:only-of-type {\n",
       "        vertical-align: middle;\n",
       "    }\n",
       "\n",
       "    .dataframe tbody tr th {\n",
       "        vertical-align: top;\n",
       "    }\n",
       "\n",
       "    .dataframe thead th {\n",
       "        text-align: right;\n",
       "    }\n",
       "</style>\n",
       "<table border=\"1\" class=\"dataframe\">\n",
       "  <thead>\n",
       "    <tr style=\"text-align: right;\">\n",
       "      <th>momentum_indicator</th>\n",
       "      <th>0</th>\n",
       "      <th>1</th>\n",
       "      <th>2</th>\n",
       "    </tr>\n",
       "  </thead>\n",
       "  <tbody>\n",
       "    <tr>\n",
       "      <th>count</th>\n",
       "      <td>1093.000000</td>\n",
       "      <td>1093.000000</td>\n",
       "      <td>1093.000000</td>\n",
       "    </tr>\n",
       "    <tr>\n",
       "      <th>mean</th>\n",
       "      <td>-0.000673</td>\n",
       "      <td>-0.000080</td>\n",
       "      <td>0.001528</td>\n",
       "    </tr>\n",
       "    <tr>\n",
       "      <th>std</th>\n",
       "      <td>0.047220</td>\n",
       "      <td>0.046068</td>\n",
       "      <td>0.047258</td>\n",
       "    </tr>\n",
       "    <tr>\n",
       "      <th>min</th>\n",
       "      <td>-0.376694</td>\n",
       "      <td>-0.301360</td>\n",
       "      <td>-0.394049</td>\n",
       "    </tr>\n",
       "    <tr>\n",
       "      <th>25%</th>\n",
       "      <td>-0.019257</td>\n",
       "      <td>-0.019716</td>\n",
       "      <td>-0.019664</td>\n",
       "    </tr>\n",
       "    <tr>\n",
       "      <th>50%</th>\n",
       "      <td>0.001090</td>\n",
       "      <td>0.000098</td>\n",
       "      <td>0.001698</td>\n",
       "    </tr>\n",
       "    <tr>\n",
       "      <th>75%</th>\n",
       "      <td>0.021128</td>\n",
       "      <td>0.022694</td>\n",
       "      <td>0.023736</td>\n",
       "    </tr>\n",
       "    <tr>\n",
       "      <th>max</th>\n",
       "      <td>0.217531</td>\n",
       "      <td>0.194376</td>\n",
       "      <td>0.198230</td>\n",
       "    </tr>\n",
       "  </tbody>\n",
       "</table>\n",
       "</div>"
      ],
      "text/plain": [
       "momentum_indicator            0            1            2\n",
       "count               1093.000000  1093.000000  1093.000000\n",
       "mean                  -0.000673    -0.000080     0.001528\n",
       "std                    0.047220     0.046068     0.047258\n",
       "min                   -0.376694    -0.301360    -0.394049\n",
       "25%                   -0.019257    -0.019716    -0.019664\n",
       "50%                    0.001090     0.000098     0.001698\n",
       "75%                    0.021128     0.022694     0.023736\n",
       "max                    0.217531     0.194376     0.198230"
      ]
     },
     "execution_count": 50,
     "metadata": {},
     "output_type": "execute_result"
    }
   ],
   "source": [
    "port_ret_df_10000000.describe()"
   ]
  },
  {
   "cell_type": "code",
   "execution_count": 51,
   "metadata": {},
   "outputs": [
    {
     "data": {
      "text/html": [
       "<div>\n",
       "<style scoped>\n",
       "    .dataframe tbody tr th:only-of-type {\n",
       "        vertical-align: middle;\n",
       "    }\n",
       "\n",
       "    .dataframe tbody tr th {\n",
       "        vertical-align: top;\n",
       "    }\n",
       "\n",
       "    .dataframe thead th {\n",
       "        text-align: right;\n",
       "    }\n",
       "</style>\n",
       "<table border=\"1\" class=\"dataframe\">\n",
       "  <thead>\n",
       "    <tr style=\"text-align: right;\">\n",
       "      <th>momentum_indicator</th>\n",
       "      <th>0</th>\n",
       "      <th>1</th>\n",
       "      <th>2</th>\n",
       "    </tr>\n",
       "  </thead>\n",
       "  <tbody>\n",
       "    <tr>\n",
       "      <th>count</th>\n",
       "      <td>1093.000000</td>\n",
       "      <td>1093.000000</td>\n",
       "      <td>1093.000000</td>\n",
       "    </tr>\n",
       "    <tr>\n",
       "      <th>mean</th>\n",
       "      <td>-0.000483</td>\n",
       "      <td>0.000226</td>\n",
       "      <td>0.001100</td>\n",
       "    </tr>\n",
       "    <tr>\n",
       "      <th>std</th>\n",
       "      <td>0.046190</td>\n",
       "      <td>0.044932</td>\n",
       "      <td>0.046106</td>\n",
       "    </tr>\n",
       "    <tr>\n",
       "      <th>min</th>\n",
       "      <td>-0.395775</td>\n",
       "      <td>-0.237627</td>\n",
       "      <td>-0.388947</td>\n",
       "    </tr>\n",
       "    <tr>\n",
       "      <th>25%</th>\n",
       "      <td>-0.017335</td>\n",
       "      <td>-0.018900</td>\n",
       "      <td>-0.019055</td>\n",
       "    </tr>\n",
       "    <tr>\n",
       "      <th>50%</th>\n",
       "      <td>0.000656</td>\n",
       "      <td>-0.000152</td>\n",
       "      <td>0.001797</td>\n",
       "    </tr>\n",
       "    <tr>\n",
       "      <th>75%</th>\n",
       "      <td>0.019074</td>\n",
       "      <td>0.021099</td>\n",
       "      <td>0.018913</td>\n",
       "    </tr>\n",
       "    <tr>\n",
       "      <th>max</th>\n",
       "      <td>0.269159</td>\n",
       "      <td>0.263054</td>\n",
       "      <td>0.248385</td>\n",
       "    </tr>\n",
       "  </tbody>\n",
       "</table>\n",
       "</div>"
      ],
      "text/plain": [
       "momentum_indicator            0            1            2\n",
       "count               1093.000000  1093.000000  1093.000000\n",
       "mean                  -0.000483     0.000226     0.001100\n",
       "std                    0.046190     0.044932     0.046106\n",
       "min                   -0.395775    -0.237627    -0.388947\n",
       "25%                   -0.017335    -0.018900    -0.019055\n",
       "50%                    0.000656    -0.000152     0.001797\n",
       "75%                    0.019074     0.021099     0.018913\n",
       "max                    0.269159     0.263054     0.248385"
      ]
     },
     "execution_count": 51,
     "metadata": {},
     "output_type": "execute_result"
    }
   ],
   "source": [
    "port_ret_df_50000000.describe()"
   ]
  },
  {
   "cell_type": "code",
   "execution_count": null,
   "metadata": {},
   "outputs": [],
   "source": []
  },
  {
   "cell_type": "markdown",
   "metadata": {},
   "source": [
    "#### Sharpe Ratio"
   ]
  },
  {
   "cell_type": "code",
   "execution_count": null,
   "metadata": {},
   "outputs": [],
   "source": []
  },
  {
   "cell_type": "code",
   "execution_count": 52,
   "metadata": {},
   "outputs": [
    {
     "data": {
      "text/plain": [
       "momentum_indicator\n",
       "0    0.053895\n",
       "1    0.005991\n",
       "2   -0.037537\n",
       "dtype: float64"
      ]
     },
     "execution_count": 52,
     "metadata": {},
     "output_type": "execute_result"
    }
   ],
   "source": [
    "port_ret_df_100.mean()/port_ret_df_100.std()"
   ]
  },
  {
   "cell_type": "code",
   "execution_count": 53,
   "metadata": {},
   "outputs": [
    {
     "data": {
      "text/plain": [
       "momentum_indicator\n",
       "0    0.035508\n",
       "1    0.009902\n",
       "2   -0.024239\n",
       "dtype: float64"
      ]
     },
     "execution_count": 53,
     "metadata": {},
     "output_type": "execute_result"
    }
   ],
   "source": [
    "port_ret_df_1000.mean()/port_ret_df_1000.std()"
   ]
  },
  {
   "cell_type": "code",
   "execution_count": 54,
   "metadata": {},
   "outputs": [
    {
     "data": {
      "text/plain": [
       "momentum_indicator\n",
       "0    0.015925\n",
       "1    0.013282\n",
       "2   -0.017442\n",
       "dtype: float64"
      ]
     },
     "execution_count": 54,
     "metadata": {},
     "output_type": "execute_result"
    }
   ],
   "source": [
    "port_ret_df_10000.mean()/port_ret_df_10000.std()"
   ]
  },
  {
   "cell_type": "code",
   "execution_count": 55,
   "metadata": {},
   "outputs": [
    {
     "data": {
      "text/plain": [
       "momentum_indicator\n",
       "0    0.015008\n",
       "1    0.011059\n",
       "2   -0.014613\n",
       "dtype: float64"
      ]
     },
     "execution_count": 55,
     "metadata": {},
     "output_type": "execute_result"
    }
   ],
   "source": [
    "port_ret_df_20000.mean()/port_ret_df_20000.std()"
   ]
  },
  {
   "cell_type": "code",
   "execution_count": 56,
   "metadata": {},
   "outputs": [
    {
     "data": {
      "text/plain": [
       "momentum_indicator\n",
       "0    0.011425\n",
       "1    0.009202\n",
       "2   -0.011292\n",
       "dtype: float64"
      ]
     },
     "execution_count": 56,
     "metadata": {},
     "output_type": "execute_result"
    }
   ],
   "source": [
    "port_ret_df_30000.mean()/port_ret_df_30000.std()"
   ]
  },
  {
   "cell_type": "code",
   "execution_count": 57,
   "metadata": {},
   "outputs": [
    {
     "data": {
      "text/plain": [
       "momentum_indicator\n",
       "0    0.008164\n",
       "1    0.007312\n",
       "2   -0.007907\n",
       "dtype: float64"
      ]
     },
     "execution_count": 57,
     "metadata": {},
     "output_type": "execute_result"
    }
   ],
   "source": [
    "port_ret_df_40000.mean()/port_ret_df_40000.std()"
   ]
  },
  {
   "cell_type": "code",
   "execution_count": 58,
   "metadata": {},
   "outputs": [
    {
     "data": {
      "text/plain": [
       "momentum_indicator\n",
       "0    0.006360\n",
       "1    0.007032\n",
       "2   -0.004677\n",
       "dtype: float64"
      ]
     },
     "execution_count": 58,
     "metadata": {},
     "output_type": "execute_result"
    }
   ],
   "source": [
    "port_ret_df_50000.mean()/port_ret_df_50000.std()"
   ]
  },
  {
   "cell_type": "code",
   "execution_count": 59,
   "metadata": {},
   "outputs": [
    {
     "data": {
      "text/plain": [
       "momentum_indicator\n",
       "0    0.005169\n",
       "1    0.007154\n",
       "2   -0.005598\n",
       "dtype: float64"
      ]
     },
     "execution_count": 59,
     "metadata": {},
     "output_type": "execute_result"
    }
   ],
   "source": [
    "port_ret_df_100000.mean()/port_ret_df_100000.std()"
   ]
  },
  {
   "cell_type": "code",
   "execution_count": 60,
   "metadata": {},
   "outputs": [
    {
     "data": {
      "text/plain": [
       "momentum_indicator\n",
       "0   -0.005949\n",
       "1    0.002859\n",
       "2    0.012744\n",
       "dtype: float64"
      ]
     },
     "execution_count": 60,
     "metadata": {},
     "output_type": "execute_result"
    }
   ],
   "source": [
    "port_ret_df_500000.mean()/port_ret_df_500000.std()"
   ]
  },
  {
   "cell_type": "code",
   "execution_count": 61,
   "metadata": {},
   "outputs": [
    {
     "data": {
      "text/plain": [
       "momentum_indicator\n",
       "0   -0.009681\n",
       "1    0.002886\n",
       "2    0.022500\n",
       "dtype: float64"
      ]
     },
     "execution_count": 61,
     "metadata": {},
     "output_type": "execute_result"
    }
   ],
   "source": [
    "port_ret_df_1000000.mean()/port_ret_df_1000000.std()"
   ]
  },
  {
   "cell_type": "code",
   "execution_count": 62,
   "metadata": {},
   "outputs": [
    {
     "data": {
      "text/plain": [
       "momentum_indicator\n",
       "0   -0.013513\n",
       "1   -0.000033\n",
       "2    0.032200\n",
       "dtype: float64"
      ]
     },
     "execution_count": 62,
     "metadata": {},
     "output_type": "execute_result"
    }
   ],
   "source": [
    "port_ret_df_2000000.mean()/port_ret_df_2000000.std()"
   ]
  },
  {
   "cell_type": "code",
   "execution_count": 63,
   "metadata": {},
   "outputs": [
    {
     "data": {
      "text/plain": [
       "momentum_indicator\n",
       "0   -0.013021\n",
       "1   -0.001343\n",
       "2    0.032508\n",
       "dtype: float64"
      ]
     },
     "execution_count": 63,
     "metadata": {},
     "output_type": "execute_result"
    }
   ],
   "source": [
    "port_ret_df_3000000.mean()/port_ret_df_3000000.std()"
   ]
  },
  {
   "cell_type": "code",
   "execution_count": null,
   "metadata": {},
   "outputs": [],
   "source": []
  },
  {
   "cell_type": "code",
   "execution_count": null,
   "metadata": {},
   "outputs": [],
   "source": []
  },
  {
   "cell_type": "markdown",
   "metadata": {},
   "source": [
    "#### T-test"
   ]
  },
  {
   "cell_type": "code",
   "execution_count": null,
   "metadata": {},
   "outputs": [],
   "source": []
  },
  {
   "cell_type": "code",
   "execution_count": 64,
   "metadata": {},
   "outputs": [],
   "source": [
    "test_df = port_ret_df_50000000"
   ]
  },
  {
   "cell_type": "code",
   "execution_count": 65,
   "metadata": {},
   "outputs": [
    {
     "data": {
      "text/plain": [
       "Ttest_relResult(statistic=-0.9704121245346881, pvalue=0.3320559948557057)"
      ]
     },
     "execution_count": 65,
     "metadata": {},
     "output_type": "execute_result"
    }
   ],
   "source": [
    "ttest_rel(test_df[0],test_df[1])"
   ]
  },
  {
   "cell_type": "code",
   "execution_count": 66,
   "metadata": {},
   "outputs": [
    {
     "data": {
      "text/plain": [
       "Ttest_relResult(statistic=-1.0032652199526988, pvalue=0.3159551686301592)"
      ]
     },
     "execution_count": 66,
     "metadata": {},
     "output_type": "execute_result"
    }
   ],
   "source": [
    "ttest_rel(test_df[1],test_df[2])"
   ]
  },
  {
   "cell_type": "code",
   "execution_count": 67,
   "metadata": {},
   "outputs": [
    {
     "data": {
      "text/plain": [
       "Ttest_relResult(statistic=-1.73975638051256, pvalue=0.08218354789403066)"
      ]
     },
     "execution_count": 67,
     "metadata": {},
     "output_type": "execute_result"
    }
   ],
   "source": [
    "ttest_rel(test_df[0],test_df[2])"
   ]
  },
  {
   "cell_type": "code",
   "execution_count": null,
   "metadata": {},
   "outputs": [],
   "source": []
  },
  {
   "cell_type": "code",
   "execution_count": null,
   "metadata": {},
   "outputs": [],
   "source": []
  },
  {
   "cell_type": "markdown",
   "metadata": {},
   "source": [
    "### Double Sort Method"
   ]
  },
  {
   "cell_type": "code",
   "execution_count": null,
   "metadata": {},
   "outputs": [],
   "source": []
  },
  {
   "cell_type": "code",
   "execution_count": 68,
   "metadata": {},
   "outputs": [],
   "source": [
    "universe_df = price_df"
   ]
  },
  {
   "cell_type": "code",
   "execution_count": null,
   "metadata": {},
   "outputs": [],
   "source": []
  },
  {
   "cell_type": "code",
   "execution_count": 12,
   "metadata": {},
   "outputs": [],
   "source": [
    "complete_ret_sub_df = universe_df.pct_change(periods=momentum_period).shift(waiting_time).dropna()\n",
    "complete_ret_sub_df_long = complete_ret_sub_df.stack()"
   ]
  },
  {
   "cell_type": "code",
   "execution_count": 13,
   "metadata": {},
   "outputs": [],
   "source": [
    "volume_df = df[[\"date\",\"ticker\",\"volume\"]]\n",
    "volume_df = volume_df.set_index([\"date\",\"ticker\"])[\"volume\"]"
   ]
  },
  {
   "cell_type": "code",
   "execution_count": null,
   "metadata": {},
   "outputs": [],
   "source": []
  },
  {
   "cell_type": "code",
   "execution_count": 14,
   "metadata": {},
   "outputs": [],
   "source": [
    "signal_df = pd.concat([complete_ret_sub_df_long,volume_df],axis=1).dropna()\n",
    "signal_df.columns = [\"momentum\",\"volume\"]\n",
    "\n",
    "index_df = signal_df.index.to_frame()\n",
    "index_df.index = range(0,index_df.shape[0])\n",
    "\n",
    "signal_df.index = range(0,signal_df.shape[0])\n",
    "\n",
    "index_df[\"momentum\"] = signal_df[\"momentum\"]\n",
    "index_df[\"volume\"] = signal_df[\"volume\"]\n",
    "\n",
    "signal_df = index_df"
   ]
  },
  {
   "cell_type": "code",
   "execution_count": 15,
   "metadata": {},
   "outputs": [],
   "source": [
    "rebalance_date_series = list(signal_df[\"date\"])"
   ]
  },
  {
   "cell_type": "code",
   "execution_count": null,
   "metadata": {},
   "outputs": [],
   "source": []
  },
  {
   "cell_type": "code",
   "execution_count": null,
   "metadata": {},
   "outputs": [],
   "source": []
  },
  {
   "cell_type": "code",
   "execution_count": 18,
   "metadata": {},
   "outputs": [
    {
     "data": {
      "text/html": [
       "<div>\n",
       "<style scoped>\n",
       "    .dataframe tbody tr th:only-of-type {\n",
       "        vertical-align: middle;\n",
       "    }\n",
       "\n",
       "    .dataframe tbody tr th {\n",
       "        vertical-align: top;\n",
       "    }\n",
       "\n",
       "    .dataframe thead th {\n",
       "        text-align: right;\n",
       "    }\n",
       "</style>\n",
       "<table border=\"1\" class=\"dataframe\">\n",
       "  <thead>\n",
       "    <tr style=\"text-align: right;\">\n",
       "      <th></th>\n",
       "      <th>date</th>\n",
       "      <th>ticker</th>\n",
       "      <th>momentum</th>\n",
       "      <th>volume</th>\n",
       "    </tr>\n",
       "  </thead>\n",
       "  <tbody>\n",
       "    <tr>\n",
       "      <th>0</th>\n",
       "      <td>2018-01-02</td>\n",
       "      <td>ADA-USD</td>\n",
       "      <td>0.012453</td>\n",
       "      <td>289712000.0</td>\n",
       "    </tr>\n",
       "    <tr>\n",
       "      <th>1</th>\n",
       "      <td>2018-01-02</td>\n",
       "      <td>ADX-USD</td>\n",
       "      <td>0.114517</td>\n",
       "      <td>36135500.0</td>\n",
       "    </tr>\n",
       "    <tr>\n",
       "      <th>2</th>\n",
       "      <td>2018-01-02</td>\n",
       "      <td>AE-USD</td>\n",
       "      <td>-0.015999</td>\n",
       "      <td>2867610.0</td>\n",
       "    </tr>\n",
       "    <tr>\n",
       "      <th>3</th>\n",
       "      <td>2018-01-02</td>\n",
       "      <td>ANT-USD</td>\n",
       "      <td>0.098899</td>\n",
       "      <td>3763910.0</td>\n",
       "    </tr>\n",
       "    <tr>\n",
       "      <th>4</th>\n",
       "      <td>2018-01-02</td>\n",
       "      <td>ARDR-USD</td>\n",
       "      <td>-0.065361</td>\n",
       "      <td>35898800.0</td>\n",
       "    </tr>\n",
       "    <tr>\n",
       "      <th>...</th>\n",
       "      <td>...</td>\n",
       "      <td>...</td>\n",
       "      <td>...</td>\n",
       "      <td>...</td>\n",
       "    </tr>\n",
       "    <tr>\n",
       "      <th>112479</th>\n",
       "      <td>2021-01-03</td>\n",
       "      <td>XVG-USD</td>\n",
       "      <td>0.010035</td>\n",
       "      <td>23389208.0</td>\n",
       "    </tr>\n",
       "    <tr>\n",
       "      <th>112480</th>\n",
       "      <td>2021-01-03</td>\n",
       "      <td>XZC-USD</td>\n",
       "      <td>-0.012876</td>\n",
       "      <td>3361756.0</td>\n",
       "    </tr>\n",
       "    <tr>\n",
       "      <th>112481</th>\n",
       "      <td>2021-01-03</td>\n",
       "      <td>ZEC-USD</td>\n",
       "      <td>0.017821</td>\n",
       "      <td>723282432.0</td>\n",
       "    </tr>\n",
       "    <tr>\n",
       "      <th>112482</th>\n",
       "      <td>2021-01-03</td>\n",
       "      <td>ZEN-USD</td>\n",
       "      <td>-0.004642</td>\n",
       "      <td>20377882.0</td>\n",
       "    </tr>\n",
       "    <tr>\n",
       "      <th>112483</th>\n",
       "      <td>2021-01-03</td>\n",
       "      <td>ZRX-USD</td>\n",
       "      <td>-0.038934</td>\n",
       "      <td>71434048.0</td>\n",
       "    </tr>\n",
       "  </tbody>\n",
       "</table>\n",
       "<p>112484 rows × 4 columns</p>\n",
       "</div>"
      ],
      "text/plain": [
       "             date    ticker  momentum       volume\n",
       "0      2018-01-02   ADA-USD  0.012453  289712000.0\n",
       "1      2018-01-02   ADX-USD  0.114517   36135500.0\n",
       "2      2018-01-02    AE-USD -0.015999    2867610.0\n",
       "3      2018-01-02   ANT-USD  0.098899    3763910.0\n",
       "4      2018-01-02  ARDR-USD -0.065361   35898800.0\n",
       "...           ...       ...       ...          ...\n",
       "112479 2021-01-03   XVG-USD  0.010035   23389208.0\n",
       "112480 2021-01-03   XZC-USD -0.012876    3361756.0\n",
       "112481 2021-01-03   ZEC-USD  0.017821  723282432.0\n",
       "112482 2021-01-03   ZEN-USD -0.004642   20377882.0\n",
       "112483 2021-01-03   ZRX-USD -0.038934   71434048.0\n",
       "\n",
       "[112484 rows x 4 columns]"
      ]
     },
     "execution_count": 18,
     "metadata": {},
     "output_type": "execute_result"
    }
   ],
   "source": [
    "signal_df"
   ]
  },
  {
   "cell_type": "code",
   "execution_count": null,
   "metadata": {},
   "outputs": [],
   "source": []
  },
  {
   "cell_type": "code",
   "execution_count": 20,
   "metadata": {},
   "outputs": [
    {
     "name": "stdout",
     "output_type": "stream",
     "text": [
      "initialized.\n"
     ]
    }
   ],
   "source": [
    "portfolio_indicator = PortfolioIndicator()"
   ]
  },
  {
   "cell_type": "code",
   "execution_count": 21,
   "metadata": {},
   "outputs": [],
   "source": [
    "port_indicator = portfolio_indicator.create_indicator_double_sort(signal_df,\n",
    "                                                 signal_1_name=\"momentum\",\n",
    "                                                 signal_2_name=\"volume\",\n",
    "                                                 number_1=3,\n",
    "                                                 number_2=4,\n",
    "                                                 rebalance_date_series=rebalance_date_series)"
   ]
  },
  {
   "cell_type": "code",
   "execution_count": 22,
   "metadata": {},
   "outputs": [],
   "source": [
    "complete_sub_df_1 = universe_df.pct_change().dropna()\n",
    "complete_sub_df_1_long = complete_sub_df_1.stack()\n",
    "    \n",
    "index_df = complete_sub_df_1_long.index.to_frame()\n",
    "index_df[\"ret\"] = complete_sub_df_1_long\n",
    "index_df.index=range(0,index_df.shape[0])\n",
    "index_df.columns = [\"date\",\"ticker\",\"ret\"]\n",
    "return_df = index_df"
   ]
  },
  {
   "cell_type": "code",
   "execution_count": 23,
   "metadata": {},
   "outputs": [],
   "source": [
    "merge_df = return_df.merge(port_indicator,on=[\"date\",\"ticker\"])"
   ]
  },
  {
   "cell_type": "code",
   "execution_count": null,
   "metadata": {},
   "outputs": [],
   "source": []
  },
  {
   "cell_type": "code",
   "execution_count": 24,
   "metadata": {},
   "outputs": [],
   "source": [
    "portfolio_constructor = PortfolioConstructor(merge_df)"
   ]
  },
  {
   "cell_type": "code",
   "execution_count": null,
   "metadata": {},
   "outputs": [],
   "source": []
  },
  {
   "cell_type": "code",
   "execution_count": 25,
   "metadata": {},
   "outputs": [],
   "source": [
    "ret_df = portfolio_constructor.create_portfolio_series_double_sorting(signal_1=\"volume_indicator\",\n",
    "                                                             signal_2=\"momentum_indicator\",\n",
    "                                                             equal_weight=True,\n",
    "                                                             pivot_table=True)"
   ]
  },
  {
   "cell_type": "code",
   "execution_count": null,
   "metadata": {},
   "outputs": [],
   "source": []
  },
  {
   "cell_type": "code",
   "execution_count": 27,
   "metadata": {},
   "outputs": [],
   "source": [
    "ret_df.to_csv(\"data/double_sort_portfolio_ret.csv\")"
   ]
  },
  {
   "cell_type": "code",
   "execution_count": null,
   "metadata": {},
   "outputs": [],
   "source": []
  },
  {
   "cell_type": "code",
   "execution_count": 30,
   "metadata": {},
   "outputs": [
    {
     "data": {
      "text/plain": [
       "volume_indicator  momentum_indicator\n",
       "0                 0                     0.093118\n",
       "                  1                    -0.060330\n",
       "                  2                    -0.231229\n",
       "1                 0                     0.033682\n",
       "                  1                    -0.018157\n",
       "                  2                    -0.119372\n",
       "2                 0                     0.047298\n",
       "                  1                     0.067116\n",
       "                  2                    -0.031842\n",
       "3                 0                     0.053287\n",
       "                  1                     0.050379\n",
       "                  2                     0.126838\n",
       "dtype: float64"
      ]
     },
     "execution_count": 30,
     "metadata": {},
     "output_type": "execute_result"
    }
   ],
   "source": [
    "ret_df.mean()/ret_df.std()"
   ]
  },
  {
   "cell_type": "code",
   "execution_count": null,
   "metadata": {},
   "outputs": [],
   "source": []
  },
  {
   "cell_type": "code",
   "execution_count": null,
   "metadata": {},
   "outputs": [],
   "source": []
  },
  {
   "cell_type": "code",
   "execution_count": null,
   "metadata": {},
   "outputs": [],
   "source": []
  },
  {
   "cell_type": "code",
   "execution_count": null,
   "metadata": {},
   "outputs": [],
   "source": []
  },
  {
   "cell_type": "code",
   "execution_count": null,
   "metadata": {},
   "outputs": [],
   "source": []
  },
  {
   "cell_type": "code",
   "execution_count": null,
   "metadata": {},
   "outputs": [],
   "source": []
  },
  {
   "cell_type": "code",
   "execution_count": null,
   "metadata": {},
   "outputs": [],
   "source": []
  },
  {
   "cell_type": "code",
   "execution_count": null,
   "metadata": {},
   "outputs": [],
   "source": []
  },
  {
   "cell_type": "code",
   "execution_count": null,
   "metadata": {},
   "outputs": [],
   "source": []
  },
  {
   "cell_type": "code",
   "execution_count": null,
   "metadata": {},
   "outputs": [],
   "source": []
  },
  {
   "cell_type": "code",
   "execution_count": null,
   "metadata": {},
   "outputs": [],
   "source": []
  },
  {
   "cell_type": "code",
   "execution_count": null,
   "metadata": {},
   "outputs": [],
   "source": []
  },
  {
   "cell_type": "code",
   "execution_count": null,
   "metadata": {},
   "outputs": [],
   "source": []
  }
 ],
 "metadata": {
  "kernelspec": {
   "display_name": "Python 3",
   "language": "python",
   "name": "python3"
  },
  "language_info": {
   "codemirror_mode": {
    "name": "ipython",
    "version": 3
   },
   "file_extension": ".py",
   "mimetype": "text/x-python",
   "name": "python",
   "nbconvert_exporter": "python",
   "pygments_lexer": "ipython3",
   "version": "3.8.5"
  }
 },
 "nbformat": 4,
 "nbformat_minor": 4
}
