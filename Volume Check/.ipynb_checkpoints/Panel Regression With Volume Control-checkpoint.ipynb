{
 "cells": [
  {
   "cell_type": "code",
   "execution_count": null,
   "metadata": {},
   "outputs": [],
   "source": []
  },
  {
   "cell_type": "code",
   "execution_count": 1,
   "metadata": {},
   "outputs": [],
   "source": [
    "import pandas as pd\n",
    "import numpy as np\n",
    "\n",
    "from src.PortfolioIndicator import PortfolioIndicator\n",
    "from src.PortfolioConstructor import PortfolioConstructor\n",
    "\n",
    "from linearmodels import PanelOLS,FamaMacBeth"
   ]
  },
  {
   "cell_type": "code",
   "execution_count": 2,
   "metadata": {},
   "outputs": [],
   "source": [
    "import statsmodels.api as sm"
   ]
  },
  {
   "cell_type": "code",
   "execution_count": null,
   "metadata": {},
   "outputs": [],
   "source": []
  },
  {
   "cell_type": "code",
   "execution_count": 3,
   "metadata": {},
   "outputs": [],
   "source": [
    "df = pd.read_csv(\"data/yahoo_finance_data.csv\")\n",
    "df[\"date\"] = pd.to_datetime(df[\"date\"])"
   ]
  },
  {
   "cell_type": "code",
   "execution_count": null,
   "metadata": {},
   "outputs": [],
   "source": []
  },
  {
   "cell_type": "code",
   "execution_count": 4,
   "metadata": {},
   "outputs": [],
   "source": [
    "vol_df = df.pivot_table(columns=\"ticker\",values=\"volume\",index=\"date\")\n",
    "price_df = df.pivot_table(columns=\"ticker\",values=\"price\",index=\"date\")"
   ]
  },
  {
   "cell_type": "code",
   "execution_count": null,
   "metadata": {},
   "outputs": [],
   "source": []
  },
  {
   "cell_type": "code",
   "execution_count": null,
   "metadata": {},
   "outputs": [],
   "source": []
  },
  {
   "cell_type": "code",
   "execution_count": 10,
   "metadata": {},
   "outputs": [],
   "source": [
    "universe_df = price_df"
   ]
  },
  {
   "cell_type": "code",
   "execution_count": null,
   "metadata": {},
   "outputs": [],
   "source": []
  },
  {
   "cell_type": "code",
   "execution_count": 11,
   "metadata": {},
   "outputs": [],
   "source": [
    "momentum_period = 1\n",
    "waiting_time = 1"
   ]
  },
  {
   "cell_type": "code",
   "execution_count": 12,
   "metadata": {},
   "outputs": [],
   "source": [
    "momentum = universe_df.pct_change(periods=momentum_period).shift(waiting_time).dropna()\n",
    "momentum = momentum.stack()"
   ]
  },
  {
   "cell_type": "code",
   "execution_count": 26,
   "metadata": {},
   "outputs": [],
   "source": [
    "vol_control = vol_df\n",
    "vol_control = vol_control.stack()"
   ]
  },
  {
   "cell_type": "code",
   "execution_count": 27,
   "metadata": {},
   "outputs": [
    {
     "data": {
      "text/plain": [
       "date        ticker  \n",
       "2017-12-31  ADA-USD     305947008.0\n",
       "            ADX-USD      26397700.0\n",
       "            AE-USD        1482490.0\n",
       "            ANT-USD       1516050.0\n",
       "            ARDR-USD     35154900.0\n",
       "                           ...     \n",
       "2021-01-03  XVG-USD      23389208.0\n",
       "            XZC-USD       3361756.0\n",
       "            ZEC-USD     723282432.0\n",
       "            ZEN-USD      20377882.0\n",
       "            ZRX-USD      71434048.0\n",
       "Length: 112690, dtype: float64"
      ]
     },
     "execution_count": 27,
     "metadata": {},
     "output_type": "execute_result"
    }
   ],
   "source": [
    "vol_control"
   ]
  },
  {
   "cell_type": "code",
   "execution_count": 28,
   "metadata": {},
   "outputs": [],
   "source": [
    "future_return_days = 1\n",
    "\n",
    "future_return_df = universe_df.pct_change(future_return_days).shift(-(future_return_days-1))\n",
    "future_return_df_long = future_return_df.stack()\n",
    "\n",
    "future_return_df_long = pd.DataFrame(future_return_df_long)"
   ]
  },
  {
   "cell_type": "code",
   "execution_count": 41,
   "metadata": {},
   "outputs": [],
   "source": [
    "future_return_df_long.columns = [\"ret\"]"
   ]
  },
  {
   "cell_type": "code",
   "execution_count": 42,
   "metadata": {},
   "outputs": [],
   "source": [
    "signal_df = pd.concat([momentum,\n",
    "                       vol_control],axis=1)"
   ]
  },
  {
   "cell_type": "code",
   "execution_count": 43,
   "metadata": {},
   "outputs": [],
   "source": [
    "signal_df.columns = [\"momentum\",\"vol\"]"
   ]
  },
  {
   "cell_type": "code",
   "execution_count": 59,
   "metadata": {},
   "outputs": [],
   "source": [
    "merge_df = future_return_df_long.merge(signal_df,left_index=True,right_index=True)"
   ]
  },
  {
   "cell_type": "code",
   "execution_count": null,
   "metadata": {},
   "outputs": [],
   "source": []
  },
  {
   "cell_type": "code",
   "execution_count": 60,
   "metadata": {},
   "outputs": [],
   "source": [
    "merge_df = merge_df.dropna()"
   ]
  },
  {
   "cell_type": "code",
   "execution_count": 61,
   "metadata": {},
   "outputs": [],
   "source": [
    "index_df = merge_df.index.to_frame()\n",
    "index_df.columns = [\"date\",\"asset\"]\n",
    "\n",
    "\n",
    "index_df[\"ret\"] = merge_df[\"ret\"]\n",
    "index_df[\"momentum\"] = merge_df[\"momentum\"]\n",
    "index_df[\"vol\"] = merge_df[\"vol\"]\n",
    "\n",
    "index_df.index = range(0,index_df.shape[0])\n",
    "\n",
    "merge_df = index_df\n",
    "\n",
    "merge_df = merge_df.set_index([\"asset\",\"date\"])\n",
    "merge_df = merge_df.dropna()"
   ]
  },
  {
   "cell_type": "code",
   "execution_count": null,
   "metadata": {},
   "outputs": [],
   "source": []
  },
  {
   "cell_type": "code",
   "execution_count": null,
   "metadata": {},
   "outputs": [],
   "source": []
  },
  {
   "cell_type": "code",
   "execution_count": 62,
   "metadata": {},
   "outputs": [],
   "source": [
    "exog_vars = [\"momentum\",\"vol\"]\n",
    "depe_var = [\"ret\"]\n",
    "exog = sm.add_constant(merge_df[exog_vars])\n",
    "depe = merge_df[depe_var]"
   ]
  },
  {
   "cell_type": "code",
   "execution_count": 63,
   "metadata": {},
   "outputs": [
    {
     "name": "stderr",
     "output_type": "stream",
     "text": [
      "C:\\app_user_download\\anaconda\\lib\\site-packages\\linearmodels\\panel\\results.py:84: RuntimeWarning: invalid value encountered in sqrt\n",
      "  return Series(np.sqrt(np.diag(self.cov)), self._var_names, name=\"std_error\")\n"
     ]
    },
    {
     "data": {
      "text/html": [
       "<table class=\"simpletable\">\n",
       "<caption>PanelOLS Estimation Summary</caption>\n",
       "<tr>\n",
       "  <th>Dep. Variable:</th>           <td>ret</td>       <th>  R-squared:         </th>     <td>0.0015</td>   \n",
       "</tr>\n",
       "<tr>\n",
       "  <th>Estimator:</th>            <td>PanelOLS</td>     <th>  R-squared (Between):</th>    <td>-0.0789</td>  \n",
       "</tr>\n",
       "<tr>\n",
       "  <th>No. Observations:</th>      <td>112484</td>      <th>  R-squared (Within):</th>     <td>0.0015</td>   \n",
       "</tr>\n",
       "<tr>\n",
       "  <th>Date:</th>             <td>Sat, Jan 23 2021</td> <th>  R-squared (Overall):</th>    <td>0.0014</td>   \n",
       "</tr>\n",
       "<tr>\n",
       "  <th>Time:</th>                 <td>12:41:24</td>     <th>  Log-likelihood     </th>    <td>3.411e+04</td> \n",
       "</tr>\n",
       "<tr>\n",
       "  <th>Cov. Estimator:</th>       <td>Clustered</td>    <th>                     </th>        <td></td>      \n",
       "</tr>\n",
       "<tr>\n",
       "  <th></th>                          <td></td>         <th>  F-statistic:       </th>     <td>81.916</td>   \n",
       "</tr>\n",
       "<tr>\n",
       "  <th>Entities:</th>                <td>103</td>       <th>  P-value            </th>     <td>0.0000</td>   \n",
       "</tr>\n",
       "<tr>\n",
       "  <th>Avg Obs:</th>               <td>1092.1</td>      <th>  Distribution:      </th>   <td>F(2,111285)</td>\n",
       "</tr>\n",
       "<tr>\n",
       "  <th>Min Obs:</th>               <td>951.00</td>      <th>                     </th>        <td></td>      \n",
       "</tr>\n",
       "<tr>\n",
       "  <th>Max Obs:</th>               <td>1095.0</td>      <th>  F-statistic (robust):</th>   <td>6.7337</td>   \n",
       "</tr>\n",
       "<tr>\n",
       "  <th></th>                          <td></td>         <th>  P-value            </th>     <td>0.0012</td>   \n",
       "</tr>\n",
       "<tr>\n",
       "  <th>Time periods:</th>           <td>1095</td>       <th>  Distribution:      </th>   <td>F(2,111285)</td>\n",
       "</tr>\n",
       "<tr>\n",
       "  <th>Avg Obs:</th>               <td>102.73</td>      <th>                     </th>        <td></td>      \n",
       "</tr>\n",
       "<tr>\n",
       "  <th>Min Obs:</th>               <td>101.00</td>      <th>                     </th>        <td></td>      \n",
       "</tr>\n",
       "<tr>\n",
       "  <th>Max Obs:</th>               <td>103.00</td>      <th>                     </th>        <td></td>      \n",
       "</tr>\n",
       "<tr>\n",
       "  <th></th>                          <td></td>         <th>                     </th>        <td></td>      \n",
       "</tr>\n",
       "</table>\n",
       "<table class=\"simpletable\">\n",
       "<caption>Parameter Estimates</caption>\n",
       "<tr>\n",
       "      <td></td>     <th>Parameter</th> <th>Std. Err.</th>  <th>T-stat</th>   <th>P-value</th>  <th>Lower CI</th>  <th>Upper CI</th> \n",
       "</tr>\n",
       "<tr>\n",
       "  <th>const</th>     <td>0.0012</td>   <td>        </td>  <td>        </td> <td>        </td>  <td>        </td>  <td>        </td> \n",
       "</tr>\n",
       "<tr>\n",
       "  <th>momentum</th>  <td>-0.0384</td>   <td>0.0111</td>    <td>-3.4748</td>  <td>0.0005</td>    <td>-0.0601</td>   <td>-0.0167</td> \n",
       "</tr>\n",
       "<tr>\n",
       "  <th>vol</th>      <td>3.417e-14</td> <td>1.219e-13</td>  <td>0.2802</td>   <td>0.7793</td>  <td>-2.048e-13</td> <td>2.731e-13</td>\n",
       "</tr>\n",
       "</table><br/><br/>F-test for Poolability: 6.6354<br/>P-value: 0.0000<br/>Distribution: F(1196,111285)<br/><br/>Included effects: Entity, Time<br/>id: 0x178d61a7100"
      ],
      "text/plain": [
       "                          PanelOLS Estimation Summary                           \n",
       "================================================================================\n",
       "Dep. Variable:                    ret   R-squared:                        0.0015\n",
       "Estimator:                   PanelOLS   R-squared (Between):             -0.0789\n",
       "No. Observations:              112484   R-squared (Within):               0.0015\n",
       "Date:                Sat, Jan 23 2021   R-squared (Overall):              0.0014\n",
       "Time:                        12:41:24   Log-likelihood                 3.411e+04\n",
       "Cov. Estimator:             Clustered                                           \n",
       "                                        F-statistic:                      81.916\n",
       "Entities:                         103   P-value                           0.0000\n",
       "Avg Obs:                       1092.1   Distribution:                F(2,111285)\n",
       "Min Obs:                       951.00                                           \n",
       "Max Obs:                       1095.0   F-statistic (robust):             6.7337\n",
       "                                        P-value                           0.0012\n",
       "Time periods:                    1095   Distribution:                F(2,111285)\n",
       "Avg Obs:                       102.73                                           \n",
       "Min Obs:                       101.00                                           \n",
       "Max Obs:                       103.00                                           \n",
       "                                                                                \n",
       "                             Parameter Estimates                              \n",
       "==============================================================================\n",
       "            Parameter  Std. Err.     T-stat    P-value    Lower CI    Upper CI\n",
       "------------------------------------------------------------------------------\n",
       "const          0.0012                                                         \n",
       "momentum      -0.0384     0.0111    -3.4748     0.0005     -0.0601     -0.0167\n",
       "vol         3.417e-14  1.219e-13     0.2802     0.7793  -2.048e-13   2.731e-13\n",
       "==============================================================================\n",
       "\n",
       "F-test for Poolability: 6.6354\n",
       "P-value: 0.0000\n",
       "Distribution: F(1196,111285)\n",
       "\n",
       "Included effects: Entity, Time\n",
       "PanelEffectsResults, id: 0x178d61a7100"
      ]
     },
     "execution_count": 63,
     "metadata": {},
     "output_type": "execute_result"
    }
   ],
   "source": [
    "mod = PanelOLS(depe,exog,entity_effects=True,time_effects=True)\n",
    "mod.fit(cov_type=\"clustered\",cluster_entity=True,cluster_time=True)"
   ]
  },
  {
   "cell_type": "code",
   "execution_count": null,
   "metadata": {},
   "outputs": [],
   "source": []
  },
  {
   "cell_type": "code",
   "execution_count": 64,
   "metadata": {},
   "outputs": [
    {
     "data": {
      "text/html": [
       "<table class=\"simpletable\">\n",
       "<caption>PanelOLS Estimation Summary</caption>\n",
       "<tr>\n",
       "  <th>Dep. Variable:</th>           <td>ret</td>       <th>  R-squared:         </th>     <td>0.0014</td>   \n",
       "</tr>\n",
       "<tr>\n",
       "  <th>Estimator:</th>            <td>PanelOLS</td>     <th>  R-squared (Between):</th>    <td>-0.0802</td>  \n",
       "</tr>\n",
       "<tr>\n",
       "  <th>No. Observations:</th>      <td>112484</td>      <th>  R-squared (Within):</th>     <td>0.0015</td>   \n",
       "</tr>\n",
       "<tr>\n",
       "  <th>Date:</th>             <td>Sat, Jan 23 2021</td> <th>  R-squared (Overall):</th>    <td>0.0014</td>   \n",
       "</tr>\n",
       "<tr>\n",
       "  <th>Time:</th>                 <td>12:42:28</td>     <th>  Log-likelihood     </th>    <td>3.023e+04</td> \n",
       "</tr>\n",
       "<tr>\n",
       "  <th>Cov. Estimator:</th>       <td>Clustered</td>    <th>                     </th>        <td></td>      \n",
       "</tr>\n",
       "<tr>\n",
       "  <th></th>                          <td></td>         <th>  F-statistic:       </th>     <td>79.199</td>   \n",
       "</tr>\n",
       "<tr>\n",
       "  <th>Entities:</th>                <td>103</td>       <th>  P-value            </th>     <td>0.0000</td>   \n",
       "</tr>\n",
       "<tr>\n",
       "  <th>Avg Obs:</th>               <td>1092.1</td>      <th>  Distribution:      </th>   <td>F(2,112481)</td>\n",
       "</tr>\n",
       "<tr>\n",
       "  <th>Min Obs:</th>               <td>951.00</td>      <th>                     </th>        <td></td>      \n",
       "</tr>\n",
       "<tr>\n",
       "  <th>Max Obs:</th>               <td>1095.0</td>      <th>  F-statistic (robust):</th>   <td>5.4445</td>   \n",
       "</tr>\n",
       "<tr>\n",
       "  <th></th>                          <td></td>         <th>  P-value            </th>     <td>0.0043</td>   \n",
       "</tr>\n",
       "<tr>\n",
       "  <th>Time periods:</th>           <td>1095</td>       <th>  Distribution:      </th>   <td>F(2,112481)</td>\n",
       "</tr>\n",
       "<tr>\n",
       "  <th>Avg Obs:</th>               <td>102.73</td>      <th>                     </th>        <td></td>      \n",
       "</tr>\n",
       "<tr>\n",
       "  <th>Min Obs:</th>               <td>101.00</td>      <th>                     </th>        <td></td>      \n",
       "</tr>\n",
       "<tr>\n",
       "  <th>Max Obs:</th>               <td>103.00</td>      <th>                     </th>        <td></td>      \n",
       "</tr>\n",
       "<tr>\n",
       "  <th></th>                          <td></td>         <th>                     </th>        <td></td>      \n",
       "</tr>\n",
       "</table>\n",
       "<table class=\"simpletable\">\n",
       "<caption>Parameter Estimates</caption>\n",
       "<tr>\n",
       "      <td></td>     <th>Parameter</th> <th>Std. Err.</th> <th>T-stat</th>  <th>P-value</th>  <th>Lower CI</th>  <th>Upper CI</th> \n",
       "</tr>\n",
       "<tr>\n",
       "  <th>const</th>     <td>0.0012</td>    <td>0.0014</td>   <td>0.7993</td>  <td>0.4241</td>    <td>-0.0017</td>   <td>0.0040</td>  \n",
       "</tr>\n",
       "<tr>\n",
       "  <th>momentum</th>  <td>-0.0375</td>   <td>0.0114</td>   <td>-3.2843</td> <td>0.0010</td>    <td>-0.0599</td>   <td>-0.0151</td> \n",
       "</tr>\n",
       "<tr>\n",
       "  <th>vol</th>      <td>9.708e-14</td> <td>8.47e-14</td>  <td>1.1462</td>  <td>0.2517</td>  <td>-6.892e-14</td> <td>2.631e-13</td>\n",
       "</tr>\n",
       "</table><br/><br/><br/>id: 0x17880000df0"
      ],
      "text/plain": [
       "                          PanelOLS Estimation Summary                           \n",
       "================================================================================\n",
       "Dep. Variable:                    ret   R-squared:                        0.0014\n",
       "Estimator:                   PanelOLS   R-squared (Between):             -0.0802\n",
       "No. Observations:              112484   R-squared (Within):               0.0015\n",
       "Date:                Sat, Jan 23 2021   R-squared (Overall):              0.0014\n",
       "Time:                        12:42:28   Log-likelihood                 3.023e+04\n",
       "Cov. Estimator:             Clustered                                           \n",
       "                                        F-statistic:                      79.199\n",
       "Entities:                         103   P-value                           0.0000\n",
       "Avg Obs:                       1092.1   Distribution:                F(2,112481)\n",
       "Min Obs:                       951.00                                           \n",
       "Max Obs:                       1095.0   F-statistic (robust):             5.4445\n",
       "                                        P-value                           0.0043\n",
       "Time periods:                    1095   Distribution:                F(2,112481)\n",
       "Avg Obs:                       102.73                                           \n",
       "Min Obs:                       101.00                                           \n",
       "Max Obs:                       103.00                                           \n",
       "                                                                                \n",
       "                             Parameter Estimates                              \n",
       "==============================================================================\n",
       "            Parameter  Std. Err.     T-stat    P-value    Lower CI    Upper CI\n",
       "------------------------------------------------------------------------------\n",
       "const          0.0012     0.0014     0.7993     0.4241     -0.0017      0.0040\n",
       "momentum      -0.0375     0.0114    -3.2843     0.0010     -0.0599     -0.0151\n",
       "vol         9.708e-14   8.47e-14     1.1462     0.2517  -6.892e-14   2.631e-13\n",
       "==============================================================================\n",
       "\n",
       "\n",
       "PanelEffectsResults, id: 0x17880000df0"
      ]
     },
     "execution_count": 64,
     "metadata": {},
     "output_type": "execute_result"
    }
   ],
   "source": [
    "mod = PanelOLS(depe,exog,entity_effects=False,time_effects=False)\n",
    "mod.fit(cov_type=\"clustered\",cluster_entity=True,cluster_time=True)"
   ]
  },
  {
   "cell_type": "code",
   "execution_count": null,
   "metadata": {},
   "outputs": [],
   "source": []
  },
  {
   "cell_type": "code",
   "execution_count": 66,
   "metadata": {},
   "outputs": [],
   "source": [
    "mod = FamaMacBeth(depe,exog)\n",
    "res = mod.fit(cov_type='kernel',kernel=\"bartlett\")"
   ]
  },
  {
   "cell_type": "code",
   "execution_count": 67,
   "metadata": {},
   "outputs": [
    {
     "data": {
      "text/html": [
       "<table class=\"simpletable\">\n",
       "<caption>FamaMacBeth Estimation Summary</caption>\n",
       "<tr>\n",
       "  <th>Dep. Variable:</th>              <td>ret</td>           <th>  R-squared:         </th>     <td>-0.0150</td>  \n",
       "</tr>\n",
       "<tr>\n",
       "  <th>Estimator:</th>              <td>FamaMacBeth</td>       <th>  R-squared (Between):</th>    <td>-0.4683</td>  \n",
       "</tr>\n",
       "<tr>\n",
       "  <th>No. Observations:</th>         <td>112484</td>          <th>  R-squared (Within):</th>     <td>-0.0146</td>  \n",
       "</tr>\n",
       "<tr>\n",
       "  <th>Date:</th>                <td>Sat, Jan 23 2021</td>     <th>  R-squared (Overall):</th>    <td>-0.0150</td>  \n",
       "</tr>\n",
       "<tr>\n",
       "  <th>Time:</th>                    <td>12:43:02</td>         <th>  Log-likelihood     </th>    <td>2.932e+04</td> \n",
       "</tr>\n",
       "<tr>\n",
       "  <th>Cov. Estimator:</th>   <td>Fama-MacBeth Kernel Cov</td> <th>                     </th>        <td></td>      \n",
       "</tr>\n",
       "<tr>\n",
       "  <th></th>                             <td></td>             <th>  F-statistic:       </th>     <td>-833.00</td>  \n",
       "</tr>\n",
       "<tr>\n",
       "  <th>Entities:</th>                   <td>103</td>           <th>  P-value            </th>     <td>1.0000</td>   \n",
       "</tr>\n",
       "<tr>\n",
       "  <th>Avg Obs:</th>                  <td>1092.1</td>          <th>  Distribution:      </th>   <td>F(2,112481)</td>\n",
       "</tr>\n",
       "<tr>\n",
       "  <th>Min Obs:</th>                  <td>951.00</td>          <th>                     </th>        <td></td>      \n",
       "</tr>\n",
       "<tr>\n",
       "  <th>Max Obs:</th>                  <td>1095.0</td>          <th>  F-statistic (robust):</th>   <td>13.655</td>   \n",
       "</tr>\n",
       "<tr>\n",
       "  <th></th>                             <td></td>             <th>  P-value            </th>     <td>0.0000</td>   \n",
       "</tr>\n",
       "<tr>\n",
       "  <th>Time periods:</th>              <td>1095</td>           <th>  Distribution:      </th>   <td>F(2,112481)</td>\n",
       "</tr>\n",
       "<tr>\n",
       "  <th>Avg Obs:</th>                  <td>102.73</td>          <th>                     </th>        <td></td>      \n",
       "</tr>\n",
       "<tr>\n",
       "  <th>Min Obs:</th>                  <td>101.00</td>          <th>                     </th>        <td></td>      \n",
       "</tr>\n",
       "<tr>\n",
       "  <th>Max Obs:</th>                  <td>103.00</td>          <th>                     </th>        <td></td>      \n",
       "</tr>\n",
       "<tr>\n",
       "  <th></th>                             <td></td>             <th>                     </th>        <td></td>      \n",
       "</tr>\n",
       "</table>\n",
       "<table class=\"simpletable\">\n",
       "<caption>Parameter Estimates</caption>\n",
       "<tr>\n",
       "      <td></td>     <th>Parameter</th> <th>Std. Err.</th> <th>T-stat</th>  <th>P-value</th> <th>Lower CI</th>  <th>Upper CI</th> \n",
       "</tr>\n",
       "<tr>\n",
       "  <th>const</th>     <td>-0.0002</td>   <td>0.0015</td>   <td>-0.1150</td> <td>0.9084</td>   <td>-0.0032</td>   <td>0.0028</td>  \n",
       "</tr>\n",
       "<tr>\n",
       "  <th>momentum</th>  <td>-0.1656</td>   <td>0.0482</td>   <td>-3.4313</td> <td>0.0006</td>   <td>-0.2601</td>   <td>-0.0710</td> \n",
       "</tr>\n",
       "<tr>\n",
       "  <th>vol</th>      <td>4.346e-13</td> <td>1.357e-13</td> <td>3.2024</td>  <td>0.0014</td>  <td>1.686e-13</td> <td>7.006e-13</td>\n",
       "</tr>\n",
       "</table><br/>id: 0x1788000da00"
      ],
      "text/plain": [
       "                            FamaMacBeth Estimation Summary                           \n",
       "=====================================================================================\n",
       "Dep. Variable:                         ret   R-squared:                       -0.0150\n",
       "Estimator:                     FamaMacBeth   R-squared (Between):             -0.4683\n",
       "No. Observations:                   112484   R-squared (Within):              -0.0146\n",
       "Date:                     Sat, Jan 23 2021   R-squared (Overall):             -0.0150\n",
       "Time:                             12:43:02   Log-likelihood                 2.932e+04\n",
       "Cov. Estimator:    Fama-MacBeth Kernel Cov                                           \n",
       "                                             F-statistic:                     -833.00\n",
       "Entities:                              103   P-value                           1.0000\n",
       "Avg Obs:                            1092.1   Distribution:                F(2,112481)\n",
       "Min Obs:                            951.00                                           \n",
       "Max Obs:                            1095.0   F-statistic (robust):             13.655\n",
       "                                             P-value                           0.0000\n",
       "Time periods:                         1095   Distribution:                F(2,112481)\n",
       "Avg Obs:                            102.73                                           \n",
       "Min Obs:                            101.00                                           \n",
       "Max Obs:                            103.00                                           \n",
       "                                                                                     \n",
       "                             Parameter Estimates                              \n",
       "==============================================================================\n",
       "            Parameter  Std. Err.     T-stat    P-value    Lower CI    Upper CI\n",
       "------------------------------------------------------------------------------\n",
       "const         -0.0002     0.0015    -0.1150     0.9084     -0.0032      0.0028\n",
       "momentum      -0.1656     0.0482    -3.4313     0.0006     -0.2601     -0.0710\n",
       "vol         4.346e-13  1.357e-13     3.2024     0.0014   1.686e-13   7.006e-13\n",
       "==============================================================================\n",
       "FamaMacBethResults, id: 0x1788000da00"
      ]
     },
     "execution_count": 67,
     "metadata": {},
     "output_type": "execute_result"
    }
   ],
   "source": [
    "res"
   ]
  },
  {
   "cell_type": "code",
   "execution_count": null,
   "metadata": {},
   "outputs": [],
   "source": []
  },
  {
   "cell_type": "code",
   "execution_count": null,
   "metadata": {},
   "outputs": [],
   "source": []
  },
  {
   "cell_type": "code",
   "execution_count": null,
   "metadata": {},
   "outputs": [],
   "source": []
  },
  {
   "cell_type": "markdown",
   "metadata": {},
   "source": [
    "### Add Bitcoin/Market Return"
   ]
  },
  {
   "cell_type": "code",
   "execution_count": null,
   "metadata": {},
   "outputs": [],
   "source": []
  },
  {
   "cell_type": "code",
   "execution_count": 71,
   "metadata": {},
   "outputs": [],
   "source": [
    "btc_price = price_df[\"BTC-USD\"]\n",
    "eth_price = price_df[\"ETH-USD\"]"
   ]
  },
  {
   "cell_type": "code",
   "execution_count": 76,
   "metadata": {},
   "outputs": [],
   "source": [
    "btc_ret = btc_price.pct_change()\n",
    "eth_ret = eth_price.pct_change()"
   ]
  },
  {
   "cell_type": "code",
   "execution_count": 91,
   "metadata": {},
   "outputs": [],
   "source": [
    "market_ret = pd.concat([btc_ret,eth_ret],axis=1).dropna()"
   ]
  },
  {
   "cell_type": "code",
   "execution_count": null,
   "metadata": {},
   "outputs": [],
   "source": []
  },
  {
   "cell_type": "code",
   "execution_count": 82,
   "metadata": {},
   "outputs": [],
   "source": [
    "ret_df = price_df.pct_change().dropna()"
   ]
  },
  {
   "cell_type": "code",
   "execution_count": 98,
   "metadata": {},
   "outputs": [],
   "source": [
    "y = ret_df[[\"ADA-USD\"]]\n",
    "x = market_ret\n",
    "x = sm.add_constant(x)"
   ]
  },
  {
   "cell_type": "code",
   "execution_count": null,
   "metadata": {},
   "outputs": [],
   "source": []
  },
  {
   "cell_type": "code",
   "execution_count": 96,
   "metadata": {},
   "outputs": [],
   "source": [
    "from statsmodels.regression.linear_model import OLS"
   ]
  },
  {
   "cell_type": "code",
   "execution_count": null,
   "metadata": {},
   "outputs": [],
   "source": []
  },
  {
   "cell_type": "code",
   "execution_count": 99,
   "metadata": {},
   "outputs": [],
   "source": [
    "mod = OLS(y,x)"
   ]
  },
  {
   "cell_type": "code",
   "execution_count": 102,
   "metadata": {},
   "outputs": [],
   "source": [
    "res = mod.fit()"
   ]
  },
  {
   "cell_type": "code",
   "execution_count": 106,
   "metadata": {},
   "outputs": [
    {
     "data": {
      "text/plain": [
       "0.2575965779210107"
      ]
     },
     "execution_count": 106,
     "metadata": {},
     "output_type": "execute_result"
    }
   ],
   "source": [
    "btc_beta = res.params[\"BTC-USD\"]\n",
    "eth_beta = res.params[\"BTC-USD\"]"
   ]
  },
  {
   "cell_type": "code",
   "execution_count": 127,
   "metadata": {},
   "outputs": [],
   "source": [
    "def calculate_beta_series(y,x,length=20):\n",
    "    \n",
    "    btc_list = []\n",
    "    eth_list = []\n",
    "    date_list = []\n",
    "    \n",
    "    for idx in range(length,y.shape[0]):\n",
    "        \n",
    "        x_sub = x[(idx-length):idx]\n",
    "        y_sub = y[(idx-length):idx]\n",
    "        \n",
    "        mod = OLS(y_sub,x_sub)\n",
    "        res = mod.fit()\n",
    "        \n",
    "        btc_beta = res.params[\"BTC-USD\"]\n",
    "        eth_beta = res.params[\"BTC-USD\"]\n",
    "        \n",
    "        \n",
    "        date = y_sub.index[-1]\n",
    "\n",
    "        btc_list.append(btc_beta)\n",
    "        eth_list.append(eth_beta)\n",
    "        date_list.append(date)\n",
    "    \n",
    "    df = pd.DataFrame({\"date\":date_list,\"btc_beta\":btc_list,\"eth_list\":eth_list})\n",
    "    \n",
    "    return df"
   ]
  },
  {
   "cell_type": "code",
   "execution_count": 128,
   "metadata": {},
   "outputs": [
    {
     "data": {
      "text/html": [
       "<div>\n",
       "<style scoped>\n",
       "    .dataframe tbody tr th:only-of-type {\n",
       "        vertical-align: middle;\n",
       "    }\n",
       "\n",
       "    .dataframe tbody tr th {\n",
       "        vertical-align: top;\n",
       "    }\n",
       "\n",
       "    .dataframe thead th {\n",
       "        text-align: right;\n",
       "    }\n",
       "</style>\n",
       "<table border=\"1\" class=\"dataframe\">\n",
       "  <thead>\n",
       "    <tr style=\"text-align: right;\">\n",
       "      <th></th>\n",
       "      <th>date</th>\n",
       "      <th>btc_beta</th>\n",
       "      <th>eth_list</th>\n",
       "    </tr>\n",
       "  </thead>\n",
       "  <tbody>\n",
       "    <tr>\n",
       "      <th>0</th>\n",
       "      <td>2018-01-20</td>\n",
       "      <td>0.424359</td>\n",
       "      <td>0.424359</td>\n",
       "    </tr>\n",
       "    <tr>\n",
       "      <th>1</th>\n",
       "      <td>2018-01-21</td>\n",
       "      <td>0.445380</td>\n",
       "      <td>0.445380</td>\n",
       "    </tr>\n",
       "    <tr>\n",
       "      <th>2</th>\n",
       "      <td>2018-01-22</td>\n",
       "      <td>0.485425</td>\n",
       "      <td>0.485425</td>\n",
       "    </tr>\n",
       "    <tr>\n",
       "      <th>3</th>\n",
       "      <td>2018-01-23</td>\n",
       "      <td>0.577769</td>\n",
       "      <td>0.577769</td>\n",
       "    </tr>\n",
       "    <tr>\n",
       "      <th>4</th>\n",
       "      <td>2018-01-24</td>\n",
       "      <td>0.586116</td>\n",
       "      <td>0.586116</td>\n",
       "    </tr>\n",
       "    <tr>\n",
       "      <th>...</th>\n",
       "      <td>...</td>\n",
       "      <td>...</td>\n",
       "      <td>...</td>\n",
       "    </tr>\n",
       "    <tr>\n",
       "      <th>1071</th>\n",
       "      <td>2020-12-29</td>\n",
       "      <td>-0.014780</td>\n",
       "      <td>-0.014780</td>\n",
       "    </tr>\n",
       "    <tr>\n",
       "      <th>1072</th>\n",
       "      <td>2020-12-30</td>\n",
       "      <td>-0.170332</td>\n",
       "      <td>-0.170332</td>\n",
       "    </tr>\n",
       "    <tr>\n",
       "      <th>1073</th>\n",
       "      <td>2020-12-31</td>\n",
       "      <td>-0.160128</td>\n",
       "      <td>-0.160128</td>\n",
       "    </tr>\n",
       "    <tr>\n",
       "      <th>1074</th>\n",
       "      <td>2021-01-01</td>\n",
       "      <td>-0.159600</td>\n",
       "      <td>-0.159600</td>\n",
       "    </tr>\n",
       "    <tr>\n",
       "      <th>1075</th>\n",
       "      <td>2021-01-02</td>\n",
       "      <td>-0.251441</td>\n",
       "      <td>-0.251441</td>\n",
       "    </tr>\n",
       "  </tbody>\n",
       "</table>\n",
       "<p>1076 rows × 3 columns</p>\n",
       "</div>"
      ],
      "text/plain": [
       "           date  btc_beta  eth_list\n",
       "0    2018-01-20  0.424359  0.424359\n",
       "1    2018-01-21  0.445380  0.445380\n",
       "2    2018-01-22  0.485425  0.485425\n",
       "3    2018-01-23  0.577769  0.577769\n",
       "4    2018-01-24  0.586116  0.586116\n",
       "...         ...       ...       ...\n",
       "1071 2020-12-29 -0.014780 -0.014780\n",
       "1072 2020-12-30 -0.170332 -0.170332\n",
       "1073 2020-12-31 -0.160128 -0.160128\n",
       "1074 2021-01-01 -0.159600 -0.159600\n",
       "1075 2021-01-02 -0.251441 -0.251441\n",
       "\n",
       "[1076 rows x 3 columns]"
      ]
     },
     "execution_count": 128,
     "metadata": {},
     "output_type": "execute_result"
    }
   ],
   "source": [
    "calculate_beta_series(y,x,length=20)"
   ]
  },
  {
   "cell_type": "code",
   "execution_count": null,
   "metadata": {},
   "outputs": [],
   "source": []
  },
  {
   "cell_type": "code",
   "execution_count": null,
   "metadata": {},
   "outputs": [],
   "source": []
  },
  {
   "cell_type": "code",
   "execution_count": null,
   "metadata": {},
   "outputs": [],
   "source": []
  },
  {
   "cell_type": "code",
   "execution_count": null,
   "metadata": {},
   "outputs": [],
   "source": []
  },
  {
   "cell_type": "code",
   "execution_count": null,
   "metadata": {},
   "outputs": [],
   "source": []
  },
  {
   "cell_type": "code",
   "execution_count": null,
   "metadata": {},
   "outputs": [],
   "source": []
  }
 ],
 "metadata": {
  "kernelspec": {
   "display_name": "Python 3",
   "language": "python",
   "name": "python3"
  },
  "language_info": {
   "codemirror_mode": {
    "name": "ipython",
    "version": 3
   },
   "file_extension": ".py",
   "mimetype": "text/x-python",
   "name": "python",
   "nbconvert_exporter": "python",
   "pygments_lexer": "ipython3",
   "version": "3.8.5"
  }
 },
 "nbformat": 4,
 "nbformat_minor": 4
}
