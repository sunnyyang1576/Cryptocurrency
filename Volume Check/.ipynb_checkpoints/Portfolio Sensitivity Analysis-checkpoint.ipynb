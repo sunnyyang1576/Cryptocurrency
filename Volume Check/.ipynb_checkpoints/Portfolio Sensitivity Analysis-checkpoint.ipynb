{
 "cells": [
  {
   "cell_type": "code",
   "execution_count": null,
   "metadata": {},
   "outputs": [],
   "source": []
  },
  {
   "cell_type": "code",
   "execution_count": 1,
   "metadata": {},
   "outputs": [],
   "source": [
    "import pandas as pd\n",
    "import numpy as np"
   ]
  },
  {
   "cell_type": "code",
   "execution_count": 2,
   "metadata": {},
   "outputs": [],
   "source": [
    "from src.PortfolioIndicator import PortfolioIndicator\n",
    "from src.PortfolioConstructor import PortfolioConstructor"
   ]
  },
  {
   "cell_type": "code",
   "execution_count": 3,
   "metadata": {},
   "outputs": [],
   "source": [
    "from scipy.stats import ttest_rel"
   ]
  },
  {
   "cell_type": "code",
   "execution_count": null,
   "metadata": {},
   "outputs": [],
   "source": []
  },
  {
   "cell_type": "code",
   "execution_count": null,
   "metadata": {},
   "outputs": [],
   "source": []
  },
  {
   "cell_type": "code",
   "execution_count": null,
   "metadata": {},
   "outputs": [],
   "source": []
  },
  {
   "cell_type": "code",
   "execution_count": 4,
   "metadata": {},
   "outputs": [],
   "source": [
    "def portfolio_return(universe_df,momentum_period,waiting_time,portfolio_number):\n",
    "    \n",
    "    complete_ret_sub_df = universe_df.pct_change(periods=momentum_period).shift(waiting_time).dropna()\n",
    "    complete_ret_sub_df_long = complete_ret_sub_df.stack()\n",
    "    \n",
    "    signal_df = complete_ret_sub_df_long.index.to_frame()\n",
    "    signal_df.index = range(0,signal_df.shape[0])\n",
    "    signal_df[\"momentum\"] = list(complete_ret_sub_df_long)\n",
    "    signal_df.columns=[\"date\",\"ticker\",\"momentum\"]\n",
    "    \n",
    "    rebalance_date_series = list(complete_ret_sub_df.index)\n",
    "    \n",
    "    portfolio_indicator = PortfolioIndicator()\n",
    "    portfolio_indicator = portfolio_indicator.create_indicator(signal_df,\"momentum\",rebalance_date_series,portfolio_number)\n",
    "    \n",
    "    complete_sub_df_1 = universe_df.pct_change().dropna()\n",
    "    complete_sub_df_1_long = complete_sub_df_1.stack()\n",
    "    \n",
    "    index_df = complete_sub_df_1_long.index.to_frame()\n",
    "    index_df[\"ret\"] = complete_sub_df_1_long\n",
    "    index_df.index=range(0,index_df.shape[0])\n",
    "    index_df.columns = [\"date\",\"ticker\",\"ret\"]\n",
    "    return_df = index_df\n",
    "    \n",
    "    merge_df = return_df.merge(portfolio_indicator,on=[\"date\",\"ticker\"])\n",
    "    \n",
    "    portfolio_constructor = PortfolioConstructor(merge_df)\n",
    "    strategy_ret_df = portfolio_constructor.create_portfolio_series(\"momentum_indicator\",equal_weight=True)\n",
    "    \n",
    "    return strategy_ret_df"
   ]
  },
  {
   "cell_type": "code",
   "execution_count": null,
   "metadata": {},
   "outputs": [],
   "source": []
  },
  {
   "cell_type": "code",
   "execution_count": 5,
   "metadata": {},
   "outputs": [],
   "source": [
    "df = pd.read_csv(\"data/yahoo_finance_data.csv\")"
   ]
  },
  {
   "cell_type": "code",
   "execution_count": 6,
   "metadata": {},
   "outputs": [],
   "source": [
    "df[\"date\"] = pd.to_datetime(df[\"date\"])"
   ]
  },
  {
   "cell_type": "code",
   "execution_count": null,
   "metadata": {},
   "outputs": [],
   "source": []
  },
  {
   "cell_type": "code",
   "execution_count": 7,
   "metadata": {},
   "outputs": [],
   "source": [
    "vol_df = df.pivot_table(columns=\"ticker\",values=\"volume\",index=\"date\")\n",
    "price_df = df.pivot_table(columns=\"ticker\",values=\"price\",index=\"date\")"
   ]
  },
  {
   "cell_type": "code",
   "execution_count": null,
   "metadata": {},
   "outputs": [],
   "source": []
  },
  {
   "cell_type": "markdown",
   "metadata": {},
   "source": [
    "### Volume Filter"
   ]
  },
  {
   "cell_type": "code",
   "execution_count": 8,
   "metadata": {},
   "outputs": [],
   "source": [
    "momentum_period = 1\n",
    "waiting_time = 1\n",
    "portfolio_number = 3"
   ]
  },
  {
   "cell_type": "code",
   "execution_count": null,
   "metadata": {},
   "outputs": [],
   "source": []
  },
  {
   "cell_type": "code",
   "execution_count": 9,
   "metadata": {},
   "outputs": [],
   "source": [
    "volume_threshold = 100"
   ]
  },
  {
   "cell_type": "code",
   "execution_count": 10,
   "metadata": {},
   "outputs": [
    {
     "name": "stdout",
     "output_type": "stream",
     "text": [
      "93\n",
      "initialized.\n"
     ]
    }
   ],
   "source": [
    "asset_list = list(vol_df.min()[vol_df.min()>volume_threshold].index)\n",
    "updated_price_df = price_df[asset_list]\n",
    "print(len(asset_list))\n",
    "\n",
    "universe_df = updated_price_df\n",
    "port_ret_df_100 = portfolio_return(universe_df,momentum_period,waiting_time,portfolio_number)"
   ]
  },
  {
   "cell_type": "code",
   "execution_count": null,
   "metadata": {},
   "outputs": [],
   "source": []
  },
  {
   "cell_type": "code",
   "execution_count": 11,
   "metadata": {},
   "outputs": [],
   "source": [
    "volume_threshold = 1000"
   ]
  },
  {
   "cell_type": "code",
   "execution_count": 12,
   "metadata": {},
   "outputs": [
    {
     "name": "stdout",
     "output_type": "stream",
     "text": [
      "85\n",
      "initialized.\n"
     ]
    }
   ],
   "source": [
    "asset_list = list(vol_df.min()[vol_df.min()>volume_threshold].index)\n",
    "updated_price_df = price_df[asset_list]\n",
    "print(len(asset_list))\n",
    "\n",
    "universe_df = updated_price_df\n",
    "port_ret_df_1000 = portfolio_return(universe_df,momentum_period,waiting_time,portfolio_number)"
   ]
  },
  {
   "cell_type": "code",
   "execution_count": null,
   "metadata": {},
   "outputs": [],
   "source": []
  },
  {
   "cell_type": "code",
   "execution_count": 13,
   "metadata": {},
   "outputs": [],
   "source": [
    "volume_threshold = 10000"
   ]
  },
  {
   "cell_type": "code",
   "execution_count": 14,
   "metadata": {},
   "outputs": [
    {
     "name": "stdout",
     "output_type": "stream",
     "text": [
      "71\n",
      "initialized.\n"
     ]
    }
   ],
   "source": [
    "asset_list = list(vol_df.min()[vol_df.min()>volume_threshold].index)\n",
    "updated_price_df = price_df[asset_list]\n",
    "print(len(asset_list))\n",
    "\n",
    "universe_df = updated_price_df\n",
    "port_ret_df_10000 = portfolio_return(universe_df,momentum_period,waiting_time,portfolio_number)"
   ]
  },
  {
   "cell_type": "code",
   "execution_count": null,
   "metadata": {},
   "outputs": [],
   "source": []
  },
  {
   "cell_type": "code",
   "execution_count": null,
   "metadata": {},
   "outputs": [],
   "source": []
  },
  {
   "cell_type": "code",
   "execution_count": 15,
   "metadata": {},
   "outputs": [],
   "source": [
    "volume_threshold = 20000"
   ]
  },
  {
   "cell_type": "code",
   "execution_count": 16,
   "metadata": {},
   "outputs": [
    {
     "name": "stdout",
     "output_type": "stream",
     "text": [
      "68\n",
      "initialized.\n"
     ]
    }
   ],
   "source": [
    "asset_list = list(vol_df.min()[vol_df.min()>volume_threshold].index)\n",
    "updated_price_df = price_df[asset_list]\n",
    "print(len(asset_list))\n",
    "\n",
    "universe_df = updated_price_df\n",
    "port_ret_df_20000 = portfolio_return(universe_df,momentum_period,waiting_time,portfolio_number)"
   ]
  },
  {
   "cell_type": "code",
   "execution_count": null,
   "metadata": {},
   "outputs": [],
   "source": []
  },
  {
   "cell_type": "code",
   "execution_count": 17,
   "metadata": {},
   "outputs": [],
   "source": [
    "volume_threshold = 30000"
   ]
  },
  {
   "cell_type": "code",
   "execution_count": 18,
   "metadata": {},
   "outputs": [
    {
     "name": "stdout",
     "output_type": "stream",
     "text": [
      "67\n",
      "initialized.\n"
     ]
    }
   ],
   "source": [
    "asset_list = list(vol_df.min()[vol_df.min()>volume_threshold].index)\n",
    "updated_price_df = price_df[asset_list]\n",
    "print(len(asset_list))\n",
    "\n",
    "universe_df = updated_price_df\n",
    "port_ret_df_30000 = portfolio_return(universe_df,momentum_period,waiting_time,portfolio_number)"
   ]
  },
  {
   "cell_type": "code",
   "execution_count": null,
   "metadata": {},
   "outputs": [],
   "source": []
  },
  {
   "cell_type": "code",
   "execution_count": 19,
   "metadata": {},
   "outputs": [],
   "source": [
    "volume_threshold = 40000"
   ]
  },
  {
   "cell_type": "code",
   "execution_count": 20,
   "metadata": {},
   "outputs": [
    {
     "name": "stdout",
     "output_type": "stream",
     "text": [
      "64\n",
      "initialized.\n"
     ]
    }
   ],
   "source": [
    "asset_list = list(vol_df.min()[vol_df.min()>volume_threshold].index)\n",
    "updated_price_df = price_df[asset_list]\n",
    "print(len(asset_list))\n",
    "\n",
    "universe_df = updated_price_df\n",
    "port_ret_df_40000 = portfolio_return(universe_df,momentum_period,waiting_time,portfolio_number)"
   ]
  },
  {
   "cell_type": "code",
   "execution_count": null,
   "metadata": {},
   "outputs": [],
   "source": [
    "\n"
   ]
  },
  {
   "cell_type": "code",
   "execution_count": 21,
   "metadata": {},
   "outputs": [],
   "source": [
    "volume_threshold = 50000"
   ]
  },
  {
   "cell_type": "code",
   "execution_count": 22,
   "metadata": {},
   "outputs": [
    {
     "name": "stdout",
     "output_type": "stream",
     "text": [
      "61\n",
      "initialized.\n"
     ]
    }
   ],
   "source": [
    "asset_list = list(vol_df.min()[vol_df.min()>volume_threshold].index)\n",
    "updated_price_df = price_df[asset_list]\n",
    "print(len(asset_list))\n",
    "\n",
    "universe_df = updated_price_df\n",
    "port_ret_df_50000 = portfolio_return(universe_df,momentum_period,waiting_time,portfolio_number)"
   ]
  },
  {
   "cell_type": "code",
   "execution_count": null,
   "metadata": {},
   "outputs": [],
   "source": []
  },
  {
   "cell_type": "code",
   "execution_count": 23,
   "metadata": {},
   "outputs": [],
   "source": [
    "volume_threshold = 100000"
   ]
  },
  {
   "cell_type": "code",
   "execution_count": 24,
   "metadata": {},
   "outputs": [
    {
     "name": "stdout",
     "output_type": "stream",
     "text": [
      "56\n",
      "initialized.\n"
     ]
    }
   ],
   "source": [
    "asset_list = list(vol_df.min()[vol_df.min()>volume_threshold].index)\n",
    "updated_price_df = price_df[asset_list]\n",
    "print(len(asset_list))\n",
    "\n",
    "universe_df = updated_price_df\n",
    "port_ret_df_100000 = portfolio_return(universe_df,momentum_period,waiting_time,portfolio_number)"
   ]
  },
  {
   "cell_type": "code",
   "execution_count": null,
   "metadata": {},
   "outputs": [],
   "source": []
  },
  {
   "cell_type": "code",
   "execution_count": 25,
   "metadata": {},
   "outputs": [],
   "source": [
    "volume_threshold = 500000"
   ]
  },
  {
   "cell_type": "code",
   "execution_count": 26,
   "metadata": {},
   "outputs": [
    {
     "name": "stdout",
     "output_type": "stream",
     "text": [
      "33\n",
      "initialized.\n"
     ]
    }
   ],
   "source": [
    "asset_list = list(vol_df.min()[vol_df.min()>volume_threshold].index)\n",
    "updated_price_df = price_df[asset_list]\n",
    "print(len(asset_list))\n",
    "\n",
    "universe_df = updated_price_df\n",
    "port_ret_df_500000 = portfolio_return(universe_df,momentum_period,waiting_time,portfolio_number)"
   ]
  },
  {
   "cell_type": "code",
   "execution_count": null,
   "metadata": {},
   "outputs": [],
   "source": []
  },
  {
   "cell_type": "code",
   "execution_count": 27,
   "metadata": {},
   "outputs": [],
   "source": [
    "volume_threshold = 1000000"
   ]
  },
  {
   "cell_type": "code",
   "execution_count": 28,
   "metadata": {},
   "outputs": [
    {
     "name": "stdout",
     "output_type": "stream",
     "text": [
      "28\n",
      "initialized.\n"
     ]
    }
   ],
   "source": [
    "asset_list = list(vol_df.min()[vol_df.min()>volume_threshold].index)\n",
    "updated_price_df = price_df[asset_list]\n",
    "print(len(asset_list))\n",
    "\n",
    "universe_df = updated_price_df\n",
    "port_ret_df_1000000 = portfolio_return(universe_df,momentum_period,waiting_time,portfolio_number)"
   ]
  },
  {
   "cell_type": "code",
   "execution_count": null,
   "metadata": {},
   "outputs": [],
   "source": []
  },
  {
   "cell_type": "code",
   "execution_count": 29,
   "metadata": {},
   "outputs": [],
   "source": [
    "volume_threshold = 2000000"
   ]
  },
  {
   "cell_type": "code",
   "execution_count": 30,
   "metadata": {},
   "outputs": [
    {
     "name": "stdout",
     "output_type": "stream",
     "text": [
      "23\n",
      "initialized.\n"
     ]
    }
   ],
   "source": [
    "asset_list = list(vol_df.min()[vol_df.min()>volume_threshold].index)\n",
    "updated_price_df = price_df[asset_list]\n",
    "print(len(asset_list))\n",
    "\n",
    "universe_df = updated_price_df\n",
    "port_ret_df_2000000 = portfolio_return(universe_df,momentum_period,waiting_time,portfolio_number)"
   ]
  },
  {
   "cell_type": "code",
   "execution_count": null,
   "metadata": {},
   "outputs": [],
   "source": []
  },
  {
   "cell_type": "code",
   "execution_count": 31,
   "metadata": {},
   "outputs": [],
   "source": [
    "volume_threshold = 3000000"
   ]
  },
  {
   "cell_type": "code",
   "execution_count": 32,
   "metadata": {},
   "outputs": [
    {
     "name": "stdout",
     "output_type": "stream",
     "text": [
      "19\n",
      "initialized.\n"
     ]
    }
   ],
   "source": [
    "asset_list = list(vol_df.min()[vol_df.min()>volume_threshold].index)\n",
    "updated_price_df = price_df[asset_list]\n",
    "print(len(asset_list))\n",
    "\n",
    "universe_df = updated_price_df\n",
    "port_ret_df_3000000 = portfolio_return(universe_df,momentum_period,waiting_time,portfolio_number)"
   ]
  },
  {
   "cell_type": "code",
   "execution_count": null,
   "metadata": {},
   "outputs": [],
   "source": []
  },
  {
   "cell_type": "code",
   "execution_count": 33,
   "metadata": {},
   "outputs": [],
   "source": [
    "volume_threshold = 10000000"
   ]
  },
  {
   "cell_type": "code",
   "execution_count": 34,
   "metadata": {},
   "outputs": [
    {
     "name": "stdout",
     "output_type": "stream",
     "text": [
      "16\n",
      "initialized.\n"
     ]
    }
   ],
   "source": [
    "asset_list = list(vol_df.min()[vol_df.min()>volume_threshold].index)\n",
    "updated_price_df = price_df[asset_list]\n",
    "print(len(asset_list))\n",
    "\n",
    "universe_df = updated_price_df\n",
    "port_ret_df_10000000 = portfolio_return(universe_df,momentum_period,waiting_time,portfolio_number)"
   ]
  },
  {
   "cell_type": "code",
   "execution_count": null,
   "metadata": {},
   "outputs": [],
   "source": []
  },
  {
   "cell_type": "code",
   "execution_count": 50,
   "metadata": {},
   "outputs": [],
   "source": [
    "volume_threshold = 50000000"
   ]
  },
  {
   "cell_type": "code",
   "execution_count": 51,
   "metadata": {},
   "outputs": [
    {
     "name": "stdout",
     "output_type": "stream",
     "text": [
      "10\n",
      "initialized.\n"
     ]
    }
   ],
   "source": [
    "asset_list = list(vol_df.min()[vol_df.min()>volume_threshold].index)\n",
    "updated_price_df = price_df[asset_list]\n",
    "print(len(asset_list))\n",
    "\n",
    "universe_df = updated_price_df\n",
    "port_ret_df_50000000 = portfolio_return(universe_df,momentum_period,waiting_time,portfolio_number)"
   ]
  },
  {
   "cell_type": "code",
   "execution_count": 52,
   "metadata": {},
   "outputs": [
    {
     "data": {
      "text/plain": [
       "['BCH-USD',\n",
       " 'BTC-USD',\n",
       " 'DASH-USD',\n",
       " 'EOS-USD',\n",
       " 'ETC-USD',\n",
       " 'ETH-USD',\n",
       " 'LTC-USD',\n",
       " 'QTUM-USD',\n",
       " 'USDT-USD',\n",
       " 'XRP-USD']"
      ]
     },
     "execution_count": 52,
     "metadata": {},
     "output_type": "execute_result"
    }
   ],
   "source": [
    "asset_list"
   ]
  },
  {
   "cell_type": "markdown",
   "metadata": {},
   "source": [
    "### Comparison of Portfolio Performance"
   ]
  },
  {
   "cell_type": "markdown",
   "metadata": {},
   "source": [
    "#### Bacis Comparision"
   ]
  },
  {
   "cell_type": "code",
   "execution_count": null,
   "metadata": {},
   "outputs": [],
   "source": []
  },
  {
   "cell_type": "code",
   "execution_count": 37,
   "metadata": {},
   "outputs": [
    {
     "data": {
      "text/html": [
       "<div>\n",
       "<style scoped>\n",
       "    .dataframe tbody tr th:only-of-type {\n",
       "        vertical-align: middle;\n",
       "    }\n",
       "\n",
       "    .dataframe tbody tr th {\n",
       "        vertical-align: top;\n",
       "    }\n",
       "\n",
       "    .dataframe thead th {\n",
       "        text-align: right;\n",
       "    }\n",
       "</style>\n",
       "<table border=\"1\" class=\"dataframe\">\n",
       "  <thead>\n",
       "    <tr style=\"text-align: right;\">\n",
       "      <th>momentum_indicator</th>\n",
       "      <th>0</th>\n",
       "      <th>1</th>\n",
       "      <th>2</th>\n",
       "    </tr>\n",
       "  </thead>\n",
       "  <tbody>\n",
       "    <tr>\n",
       "      <th>count</th>\n",
       "      <td>1095.000000</td>\n",
       "      <td>1095.000000</td>\n",
       "      <td>1095.000000</td>\n",
       "    </tr>\n",
       "    <tr>\n",
       "      <th>mean</th>\n",
       "      <td>0.002847</td>\n",
       "      <td>0.000630</td>\n",
       "      <td>-0.002049</td>\n",
       "    </tr>\n",
       "    <tr>\n",
       "      <th>std</th>\n",
       "      <td>0.047402</td>\n",
       "      <td>0.045791</td>\n",
       "      <td>0.046784</td>\n",
       "    </tr>\n",
       "    <tr>\n",
       "      <th>min</th>\n",
       "      <td>-0.420271</td>\n",
       "      <td>-0.419303</td>\n",
       "      <td>-0.394592</td>\n",
       "    </tr>\n",
       "    <tr>\n",
       "      <th>25%</th>\n",
       "      <td>-0.017109</td>\n",
       "      <td>-0.018090</td>\n",
       "      <td>-0.021921</td>\n",
       "    </tr>\n",
       "    <tr>\n",
       "      <th>50%</th>\n",
       "      <td>0.005078</td>\n",
       "      <td>0.003863</td>\n",
       "      <td>0.001053</td>\n",
       "    </tr>\n",
       "    <tr>\n",
       "      <th>75%</th>\n",
       "      <td>0.025544</td>\n",
       "      <td>0.023479</td>\n",
       "      <td>0.020426</td>\n",
       "    </tr>\n",
       "    <tr>\n",
       "      <th>max</th>\n",
       "      <td>0.244534</td>\n",
       "      <td>0.191574</td>\n",
       "      <td>0.202860</td>\n",
       "    </tr>\n",
       "  </tbody>\n",
       "</table>\n",
       "</div>"
      ],
      "text/plain": [
       "momentum_indicator            0            1            2\n",
       "count               1095.000000  1095.000000  1095.000000\n",
       "mean                   0.002847     0.000630    -0.002049\n",
       "std                    0.047402     0.045791     0.046784\n",
       "min                   -0.420271    -0.419303    -0.394592\n",
       "25%                   -0.017109    -0.018090    -0.021921\n",
       "50%                    0.005078     0.003863     0.001053\n",
       "75%                    0.025544     0.023479     0.020426\n",
       "max                    0.244534     0.191574     0.202860"
      ]
     },
     "execution_count": 37,
     "metadata": {},
     "output_type": "execute_result"
    }
   ],
   "source": [
    "port_ret_df_100.describe()"
   ]
  },
  {
   "cell_type": "code",
   "execution_count": 38,
   "metadata": {},
   "outputs": [
    {
     "data": {
      "text/html": [
       "<div>\n",
       "<style scoped>\n",
       "    .dataframe tbody tr th:only-of-type {\n",
       "        vertical-align: middle;\n",
       "    }\n",
       "\n",
       "    .dataframe tbody tr th {\n",
       "        vertical-align: top;\n",
       "    }\n",
       "\n",
       "    .dataframe thead th {\n",
       "        text-align: right;\n",
       "    }\n",
       "</style>\n",
       "<table border=\"1\" class=\"dataframe\">\n",
       "  <thead>\n",
       "    <tr style=\"text-align: right;\">\n",
       "      <th>momentum_indicator</th>\n",
       "      <th>0</th>\n",
       "      <th>1</th>\n",
       "      <th>2</th>\n",
       "    </tr>\n",
       "  </thead>\n",
       "  <tbody>\n",
       "    <tr>\n",
       "      <th>count</th>\n",
       "      <td>1095.000000</td>\n",
       "      <td>1095.000000</td>\n",
       "      <td>1095.000000</td>\n",
       "    </tr>\n",
       "    <tr>\n",
       "      <th>mean</th>\n",
       "      <td>0.002163</td>\n",
       "      <td>0.000539</td>\n",
       "      <td>-0.001328</td>\n",
       "    </tr>\n",
       "    <tr>\n",
       "      <th>std</th>\n",
       "      <td>0.047534</td>\n",
       "      <td>0.046093</td>\n",
       "      <td>0.047522</td>\n",
       "    </tr>\n",
       "    <tr>\n",
       "      <th>min</th>\n",
       "      <td>-0.422470</td>\n",
       "      <td>-0.417367</td>\n",
       "      <td>-0.394257</td>\n",
       "    </tr>\n",
       "    <tr>\n",
       "      <th>25%</th>\n",
       "      <td>-0.018178</td>\n",
       "      <td>-0.018673</td>\n",
       "      <td>-0.021556</td>\n",
       "    </tr>\n",
       "    <tr>\n",
       "      <th>50%</th>\n",
       "      <td>0.004927</td>\n",
       "      <td>0.003729</td>\n",
       "      <td>0.001489</td>\n",
       "    </tr>\n",
       "    <tr>\n",
       "      <th>75%</th>\n",
       "      <td>0.025208</td>\n",
       "      <td>0.022309</td>\n",
       "      <td>0.021652</td>\n",
       "    </tr>\n",
       "    <tr>\n",
       "      <th>max</th>\n",
       "      <td>0.215183</td>\n",
       "      <td>0.191081</td>\n",
       "      <td>0.212555</td>\n",
       "    </tr>\n",
       "  </tbody>\n",
       "</table>\n",
       "</div>"
      ],
      "text/plain": [
       "momentum_indicator            0            1            2\n",
       "count               1095.000000  1095.000000  1095.000000\n",
       "mean                   0.002163     0.000539    -0.001328\n",
       "std                    0.047534     0.046093     0.047522\n",
       "min                   -0.422470    -0.417367    -0.394257\n",
       "25%                   -0.018178    -0.018673    -0.021556\n",
       "50%                    0.004927     0.003729     0.001489\n",
       "75%                    0.025208     0.022309     0.021652\n",
       "max                    0.215183     0.191081     0.212555"
      ]
     },
     "execution_count": 38,
     "metadata": {},
     "output_type": "execute_result"
    }
   ],
   "source": [
    "port_ret_df_1000.describe()"
   ]
  },
  {
   "cell_type": "code",
   "execution_count": 39,
   "metadata": {},
   "outputs": [
    {
     "data": {
      "text/html": [
       "<div>\n",
       "<style scoped>\n",
       "    .dataframe tbody tr th:only-of-type {\n",
       "        vertical-align: middle;\n",
       "    }\n",
       "\n",
       "    .dataframe tbody tr th {\n",
       "        vertical-align: top;\n",
       "    }\n",
       "\n",
       "    .dataframe thead th {\n",
       "        text-align: right;\n",
       "    }\n",
       "</style>\n",
       "<table border=\"1\" class=\"dataframe\">\n",
       "  <thead>\n",
       "    <tr style=\"text-align: right;\">\n",
       "      <th>momentum_indicator</th>\n",
       "      <th>0</th>\n",
       "      <th>1</th>\n",
       "      <th>2</th>\n",
       "    </tr>\n",
       "  </thead>\n",
       "  <tbody>\n",
       "    <tr>\n",
       "      <th>count</th>\n",
       "      <td>1095.000000</td>\n",
       "      <td>1095.000000</td>\n",
       "      <td>1095.000000</td>\n",
       "    </tr>\n",
       "    <tr>\n",
       "      <th>mean</th>\n",
       "      <td>0.000979</td>\n",
       "      <td>0.000823</td>\n",
       "      <td>-0.000840</td>\n",
       "    </tr>\n",
       "    <tr>\n",
       "      <th>std</th>\n",
       "      <td>0.048083</td>\n",
       "      <td>0.046801</td>\n",
       "      <td>0.047765</td>\n",
       "    </tr>\n",
       "    <tr>\n",
       "      <th>min</th>\n",
       "      <td>-0.430075</td>\n",
       "      <td>-0.421122</td>\n",
       "      <td>-0.387376</td>\n",
       "    </tr>\n",
       "    <tr>\n",
       "      <th>25%</th>\n",
       "      <td>-0.018696</td>\n",
       "      <td>-0.018604</td>\n",
       "      <td>-0.021158</td>\n",
       "    </tr>\n",
       "    <tr>\n",
       "      <th>50%</th>\n",
       "      <td>0.004860</td>\n",
       "      <td>0.004026</td>\n",
       "      <td>0.001534</td>\n",
       "    </tr>\n",
       "    <tr>\n",
       "      <th>75%</th>\n",
       "      <td>0.024302</td>\n",
       "      <td>0.022789</td>\n",
       "      <td>0.022928</td>\n",
       "    </tr>\n",
       "    <tr>\n",
       "      <th>max</th>\n",
       "      <td>0.226835</td>\n",
       "      <td>0.189612</td>\n",
       "      <td>0.199069</td>\n",
       "    </tr>\n",
       "  </tbody>\n",
       "</table>\n",
       "</div>"
      ],
      "text/plain": [
       "momentum_indicator            0            1            2\n",
       "count               1095.000000  1095.000000  1095.000000\n",
       "mean                   0.000979     0.000823    -0.000840\n",
       "std                    0.048083     0.046801     0.047765\n",
       "min                   -0.430075    -0.421122    -0.387376\n",
       "25%                   -0.018696    -0.018604    -0.021158\n",
       "50%                    0.004860     0.004026     0.001534\n",
       "75%                    0.024302     0.022789     0.022928\n",
       "max                    0.226835     0.189612     0.199069"
      ]
     },
     "execution_count": 39,
     "metadata": {},
     "output_type": "execute_result"
    }
   ],
   "source": [
    "port_ret_df_10000.describe()"
   ]
  },
  {
   "cell_type": "code",
   "execution_count": 40,
   "metadata": {},
   "outputs": [
    {
     "data": {
      "text/html": [
       "<div>\n",
       "<style scoped>\n",
       "    .dataframe tbody tr th:only-of-type {\n",
       "        vertical-align: middle;\n",
       "    }\n",
       "\n",
       "    .dataframe tbody tr th {\n",
       "        vertical-align: top;\n",
       "    }\n",
       "\n",
       "    .dataframe thead th {\n",
       "        text-align: right;\n",
       "    }\n",
       "</style>\n",
       "<table border=\"1\" class=\"dataframe\">\n",
       "  <thead>\n",
       "    <tr style=\"text-align: right;\">\n",
       "      <th>momentum_indicator</th>\n",
       "      <th>0</th>\n",
       "      <th>1</th>\n",
       "      <th>2</th>\n",
       "    </tr>\n",
       "  </thead>\n",
       "  <tbody>\n",
       "    <tr>\n",
       "      <th>count</th>\n",
       "      <td>1095.000000</td>\n",
       "      <td>1095.000000</td>\n",
       "      <td>1095.000000</td>\n",
       "    </tr>\n",
       "    <tr>\n",
       "      <th>mean</th>\n",
       "      <td>0.000897</td>\n",
       "      <td>0.000874</td>\n",
       "      <td>-0.000804</td>\n",
       "    </tr>\n",
       "    <tr>\n",
       "      <th>std</th>\n",
       "      <td>0.048097</td>\n",
       "      <td>0.046926</td>\n",
       "      <td>0.047866</td>\n",
       "    </tr>\n",
       "    <tr>\n",
       "      <th>min</th>\n",
       "      <td>-0.429720</td>\n",
       "      <td>-0.418539</td>\n",
       "      <td>-0.385715</td>\n",
       "    </tr>\n",
       "    <tr>\n",
       "      <th>25%</th>\n",
       "      <td>-0.018945</td>\n",
       "      <td>-0.018799</td>\n",
       "      <td>-0.021561</td>\n",
       "    </tr>\n",
       "    <tr>\n",
       "      <th>50%</th>\n",
       "      <td>0.005044</td>\n",
       "      <td>0.003796</td>\n",
       "      <td>0.001924</td>\n",
       "    </tr>\n",
       "    <tr>\n",
       "      <th>75%</th>\n",
       "      <td>0.023979</td>\n",
       "      <td>0.023501</td>\n",
       "      <td>0.022258</td>\n",
       "    </tr>\n",
       "    <tr>\n",
       "      <th>max</th>\n",
       "      <td>0.216287</td>\n",
       "      <td>0.191212</td>\n",
       "      <td>0.201453</td>\n",
       "    </tr>\n",
       "  </tbody>\n",
       "</table>\n",
       "</div>"
      ],
      "text/plain": [
       "momentum_indicator            0            1            2\n",
       "count               1095.000000  1095.000000  1095.000000\n",
       "mean                   0.000897     0.000874    -0.000804\n",
       "std                    0.048097     0.046926     0.047866\n",
       "min                   -0.429720    -0.418539    -0.385715\n",
       "25%                   -0.018945    -0.018799    -0.021561\n",
       "50%                    0.005044     0.003796     0.001924\n",
       "75%                    0.023979     0.023501     0.022258\n",
       "max                    0.216287     0.191212     0.201453"
      ]
     },
     "execution_count": 40,
     "metadata": {},
     "output_type": "execute_result"
    }
   ],
   "source": [
    "port_ret_df_20000.describe()"
   ]
  },
  {
   "cell_type": "code",
   "execution_count": 41,
   "metadata": {},
   "outputs": [
    {
     "data": {
      "text/html": [
       "<div>\n",
       "<style scoped>\n",
       "    .dataframe tbody tr th:only-of-type {\n",
       "        vertical-align: middle;\n",
       "    }\n",
       "\n",
       "    .dataframe tbody tr th {\n",
       "        vertical-align: top;\n",
       "    }\n",
       "\n",
       "    .dataframe thead th {\n",
       "        text-align: right;\n",
       "    }\n",
       "</style>\n",
       "<table border=\"1\" class=\"dataframe\">\n",
       "  <thead>\n",
       "    <tr style=\"text-align: right;\">\n",
       "      <th>momentum_indicator</th>\n",
       "      <th>0</th>\n",
       "      <th>1</th>\n",
       "      <th>2</th>\n",
       "    </tr>\n",
       "  </thead>\n",
       "  <tbody>\n",
       "    <tr>\n",
       "      <th>count</th>\n",
       "      <td>1095.000000</td>\n",
       "      <td>1095.000000</td>\n",
       "      <td>1095.000000</td>\n",
       "    </tr>\n",
       "    <tr>\n",
       "      <th>mean</th>\n",
       "      <td>0.000792</td>\n",
       "      <td>0.000873</td>\n",
       "      <td>-0.000810</td>\n",
       "    </tr>\n",
       "    <tr>\n",
       "      <th>std</th>\n",
       "      <td>0.048013</td>\n",
       "      <td>0.047068</td>\n",
       "      <td>0.047834</td>\n",
       "    </tr>\n",
       "    <tr>\n",
       "      <th>min</th>\n",
       "      <td>-0.429720</td>\n",
       "      <td>-0.416318</td>\n",
       "      <td>-0.384967</td>\n",
       "    </tr>\n",
       "    <tr>\n",
       "      <th>25%</th>\n",
       "      <td>-0.019210</td>\n",
       "      <td>-0.018646</td>\n",
       "      <td>-0.021823</td>\n",
       "    </tr>\n",
       "    <tr>\n",
       "      <th>50%</th>\n",
       "      <td>0.004742</td>\n",
       "      <td>0.003335</td>\n",
       "      <td>0.001748</td>\n",
       "    </tr>\n",
       "    <tr>\n",
       "      <th>75%</th>\n",
       "      <td>0.024236</td>\n",
       "      <td>0.023124</td>\n",
       "      <td>0.022690</td>\n",
       "    </tr>\n",
       "    <tr>\n",
       "      <th>max</th>\n",
       "      <td>0.218631</td>\n",
       "      <td>0.190886</td>\n",
       "      <td>0.204735</td>\n",
       "    </tr>\n",
       "  </tbody>\n",
       "</table>\n",
       "</div>"
      ],
      "text/plain": [
       "momentum_indicator            0            1            2\n",
       "count               1095.000000  1095.000000  1095.000000\n",
       "mean                   0.000792     0.000873    -0.000810\n",
       "std                    0.048013     0.047068     0.047834\n",
       "min                   -0.429720    -0.416318    -0.384967\n",
       "25%                   -0.019210    -0.018646    -0.021823\n",
       "50%                    0.004742     0.003335     0.001748\n",
       "75%                    0.024236     0.023124     0.022690\n",
       "max                    0.218631     0.190886     0.204735"
      ]
     },
     "execution_count": 41,
     "metadata": {},
     "output_type": "execute_result"
    }
   ],
   "source": [
    "port_ret_df_30000.describe()"
   ]
  },
  {
   "cell_type": "code",
   "execution_count": 42,
   "metadata": {},
   "outputs": [
    {
     "data": {
      "text/html": [
       "<div>\n",
       "<style scoped>\n",
       "    .dataframe tbody tr th:only-of-type {\n",
       "        vertical-align: middle;\n",
       "    }\n",
       "\n",
       "    .dataframe tbody tr th {\n",
       "        vertical-align: top;\n",
       "    }\n",
       "\n",
       "    .dataframe thead th {\n",
       "        text-align: right;\n",
       "    }\n",
       "</style>\n",
       "<table border=\"1\" class=\"dataframe\">\n",
       "  <thead>\n",
       "    <tr style=\"text-align: right;\">\n",
       "      <th>momentum_indicator</th>\n",
       "      <th>0</th>\n",
       "      <th>1</th>\n",
       "      <th>2</th>\n",
       "    </tr>\n",
       "  </thead>\n",
       "  <tbody>\n",
       "    <tr>\n",
       "      <th>count</th>\n",
       "      <td>1095.000000</td>\n",
       "      <td>1095.000000</td>\n",
       "      <td>1095.000000</td>\n",
       "    </tr>\n",
       "    <tr>\n",
       "      <th>mean</th>\n",
       "      <td>0.000530</td>\n",
       "      <td>0.000803</td>\n",
       "      <td>-0.000550</td>\n",
       "    </tr>\n",
       "    <tr>\n",
       "      <th>std</th>\n",
       "      <td>0.047722</td>\n",
       "      <td>0.047013</td>\n",
       "      <td>0.047915</td>\n",
       "    </tr>\n",
       "    <tr>\n",
       "      <th>min</th>\n",
       "      <td>-0.425313</td>\n",
       "      <td>-0.415423</td>\n",
       "      <td>-0.390681</td>\n",
       "    </tr>\n",
       "    <tr>\n",
       "      <th>25%</th>\n",
       "      <td>-0.019458</td>\n",
       "      <td>-0.019169</td>\n",
       "      <td>-0.020879</td>\n",
       "    </tr>\n",
       "    <tr>\n",
       "      <th>50%</th>\n",
       "      <td>0.004225</td>\n",
       "      <td>0.003745</td>\n",
       "      <td>0.001720</td>\n",
       "    </tr>\n",
       "    <tr>\n",
       "      <th>75%</th>\n",
       "      <td>0.023707</td>\n",
       "      <td>0.022595</td>\n",
       "      <td>0.022884</td>\n",
       "    </tr>\n",
       "    <tr>\n",
       "      <th>max</th>\n",
       "      <td>0.209365</td>\n",
       "      <td>0.195052</td>\n",
       "      <td>0.207096</td>\n",
       "    </tr>\n",
       "  </tbody>\n",
       "</table>\n",
       "</div>"
      ],
      "text/plain": [
       "momentum_indicator            0            1            2\n",
       "count               1095.000000  1095.000000  1095.000000\n",
       "mean                   0.000530     0.000803    -0.000550\n",
       "std                    0.047722     0.047013     0.047915\n",
       "min                   -0.425313    -0.415423    -0.390681\n",
       "25%                   -0.019458    -0.019169    -0.020879\n",
       "50%                    0.004225     0.003745     0.001720\n",
       "75%                    0.023707     0.022595     0.022884\n",
       "max                    0.209365     0.195052     0.207096"
      ]
     },
     "execution_count": 42,
     "metadata": {},
     "output_type": "execute_result"
    }
   ],
   "source": [
    "port_ret_df_40000.describe()"
   ]
  },
  {
   "cell_type": "code",
   "execution_count": 43,
   "metadata": {},
   "outputs": [
    {
     "data": {
      "text/html": [
       "<div>\n",
       "<style scoped>\n",
       "    .dataframe tbody tr th:only-of-type {\n",
       "        vertical-align: middle;\n",
       "    }\n",
       "\n",
       "    .dataframe tbody tr th {\n",
       "        vertical-align: top;\n",
       "    }\n",
       "\n",
       "    .dataframe thead th {\n",
       "        text-align: right;\n",
       "    }\n",
       "</style>\n",
       "<table border=\"1\" class=\"dataframe\">\n",
       "  <thead>\n",
       "    <tr style=\"text-align: right;\">\n",
       "      <th>momentum_indicator</th>\n",
       "      <th>0</th>\n",
       "      <th>1</th>\n",
       "      <th>2</th>\n",
       "    </tr>\n",
       "  </thead>\n",
       "  <tbody>\n",
       "    <tr>\n",
       "      <th>count</th>\n",
       "      <td>1095.000000</td>\n",
       "      <td>1095.000000</td>\n",
       "      <td>1095.000000</td>\n",
       "    </tr>\n",
       "    <tr>\n",
       "      <th>mean</th>\n",
       "      <td>0.000469</td>\n",
       "      <td>0.000808</td>\n",
       "      <td>-0.000430</td>\n",
       "    </tr>\n",
       "    <tr>\n",
       "      <th>std</th>\n",
       "      <td>0.047733</td>\n",
       "      <td>0.046780</td>\n",
       "      <td>0.048078</td>\n",
       "    </tr>\n",
       "    <tr>\n",
       "      <th>min</th>\n",
       "      <td>-0.420566</td>\n",
       "      <td>-0.415609</td>\n",
       "      <td>-0.385482</td>\n",
       "    </tr>\n",
       "    <tr>\n",
       "      <th>25%</th>\n",
       "      <td>-0.019376</td>\n",
       "      <td>-0.018845</td>\n",
       "      <td>-0.020552</td>\n",
       "    </tr>\n",
       "    <tr>\n",
       "      <th>50%</th>\n",
       "      <td>0.003790</td>\n",
       "      <td>0.003931</td>\n",
       "      <td>0.001489</td>\n",
       "    </tr>\n",
       "    <tr>\n",
       "      <th>75%</th>\n",
       "      <td>0.023755</td>\n",
       "      <td>0.023672</td>\n",
       "      <td>0.023358</td>\n",
       "    </tr>\n",
       "    <tr>\n",
       "      <th>max</th>\n",
       "      <td>0.211421</td>\n",
       "      <td>0.195555</td>\n",
       "      <td>0.211856</td>\n",
       "    </tr>\n",
       "  </tbody>\n",
       "</table>\n",
       "</div>"
      ],
      "text/plain": [
       "momentum_indicator            0            1            2\n",
       "count               1095.000000  1095.000000  1095.000000\n",
       "mean                   0.000469     0.000808    -0.000430\n",
       "std                    0.047733     0.046780     0.048078\n",
       "min                   -0.420566    -0.415609    -0.385482\n",
       "25%                   -0.019376    -0.018845    -0.020552\n",
       "50%                    0.003790     0.003931     0.001489\n",
       "75%                    0.023755     0.023672     0.023358\n",
       "max                    0.211421     0.195555     0.211856"
      ]
     },
     "execution_count": 43,
     "metadata": {},
     "output_type": "execute_result"
    }
   ],
   "source": [
    "port_ret_df_50000.describe()"
   ]
  },
  {
   "cell_type": "code",
   "execution_count": 44,
   "metadata": {},
   "outputs": [
    {
     "data": {
      "text/html": [
       "<div>\n",
       "<style scoped>\n",
       "    .dataframe tbody tr th:only-of-type {\n",
       "        vertical-align: middle;\n",
       "    }\n",
       "\n",
       "    .dataframe tbody tr th {\n",
       "        vertical-align: top;\n",
       "    }\n",
       "\n",
       "    .dataframe thead th {\n",
       "        text-align: right;\n",
       "    }\n",
       "</style>\n",
       "<table border=\"1\" class=\"dataframe\">\n",
       "  <thead>\n",
       "    <tr style=\"text-align: right;\">\n",
       "      <th>momentum_indicator</th>\n",
       "      <th>0</th>\n",
       "      <th>1</th>\n",
       "      <th>2</th>\n",
       "    </tr>\n",
       "  </thead>\n",
       "  <tbody>\n",
       "    <tr>\n",
       "      <th>count</th>\n",
       "      <td>1095.000000</td>\n",
       "      <td>1095.000000</td>\n",
       "      <td>1095.000000</td>\n",
       "    </tr>\n",
       "    <tr>\n",
       "      <th>mean</th>\n",
       "      <td>0.000206</td>\n",
       "      <td>0.001020</td>\n",
       "      <td>-0.000424</td>\n",
       "    </tr>\n",
       "    <tr>\n",
       "      <th>std</th>\n",
       "      <td>0.048038</td>\n",
       "      <td>0.047122</td>\n",
       "      <td>0.048431</td>\n",
       "    </tr>\n",
       "    <tr>\n",
       "      <th>min</th>\n",
       "      <td>-0.411898</td>\n",
       "      <td>-0.422585</td>\n",
       "      <td>-0.379079</td>\n",
       "    </tr>\n",
       "    <tr>\n",
       "      <th>25%</th>\n",
       "      <td>-0.019802</td>\n",
       "      <td>-0.018735</td>\n",
       "      <td>-0.021736</td>\n",
       "    </tr>\n",
       "    <tr>\n",
       "      <th>50%</th>\n",
       "      <td>0.003639</td>\n",
       "      <td>0.004002</td>\n",
       "      <td>0.001183</td>\n",
       "    </tr>\n",
       "    <tr>\n",
       "      <th>75%</th>\n",
       "      <td>0.023886</td>\n",
       "      <td>0.023455</td>\n",
       "      <td>0.023364</td>\n",
       "    </tr>\n",
       "    <tr>\n",
       "      <th>max</th>\n",
       "      <td>0.220559</td>\n",
       "      <td>0.182869</td>\n",
       "      <td>0.212545</td>\n",
       "    </tr>\n",
       "  </tbody>\n",
       "</table>\n",
       "</div>"
      ],
      "text/plain": [
       "momentum_indicator            0            1            2\n",
       "count               1095.000000  1095.000000  1095.000000\n",
       "mean                   0.000206     0.001020    -0.000424\n",
       "std                    0.048038     0.047122     0.048431\n",
       "min                   -0.411898    -0.422585    -0.379079\n",
       "25%                   -0.019802    -0.018735    -0.021736\n",
       "50%                    0.003639     0.004002     0.001183\n",
       "75%                    0.023886     0.023455     0.023364\n",
       "max                    0.220559     0.182869     0.212545"
      ]
     },
     "execution_count": 44,
     "metadata": {},
     "output_type": "execute_result"
    }
   ],
   "source": [
    "port_ret_df_100000.describe()"
   ]
  },
  {
   "cell_type": "code",
   "execution_count": 45,
   "metadata": {},
   "outputs": [
    {
     "data": {
      "text/html": [
       "<div>\n",
       "<style scoped>\n",
       "    .dataframe tbody tr th:only-of-type {\n",
       "        vertical-align: middle;\n",
       "    }\n",
       "\n",
       "    .dataframe tbody tr th {\n",
       "        vertical-align: top;\n",
       "    }\n",
       "\n",
       "    .dataframe thead th {\n",
       "        text-align: right;\n",
       "    }\n",
       "</style>\n",
       "<table border=\"1\" class=\"dataframe\">\n",
       "  <thead>\n",
       "    <tr style=\"text-align: right;\">\n",
       "      <th>momentum_indicator</th>\n",
       "      <th>0</th>\n",
       "      <th>1</th>\n",
       "      <th>2</th>\n",
       "    </tr>\n",
       "  </thead>\n",
       "  <tbody>\n",
       "    <tr>\n",
       "      <th>count</th>\n",
       "      <td>1095.000000</td>\n",
       "      <td>1095.000000</td>\n",
       "      <td>1095.000000</td>\n",
       "    </tr>\n",
       "    <tr>\n",
       "      <th>mean</th>\n",
       "      <td>-0.000096</td>\n",
       "      <td>0.000059</td>\n",
       "      <td>0.001416</td>\n",
       "    </tr>\n",
       "    <tr>\n",
       "      <th>std</th>\n",
       "      <td>0.046738</td>\n",
       "      <td>0.046554</td>\n",
       "      <td>0.047072</td>\n",
       "    </tr>\n",
       "    <tr>\n",
       "      <th>min</th>\n",
       "      <td>-0.381209</td>\n",
       "      <td>-0.369715</td>\n",
       "      <td>-0.330539</td>\n",
       "    </tr>\n",
       "    <tr>\n",
       "      <th>25%</th>\n",
       "      <td>-0.019869</td>\n",
       "      <td>-0.020290</td>\n",
       "      <td>-0.020753</td>\n",
       "    </tr>\n",
       "    <tr>\n",
       "      <th>50%</th>\n",
       "      <td>0.002633</td>\n",
       "      <td>0.001162</td>\n",
       "      <td>0.002775</td>\n",
       "    </tr>\n",
       "    <tr>\n",
       "      <th>75%</th>\n",
       "      <td>0.021533</td>\n",
       "      <td>0.022486</td>\n",
       "      <td>0.022745</td>\n",
       "    </tr>\n",
       "    <tr>\n",
       "      <th>max</th>\n",
       "      <td>0.219056</td>\n",
       "      <td>0.200167</td>\n",
       "      <td>0.191805</td>\n",
       "    </tr>\n",
       "  </tbody>\n",
       "</table>\n",
       "</div>"
      ],
      "text/plain": [
       "momentum_indicator            0            1            2\n",
       "count               1095.000000  1095.000000  1095.000000\n",
       "mean                  -0.000096     0.000059     0.001416\n",
       "std                    0.046738     0.046554     0.047072\n",
       "min                   -0.381209    -0.369715    -0.330539\n",
       "25%                   -0.019869    -0.020290    -0.020753\n",
       "50%                    0.002633     0.001162     0.002775\n",
       "75%                    0.021533     0.022486     0.022745\n",
       "max                    0.219056     0.200167     0.191805"
      ]
     },
     "execution_count": 45,
     "metadata": {},
     "output_type": "execute_result"
    }
   ],
   "source": [
    "port_ret_df_2000000.describe()"
   ]
  },
  {
   "cell_type": "code",
   "execution_count": 46,
   "metadata": {},
   "outputs": [
    {
     "data": {
      "text/html": [
       "<div>\n",
       "<style scoped>\n",
       "    .dataframe tbody tr th:only-of-type {\n",
       "        vertical-align: middle;\n",
       "    }\n",
       "\n",
       "    .dataframe tbody tr th {\n",
       "        vertical-align: top;\n",
       "    }\n",
       "\n",
       "    .dataframe thead th {\n",
       "        text-align: right;\n",
       "    }\n",
       "</style>\n",
       "<table border=\"1\" class=\"dataframe\">\n",
       "  <thead>\n",
       "    <tr style=\"text-align: right;\">\n",
       "      <th>momentum_indicator</th>\n",
       "      <th>0</th>\n",
       "      <th>1</th>\n",
       "      <th>2</th>\n",
       "    </tr>\n",
       "  </thead>\n",
       "  <tbody>\n",
       "    <tr>\n",
       "      <th>count</th>\n",
       "      <td>1095.000000</td>\n",
       "      <td>1095.000000</td>\n",
       "      <td>1095.000000</td>\n",
       "    </tr>\n",
       "    <tr>\n",
       "      <th>mean</th>\n",
       "      <td>-0.000023</td>\n",
       "      <td>0.000241</td>\n",
       "      <td>0.001171</td>\n",
       "    </tr>\n",
       "    <tr>\n",
       "      <th>std</th>\n",
       "      <td>0.046568</td>\n",
       "      <td>0.047377</td>\n",
       "      <td>0.047253</td>\n",
       "    </tr>\n",
       "    <tr>\n",
       "      <th>min</th>\n",
       "      <td>-0.371861</td>\n",
       "      <td>-0.359741</td>\n",
       "      <td>-0.328822</td>\n",
       "    </tr>\n",
       "    <tr>\n",
       "      <th>25%</th>\n",
       "      <td>-0.019452</td>\n",
       "      <td>-0.020346</td>\n",
       "      <td>-0.020861</td>\n",
       "    </tr>\n",
       "    <tr>\n",
       "      <th>50%</th>\n",
       "      <td>0.002046</td>\n",
       "      <td>0.001331</td>\n",
       "      <td>0.001644</td>\n",
       "    </tr>\n",
       "    <tr>\n",
       "      <th>75%</th>\n",
       "      <td>0.022370</td>\n",
       "      <td>0.022354</td>\n",
       "      <td>0.023283</td>\n",
       "    </tr>\n",
       "    <tr>\n",
       "      <th>max</th>\n",
       "      <td>0.201784</td>\n",
       "      <td>0.180933</td>\n",
       "      <td>0.197636</td>\n",
       "    </tr>\n",
       "  </tbody>\n",
       "</table>\n",
       "</div>"
      ],
      "text/plain": [
       "momentum_indicator            0            1            2\n",
       "count               1095.000000  1095.000000  1095.000000\n",
       "mean                  -0.000023     0.000241     0.001171\n",
       "std                    0.046568     0.047377     0.047253\n",
       "min                   -0.371861    -0.359741    -0.328822\n",
       "25%                   -0.019452    -0.020346    -0.020861\n",
       "50%                    0.002046     0.001331     0.001644\n",
       "75%                    0.022370     0.022354     0.023283\n",
       "max                    0.201784     0.180933     0.197636"
      ]
     },
     "execution_count": 46,
     "metadata": {},
     "output_type": "execute_result"
    }
   ],
   "source": [
    "port_ret_df_3000000.describe()"
   ]
  },
  {
   "cell_type": "code",
   "execution_count": 47,
   "metadata": {},
   "outputs": [
    {
     "data": {
      "text/html": [
       "<div>\n",
       "<style scoped>\n",
       "    .dataframe tbody tr th:only-of-type {\n",
       "        vertical-align: middle;\n",
       "    }\n",
       "\n",
       "    .dataframe tbody tr th {\n",
       "        vertical-align: top;\n",
       "    }\n",
       "\n",
       "    .dataframe thead th {\n",
       "        text-align: right;\n",
       "    }\n",
       "</style>\n",
       "<table border=\"1\" class=\"dataframe\">\n",
       "  <thead>\n",
       "    <tr style=\"text-align: right;\">\n",
       "      <th>momentum_indicator</th>\n",
       "      <th>0</th>\n",
       "      <th>1</th>\n",
       "      <th>2</th>\n",
       "    </tr>\n",
       "  </thead>\n",
       "  <tbody>\n",
       "    <tr>\n",
       "      <th>count</th>\n",
       "      <td>1095.000000</td>\n",
       "      <td>1095.000000</td>\n",
       "      <td>1095.000000</td>\n",
       "    </tr>\n",
       "    <tr>\n",
       "      <th>mean</th>\n",
       "      <td>-0.000059</td>\n",
       "      <td>-0.000440</td>\n",
       "      <td>0.001711</td>\n",
       "    </tr>\n",
       "    <tr>\n",
       "      <th>std</th>\n",
       "      <td>0.046483</td>\n",
       "      <td>0.046410</td>\n",
       "      <td>0.047608</td>\n",
       "    </tr>\n",
       "    <tr>\n",
       "      <th>min</th>\n",
       "      <td>-0.378020</td>\n",
       "      <td>-0.385143</td>\n",
       "      <td>-0.308675</td>\n",
       "    </tr>\n",
       "    <tr>\n",
       "      <th>25%</th>\n",
       "      <td>-0.018513</td>\n",
       "      <td>-0.018402</td>\n",
       "      <td>-0.020565</td>\n",
       "    </tr>\n",
       "    <tr>\n",
       "      <th>50%</th>\n",
       "      <td>0.001173</td>\n",
       "      <td>0.000547</td>\n",
       "      <td>0.001056</td>\n",
       "    </tr>\n",
       "    <tr>\n",
       "      <th>75%</th>\n",
       "      <td>0.021021</td>\n",
       "      <td>0.022402</td>\n",
       "      <td>0.023105</td>\n",
       "    </tr>\n",
       "    <tr>\n",
       "      <th>max</th>\n",
       "      <td>0.194140</td>\n",
       "      <td>0.157787</td>\n",
       "      <td>0.215177</td>\n",
       "    </tr>\n",
       "  </tbody>\n",
       "</table>\n",
       "</div>"
      ],
      "text/plain": [
       "momentum_indicator            0            1            2\n",
       "count               1095.000000  1095.000000  1095.000000\n",
       "mean                  -0.000059    -0.000440     0.001711\n",
       "std                    0.046483     0.046410     0.047608\n",
       "min                   -0.378020    -0.385143    -0.308675\n",
       "25%                   -0.018513    -0.018402    -0.020565\n",
       "50%                    0.001173     0.000547     0.001056\n",
       "75%                    0.021021     0.022402     0.023105\n",
       "max                    0.194140     0.157787     0.215177"
      ]
     },
     "execution_count": 47,
     "metadata": {},
     "output_type": "execute_result"
    }
   ],
   "source": [
    "port_ret_df_10000000.describe()"
   ]
  },
  {
   "cell_type": "code",
   "execution_count": 48,
   "metadata": {},
   "outputs": [
    {
     "data": {
      "text/html": [
       "<div>\n",
       "<style scoped>\n",
       "    .dataframe tbody tr th:only-of-type {\n",
       "        vertical-align: middle;\n",
       "    }\n",
       "\n",
       "    .dataframe tbody tr th {\n",
       "        vertical-align: top;\n",
       "    }\n",
       "\n",
       "    .dataframe thead th {\n",
       "        text-align: right;\n",
       "    }\n",
       "</style>\n",
       "<table border=\"1\" class=\"dataframe\">\n",
       "  <thead>\n",
       "    <tr style=\"text-align: right;\">\n",
       "      <th>momentum_indicator</th>\n",
       "      <th>0</th>\n",
       "      <th>1</th>\n",
       "      <th>2</th>\n",
       "    </tr>\n",
       "  </thead>\n",
       "  <tbody>\n",
       "    <tr>\n",
       "      <th>count</th>\n",
       "      <td>1095.000000</td>\n",
       "      <td>1095.000000</td>\n",
       "      <td>1095.000000</td>\n",
       "    </tr>\n",
       "    <tr>\n",
       "      <th>mean</th>\n",
       "      <td>-0.000376</td>\n",
       "      <td>-0.000186</td>\n",
       "      <td>0.001688</td>\n",
       "    </tr>\n",
       "    <tr>\n",
       "      <th>std</th>\n",
       "      <td>0.045549</td>\n",
       "      <td>0.045752</td>\n",
       "      <td>0.045511</td>\n",
       "    </tr>\n",
       "    <tr>\n",
       "      <th>min</th>\n",
       "      <td>-0.387717</td>\n",
       "      <td>-0.384858</td>\n",
       "      <td>-0.252459</td>\n",
       "    </tr>\n",
       "    <tr>\n",
       "      <th>25%</th>\n",
       "      <td>-0.016911</td>\n",
       "      <td>-0.017539</td>\n",
       "      <td>-0.019849</td>\n",
       "    </tr>\n",
       "    <tr>\n",
       "      <th>50%</th>\n",
       "      <td>0.000008</td>\n",
       "      <td>-0.000040</td>\n",
       "      <td>0.001384</td>\n",
       "    </tr>\n",
       "    <tr>\n",
       "      <th>75%</th>\n",
       "      <td>0.019403</td>\n",
       "      <td>0.019403</td>\n",
       "      <td>0.019646</td>\n",
       "    </tr>\n",
       "    <tr>\n",
       "      <th>max</th>\n",
       "      <td>0.241526</td>\n",
       "      <td>0.191565</td>\n",
       "      <td>0.266613</td>\n",
       "    </tr>\n",
       "  </tbody>\n",
       "</table>\n",
       "</div>"
      ],
      "text/plain": [
       "momentum_indicator            0            1            2\n",
       "count               1095.000000  1095.000000  1095.000000\n",
       "mean                  -0.000376    -0.000186     0.001688\n",
       "std                    0.045549     0.045752     0.045511\n",
       "min                   -0.387717    -0.384858    -0.252459\n",
       "25%                   -0.016911    -0.017539    -0.019849\n",
       "50%                    0.000008    -0.000040     0.001384\n",
       "75%                    0.019403     0.019403     0.019646\n",
       "max                    0.241526     0.191565     0.266613"
      ]
     },
     "execution_count": 48,
     "metadata": {},
     "output_type": "execute_result"
    }
   ],
   "source": [
    "port_ret_df_50000000.describe()"
   ]
  },
  {
   "cell_type": "code",
   "execution_count": null,
   "metadata": {},
   "outputs": [],
   "source": []
  },
  {
   "cell_type": "markdown",
   "metadata": {},
   "source": [
    "#### Sharpe Ratio"
   ]
  },
  {
   "cell_type": "code",
   "execution_count": null,
   "metadata": {},
   "outputs": [],
   "source": []
  },
  {
   "cell_type": "code",
   "execution_count": null,
   "metadata": {},
   "outputs": [],
   "source": [
    "port_ret_df_100.mean()/port_ret_df_100.std()"
   ]
  },
  {
   "cell_type": "code",
   "execution_count": null,
   "metadata": {},
   "outputs": [],
   "source": [
    "port_ret_df_1000.mean()/port_ret_df_1000.std()"
   ]
  },
  {
   "cell_type": "code",
   "execution_count": null,
   "metadata": {},
   "outputs": [],
   "source": [
    "port_ret_df_10000.mean()/port_ret_df_10000.std()"
   ]
  },
  {
   "cell_type": "code",
   "execution_count": null,
   "metadata": {},
   "outputs": [],
   "source": [
    "port_ret_df_20000.mean()/port_ret_df_20000.std()"
   ]
  },
  {
   "cell_type": "code",
   "execution_count": null,
   "metadata": {},
   "outputs": [],
   "source": [
    "port_ret_df_30000.mean()/port_ret_df_30000.std()"
   ]
  },
  {
   "cell_type": "code",
   "execution_count": null,
   "metadata": {},
   "outputs": [],
   "source": [
    "port_ret_df_40000.mean()/port_ret_df_40000.std()"
   ]
  },
  {
   "cell_type": "code",
   "execution_count": null,
   "metadata": {},
   "outputs": [],
   "source": [
    "port_ret_df_50000.mean()/port_ret_df_50000.std()"
   ]
  },
  {
   "cell_type": "code",
   "execution_count": null,
   "metadata": {},
   "outputs": [],
   "source": [
    "port_ret_df_100000.mean()/port_ret_df_100000.std()"
   ]
  },
  {
   "cell_type": "code",
   "execution_count": null,
   "metadata": {},
   "outputs": [],
   "source": [
    "port_ret_df_500000.mean()/port_ret_df_500000.std()"
   ]
  },
  {
   "cell_type": "code",
   "execution_count": null,
   "metadata": {},
   "outputs": [],
   "source": [
    "port_ret_df_1000000.mean()/port_ret_df_1000000.std()"
   ]
  },
  {
   "cell_type": "code",
   "execution_count": null,
   "metadata": {},
   "outputs": [],
   "source": [
    "port_ret_df_2000000.mean()/port_ret_df_2000000.std()"
   ]
  },
  {
   "cell_type": "code",
   "execution_count": null,
   "metadata": {},
   "outputs": [],
   "source": [
    "port_ret_df_3000000.mean()/port_ret_df_3000000.std()"
   ]
  },
  {
   "cell_type": "code",
   "execution_count": null,
   "metadata": {},
   "outputs": [],
   "source": []
  },
  {
   "cell_type": "code",
   "execution_count": null,
   "metadata": {},
   "outputs": [],
   "source": []
  },
  {
   "cell_type": "markdown",
   "metadata": {},
   "source": [
    "#### T-test"
   ]
  },
  {
   "cell_type": "code",
   "execution_count": null,
   "metadata": {},
   "outputs": [],
   "source": []
  },
  {
   "cell_type": "code",
   "execution_count": null,
   "metadata": {},
   "outputs": [],
   "source": [
    "test_df = port_ret_df_50000000"
   ]
  },
  {
   "cell_type": "code",
   "execution_count": null,
   "metadata": {},
   "outputs": [],
   "source": [
    "ttest_rel(test_df[0],test_df[1])"
   ]
  },
  {
   "cell_type": "code",
   "execution_count": null,
   "metadata": {},
   "outputs": [],
   "source": [
    "ttest_rel(test_df[1],test_df[2])"
   ]
  },
  {
   "cell_type": "code",
   "execution_count": null,
   "metadata": {},
   "outputs": [],
   "source": [
    "ttest_rel(test_df[0],test_df[2])"
   ]
  },
  {
   "cell_type": "code",
   "execution_count": null,
   "metadata": {},
   "outputs": [],
   "source": []
  },
  {
   "cell_type": "code",
   "execution_count": null,
   "metadata": {},
   "outputs": [],
   "source": []
  },
  {
   "cell_type": "markdown",
   "metadata": {},
   "source": [
    "### Double Sort Method"
   ]
  },
  {
   "cell_type": "code",
   "execution_count": null,
   "metadata": {},
   "outputs": [],
   "source": []
  },
  {
   "cell_type": "code",
   "execution_count": 11,
   "metadata": {},
   "outputs": [],
   "source": [
    "universe_df = price_df"
   ]
  },
  {
   "cell_type": "code",
   "execution_count": null,
   "metadata": {},
   "outputs": [],
   "source": []
  },
  {
   "cell_type": "code",
   "execution_count": 12,
   "metadata": {},
   "outputs": [],
   "source": [
    "complete_ret_sub_df = universe_df.pct_change(periods=momentum_period).shift(waiting_time).dropna()\n",
    "complete_ret_sub_df_long = complete_ret_sub_df.stack()"
   ]
  },
  {
   "cell_type": "code",
   "execution_count": 13,
   "metadata": {},
   "outputs": [],
   "source": [
    "volume_df = df[[\"date\",\"ticker\",\"volume\"]]\n",
    "volume_df = volume_df.set_index([\"date\",\"ticker\"])[\"volume\"]"
   ]
  },
  {
   "cell_type": "code",
   "execution_count": null,
   "metadata": {},
   "outputs": [],
   "source": []
  },
  {
   "cell_type": "code",
   "execution_count": 14,
   "metadata": {},
   "outputs": [],
   "source": [
    "signal_df = pd.concat([complete_ret_sub_df_long,volume_df],axis=1).dropna()\n",
    "signal_df.columns = [\"momentum\",\"volume\"]\n",
    "\n",
    "index_df = signal_df.index.to_frame()\n",
    "index_df.index = range(0,index_df.shape[0])\n",
    "\n",
    "signal_df.index = range(0,signal_df.shape[0])\n",
    "\n",
    "index_df[\"momentum\"] = signal_df[\"momentum\"]\n",
    "index_df[\"volume\"] = signal_df[\"volume\"]\n",
    "\n",
    "signal_df = index_df"
   ]
  },
  {
   "cell_type": "code",
   "execution_count": 15,
   "metadata": {},
   "outputs": [],
   "source": [
    "rebalance_date_series = list(signal_df[\"date\"])"
   ]
  },
  {
   "cell_type": "code",
   "execution_count": null,
   "metadata": {},
   "outputs": [],
   "source": []
  },
  {
   "cell_type": "code",
   "execution_count": null,
   "metadata": {},
   "outputs": [],
   "source": []
  },
  {
   "cell_type": "code",
   "execution_count": 18,
   "metadata": {},
   "outputs": [
    {
     "data": {
      "text/html": [
       "<div>\n",
       "<style scoped>\n",
       "    .dataframe tbody tr th:only-of-type {\n",
       "        vertical-align: middle;\n",
       "    }\n",
       "\n",
       "    .dataframe tbody tr th {\n",
       "        vertical-align: top;\n",
       "    }\n",
       "\n",
       "    .dataframe thead th {\n",
       "        text-align: right;\n",
       "    }\n",
       "</style>\n",
       "<table border=\"1\" class=\"dataframe\">\n",
       "  <thead>\n",
       "    <tr style=\"text-align: right;\">\n",
       "      <th></th>\n",
       "      <th>date</th>\n",
       "      <th>ticker</th>\n",
       "      <th>momentum</th>\n",
       "      <th>volume</th>\n",
       "    </tr>\n",
       "  </thead>\n",
       "  <tbody>\n",
       "    <tr>\n",
       "      <th>0</th>\n",
       "      <td>2018-01-02</td>\n",
       "      <td>ADA-USD</td>\n",
       "      <td>0.012453</td>\n",
       "      <td>289712000.0</td>\n",
       "    </tr>\n",
       "    <tr>\n",
       "      <th>1</th>\n",
       "      <td>2018-01-02</td>\n",
       "      <td>ADX-USD</td>\n",
       "      <td>0.114517</td>\n",
       "      <td>36135500.0</td>\n",
       "    </tr>\n",
       "    <tr>\n",
       "      <th>2</th>\n",
       "      <td>2018-01-02</td>\n",
       "      <td>AE-USD</td>\n",
       "      <td>-0.015999</td>\n",
       "      <td>2867610.0</td>\n",
       "    </tr>\n",
       "    <tr>\n",
       "      <th>3</th>\n",
       "      <td>2018-01-02</td>\n",
       "      <td>ANT-USD</td>\n",
       "      <td>0.098899</td>\n",
       "      <td>3763910.0</td>\n",
       "    </tr>\n",
       "    <tr>\n",
       "      <th>4</th>\n",
       "      <td>2018-01-02</td>\n",
       "      <td>ARDR-USD</td>\n",
       "      <td>-0.065361</td>\n",
       "      <td>35898800.0</td>\n",
       "    </tr>\n",
       "    <tr>\n",
       "      <th>...</th>\n",
       "      <td>...</td>\n",
       "      <td>...</td>\n",
       "      <td>...</td>\n",
       "      <td>...</td>\n",
       "    </tr>\n",
       "    <tr>\n",
       "      <th>112479</th>\n",
       "      <td>2021-01-03</td>\n",
       "      <td>XVG-USD</td>\n",
       "      <td>0.010035</td>\n",
       "      <td>23389208.0</td>\n",
       "    </tr>\n",
       "    <tr>\n",
       "      <th>112480</th>\n",
       "      <td>2021-01-03</td>\n",
       "      <td>XZC-USD</td>\n",
       "      <td>-0.012876</td>\n",
       "      <td>3361756.0</td>\n",
       "    </tr>\n",
       "    <tr>\n",
       "      <th>112481</th>\n",
       "      <td>2021-01-03</td>\n",
       "      <td>ZEC-USD</td>\n",
       "      <td>0.017821</td>\n",
       "      <td>723282432.0</td>\n",
       "    </tr>\n",
       "    <tr>\n",
       "      <th>112482</th>\n",
       "      <td>2021-01-03</td>\n",
       "      <td>ZEN-USD</td>\n",
       "      <td>-0.004642</td>\n",
       "      <td>20377882.0</td>\n",
       "    </tr>\n",
       "    <tr>\n",
       "      <th>112483</th>\n",
       "      <td>2021-01-03</td>\n",
       "      <td>ZRX-USD</td>\n",
       "      <td>-0.038934</td>\n",
       "      <td>71434048.0</td>\n",
       "    </tr>\n",
       "  </tbody>\n",
       "</table>\n",
       "<p>112484 rows × 4 columns</p>\n",
       "</div>"
      ],
      "text/plain": [
       "             date    ticker  momentum       volume\n",
       "0      2018-01-02   ADA-USD  0.012453  289712000.0\n",
       "1      2018-01-02   ADX-USD  0.114517   36135500.0\n",
       "2      2018-01-02    AE-USD -0.015999    2867610.0\n",
       "3      2018-01-02   ANT-USD  0.098899    3763910.0\n",
       "4      2018-01-02  ARDR-USD -0.065361   35898800.0\n",
       "...           ...       ...       ...          ...\n",
       "112479 2021-01-03   XVG-USD  0.010035   23389208.0\n",
       "112480 2021-01-03   XZC-USD -0.012876    3361756.0\n",
       "112481 2021-01-03   ZEC-USD  0.017821  723282432.0\n",
       "112482 2021-01-03   ZEN-USD -0.004642   20377882.0\n",
       "112483 2021-01-03   ZRX-USD -0.038934   71434048.0\n",
       "\n",
       "[112484 rows x 4 columns]"
      ]
     },
     "execution_count": 18,
     "metadata": {},
     "output_type": "execute_result"
    }
   ],
   "source": [
    "signal_df"
   ]
  },
  {
   "cell_type": "code",
   "execution_count": null,
   "metadata": {},
   "outputs": [],
   "source": []
  },
  {
   "cell_type": "code",
   "execution_count": 20,
   "metadata": {},
   "outputs": [
    {
     "name": "stdout",
     "output_type": "stream",
     "text": [
      "initialized.\n"
     ]
    }
   ],
   "source": [
    "portfolio_indicator = PortfolioIndicator()"
   ]
  },
  {
   "cell_type": "code",
   "execution_count": 21,
   "metadata": {},
   "outputs": [],
   "source": [
    "port_indicator = portfolio_indicator.create_indicator_double_sort(signal_df,\n",
    "                                                 signal_1_name=\"momentum\",\n",
    "                                                 signal_2_name=\"volume\",\n",
    "                                                 number_1=3,\n",
    "                                                 number_2=4,\n",
    "                                                 rebalance_date_series=rebalance_date_series)"
   ]
  },
  {
   "cell_type": "code",
   "execution_count": 22,
   "metadata": {},
   "outputs": [],
   "source": [
    "complete_sub_df_1 = universe_df.pct_change().dropna()\n",
    "complete_sub_df_1_long = complete_sub_df_1.stack()\n",
    "    \n",
    "index_df = complete_sub_df_1_long.index.to_frame()\n",
    "index_df[\"ret\"] = complete_sub_df_1_long\n",
    "index_df.index=range(0,index_df.shape[0])\n",
    "index_df.columns = [\"date\",\"ticker\",\"ret\"]\n",
    "return_df = index_df"
   ]
  },
  {
   "cell_type": "code",
   "execution_count": 23,
   "metadata": {},
   "outputs": [],
   "source": [
    "merge_df = return_df.merge(port_indicator,on=[\"date\",\"ticker\"])"
   ]
  },
  {
   "cell_type": "code",
   "execution_count": null,
   "metadata": {},
   "outputs": [],
   "source": []
  },
  {
   "cell_type": "code",
   "execution_count": 24,
   "metadata": {},
   "outputs": [],
   "source": [
    "portfolio_constructor = PortfolioConstructor(merge_df)"
   ]
  },
  {
   "cell_type": "code",
   "execution_count": null,
   "metadata": {},
   "outputs": [],
   "source": []
  },
  {
   "cell_type": "code",
   "execution_count": 25,
   "metadata": {},
   "outputs": [],
   "source": [
    "ret_df = portfolio_constructor.create_portfolio_series_double_sorting(signal_1=\"volume_indicator\",\n",
    "                                                             signal_2=\"momentum_indicator\",\n",
    "                                                             equal_weight=True,\n",
    "                                                             pivot_table=True)"
   ]
  },
  {
   "cell_type": "code",
   "execution_count": null,
   "metadata": {},
   "outputs": [],
   "source": []
  },
  {
   "cell_type": "code",
   "execution_count": 27,
   "metadata": {},
   "outputs": [],
   "source": [
    "ret_df.to_csv(\"data/double_sort_portfolio_ret.csv\")"
   ]
  },
  {
   "cell_type": "code",
   "execution_count": null,
   "metadata": {},
   "outputs": [],
   "source": []
  },
  {
   "cell_type": "code",
   "execution_count": 30,
   "metadata": {},
   "outputs": [
    {
     "data": {
      "text/plain": [
       "volume_indicator  momentum_indicator\n",
       "0                 0                     0.093118\n",
       "                  1                    -0.060330\n",
       "                  2                    -0.231229\n",
       "1                 0                     0.033682\n",
       "                  1                    -0.018157\n",
       "                  2                    -0.119372\n",
       "2                 0                     0.047298\n",
       "                  1                     0.067116\n",
       "                  2                    -0.031842\n",
       "3                 0                     0.053287\n",
       "                  1                     0.050379\n",
       "                  2                     0.126838\n",
       "dtype: float64"
      ]
     },
     "execution_count": 30,
     "metadata": {},
     "output_type": "execute_result"
    }
   ],
   "source": [
    "ret_df.mean()/ret_df.std()"
   ]
  },
  {
   "cell_type": "code",
   "execution_count": 57,
   "metadata": {},
   "outputs": [
    {
     "data": {
      "text/plain": [
       "2.4232365875126596"
      ]
     },
     "execution_count": 57,
     "metadata": {},
     "output_type": "execute_result"
    }
   ],
   "source": [
    "0.126838 * ((365)**0.5)"
   ]
  },
  {
   "cell_type": "code",
   "execution_count": null,
   "metadata": {},
   "outputs": [],
   "source": []
  },
  {
   "cell_type": "code",
   "execution_count": null,
   "metadata": {},
   "outputs": [],
   "source": []
  },
  {
   "cell_type": "code",
   "execution_count": null,
   "metadata": {},
   "outputs": [],
   "source": []
  },
  {
   "cell_type": "code",
   "execution_count": null,
   "metadata": {},
   "outputs": [],
   "source": []
  },
  {
   "cell_type": "code",
   "execution_count": null,
   "metadata": {},
   "outputs": [],
   "source": []
  },
  {
   "cell_type": "code",
   "execution_count": null,
   "metadata": {},
   "outputs": [],
   "source": []
  },
  {
   "cell_type": "code",
   "execution_count": null,
   "metadata": {},
   "outputs": [],
   "source": []
  },
  {
   "cell_type": "code",
   "execution_count": null,
   "metadata": {},
   "outputs": [],
   "source": []
  },
  {
   "cell_type": "code",
   "execution_count": null,
   "metadata": {},
   "outputs": [],
   "source": []
  },
  {
   "cell_type": "code",
   "execution_count": null,
   "metadata": {},
   "outputs": [],
   "source": []
  },
  {
   "cell_type": "code",
   "execution_count": null,
   "metadata": {},
   "outputs": [],
   "source": []
  },
  {
   "cell_type": "code",
   "execution_count": null,
   "metadata": {},
   "outputs": [],
   "source": []
  }
 ],
 "metadata": {
  "kernelspec": {
   "display_name": "Python 3",
   "language": "python",
   "name": "python3"
  },
  "language_info": {
   "codemirror_mode": {
    "name": "ipython",
    "version": 3
   },
   "file_extension": ".py",
   "mimetype": "text/x-python",
   "name": "python",
   "nbconvert_exporter": "python",
   "pygments_lexer": "ipython3",
   "version": "3.8.5"
  }
 },
 "nbformat": 4,
 "nbformat_minor": 4
}
