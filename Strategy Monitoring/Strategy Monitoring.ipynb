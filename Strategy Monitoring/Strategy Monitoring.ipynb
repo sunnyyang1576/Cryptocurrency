{
 "cells": [
  {
   "cell_type": "code",
   "execution_count": null,
   "metadata": {},
   "outputs": [],
   "source": []
  },
  {
   "cell_type": "code",
   "execution_count": 1,
   "metadata": {},
   "outputs": [],
   "source": [
    "import pandas as pd\n",
    "import numpy as np\n",
    "from yahoo_fin.stock_info import get_data\n",
    "import datetime"
   ]
  },
  {
   "cell_type": "code",
   "execution_count": null,
   "metadata": {},
   "outputs": [],
   "source": []
  },
  {
   "cell_type": "code",
   "execution_count": null,
   "metadata": {},
   "outputs": [],
   "source": []
  },
  {
   "cell_type": "markdown",
   "metadata": {},
   "source": [
    "### Defined the directory and model parameter"
   ]
  },
  {
   "cell_type": "code",
   "execution_count": 2,
   "metadata": {},
   "outputs": [],
   "source": [
    "log_directory = \"strategy_log/\"\n",
    "file_directory = \"data/\""
   ]
  },
  {
   "cell_type": "code",
   "execution_count": 3,
   "metadata": {},
   "outputs": [],
   "source": [
    "look_back = 3\n",
    "portfolio_size = 10"
   ]
  },
  {
   "cell_type": "code",
   "execution_count": null,
   "metadata": {},
   "outputs": [],
   "source": []
  },
  {
   "cell_type": "code",
   "execution_count": null,
   "metadata": {},
   "outputs": [],
   "source": []
  },
  {
   "cell_type": "markdown",
   "metadata": {},
   "source": [
    "### Extract the data from Yahoo Finance"
   ]
  },
  {
   "cell_type": "code",
   "execution_count": 4,
   "metadata": {},
   "outputs": [],
   "source": [
    "with open(file_directory+\"yahoo_finance_crypto_list.txt\") as f:\n",
    "    \n",
    "    ticker_list = f.readlines()\n",
    "    \n",
    "    ticker_list = [ticker.strip() for ticker in ticker_list]"
   ]
  },
  {
   "cell_type": "code",
   "execution_count": null,
   "metadata": {},
   "outputs": [],
   "source": []
  },
  {
   "cell_type": "code",
   "execution_count": null,
   "metadata": {},
   "outputs": [],
   "source": []
  },
  {
   "cell_type": "code",
   "execution_count": null,
   "metadata": {},
   "outputs": [],
   "source": []
  },
  {
   "cell_type": "code",
   "execution_count": 5,
   "metadata": {},
   "outputs": [],
   "source": [
    "start_date = \"2021-01-05\"\n",
    "end_date = \"2021-01-16\""
   ]
  },
  {
   "cell_type": "code",
   "execution_count": null,
   "metadata": {},
   "outputs": [],
   "source": [
    "start_date = (datetime.datetime.today()-datetime.timedelta(days=look_back)).strftime(\"%Y-%m-%d\")\n",
    "end_date = (datetime.datetime.today()).strftime(\"%Y-%m-%d\")"
   ]
  },
  {
   "cell_type": "code",
   "execution_count": null,
   "metadata": {},
   "outputs": [],
   "source": []
  },
  {
   "cell_type": "code",
   "execution_count": 6,
   "metadata": {
    "scrolled": true
   },
   "outputs": [
    {
     "name": "stdout",
     "output_type": "stream",
     "text": [
      "Error.\n",
      "Error.\n",
      "Error.\n",
      "Error.\n",
      "Error.\n"
     ]
    }
   ],
   "source": [
    "price_dic = {}\n",
    "error_list = []\n",
    "\n",
    "for ticker in ticker_list:\n",
    "    \n",
    "    try:\n",
    "        price_df = get_data(ticker=ticker,\n",
    "                        start_date=start_date,\n",
    "                        end_date=end_date,\n",
    "                        index_as_date=True,\n",
    "                        interval=\"1d\")\n",
    "        \n",
    "        price_dic[ticker] = price_df\n",
    "    \n",
    "    except:\n",
    "        \n",
    "        print(\"Error.\")\n",
    "        error_list.append(ticker)\n",
    "    \n",
    "    #time.sleep(1)"
   ]
  },
  {
   "cell_type": "code",
   "execution_count": null,
   "metadata": {},
   "outputs": [],
   "source": []
  },
  {
   "cell_type": "code",
   "execution_count": null,
   "metadata": {},
   "outputs": [],
   "source": []
  },
  {
   "cell_type": "code",
   "execution_count": 7,
   "metadata": {},
   "outputs": [],
   "source": [
    "price_df_list = [price_dic[ticker] for ticker in ticker_list if ticker not in error_list]\n",
    "price_df = pd.concat(price_df_list,axis=0)"
   ]
  },
  {
   "cell_type": "code",
   "execution_count": null,
   "metadata": {},
   "outputs": [],
   "source": []
  },
  {
   "cell_type": "markdown",
   "metadata": {},
   "source": [
    "### Filter the universe by average transaction volume"
   ]
  },
  {
   "cell_type": "code",
   "execution_count": null,
   "metadata": {},
   "outputs": [],
   "source": []
  },
  {
   "cell_type": "code",
   "execution_count": 8,
   "metadata": {},
   "outputs": [],
   "source": [
    "average_volume = price_df[[\"volume\",\"ticker\"]].groupby(\"ticker\").mean()\n",
    "volume_threshold = average_volume.describe().loc[\"25%\",:][0]\n",
    "universe_list = list(average_volume[average_volume>volume_threshold].index)"
   ]
  },
  {
   "cell_type": "code",
   "execution_count": null,
   "metadata": {},
   "outputs": [],
   "source": []
  },
  {
   "cell_type": "code",
   "execution_count": 9,
   "metadata": {},
   "outputs": [],
   "source": [
    "price_df_list = [price_dic[ticker] for ticker in universe_list]\n",
    "price_df = pd.concat(price_df_list,axis=0)"
   ]
  },
  {
   "cell_type": "code",
   "execution_count": null,
   "metadata": {},
   "outputs": [],
   "source": []
  },
  {
   "cell_type": "code",
   "execution_count": null,
   "metadata": {},
   "outputs": [],
   "source": []
  },
  {
   "cell_type": "markdown",
   "metadata": {},
   "source": [
    "### Calculate Signal"
   ]
  },
  {
   "cell_type": "code",
   "execution_count": 10,
   "metadata": {},
   "outputs": [],
   "source": [
    "price_df[\"date\"] = price_df.index\n",
    "price_wide = price_df.pivot_table(values=\"close\",columns=\"ticker\",index=\"date\")\n",
    "\n",
    "\n",
    "signal = price_wide.pct_change(look_back)\n",
    "signal = signal.iloc[-1,:].dropna()"
   ]
  },
  {
   "cell_type": "code",
   "execution_count": 11,
   "metadata": {},
   "outputs": [
    {
     "data": {
      "text/plain": [
       "ticker\n",
       "ABBC-USD    0.151906\n",
       "ACH-USD     0.003312\n",
       "ACT-USD     0.058953\n",
       "ADA-USD     0.123833\n",
       "ADK-USD     0.008405\n",
       "              ...   \n",
       "ZEN-USD    -0.093492\n",
       "ZIL-USD     0.045322\n",
       "ZNN-USD     0.268891\n",
       "ZRX-USD     0.042972\n",
       "ZYN-USD    -0.019635\n",
       "Name: 2021-01-16 00:00:00, Length: 366, dtype: float64"
      ]
     },
     "execution_count": 11,
     "metadata": {},
     "output_type": "execute_result"
    }
   ],
   "source": [
    "signal"
   ]
  },
  {
   "cell_type": "code",
   "execution_count": null,
   "metadata": {},
   "outputs": [],
   "source": []
  },
  {
   "cell_type": "markdown",
   "metadata": {},
   "source": [
    "### Create Portfolios"
   ]
  },
  {
   "cell_type": "code",
   "execution_count": 12,
   "metadata": {},
   "outputs": [],
   "source": [
    "top_portfolio = signal.nlargest(portfolio_size)\n",
    "bottom_portfolio = signal.nsmallest(portfolio_size)\n",
    "\n",
    "top_portfolio = pd.DataFrame(top_portfolio).T\n",
    "bottom_portfolio = pd.DataFrame(bottom_portfolio).T"
   ]
  },
  {
   "cell_type": "code",
   "execution_count": 13,
   "metadata": {},
   "outputs": [
    {
     "data": {
      "text/html": [
       "<div>\n",
       "<style scoped>\n",
       "    .dataframe tbody tr th:only-of-type {\n",
       "        vertical-align: middle;\n",
       "    }\n",
       "\n",
       "    .dataframe tbody tr th {\n",
       "        vertical-align: top;\n",
       "    }\n",
       "\n",
       "    .dataframe thead th {\n",
       "        text-align: right;\n",
       "    }\n",
       "</style>\n",
       "<table border=\"1\" class=\"dataframe\">\n",
       "  <thead>\n",
       "    <tr style=\"text-align: right;\">\n",
       "      <th>ticker</th>\n",
       "      <th>MTC1-USD</th>\n",
       "      <th>MTC2-USD</th>\n",
       "      <th>JUL-USD</th>\n",
       "      <th>DUN-USD</th>\n",
       "      <th>BPS-USD</th>\n",
       "      <th>GCC1-USD</th>\n",
       "      <th>GCC2-USD</th>\n",
       "      <th>SCC3-USD</th>\n",
       "      <th>SCC4-USD</th>\n",
       "      <th>NVT-USD</th>\n",
       "    </tr>\n",
       "  </thead>\n",
       "  <tbody>\n",
       "    <tr>\n",
       "      <th>2021-01-16</th>\n",
       "      <td>-0.550414</td>\n",
       "      <td>-0.550414</td>\n",
       "      <td>-0.516913</td>\n",
       "      <td>-0.470114</td>\n",
       "      <td>-0.394037</td>\n",
       "      <td>-0.352615</td>\n",
       "      <td>-0.352615</td>\n",
       "      <td>-0.347915</td>\n",
       "      <td>-0.347915</td>\n",
       "      <td>-0.310488</td>\n",
       "    </tr>\n",
       "  </tbody>\n",
       "</table>\n",
       "</div>"
      ],
      "text/plain": [
       "ticker      MTC1-USD  MTC2-USD   JUL-USD   DUN-USD   BPS-USD  GCC1-USD  \\\n",
       "2021-01-16 -0.550414 -0.550414 -0.516913 -0.470114 -0.394037 -0.352615   \n",
       "\n",
       "ticker      GCC2-USD  SCC3-USD  SCC4-USD   NVT-USD  \n",
       "2021-01-16 -0.352615 -0.347915 -0.347915 -0.310488  "
      ]
     },
     "execution_count": 13,
     "metadata": {},
     "output_type": "execute_result"
    }
   ],
   "source": [
    "bottom_portfolio"
   ]
  },
  {
   "cell_type": "code",
   "execution_count": 14,
   "metadata": {},
   "outputs": [
    {
     "data": {
      "text/html": [
       "<div>\n",
       "<style scoped>\n",
       "    .dataframe tbody tr th:only-of-type {\n",
       "        vertical-align: middle;\n",
       "    }\n",
       "\n",
       "    .dataframe tbody tr th {\n",
       "        vertical-align: top;\n",
       "    }\n",
       "\n",
       "    .dataframe thead th {\n",
       "        text-align: right;\n",
       "    }\n",
       "</style>\n",
       "<table border=\"1\" class=\"dataframe\">\n",
       "  <thead>\n",
       "    <tr style=\"text-align: right;\">\n",
       "      <th>ticker</th>\n",
       "      <th>LYNX-USD</th>\n",
       "      <th>AIB-USD</th>\n",
       "      <th>MBC-USD</th>\n",
       "      <th>XRC-USD</th>\n",
       "      <th>CRU-USD</th>\n",
       "      <th>PHA-USD</th>\n",
       "      <th>VIN-USD</th>\n",
       "      <th>VGX-USD</th>\n",
       "      <th>DOT1-USD</th>\n",
       "      <th>DOT2-USD</th>\n",
       "    </tr>\n",
       "  </thead>\n",
       "  <tbody>\n",
       "    <tr>\n",
       "      <th>2021-01-16</th>\n",
       "      <td>5.281575</td>\n",
       "      <td>4.051276</td>\n",
       "      <td>1.73065</td>\n",
       "      <td>1.445965</td>\n",
       "      <td>1.230299</td>\n",
       "      <td>1.080479</td>\n",
       "      <td>0.712248</td>\n",
       "      <td>0.68131</td>\n",
       "      <td>0.659144</td>\n",
       "      <td>0.659144</td>\n",
       "    </tr>\n",
       "  </tbody>\n",
       "</table>\n",
       "</div>"
      ],
      "text/plain": [
       "ticker      LYNX-USD   AIB-USD  MBC-USD   XRC-USD   CRU-USD   PHA-USD  \\\n",
       "2021-01-16  5.281575  4.051276  1.73065  1.445965  1.230299  1.080479   \n",
       "\n",
       "ticker       VIN-USD  VGX-USD  DOT1-USD  DOT2-USD  \n",
       "2021-01-16  0.712248  0.68131  0.659144  0.659144  "
      ]
     },
     "execution_count": 14,
     "metadata": {},
     "output_type": "execute_result"
    }
   ],
   "source": [
    "top_portfolio"
   ]
  },
  {
   "cell_type": "code",
   "execution_count": null,
   "metadata": {},
   "outputs": [],
   "source": []
  },
  {
   "cell_type": "markdown",
   "metadata": {},
   "source": [
    "### Write the Log"
   ]
  },
  {
   "cell_type": "code",
   "execution_count": 15,
   "metadata": {},
   "outputs": [],
   "source": [
    "top_portfolio.to_csv(log_directory+\"top_portfolio\"+end_date+\".csv\")\n",
    "bottom_portfolio.to_csv(log_directory+\"bottom_portfolio\"+end_date+\".csv\")"
   ]
  },
  {
   "cell_type": "code",
   "execution_count": 16,
   "metadata": {},
   "outputs": [
    {
     "data": {
      "text/plain": [
       "'2021-01-16'"
      ]
     },
     "execution_count": 16,
     "metadata": {},
     "output_type": "execute_result"
    }
   ],
   "source": [
    "end_date"
   ]
  },
  {
   "cell_type": "code",
   "execution_count": null,
   "metadata": {},
   "outputs": [],
   "source": []
  },
  {
   "cell_type": "code",
   "execution_count": null,
   "metadata": {},
   "outputs": [],
   "source": []
  },
  {
   "cell_type": "code",
   "execution_count": null,
   "metadata": {},
   "outputs": [],
   "source": []
  },
  {
   "cell_type": "code",
   "execution_count": null,
   "metadata": {},
   "outputs": [],
   "source": []
  },
  {
   "cell_type": "code",
   "execution_count": null,
   "metadata": {},
   "outputs": [],
   "source": []
  },
  {
   "cell_type": "code",
   "execution_count": null,
   "metadata": {},
   "outputs": [],
   "source": []
  },
  {
   "cell_type": "code",
   "execution_count": null,
   "metadata": {},
   "outputs": [],
   "source": []
  },
  {
   "cell_type": "code",
   "execution_count": null,
   "metadata": {},
   "outputs": [],
   "source": []
  },
  {
   "cell_type": "code",
   "execution_count": null,
   "metadata": {},
   "outputs": [],
   "source": []
  },
  {
   "cell_type": "code",
   "execution_count": null,
   "metadata": {},
   "outputs": [],
   "source": []
  },
  {
   "cell_type": "code",
   "execution_count": null,
   "metadata": {},
   "outputs": [],
   "source": []
  },
  {
   "cell_type": "code",
   "execution_count": null,
   "metadata": {},
   "outputs": [],
   "source": []
  },
  {
   "cell_type": "code",
   "execution_count": null,
   "metadata": {},
   "outputs": [],
   "source": []
  },
  {
   "cell_type": "code",
   "execution_count": null,
   "metadata": {},
   "outputs": [],
   "source": []
  },
  {
   "cell_type": "code",
   "execution_count": null,
   "metadata": {},
   "outputs": [],
   "source": []
  },
  {
   "cell_type": "code",
   "execution_count": null,
   "metadata": {},
   "outputs": [],
   "source": []
  }
 ],
 "metadata": {
  "kernelspec": {
   "display_name": "Python 3",
   "language": "python",
   "name": "python3"
  },
  "language_info": {
   "codemirror_mode": {
    "name": "ipython",
    "version": 3
   },
   "file_extension": ".py",
   "mimetype": "text/x-python",
   "name": "python",
   "nbconvert_exporter": "python",
   "pygments_lexer": "ipython3",
   "version": "3.8.5"
  }
 },
 "nbformat": 4,
 "nbformat_minor": 4
}
