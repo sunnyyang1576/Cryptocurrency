{
 "cells": [
  {
   "cell_type": "code",
   "execution_count": null,
   "metadata": {},
   "outputs": [],
   "source": []
  },
  {
   "cell_type": "code",
   "execution_count": 1,
   "metadata": {},
   "outputs": [],
   "source": [
    "import pandas as pd\n",
    "import numpy as np\n",
    "from yahoo_fin.stock_info import get_data\n",
    "import datetime"
   ]
  },
  {
   "cell_type": "code",
   "execution_count": null,
   "metadata": {},
   "outputs": [],
   "source": []
  },
  {
   "cell_type": "code",
   "execution_count": null,
   "metadata": {},
   "outputs": [],
   "source": []
  },
  {
   "cell_type": "markdown",
   "metadata": {},
   "source": [
    "### Defined the directory and model parameter"
   ]
  },
  {
   "cell_type": "code",
   "execution_count": 2,
   "metadata": {},
   "outputs": [],
   "source": [
    "log_directory = \"strategy_log/\"\n",
    "file_directory = \"data/\""
   ]
  },
  {
   "cell_type": "code",
   "execution_count": 3,
   "metadata": {},
   "outputs": [],
   "source": [
    "look_back = 3\n",
    "portfolio_size = 10"
   ]
  },
  {
   "cell_type": "code",
   "execution_count": null,
   "metadata": {},
   "outputs": [],
   "source": []
  },
  {
   "cell_type": "code",
   "execution_count": null,
   "metadata": {},
   "outputs": [],
   "source": []
  },
  {
   "cell_type": "markdown",
   "metadata": {},
   "source": [
    "### Extract the data from Yahoo Finance"
   ]
  },
  {
   "cell_type": "code",
   "execution_count": 4,
   "metadata": {},
   "outputs": [],
   "source": [
    "with open(file_directory+\"yahoo_finance_crypto_list.txt\") as f:\n",
    "    \n",
    "    ticker_list = f.readlines()\n",
    "    \n",
    "    ticker_list = [ticker.strip() for ticker in ticker_list]"
   ]
  },
  {
   "cell_type": "code",
   "execution_count": null,
   "metadata": {},
   "outputs": [],
   "source": []
  },
  {
   "cell_type": "code",
   "execution_count": null,
   "metadata": {},
   "outputs": [],
   "source": []
  },
  {
   "cell_type": "code",
   "execution_count": null,
   "metadata": {},
   "outputs": [],
   "source": []
  },
  {
   "cell_type": "code",
   "execution_count": 5,
   "metadata": {},
   "outputs": [],
   "source": [
    "start_date = \"2021-01-05\"\n",
    "end_date = \"2021-01-18\""
   ]
  },
  {
   "cell_type": "code",
   "execution_count": null,
   "metadata": {},
   "outputs": [],
   "source": [
    "start_date = (datetime.datetime.today()-datetime.timedelta(days=look_back)).strftime(\"%Y-%m-%d\")\n",
    "end_date = (datetime.datetime.today()).strftime(\"%Y-%m-%d\")"
   ]
  },
  {
   "cell_type": "code",
   "execution_count": null,
   "metadata": {},
   "outputs": [],
   "source": []
  },
  {
   "cell_type": "code",
   "execution_count": 6,
   "metadata": {
    "scrolled": true
   },
   "outputs": [
    {
     "name": "stdout",
     "output_type": "stream",
     "text": [
      "Error.\n",
      "Error.\n",
      "Error.\n",
      "Error.\n",
      "Error.\n"
     ]
    }
   ],
   "source": [
    "price_dic = {}\n",
    "error_list = []\n",
    "\n",
    "for ticker in ticker_list:\n",
    "    \n",
    "    try:\n",
    "        price_df = get_data(ticker=ticker,\n",
    "                        start_date=start_date,\n",
    "                        end_date=end_date,\n",
    "                        index_as_date=True,\n",
    "                        interval=\"1d\")\n",
    "        \n",
    "        price_dic[ticker] = price_df\n",
    "    \n",
    "    except:\n",
    "        \n",
    "        print(\"Error.\")\n",
    "        error_list.append(ticker)\n",
    "    \n",
    "    #time.sleep(1)"
   ]
  },
  {
   "cell_type": "code",
   "execution_count": null,
   "metadata": {},
   "outputs": [],
   "source": []
  },
  {
   "cell_type": "code",
   "execution_count": null,
   "metadata": {},
   "outputs": [],
   "source": []
  },
  {
   "cell_type": "code",
   "execution_count": 7,
   "metadata": {},
   "outputs": [],
   "source": [
    "price_df_list = [price_dic[ticker] for ticker in ticker_list if ticker not in error_list]\n",
    "price_df = pd.concat(price_df_list,axis=0)"
   ]
  },
  {
   "cell_type": "code",
   "execution_count": 8,
   "metadata": {},
   "outputs": [
    {
     "data": {
      "text/html": [
       "<div>\n",
       "<style scoped>\n",
       "    .dataframe tbody tr th:only-of-type {\n",
       "        vertical-align: middle;\n",
       "    }\n",
       "\n",
       "    .dataframe tbody tr th {\n",
       "        vertical-align: top;\n",
       "    }\n",
       "\n",
       "    .dataframe thead th {\n",
       "        text-align: right;\n",
       "    }\n",
       "</style>\n",
       "<table border=\"1\" class=\"dataframe\">\n",
       "  <thead>\n",
       "    <tr style=\"text-align: right;\">\n",
       "      <th></th>\n",
       "      <th>open</th>\n",
       "      <th>high</th>\n",
       "      <th>low</th>\n",
       "      <th>close</th>\n",
       "      <th>adjclose</th>\n",
       "      <th>volume</th>\n",
       "      <th>ticker</th>\n",
       "    </tr>\n",
       "  </thead>\n",
       "  <tbody>\n",
       "    <tr>\n",
       "      <th>2021-01-05</th>\n",
       "      <td>31977.041016</td>\n",
       "      <td>34437.589844</td>\n",
       "      <td>30221.187500</td>\n",
       "      <td>33992.429688</td>\n",
       "      <td>33992.429688</td>\n",
       "      <td>6.754732e+10</td>\n",
       "      <td>BTC-USD</td>\n",
       "    </tr>\n",
       "    <tr>\n",
       "      <th>2021-01-06</th>\n",
       "      <td>34013.613281</td>\n",
       "      <td>36879.699219</td>\n",
       "      <td>33514.035156</td>\n",
       "      <td>36824.363281</td>\n",
       "      <td>36824.363281</td>\n",
       "      <td>7.528943e+10</td>\n",
       "      <td>BTC-USD</td>\n",
       "    </tr>\n",
       "    <tr>\n",
       "      <th>2021-01-07</th>\n",
       "      <td>36833.875000</td>\n",
       "      <td>40180.367188</td>\n",
       "      <td>36491.191406</td>\n",
       "      <td>39371.042969</td>\n",
       "      <td>39371.042969</td>\n",
       "      <td>8.476214e+10</td>\n",
       "      <td>BTC-USD</td>\n",
       "    </tr>\n",
       "    <tr>\n",
       "      <th>2021-01-08</th>\n",
       "      <td>39381.765625</td>\n",
       "      <td>41946.738281</td>\n",
       "      <td>36838.636719</td>\n",
       "      <td>40797.609375</td>\n",
       "      <td>40797.609375</td>\n",
       "      <td>8.810752e+10</td>\n",
       "      <td>BTC-USD</td>\n",
       "    </tr>\n",
       "    <tr>\n",
       "      <th>2021-01-09</th>\n",
       "      <td>40788.640625</td>\n",
       "      <td>41436.351562</td>\n",
       "      <td>38980.875000</td>\n",
       "      <td>40254.546875</td>\n",
       "      <td>40254.546875</td>\n",
       "      <td>6.198416e+10</td>\n",
       "      <td>BTC-USD</td>\n",
       "    </tr>\n",
       "    <tr>\n",
       "      <th>...</th>\n",
       "      <td>...</td>\n",
       "      <td>...</td>\n",
       "      <td>...</td>\n",
       "      <td>...</td>\n",
       "      <td>...</td>\n",
       "      <td>...</td>\n",
       "      <td>...</td>\n",
       "    </tr>\n",
       "    <tr>\n",
       "      <th>2021-01-14</th>\n",
       "      <td>0.000000</td>\n",
       "      <td>0.000000</td>\n",
       "      <td>0.000000</td>\n",
       "      <td>0.000000</td>\n",
       "      <td>0.000000</td>\n",
       "      <td>0.000000e+00</td>\n",
       "      <td>RSTR-USD</td>\n",
       "    </tr>\n",
       "    <tr>\n",
       "      <th>2021-01-15</th>\n",
       "      <td>0.000000</td>\n",
       "      <td>0.000000</td>\n",
       "      <td>0.000000</td>\n",
       "      <td>0.000000</td>\n",
       "      <td>0.000000</td>\n",
       "      <td>0.000000e+00</td>\n",
       "      <td>RSTR-USD</td>\n",
       "    </tr>\n",
       "    <tr>\n",
       "      <th>2021-01-16</th>\n",
       "      <td>0.000000</td>\n",
       "      <td>0.000000</td>\n",
       "      <td>0.000000</td>\n",
       "      <td>0.000000</td>\n",
       "      <td>0.000000</td>\n",
       "      <td>0.000000e+00</td>\n",
       "      <td>RSTR-USD</td>\n",
       "    </tr>\n",
       "    <tr>\n",
       "      <th>2021-01-17</th>\n",
       "      <td>0.000000</td>\n",
       "      <td>0.000000</td>\n",
       "      <td>0.000000</td>\n",
       "      <td>0.000000</td>\n",
       "      <td>0.000000</td>\n",
       "      <td>0.000000e+00</td>\n",
       "      <td>RSTR-USD</td>\n",
       "    </tr>\n",
       "    <tr>\n",
       "      <th>2021-01-18</th>\n",
       "      <td>0.000000</td>\n",
       "      <td>0.000000</td>\n",
       "      <td>0.000000</td>\n",
       "      <td>0.000000</td>\n",
       "      <td>0.000000</td>\n",
       "      <td>0.000000e+00</td>\n",
       "      <td>RSTR-USD</td>\n",
       "    </tr>\n",
       "  </tbody>\n",
       "</table>\n",
       "<p>5152 rows × 7 columns</p>\n",
       "</div>"
      ],
      "text/plain": [
       "                    open          high           low         close  \\\n",
       "2021-01-05  31977.041016  34437.589844  30221.187500  33992.429688   \n",
       "2021-01-06  34013.613281  36879.699219  33514.035156  36824.363281   \n",
       "2021-01-07  36833.875000  40180.367188  36491.191406  39371.042969   \n",
       "2021-01-08  39381.765625  41946.738281  36838.636719  40797.609375   \n",
       "2021-01-09  40788.640625  41436.351562  38980.875000  40254.546875   \n",
       "...                  ...           ...           ...           ...   \n",
       "2021-01-14      0.000000      0.000000      0.000000      0.000000   \n",
       "2021-01-15      0.000000      0.000000      0.000000      0.000000   \n",
       "2021-01-16      0.000000      0.000000      0.000000      0.000000   \n",
       "2021-01-17      0.000000      0.000000      0.000000      0.000000   \n",
       "2021-01-18      0.000000      0.000000      0.000000      0.000000   \n",
       "\n",
       "                adjclose        volume    ticker  \n",
       "2021-01-05  33992.429688  6.754732e+10   BTC-USD  \n",
       "2021-01-06  36824.363281  7.528943e+10   BTC-USD  \n",
       "2021-01-07  39371.042969  8.476214e+10   BTC-USD  \n",
       "2021-01-08  40797.609375  8.810752e+10   BTC-USD  \n",
       "2021-01-09  40254.546875  6.198416e+10   BTC-USD  \n",
       "...                  ...           ...       ...  \n",
       "2021-01-14      0.000000  0.000000e+00  RSTR-USD  \n",
       "2021-01-15      0.000000  0.000000e+00  RSTR-USD  \n",
       "2021-01-16      0.000000  0.000000e+00  RSTR-USD  \n",
       "2021-01-17      0.000000  0.000000e+00  RSTR-USD  \n",
       "2021-01-18      0.000000  0.000000e+00  RSTR-USD  \n",
       "\n",
       "[5152 rows x 7 columns]"
      ]
     },
     "execution_count": 8,
     "metadata": {},
     "output_type": "execute_result"
    }
   ],
   "source": [
    "price_df"
   ]
  },
  {
   "cell_type": "markdown",
   "metadata": {},
   "source": [
    "### Filter the universe by average transaction volume"
   ]
  },
  {
   "cell_type": "code",
   "execution_count": null,
   "metadata": {},
   "outputs": [],
   "source": []
  },
  {
   "cell_type": "code",
   "execution_count": 11,
   "metadata": {},
   "outputs": [],
   "source": [
    "average_volume = price_df[[\"volume\",\"ticker\"]].groupby(\"ticker\").mean()\n",
    "volume_threshold = average_volume.describe().loc[\"25%\",:][0]\n",
    "universe_list = list(average_volume[average_volume>volume_threshold].index)"
   ]
  },
  {
   "cell_type": "code",
   "execution_count": null,
   "metadata": {},
   "outputs": [],
   "source": []
  },
  {
   "cell_type": "code",
   "execution_count": 12,
   "metadata": {},
   "outputs": [],
   "source": [
    "price_df_list = [price_dic[ticker] for ticker in universe_list]\n",
    "price_df = pd.concat(price_df_list,axis=0)"
   ]
  },
  {
   "cell_type": "code",
   "execution_count": null,
   "metadata": {},
   "outputs": [],
   "source": []
  },
  {
   "cell_type": "code",
   "execution_count": null,
   "metadata": {},
   "outputs": [],
   "source": []
  },
  {
   "cell_type": "markdown",
   "metadata": {},
   "source": [
    "### Calculate Signal"
   ]
  },
  {
   "cell_type": "code",
   "execution_count": 13,
   "metadata": {},
   "outputs": [],
   "source": [
    "price_df[\"date\"] = price_df.index\n",
    "price_wide = price_df.pivot_table(values=\"close\",columns=\"ticker\",index=\"date\")\n",
    "\n",
    "\n",
    "signal = price_wide.pct_change(look_back)\n",
    "signal = signal.iloc[-1,:].dropna()"
   ]
  },
  {
   "cell_type": "code",
   "execution_count": 14,
   "metadata": {},
   "outputs": [
    {
     "data": {
      "text/plain": [
       "ticker\n",
       "ABBC-USD   -0.085530\n",
       "ACH-USD     0.373561\n",
       "ACT-USD     0.019229\n",
       "ADA-USD     0.227738\n",
       "ADK-USD    -0.005630\n",
       "              ...   \n",
       "ZEN-USD     0.290404\n",
       "ZIL-USD     0.182737\n",
       "ZNN-USD    -0.116627\n",
       "ZRX-USD     0.134655\n",
       "ZYN-USD    -0.196423\n",
       "Name: 2021-01-18 00:00:00, Length: 365, dtype: float64"
      ]
     },
     "execution_count": 14,
     "metadata": {},
     "output_type": "execute_result"
    }
   ],
   "source": [
    "signal"
   ]
  },
  {
   "cell_type": "code",
   "execution_count": null,
   "metadata": {},
   "outputs": [],
   "source": []
  },
  {
   "cell_type": "markdown",
   "metadata": {},
   "source": [
    "### Create Portfolios"
   ]
  },
  {
   "cell_type": "code",
   "execution_count": 15,
   "metadata": {},
   "outputs": [],
   "source": [
    "top_portfolio = signal.nlargest(portfolio_size)\n",
    "bottom_portfolio = signal.nsmallest(portfolio_size)\n",
    "\n",
    "top_portfolio = pd.DataFrame(top_portfolio).T\n",
    "bottom_portfolio = pd.DataFrame(bottom_portfolio).T"
   ]
  },
  {
   "cell_type": "code",
   "execution_count": 16,
   "metadata": {},
   "outputs": [
    {
     "data": {
      "text/html": [
       "<div>\n",
       "<style scoped>\n",
       "    .dataframe tbody tr th:only-of-type {\n",
       "        vertical-align: middle;\n",
       "    }\n",
       "\n",
       "    .dataframe tbody tr th {\n",
       "        vertical-align: top;\n",
       "    }\n",
       "\n",
       "    .dataframe thead th {\n",
       "        text-align: right;\n",
       "    }\n",
       "</style>\n",
       "<table border=\"1\" class=\"dataframe\">\n",
       "  <thead>\n",
       "    <tr style=\"text-align: right;\">\n",
       "      <th>ticker</th>\n",
       "      <th>AIB-USD</th>\n",
       "      <th>COMP1-USD</th>\n",
       "      <th>COMP2-USD</th>\n",
       "      <th>COLX-USD</th>\n",
       "      <th>MINT-USD</th>\n",
       "      <th>DUN-USD</th>\n",
       "      <th>VIN-USD</th>\n",
       "      <th>BST-USD</th>\n",
       "      <th>ECA-USD</th>\n",
       "      <th>ARRR-USD</th>\n",
       "    </tr>\n",
       "  </thead>\n",
       "  <tbody>\n",
       "    <tr>\n",
       "      <th>2021-01-18</th>\n",
       "      <td>-0.785313</td>\n",
       "      <td>-0.678571</td>\n",
       "      <td>-0.678571</td>\n",
       "      <td>-0.665739</td>\n",
       "      <td>-0.502512</td>\n",
       "      <td>-0.484271</td>\n",
       "      <td>-0.436422</td>\n",
       "      <td>-0.418341</td>\n",
       "      <td>-0.347175</td>\n",
       "      <td>-0.333798</td>\n",
       "    </tr>\n",
       "  </tbody>\n",
       "</table>\n",
       "</div>"
      ],
      "text/plain": [
       "ticker       AIB-USD  COMP1-USD  COMP2-USD  COLX-USD  MINT-USD   DUN-USD  \\\n",
       "2021-01-18 -0.785313  -0.678571  -0.678571 -0.665739 -0.502512 -0.484271   \n",
       "\n",
       "ticker       VIN-USD   BST-USD   ECA-USD  ARRR-USD  \n",
       "2021-01-18 -0.436422 -0.418341 -0.347175 -0.333798  "
      ]
     },
     "execution_count": 16,
     "metadata": {},
     "output_type": "execute_result"
    }
   ],
   "source": [
    "bottom_portfolio"
   ]
  },
  {
   "cell_type": "code",
   "execution_count": 17,
   "metadata": {},
   "outputs": [
    {
     "data": {
      "text/html": [
       "<div>\n",
       "<style scoped>\n",
       "    .dataframe tbody tr th:only-of-type {\n",
       "        vertical-align: middle;\n",
       "    }\n",
       "\n",
       "    .dataframe tbody tr th {\n",
       "        vertical-align: top;\n",
       "    }\n",
       "\n",
       "    .dataframe thead th {\n",
       "        text-align: right;\n",
       "    }\n",
       "</style>\n",
       "<table border=\"1\" class=\"dataframe\">\n",
       "  <thead>\n",
       "    <tr style=\"text-align: right;\">\n",
       "      <th>ticker</th>\n",
       "      <th>ALIAS-USD</th>\n",
       "      <th>MTC1-USD</th>\n",
       "      <th>MTC2-USD</th>\n",
       "      <th>BONO-USD</th>\n",
       "      <th>PHA-USD</th>\n",
       "      <th>VERI-USD</th>\n",
       "      <th>RBY-USD</th>\n",
       "      <th>GCC1-USD</th>\n",
       "      <th>GCC2-USD</th>\n",
       "      <th>MBC-USD</th>\n",
       "    </tr>\n",
       "  </thead>\n",
       "  <tbody>\n",
       "    <tr>\n",
       "      <th>2021-01-18</th>\n",
       "      <td>1.996485</td>\n",
       "      <td>1.579798</td>\n",
       "      <td>1.579798</td>\n",
       "      <td>1.261967</td>\n",
       "      <td>1.219795</td>\n",
       "      <td>0.967632</td>\n",
       "      <td>0.890407</td>\n",
       "      <td>0.799602</td>\n",
       "      <td>0.799602</td>\n",
       "      <td>0.788112</td>\n",
       "    </tr>\n",
       "  </tbody>\n",
       "</table>\n",
       "</div>"
      ],
      "text/plain": [
       "ticker      ALIAS-USD  MTC1-USD  MTC2-USD  BONO-USD   PHA-USD  VERI-USD  \\\n",
       "2021-01-18   1.996485  1.579798  1.579798  1.261967  1.219795  0.967632   \n",
       "\n",
       "ticker       RBY-USD  GCC1-USD  GCC2-USD   MBC-USD  \n",
       "2021-01-18  0.890407  0.799602  0.799602  0.788112  "
      ]
     },
     "execution_count": 17,
     "metadata": {},
     "output_type": "execute_result"
    }
   ],
   "source": [
    "top_portfolio"
   ]
  },
  {
   "cell_type": "code",
   "execution_count": null,
   "metadata": {},
   "outputs": [],
   "source": []
  },
  {
   "cell_type": "markdown",
   "metadata": {},
   "source": [
    "### Write the Log"
   ]
  },
  {
   "cell_type": "code",
   "execution_count": 19,
   "metadata": {},
   "outputs": [],
   "source": [
    "top_portfolio.to_csv(log_directory+\"top_portfolio\"+end_date+\".csv\")\n",
    "bottom_portfolio.to_csv(log_directory+\"bottom_portfolio\"+end_date+\".csv\")"
   ]
  },
  {
   "cell_type": "code",
   "execution_count": 18,
   "metadata": {},
   "outputs": [
    {
     "data": {
      "text/plain": [
       "'2021-01-18'"
      ]
     },
     "execution_count": 18,
     "metadata": {},
     "output_type": "execute_result"
    }
   ],
   "source": [
    "end_date"
   ]
  },
  {
   "cell_type": "code",
   "execution_count": null,
   "metadata": {},
   "outputs": [],
   "source": []
  },
  {
   "cell_type": "code",
   "execution_count": null,
   "metadata": {},
   "outputs": [],
   "source": []
  },
  {
   "cell_type": "code",
   "execution_count": null,
   "metadata": {},
   "outputs": [],
   "source": []
  },
  {
   "cell_type": "code",
   "execution_count": null,
   "metadata": {},
   "outputs": [],
   "source": []
  },
  {
   "cell_type": "code",
   "execution_count": null,
   "metadata": {},
   "outputs": [],
   "source": []
  },
  {
   "cell_type": "code",
   "execution_count": null,
   "metadata": {},
   "outputs": [],
   "source": []
  },
  {
   "cell_type": "code",
   "execution_count": null,
   "metadata": {},
   "outputs": [],
   "source": []
  },
  {
   "cell_type": "code",
   "execution_count": null,
   "metadata": {},
   "outputs": [],
   "source": []
  },
  {
   "cell_type": "code",
   "execution_count": null,
   "metadata": {},
   "outputs": [],
   "source": []
  },
  {
   "cell_type": "code",
   "execution_count": null,
   "metadata": {},
   "outputs": [],
   "source": []
  },
  {
   "cell_type": "code",
   "execution_count": null,
   "metadata": {},
   "outputs": [],
   "source": []
  },
  {
   "cell_type": "code",
   "execution_count": null,
   "metadata": {},
   "outputs": [],
   "source": []
  },
  {
   "cell_type": "code",
   "execution_count": null,
   "metadata": {},
   "outputs": [],
   "source": []
  },
  {
   "cell_type": "code",
   "execution_count": null,
   "metadata": {},
   "outputs": [],
   "source": []
  },
  {
   "cell_type": "code",
   "execution_count": null,
   "metadata": {},
   "outputs": [],
   "source": []
  },
  {
   "cell_type": "code",
   "execution_count": null,
   "metadata": {},
   "outputs": [],
   "source": []
  }
 ],
 "metadata": {
  "kernelspec": {
   "display_name": "Python 3",
   "language": "python",
   "name": "python3"
  },
  "language_info": {
   "codemirror_mode": {
    "name": "ipython",
    "version": 3
   },
   "file_extension": ".py",
   "mimetype": "text/x-python",
   "name": "python",
   "nbconvert_exporter": "python",
   "pygments_lexer": "ipython3",
   "version": "3.8.5"
  }
 },
 "nbformat": 4,
 "nbformat_minor": 4
}
