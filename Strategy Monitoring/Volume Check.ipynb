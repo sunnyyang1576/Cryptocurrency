{
 "cells": [
  {
   "cell_type": "code",
   "execution_count": null,
   "metadata": {},
   "outputs": [],
   "source": []
  },
  {
   "cell_type": "code",
   "execution_count": 1,
   "metadata": {},
   "outputs": [],
   "source": [
    "import pandas as pd\n",
    "import numpy as np\n",
    "\n",
    "from yahoo_fin.stock_info import get_data\n",
    "import datetime"
   ]
  },
  {
   "cell_type": "code",
   "execution_count": null,
   "metadata": {},
   "outputs": [],
   "source": []
  },
  {
   "cell_type": "code",
   "execution_count": 87,
   "metadata": {},
   "outputs": [],
   "source": [
    "date_0 = \"2021-01-17\"\n",
    "date_1 = \"2021-01-18\""
   ]
  },
  {
   "cell_type": "code",
   "execution_count": null,
   "metadata": {},
   "outputs": [],
   "source": []
  },
  {
   "cell_type": "code",
   "execution_count": 88,
   "metadata": {},
   "outputs": [],
   "source": [
    "log_directory = \"new_log/\""
   ]
  },
  {
   "cell_type": "code",
   "execution_count": 89,
   "metadata": {},
   "outputs": [],
   "source": [
    "top_port_file = \"top_portfolio{}.csv\".format(date_0)\n",
    "bottom_port_file = \"bottom_portfolio{}.csv\".format(date_0)"
   ]
  },
  {
   "cell_type": "code",
   "execution_count": 90,
   "metadata": {},
   "outputs": [],
   "source": [
    "top_asset = pd.read_csv(log_directory+top_port_file)\n",
    "bottom_asset = pd.read_csv(log_directory+bottom_port_file)"
   ]
  },
  {
   "cell_type": "code",
   "execution_count": null,
   "metadata": {},
   "outputs": [],
   "source": []
  },
  {
   "cell_type": "code",
   "execution_count": 91,
   "metadata": {},
   "outputs": [],
   "source": [
    "bottom_portfolio = list(bottom_asset.columns[1:])\n",
    "top_portfolio = list(top_asset.columns[1:])"
   ]
  },
  {
   "cell_type": "code",
   "execution_count": null,
   "metadata": {},
   "outputs": [],
   "source": []
  },
  {
   "cell_type": "code",
   "execution_count": 92,
   "metadata": {},
   "outputs": [],
   "source": [
    "price_dic = {}\n",
    "error_list = []\n",
    "\n",
    "for ticker in top_portfolio+bottom_portfolio:\n",
    "    \n",
    "    try:\n",
    "        price_df = get_data(ticker=ticker,\n",
    "                        start_date=date_0,\n",
    "                        end_date=date_1,\n",
    "                        index_as_date=True,\n",
    "                        interval=\"1d\")\n",
    "        \n",
    "        price_dic[ticker] = price_df\n",
    "    \n",
    "    except:\n",
    "        \n",
    "        print(\"Error.\")\n",
    "        error_list.append(ticker)"
   ]
  },
  {
   "cell_type": "code",
   "execution_count": null,
   "metadata": {},
   "outputs": [],
   "source": []
  },
  {
   "cell_type": "code",
   "execution_count": 93,
   "metadata": {},
   "outputs": [],
   "source": [
    "top_portfolio_list = [price_dic[ticker] for ticker in top_portfolio]\n",
    "top_portfolio_df = pd.concat(top_portfolio_list,axis=0)\n",
    "\n",
    "bottom_portfolio_list = [price_dic[ticker] for ticker in bottom_portfolio]\n",
    "bottom_portfolio_df = pd.concat(bottom_portfolio_list,axis=0)"
   ]
  },
  {
   "cell_type": "code",
   "execution_count": 94,
   "metadata": {},
   "outputs": [],
   "source": [
    "top_portfolio_df[\"date\"] = top_portfolio_df.index\n",
    "top_portfolio_wide = top_portfolio_df.pivot_table(values=\"close\",columns=\"ticker\",index=\"date\")\n",
    "\n",
    "bottom_portfolio_df[\"date\"] = bottom_portfolio_df.index\n",
    "bottom_portfolio_wide = bottom_portfolio_df.pivot_table(values=\"close\",columns=\"ticker\",index=\"date\")"
   ]
  },
  {
   "cell_type": "code",
   "execution_count": 95,
   "metadata": {},
   "outputs": [],
   "source": [
    "top_portfolio_df[\"date\"] = top_portfolio_df.index\n",
    "top_portfolio_wide_vol = top_portfolio_df.pivot_table(values=\"volume\",columns=\"ticker\",index=\"date\")\n",
    "\n",
    "bottom_portfolio_df[\"date\"] = bottom_portfolio_df.index\n",
    "bottom_portfolio_wide_vol = bottom_portfolio_df.pivot_table(values=\"volume\",columns=\"ticker\",index=\"date\")"
   ]
  },
  {
   "cell_type": "code",
   "execution_count": 96,
   "metadata": {},
   "outputs": [
    {
     "data": {
      "text/plain": [
       "date\n",
       "2021-01-17    0.000000\n",
       "2021-01-18   -0.025411\n",
       "dtype: float64"
      ]
     },
     "execution_count": 96,
     "metadata": {},
     "output_type": "execute_result"
    }
   ],
   "source": [
    "top_portfolio_wide.pct_change().sum(axis=1)/10"
   ]
  },
  {
   "cell_type": "code",
   "execution_count": 97,
   "metadata": {},
   "outputs": [
    {
     "data": {
      "text/html": [
       "<div>\n",
       "<style scoped>\n",
       "    .dataframe tbody tr th:only-of-type {\n",
       "        vertical-align: middle;\n",
       "    }\n",
       "\n",
       "    .dataframe tbody tr th {\n",
       "        vertical-align: top;\n",
       "    }\n",
       "\n",
       "    .dataframe thead th {\n",
       "        text-align: right;\n",
       "    }\n",
       "</style>\n",
       "<table border=\"1\" class=\"dataframe\">\n",
       "  <thead>\n",
       "    <tr style=\"text-align: right;\">\n",
       "      <th>ticker</th>\n",
       "      <th>ANT-USD</th>\n",
       "      <th>AVAX-USD</th>\n",
       "      <th>CRU-USD</th>\n",
       "      <th>IOST-USD</th>\n",
       "      <th>MAN-USD</th>\n",
       "      <th>MASS-USD</th>\n",
       "      <th>PHA-USD</th>\n",
       "      <th>VERI-USD</th>\n",
       "      <th>XRC-USD</th>\n",
       "      <th>XSN-USD</th>\n",
       "    </tr>\n",
       "    <tr>\n",
       "      <th>date</th>\n",
       "      <th></th>\n",
       "      <th></th>\n",
       "      <th></th>\n",
       "      <th></th>\n",
       "      <th></th>\n",
       "      <th></th>\n",
       "      <th></th>\n",
       "      <th></th>\n",
       "      <th></th>\n",
       "      <th></th>\n",
       "    </tr>\n",
       "  </thead>\n",
       "  <tbody>\n",
       "    <tr>\n",
       "      <th>2021-01-17</th>\n",
       "      <td>159133024</td>\n",
       "      <td>303643624</td>\n",
       "      <td>12133857</td>\n",
       "      <td>695936237</td>\n",
       "      <td>250930</td>\n",
       "      <td>1932597</td>\n",
       "      <td>19709480</td>\n",
       "      <td>177432</td>\n",
       "      <td>40475</td>\n",
       "      <td>820463</td>\n",
       "    </tr>\n",
       "    <tr>\n",
       "      <th>2021-01-18</th>\n",
       "      <td>77552939</td>\n",
       "      <td>144213432</td>\n",
       "      <td>3926222</td>\n",
       "      <td>370717469</td>\n",
       "      <td>193135</td>\n",
       "      <td>2340966</td>\n",
       "      <td>24687518</td>\n",
       "      <td>348981</td>\n",
       "      <td>30092</td>\n",
       "      <td>877635</td>\n",
       "    </tr>\n",
       "  </tbody>\n",
       "</table>\n",
       "</div>"
      ],
      "text/plain": [
       "ticker        ANT-USD   AVAX-USD   CRU-USD   IOST-USD  MAN-USD  MASS-USD  \\\n",
       "date                                                                       \n",
       "2021-01-17  159133024  303643624  12133857  695936237   250930   1932597   \n",
       "2021-01-18   77552939  144213432   3926222  370717469   193135   2340966   \n",
       "\n",
       "ticker       PHA-USD  VERI-USD  XRC-USD  XSN-USD  \n",
       "date                                              \n",
       "2021-01-17  19709480    177432    40475   820463  \n",
       "2021-01-18  24687518    348981    30092   877635  "
      ]
     },
     "execution_count": 97,
     "metadata": {},
     "output_type": "execute_result"
    }
   ],
   "source": [
    "top_portfolio_wide_vol"
   ]
  },
  {
   "cell_type": "code",
   "execution_count": 98,
   "metadata": {},
   "outputs": [
    {
     "data": {
      "text/plain": [
       "date\n",
       "2021-01-17    0.000000\n",
       "2021-01-18    0.499075\n",
       "dtype: float64"
      ]
     },
     "execution_count": 98,
     "metadata": {},
     "output_type": "execute_result"
    }
   ],
   "source": [
    "bottom_portfolio_wide.pct_change().sum(axis=1)/10"
   ]
  },
  {
   "cell_type": "code",
   "execution_count": 99,
   "metadata": {},
   "outputs": [
    {
     "data": {
      "text/html": [
       "<div>\n",
       "<style scoped>\n",
       "    .dataframe tbody tr th:only-of-type {\n",
       "        vertical-align: middle;\n",
       "    }\n",
       "\n",
       "    .dataframe tbody tr th {\n",
       "        vertical-align: top;\n",
       "    }\n",
       "\n",
       "    .dataframe thead th {\n",
       "        text-align: right;\n",
       "    }\n",
       "</style>\n",
       "<table border=\"1\" class=\"dataframe\">\n",
       "  <thead>\n",
       "    <tr style=\"text-align: right;\">\n",
       "      <th>ticker</th>\n",
       "      <th>ADK-USD</th>\n",
       "      <th>ARRR-USD</th>\n",
       "      <th>BPS-USD</th>\n",
       "      <th>HYC-USD</th>\n",
       "      <th>MTC1-USD</th>\n",
       "      <th>MTC2-USD</th>\n",
       "      <th>NVT-USD</th>\n",
       "      <th>NYE-USD</th>\n",
       "      <th>PHR-USD</th>\n",
       "      <th>XHV-USD</th>\n",
       "    </tr>\n",
       "    <tr>\n",
       "      <th>date</th>\n",
       "      <th></th>\n",
       "      <th></th>\n",
       "      <th></th>\n",
       "      <th></th>\n",
       "      <th></th>\n",
       "      <th></th>\n",
       "      <th></th>\n",
       "      <th></th>\n",
       "      <th></th>\n",
       "      <th></th>\n",
       "    </tr>\n",
       "  </thead>\n",
       "  <tbody>\n",
       "    <tr>\n",
       "      <th>2021-01-17</th>\n",
       "      <td>1331734</td>\n",
       "      <td>1036597</td>\n",
       "      <td>1824401</td>\n",
       "      <td>854685</td>\n",
       "      <td>315029</td>\n",
       "      <td>315029</td>\n",
       "      <td>176748</td>\n",
       "      <td>15700</td>\n",
       "      <td>29444</td>\n",
       "      <td>300472</td>\n",
       "    </tr>\n",
       "    <tr>\n",
       "      <th>2021-01-18</th>\n",
       "      <td>1654606</td>\n",
       "      <td>819053</td>\n",
       "      <td>1722270</td>\n",
       "      <td>524531</td>\n",
       "      <td>94079</td>\n",
       "      <td>94079</td>\n",
       "      <td>104857</td>\n",
       "      <td>886853</td>\n",
       "      <td>26200</td>\n",
       "      <td>364141</td>\n",
       "    </tr>\n",
       "  </tbody>\n",
       "</table>\n",
       "</div>"
      ],
      "text/plain": [
       "ticker      ADK-USD  ARRR-USD  BPS-USD  HYC-USD  MTC1-USD  MTC2-USD  NVT-USD  \\\n",
       "date                                                                           \n",
       "2021-01-17  1331734   1036597  1824401   854685    315029    315029   176748   \n",
       "2021-01-18  1654606    819053  1722270   524531     94079     94079   104857   \n",
       "\n",
       "ticker      NYE-USD  PHR-USD  XHV-USD  \n",
       "date                                   \n",
       "2021-01-17    15700    29444   300472  \n",
       "2021-01-18   886853    26200   364141  "
      ]
     },
     "execution_count": 99,
     "metadata": {},
     "output_type": "execute_result"
    }
   ],
   "source": [
    "bottom_portfolio_wide_vol"
   ]
  },
  {
   "cell_type": "code",
   "execution_count": null,
   "metadata": {},
   "outputs": [],
   "source": []
  },
  {
   "cell_type": "code",
   "execution_count": null,
   "metadata": {},
   "outputs": [],
   "source": []
  },
  {
   "cell_type": "code",
   "execution_count": null,
   "metadata": {},
   "outputs": [],
   "source": []
  },
  {
   "cell_type": "code",
   "execution_count": null,
   "metadata": {},
   "outputs": [],
   "source": []
  },
  {
   "cell_type": "code",
   "execution_count": null,
   "metadata": {},
   "outputs": [],
   "source": []
  }
 ],
 "metadata": {
  "kernelspec": {
   "display_name": "Python 3",
   "language": "python",
   "name": "python3"
  },
  "language_info": {
   "codemirror_mode": {
    "name": "ipython",
    "version": 3
   },
   "file_extension": ".py",
   "mimetype": "text/x-python",
   "name": "python",
   "nbconvert_exporter": "python",
   "pygments_lexer": "ipython3",
   "version": "3.8.5"
  }
 },
 "nbformat": 4,
 "nbformat_minor": 4
}
