{
 "cells": [
  {
   "cell_type": "code",
   "execution_count": null,
   "metadata": {},
   "outputs": [],
   "source": []
  },
  {
   "cell_type": "code",
   "execution_count": 1,
   "metadata": {},
   "outputs": [],
   "source": [
    "import pandas as pd\n",
    "import numpy as np\n",
    "from yahoo_fin.stock_info import get_data\n",
    "import datetime"
   ]
  },
  {
   "cell_type": "code",
   "execution_count": null,
   "metadata": {},
   "outputs": [],
   "source": []
  },
  {
   "cell_type": "code",
   "execution_count": 2,
   "metadata": {},
   "outputs": [],
   "source": [
    "log_directory = \"strategy_log/\"\n",
    "file_directory = \"data/\""
   ]
  },
  {
   "cell_type": "code",
   "execution_count": null,
   "metadata": {},
   "outputs": [],
   "source": []
  },
  {
   "cell_type": "markdown",
   "metadata": {},
   "source": [
    "### Get Previous Day Portfolio"
   ]
  },
  {
   "cell_type": "code",
   "execution_count": null,
   "metadata": {},
   "outputs": [],
   "source": []
  },
  {
   "cell_type": "code",
   "execution_count": 3,
   "metadata": {},
   "outputs": [],
   "source": [
    "bottom_portfolio = pd.read_csv(log_directory+\"bottom_portfolio2021-01-16.csv\")\n",
    "top_portfolio = pd.read_csv(log_directory+\"top_portfolio2021-01-16.csv\")"
   ]
  },
  {
   "cell_type": "code",
   "execution_count": null,
   "metadata": {},
   "outputs": [],
   "source": []
  },
  {
   "cell_type": "code",
   "execution_count": 4,
   "metadata": {},
   "outputs": [],
   "source": [
    "bottom_portfolio = list(bottom_portfolio.columns[1:])\n",
    "top_portfolio = list(top_portfolio.columns[1:])"
   ]
  },
  {
   "cell_type": "code",
   "execution_count": 5,
   "metadata": {},
   "outputs": [
    {
     "data": {
      "text/plain": [
       "['MTC1-USD',\n",
       " 'MTC2-USD',\n",
       " 'JUL-USD',\n",
       " 'DUN-USD',\n",
       " 'BPS-USD',\n",
       " 'GCC1-USD',\n",
       " 'GCC2-USD',\n",
       " 'SCC3-USD',\n",
       " 'SCC4-USD',\n",
       " 'NVT-USD']"
      ]
     },
     "execution_count": 5,
     "metadata": {},
     "output_type": "execute_result"
    }
   ],
   "source": [
    "bottom_portfolio"
   ]
  },
  {
   "cell_type": "code",
   "execution_count": 6,
   "metadata": {},
   "outputs": [
    {
     "data": {
      "text/plain": [
       "['LYNX-USD',\n",
       " 'AIB-USD',\n",
       " 'MBC-USD',\n",
       " 'XRC-USD',\n",
       " 'CRU-USD',\n",
       " 'PHA-USD',\n",
       " 'VIN-USD',\n",
       " 'VGX-USD',\n",
       " 'DOT1-USD',\n",
       " 'DOT2-USD']"
      ]
     },
     "execution_count": 6,
     "metadata": {},
     "output_type": "execute_result"
    }
   ],
   "source": [
    "top_portfolio"
   ]
  },
  {
   "cell_type": "code",
   "execution_count": null,
   "metadata": {},
   "outputs": [],
   "source": []
  },
  {
   "cell_type": "code",
   "execution_count": 26,
   "metadata": {},
   "outputs": [],
   "source": [
    "start_date = (datetime.datetime.today()-datetime.timedelta(days=2)).strftime(\"%Y-%m-%d\")\n",
    "end_date = (datetime.datetime.today()).strftime(\"%Y-%m-%d\")"
   ]
  },
  {
   "cell_type": "code",
   "execution_count": 7,
   "metadata": {},
   "outputs": [],
   "source": [
    "start_date = \"2021-01-05\"\n",
    "end_date = \"2021-01-17\""
   ]
  },
  {
   "cell_type": "code",
   "execution_count": null,
   "metadata": {},
   "outputs": [],
   "source": []
  },
  {
   "cell_type": "code",
   "execution_count": null,
   "metadata": {},
   "outputs": [],
   "source": []
  },
  {
   "cell_type": "code",
   "execution_count": 8,
   "metadata": {},
   "outputs": [],
   "source": [
    "price_dic = {}\n",
    "error_list = []\n",
    "\n",
    "for ticker in top_portfolio+bottom_portfolio:\n",
    "    \n",
    "    try:\n",
    "        price_df = get_data(ticker=ticker,\n",
    "                        start_date=start_date,\n",
    "                        end_date=end_date,\n",
    "                        index_as_date=True,\n",
    "                        interval=\"1d\")\n",
    "        \n",
    "        price_dic[ticker] = price_df\n",
    "    \n",
    "    except:\n",
    "        \n",
    "        print(\"Error.\")\n",
    "        error_list.append(ticker)"
   ]
  },
  {
   "cell_type": "code",
   "execution_count": 9,
   "metadata": {},
   "outputs": [],
   "source": [
    "top_portfolio_list = [price_dic[ticker] for ticker in top_portfolio]\n",
    "top_portfolio_df = pd.concat(top_portfolio_list,axis=0)\n",
    "\n",
    "bottom_portfolio_list = [price_dic[ticker] for ticker in bottom_portfolio]\n",
    "bottom_portfolio_df = pd.concat(bottom_portfolio_list,axis=0)"
   ]
  },
  {
   "cell_type": "code",
   "execution_count": null,
   "metadata": {},
   "outputs": [],
   "source": []
  },
  {
   "cell_type": "code",
   "execution_count": null,
   "metadata": {},
   "outputs": [],
   "source": []
  },
  {
   "cell_type": "code",
   "execution_count": null,
   "metadata": {},
   "outputs": [],
   "source": []
  },
  {
   "cell_type": "code",
   "execution_count": 10,
   "metadata": {},
   "outputs": [],
   "source": [
    "top_portfolio_df[\"date\"] = top_portfolio_df.index\n",
    "top_portfolio_wide = top_portfolio_df.pivot_table(values=\"close\",columns=\"ticker\",index=\"date\")\n",
    "\n",
    "bottom_portfolio_df[\"date\"] = bottom_portfolio_df.index\n",
    "bottom_portfolio_wide = bottom_portfolio_df.pivot_table(values=\"close\",columns=\"ticker\",index=\"date\")"
   ]
  },
  {
   "cell_type": "code",
   "execution_count": null,
   "metadata": {},
   "outputs": [],
   "source": []
  },
  {
   "cell_type": "code",
   "execution_count": null,
   "metadata": {},
   "outputs": [],
   "source": []
  },
  {
   "cell_type": "code",
   "execution_count": null,
   "metadata": {},
   "outputs": [],
   "source": []
  },
  {
   "cell_type": "code",
   "execution_count": 11,
   "metadata": {},
   "outputs": [],
   "source": [
    "top_return = top_portfolio_wide.pct_change().iloc[-1,:]\n",
    "bottom_return = bottom_portfolio_wide.pct_change().iloc[-1,:]"
   ]
  },
  {
   "cell_type": "code",
   "execution_count": 12,
   "metadata": {},
   "outputs": [
    {
     "data": {
      "text/plain": [
       "count    10.000000\n",
       "mean     -0.105539\n",
       "std       0.123958\n",
       "min      -0.340129\n",
       "25%      -0.159085\n",
       "50%      -0.065794\n",
       "75%      -0.007144\n",
       "max       0.005321\n",
       "Name: 2021-01-17 00:00:00, dtype: float64"
      ]
     },
     "execution_count": 12,
     "metadata": {},
     "output_type": "execute_result"
    }
   ],
   "source": [
    "top_return.describe()"
   ]
  },
  {
   "cell_type": "code",
   "execution_count": 13,
   "metadata": {},
   "outputs": [
    {
     "data": {
      "text/plain": [
       "count    10.000000\n",
       "mean      0.160028\n",
       "std       0.195703\n",
       "min       0.000000\n",
       "25%       0.007249\n",
       "50%       0.076921\n",
       "75%       0.273840\n",
       "max       0.483611\n",
       "Name: 2021-01-17 00:00:00, dtype: float64"
      ]
     },
     "execution_count": 13,
     "metadata": {},
     "output_type": "execute_result"
    }
   ],
   "source": [
    "bottom_return.describe()"
   ]
  },
  {
   "cell_type": "code",
   "execution_count": 14,
   "metadata": {},
   "outputs": [
    {
     "data": {
      "text/plain": [
       "ticker\n",
       "BPS-USD     0.020611\n",
       "DUN-USD     0.319773\n",
       "GCC1-USD    0.483611\n",
       "GCC2-USD    0.483611\n",
       "JUL-USD     0.002796\n",
       "MTC1-USD    0.076921\n",
       "MTC2-USD    0.076921\n",
       "NVT-USD     0.136040\n",
       "SCC3-USD    0.000000\n",
       "SCC4-USD    0.000000\n",
       "Name: 2021-01-17 00:00:00, dtype: float64"
      ]
     },
     "execution_count": 14,
     "metadata": {},
     "output_type": "execute_result"
    }
   ],
   "source": [
    "bottom_return"
   ]
  },
  {
   "cell_type": "code",
   "execution_count": 15,
   "metadata": {},
   "outputs": [
    {
     "data": {
      "text/plain": [
       "ticker\n",
       "AIB-USD    -0.178146\n",
       "CRU-USD    -0.101903\n",
       "DOT1-USD   -0.065794\n",
       "DOT2-USD   -0.065794\n",
       "LYNX-USD   -0.010633\n",
       "MBC-USD    -0.004211\n",
       "PHA-USD     0.005321\n",
       "VGX-USD    -0.005981\n",
       "VIN-USD    -0.340129\n",
       "XRC-USD    -0.288121\n",
       "Name: 2021-01-17 00:00:00, dtype: float64"
      ]
     },
     "execution_count": 15,
     "metadata": {},
     "output_type": "execute_result"
    }
   ],
   "source": [
    "top_return"
   ]
  },
  {
   "cell_type": "code",
   "execution_count": null,
   "metadata": {},
   "outputs": [],
   "source": []
  },
  {
   "cell_type": "code",
   "execution_count": null,
   "metadata": {},
   "outputs": [],
   "source": []
  },
  {
   "cell_type": "code",
   "execution_count": null,
   "metadata": {},
   "outputs": [],
   "source": []
  },
  {
   "cell_type": "code",
   "execution_count": null,
   "metadata": {},
   "outputs": [],
   "source": []
  },
  {
   "cell_type": "code",
   "execution_count": null,
   "metadata": {},
   "outputs": [],
   "source": []
  },
  {
   "cell_type": "code",
   "execution_count": 16,
   "metadata": {},
   "outputs": [
    {
     "data": {
      "text/plain": [
       "'2021-01-17'"
      ]
     },
     "execution_count": 16,
     "metadata": {},
     "output_type": "execute_result"
    }
   ],
   "source": [
    "end_date"
   ]
  },
  {
   "cell_type": "code",
   "execution_count": 17,
   "metadata": {},
   "outputs": [],
   "source": [
    "top_return.to_csv(log_directory+\"_\"+end_date+\"_\"+\"top_portfolio_return.csv\")\n",
    "bottom_return.to_csv(log_directory+\"_\"+end_date+\"_\"+\"bottom_portfolio_return.csv\")"
   ]
  },
  {
   "cell_type": "code",
   "execution_count": null,
   "metadata": {},
   "outputs": [],
   "source": []
  },
  {
   "cell_type": "code",
   "execution_count": null,
   "metadata": {},
   "outputs": [],
   "source": []
  },
  {
   "cell_type": "code",
   "execution_count": null,
   "metadata": {},
   "outputs": [],
   "source": []
  },
  {
   "cell_type": "code",
   "execution_count": null,
   "metadata": {},
   "outputs": [],
   "source": []
  },
  {
   "cell_type": "code",
   "execution_count": null,
   "metadata": {},
   "outputs": [],
   "source": []
  },
  {
   "cell_type": "code",
   "execution_count": null,
   "metadata": {},
   "outputs": [],
   "source": []
  },
  {
   "cell_type": "code",
   "execution_count": null,
   "metadata": {},
   "outputs": [],
   "source": []
  },
  {
   "cell_type": "code",
   "execution_count": null,
   "metadata": {},
   "outputs": [],
   "source": []
  },
  {
   "cell_type": "code",
   "execution_count": null,
   "metadata": {},
   "outputs": [],
   "source": []
  },
  {
   "cell_type": "code",
   "execution_count": null,
   "metadata": {},
   "outputs": [],
   "source": []
  },
  {
   "cell_type": "code",
   "execution_count": null,
   "metadata": {},
   "outputs": [],
   "source": []
  },
  {
   "cell_type": "code",
   "execution_count": null,
   "metadata": {},
   "outputs": [],
   "source": []
  }
 ],
 "metadata": {
  "kernelspec": {
   "display_name": "Python 3",
   "language": "python",
   "name": "python3"
  },
  "language_info": {
   "codemirror_mode": {
    "name": "ipython",
    "version": 3
   },
   "file_extension": ".py",
   "mimetype": "text/x-python",
   "name": "python",
   "nbconvert_exporter": "python",
   "pygments_lexer": "ipython3",
   "version": "3.8.5"
  }
 },
 "nbformat": 4,
 "nbformat_minor": 4
}
