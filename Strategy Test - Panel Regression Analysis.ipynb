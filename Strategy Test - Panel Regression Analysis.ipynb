{
 "cells": [
  {
   "cell_type": "code",
   "execution_count": null,
   "metadata": {},
   "outputs": [],
   "source": []
  },
  {
   "cell_type": "markdown",
   "metadata": {},
   "source": [
    "### Import Library"
   ]
  },
  {
   "cell_type": "code",
   "execution_count": null,
   "metadata": {},
   "outputs": [],
   "source": []
  },
  {
   "cell_type": "code",
   "execution_count": 1,
   "metadata": {},
   "outputs": [],
   "source": [
    "import pandas as pd\n",
    "import numpy as np\n",
    "from linearmodels import PanelOLS,FamaMacBeth"
   ]
  },
  {
   "cell_type": "code",
   "execution_count": 2,
   "metadata": {},
   "outputs": [],
   "source": [
    "import statsmodels.api as sm"
   ]
  },
  {
   "cell_type": "code",
   "execution_count": null,
   "metadata": {},
   "outputs": [],
   "source": []
  },
  {
   "cell_type": "markdown",
   "metadata": {},
   "source": [
    "### Import Data"
   ]
  },
  {
   "cell_type": "code",
   "execution_count": null,
   "metadata": {},
   "outputs": [],
   "source": []
  },
  {
   "cell_type": "code",
   "execution_count": 3,
   "metadata": {},
   "outputs": [],
   "source": [
    "data_directory = \"data/\"\n",
    "file = \"yahoo_data_filter_0_1.csv\""
   ]
  },
  {
   "cell_type": "code",
   "execution_count": null,
   "metadata": {},
   "outputs": [],
   "source": []
  },
  {
   "cell_type": "code",
   "execution_count": 4,
   "metadata": {},
   "outputs": [],
   "source": [
    "df = pd.read_csv(data_directory + file)\n",
    "df[\"date\"] = pd.to_datetime(df[\"date\"])\n",
    "df = df.set_index(\"date\")"
   ]
  },
  {
   "cell_type": "code",
   "execution_count": null,
   "metadata": {},
   "outputs": [],
   "source": []
  },
  {
   "cell_type": "code",
   "execution_count": null,
   "metadata": {},
   "outputs": [],
   "source": []
  },
  {
   "cell_type": "markdown",
   "metadata": {},
   "source": [
    "### Calculate the momentun signal"
   ]
  },
  {
   "cell_type": "code",
   "execution_count": 5,
   "metadata": {},
   "outputs": [],
   "source": [
    "universe_df = df"
   ]
  },
  {
   "cell_type": "code",
   "execution_count": 6,
   "metadata": {},
   "outputs": [],
   "source": [
    "momentum_period = 5\n",
    "waiting_time = 1"
   ]
  },
  {
   "cell_type": "code",
   "execution_count": 7,
   "metadata": {},
   "outputs": [],
   "source": [
    "complete_ret_sub_df = universe_df.pct_change(periods=momentum_period).shift(waiting_time).dropna()"
   ]
  },
  {
   "cell_type": "code",
   "execution_count": 8,
   "metadata": {},
   "outputs": [],
   "source": [
    "complete_ret_sub_df_long = complete_ret_sub_df.stack()"
   ]
  },
  {
   "cell_type": "code",
   "execution_count": null,
   "metadata": {},
   "outputs": [],
   "source": []
  },
  {
   "cell_type": "markdown",
   "metadata": {},
   "source": [
    "### Create the future return"
   ]
  },
  {
   "cell_type": "code",
   "execution_count": 9,
   "metadata": {},
   "outputs": [],
   "source": [
    "future_return_days = 1"
   ]
  },
  {
   "cell_type": "code",
   "execution_count": 10,
   "metadata": {},
   "outputs": [],
   "source": [
    "future_return_df = universe_df.pct_change(future_return_days).shift(-(future_return_days-1))"
   ]
  },
  {
   "cell_type": "code",
   "execution_count": 11,
   "metadata": {},
   "outputs": [],
   "source": [
    "future_return_df_long = future_return_df.stack()"
   ]
  },
  {
   "cell_type": "code",
   "execution_count": null,
   "metadata": {},
   "outputs": [],
   "source": []
  },
  {
   "cell_type": "markdown",
   "metadata": {},
   "source": [
    "### Merge Return with Signal"
   ]
  },
  {
   "cell_type": "code",
   "execution_count": 12,
   "metadata": {},
   "outputs": [],
   "source": [
    "future_return_df_long = pd.DataFrame(future_return_df_long)\n",
    "complete_ret_sub_df_long = pd.DataFrame(complete_ret_sub_df_long)"
   ]
  },
  {
   "cell_type": "code",
   "execution_count": 13,
   "metadata": {},
   "outputs": [],
   "source": [
    "future_return_df_long.columns = [\"target\"]\n",
    "complete_ret_sub_df_long.columns = [\"signal\"]"
   ]
  },
  {
   "cell_type": "code",
   "execution_count": 14,
   "metadata": {},
   "outputs": [],
   "source": [
    "merge_df = future_return_df_long.merge(complete_ret_sub_df_long,left_index=True,right_index=True)"
   ]
  },
  {
   "cell_type": "code",
   "execution_count": null,
   "metadata": {},
   "outputs": [],
   "source": []
  },
  {
   "cell_type": "code",
   "execution_count": 15,
   "metadata": {},
   "outputs": [],
   "source": [
    "index_df = merge_df.index.to_frame()\n",
    "index_df.columns = [\"date\",\"asset\"]\n",
    "index_df[\"target\"] = merge_df[\"target\"]\n",
    "index_df[\"signal\"] = merge_df[\"signal\"]\n",
    "index_df.index = range(0,index_df.shape[0])"
   ]
  },
  {
   "cell_type": "code",
   "execution_count": 16,
   "metadata": {},
   "outputs": [],
   "source": [
    "merge_df = index_df"
   ]
  },
  {
   "cell_type": "code",
   "execution_count": 17,
   "metadata": {},
   "outputs": [],
   "source": [
    "merge_df = merge_df.set_index([\"asset\",\"date\"])"
   ]
  },
  {
   "cell_type": "code",
   "execution_count": null,
   "metadata": {},
   "outputs": [],
   "source": []
  },
  {
   "cell_type": "code",
   "execution_count": null,
   "metadata": {},
   "outputs": [],
   "source": []
  },
  {
   "cell_type": "markdown",
   "metadata": {},
   "source": [
    "### Panel Regression"
   ]
  },
  {
   "cell_type": "code",
   "execution_count": null,
   "metadata": {},
   "outputs": [],
   "source": []
  },
  {
   "cell_type": "code",
   "execution_count": 18,
   "metadata": {},
   "outputs": [],
   "source": [
    "exog_vars = [\"signal\"]\n",
    "depe_var = [\"target\"]\n",
    "exog = sm.add_constant(merge_df[exog_vars])\n",
    "depe = merge_df[depe_var]"
   ]
  },
  {
   "cell_type": "code",
   "execution_count": null,
   "metadata": {},
   "outputs": [],
   "source": []
  },
  {
   "cell_type": "code",
   "execution_count": 19,
   "metadata": {},
   "outputs": [],
   "source": [
    "mod = PanelOLS(depe,exog,entity_effects=True,time_effects=True)"
   ]
  },
  {
   "cell_type": "code",
   "execution_count": 20,
   "metadata": {},
   "outputs": [
    {
     "name": "stderr",
     "output_type": "stream",
     "text": [
      "C:\\app_user_download\\anaconda\\lib\\site-packages\\linearmodels\\panel\\results.py:84: RuntimeWarning: invalid value encountered in sqrt\n",
      "  return Series(np.sqrt(np.diag(self.cov)), self._var_names, name=\"std_error\")\n"
     ]
    },
    {
     "data": {
      "text/html": [
       "<table class=\"simpletable\">\n",
       "<caption>PanelOLS Estimation Summary</caption>\n",
       "<tr>\n",
       "  <th>Dep. Variable:</th>         <td>target</td>      <th>  R-squared:         </th>     <td>0.0007</td>   \n",
       "</tr>\n",
       "<tr>\n",
       "  <th>Estimator:</th>            <td>PanelOLS</td>     <th>  R-squared (Between):</th>    <td>-0.0523</td>  \n",
       "</tr>\n",
       "<tr>\n",
       "  <th>No. Observations:</th>      <td>103645</td>      <th>  R-squared (Within):</th>     <td>0.0004</td>   \n",
       "</tr>\n",
       "<tr>\n",
       "  <th>Date:</th>             <td>Thu, Jan 14 2021</td> <th>  R-squared (Overall):</th>    <td>0.0004</td>   \n",
       "</tr>\n",
       "<tr>\n",
       "  <th>Time:</th>                 <td>21:00:33</td>     <th>  Log-likelihood     </th>    <td>2.83e+04</td>  \n",
       "</tr>\n",
       "<tr>\n",
       "  <th>Cov. Estimator:</th>       <td>Clustered</td>    <th>                     </th>        <td></td>      \n",
       "</tr>\n",
       "<tr>\n",
       "  <th></th>                          <td></td>         <th>  F-statistic:       </th>     <td>73.082</td>   \n",
       "</tr>\n",
       "<tr>\n",
       "  <th>Entities:</th>                <td>95</td>        <th>  P-value            </th>     <td>0.0000</td>   \n",
       "</tr>\n",
       "<tr>\n",
       "  <th>Avg Obs:</th>               <td>1091.0</td>      <th>  Distribution:      </th>   <td>F(1,102459)</td>\n",
       "</tr>\n",
       "<tr>\n",
       "  <th>Min Obs:</th>               <td>1091.0</td>      <th>                     </th>        <td></td>      \n",
       "</tr>\n",
       "<tr>\n",
       "  <th>Max Obs:</th>               <td>1091.0</td>      <th>  F-statistic (robust):</th>   <td>18.335</td>   \n",
       "</tr>\n",
       "<tr>\n",
       "  <th></th>                          <td></td>         <th>  P-value            </th>     <td>0.0000</td>   \n",
       "</tr>\n",
       "<tr>\n",
       "  <th>Time periods:</th>           <td>1091</td>       <th>  Distribution:      </th>   <td>F(1,102459)</td>\n",
       "</tr>\n",
       "<tr>\n",
       "  <th>Avg Obs:</th>               <td>95.000</td>      <th>                     </th>        <td></td>      \n",
       "</tr>\n",
       "<tr>\n",
       "  <th>Min Obs:</th>               <td>95.000</td>      <th>                     </th>        <td></td>      \n",
       "</tr>\n",
       "<tr>\n",
       "  <th>Max Obs:</th>               <td>95.000</td>      <th>                     </th>        <td></td>      \n",
       "</tr>\n",
       "<tr>\n",
       "  <th></th>                          <td></td>         <th>                     </th>        <td></td>      \n",
       "</tr>\n",
       "</table>\n",
       "<table class=\"simpletable\">\n",
       "<caption>Parameter Estimates</caption>\n",
       "<tr>\n",
       "     <td></td>    <th>Parameter</th> <th>Std. Err.</th>  <th>T-stat</th>   <th>P-value</th> <th>Lower CI</th> <th>Upper CI</th>\n",
       "</tr>\n",
       "<tr>\n",
       "  <th>const</th>   <td>0.0009</td>   <td>        </td>  <td>        </td> <td>        </td> <td>        </td> <td>        </td>\n",
       "</tr>\n",
       "<tr>\n",
       "  <th>signal</th>  <td>-0.0194</td>   <td>0.0045</td>    <td>-4.2820</td>  <td>0.0000</td>   <td>-0.0283</td>  <td>-0.0105</td>\n",
       "</tr>\n",
       "</table><br/><br/>F-test for Poolability: 5.9046<br/>P-value: 0.0000<br/>Distribution: F(1184,102459)<br/><br/>Included effects: Entity, Time<br/>id: 0x1e72a1a0dc0"
      ],
      "text/plain": [
       "                          PanelOLS Estimation Summary                           \n",
       "================================================================================\n",
       "Dep. Variable:                 target   R-squared:                        0.0007\n",
       "Estimator:                   PanelOLS   R-squared (Between):             -0.0523\n",
       "No. Observations:              103645   R-squared (Within):               0.0004\n",
       "Date:                Thu, Jan 14 2021   R-squared (Overall):              0.0004\n",
       "Time:                        21:00:33   Log-likelihood                  2.83e+04\n",
       "Cov. Estimator:             Clustered                                           \n",
       "                                        F-statistic:                      73.082\n",
       "Entities:                          95   P-value                           0.0000\n",
       "Avg Obs:                       1091.0   Distribution:                F(1,102459)\n",
       "Min Obs:                       1091.0                                           \n",
       "Max Obs:                       1091.0   F-statistic (robust):             18.335\n",
       "                                        P-value                           0.0000\n",
       "Time periods:                    1091   Distribution:                F(1,102459)\n",
       "Avg Obs:                       95.000                                           \n",
       "Min Obs:                       95.000                                           \n",
       "Max Obs:                       95.000                                           \n",
       "                                                                                \n",
       "                             Parameter Estimates                              \n",
       "==============================================================================\n",
       "            Parameter  Std. Err.     T-stat    P-value    Lower CI    Upper CI\n",
       "------------------------------------------------------------------------------\n",
       "const          0.0009                                                         \n",
       "signal        -0.0194     0.0045    -4.2820     0.0000     -0.0283     -0.0105\n",
       "==============================================================================\n",
       "\n",
       "F-test for Poolability: 5.9046\n",
       "P-value: 0.0000\n",
       "Distribution: F(1184,102459)\n",
       "\n",
       "Included effects: Entity, Time\n",
       "PanelEffectsResults, id: 0x1e72a1a0dc0"
      ]
     },
     "execution_count": 20,
     "metadata": {},
     "output_type": "execute_result"
    }
   ],
   "source": [
    "mod.fit(cov_type=\"clustered\",cluster_entity=True,cluster_time=True)"
   ]
  },
  {
   "cell_type": "code",
   "execution_count": null,
   "metadata": {},
   "outputs": [],
   "source": []
  },
  {
   "cell_type": "code",
   "execution_count": null,
   "metadata": {},
   "outputs": [],
   "source": []
  },
  {
   "cell_type": "code",
   "execution_count": 21,
   "metadata": {},
   "outputs": [],
   "source": [
    "mod = PanelOLS(depe,exog,entity_effects=True,time_effects=True)"
   ]
  },
  {
   "cell_type": "code",
   "execution_count": 22,
   "metadata": {},
   "outputs": [
    {
     "data": {
      "text/html": [
       "<table class=\"simpletable\">\n",
       "<caption>PanelOLS Estimation Summary</caption>\n",
       "<tr>\n",
       "  <th>Dep. Variable:</th>         <td>target</td>      <th>  R-squared:         </th>     <td>0.0007</td>   \n",
       "</tr>\n",
       "<tr>\n",
       "  <th>Estimator:</th>            <td>PanelOLS</td>     <th>  R-squared (Between):</th>    <td>-0.0523</td>  \n",
       "</tr>\n",
       "<tr>\n",
       "  <th>No. Observations:</th>      <td>103645</td>      <th>  R-squared (Within):</th>     <td>0.0004</td>   \n",
       "</tr>\n",
       "<tr>\n",
       "  <th>Date:</th>             <td>Thu, Jan 14 2021</td> <th>  R-squared (Overall):</th>    <td>0.0004</td>   \n",
       "</tr>\n",
       "<tr>\n",
       "  <th>Time:</th>                 <td>21:00:37</td>     <th>  Log-likelihood     </th>    <td>2.83e+04</td>  \n",
       "</tr>\n",
       "<tr>\n",
       "  <th>Cov. Estimator:</th>    <td>Driscoll-Kraay</td>  <th>                     </th>        <td></td>      \n",
       "</tr>\n",
       "<tr>\n",
       "  <th></th>                          <td></td>         <th>  F-statistic:       </th>     <td>73.082</td>   \n",
       "</tr>\n",
       "<tr>\n",
       "  <th>Entities:</th>                <td>95</td>        <th>  P-value            </th>     <td>0.0000</td>   \n",
       "</tr>\n",
       "<tr>\n",
       "  <th>Avg Obs:</th>               <td>1091.0</td>      <th>  Distribution:      </th>   <td>F(1,102459)</td>\n",
       "</tr>\n",
       "<tr>\n",
       "  <th>Min Obs:</th>               <td>1091.0</td>      <th>                     </th>        <td></td>      \n",
       "</tr>\n",
       "<tr>\n",
       "  <th>Max Obs:</th>               <td>1091.0</td>      <th>  F-statistic (robust):</th>   <td>19.586</td>   \n",
       "</tr>\n",
       "<tr>\n",
       "  <th></th>                          <td></td>         <th>  P-value            </th>     <td>0.0000</td>   \n",
       "</tr>\n",
       "<tr>\n",
       "  <th>Time periods:</th>           <td>1091</td>       <th>  Distribution:      </th>   <td>F(1,102459)</td>\n",
       "</tr>\n",
       "<tr>\n",
       "  <th>Avg Obs:</th>               <td>95.000</td>      <th>                     </th>        <td></td>      \n",
       "</tr>\n",
       "<tr>\n",
       "  <th>Min Obs:</th>               <td>95.000</td>      <th>                     </th>        <td></td>      \n",
       "</tr>\n",
       "<tr>\n",
       "  <th>Max Obs:</th>               <td>95.000</td>      <th>                     </th>        <td></td>      \n",
       "</tr>\n",
       "<tr>\n",
       "  <th></th>                          <td></td>         <th>                     </th>        <td></td>      \n",
       "</tr>\n",
       "</table>\n",
       "<table class=\"simpletable\">\n",
       "<caption>Parameter Estimates</caption>\n",
       "<tr>\n",
       "     <td></td>    <th>Parameter</th> <th>Std. Err.</th> <th>T-stat</th>  <th>P-value</th> <th>Lower CI</th> <th>Upper CI</th>\n",
       "</tr>\n",
       "<tr>\n",
       "  <th>const</th>   <td>0.0009</td>   <td>6.705e-07</td> <td>1348.9</td>  <td>0.0000</td>   <td>0.0009</td>   <td>0.0009</td> \n",
       "</tr>\n",
       "<tr>\n",
       "  <th>signal</th>  <td>-0.0194</td>   <td>0.0044</td>   <td>-4.4256</td> <td>0.0000</td>   <td>-0.0280</td>  <td>-0.0108</td>\n",
       "</tr>\n",
       "</table><br/><br/>F-test for Poolability: 5.9046<br/>P-value: 0.0000<br/>Distribution: F(1184,102459)<br/><br/>Included effects: Entity, Time<br/>id: 0x1e72e0dc1f0"
      ],
      "text/plain": [
       "                          PanelOLS Estimation Summary                           \n",
       "================================================================================\n",
       "Dep. Variable:                 target   R-squared:                        0.0007\n",
       "Estimator:                   PanelOLS   R-squared (Between):             -0.0523\n",
       "No. Observations:              103645   R-squared (Within):               0.0004\n",
       "Date:                Thu, Jan 14 2021   R-squared (Overall):              0.0004\n",
       "Time:                        21:00:37   Log-likelihood                  2.83e+04\n",
       "Cov. Estimator:        Driscoll-Kraay                                           \n",
       "                                        F-statistic:                      73.082\n",
       "Entities:                          95   P-value                           0.0000\n",
       "Avg Obs:                       1091.0   Distribution:                F(1,102459)\n",
       "Min Obs:                       1091.0                                           \n",
       "Max Obs:                       1091.0   F-statistic (robust):             19.586\n",
       "                                        P-value                           0.0000\n",
       "Time periods:                    1091   Distribution:                F(1,102459)\n",
       "Avg Obs:                       95.000                                           \n",
       "Min Obs:                       95.000                                           \n",
       "Max Obs:                       95.000                                           \n",
       "                                                                                \n",
       "                             Parameter Estimates                              \n",
       "==============================================================================\n",
       "            Parameter  Std. Err.     T-stat    P-value    Lower CI    Upper CI\n",
       "------------------------------------------------------------------------------\n",
       "const          0.0009  6.705e-07     1348.9     0.0000      0.0009      0.0009\n",
       "signal        -0.0194     0.0044    -4.4256     0.0000     -0.0280     -0.0108\n",
       "==============================================================================\n",
       "\n",
       "F-test for Poolability: 5.9046\n",
       "P-value: 0.0000\n",
       "Distribution: F(1184,102459)\n",
       "\n",
       "Included effects: Entity, Time\n",
       "PanelEffectsResults, id: 0x1e72e0dc1f0"
      ]
     },
     "execution_count": 22,
     "metadata": {},
     "output_type": "execute_result"
    }
   ],
   "source": [
    "mod.fit(cov_type=\"kernel\",kernel=\"parzen\",cluster_entity=True,cluster_time=True)"
   ]
  },
  {
   "cell_type": "code",
   "execution_count": null,
   "metadata": {},
   "outputs": [],
   "source": []
  },
  {
   "cell_type": "code",
   "execution_count": null,
   "metadata": {},
   "outputs": [],
   "source": []
  },
  {
   "cell_type": "markdown",
   "metadata": {},
   "source": [
    "### Fama Macbeth Regression"
   ]
  },
  {
   "cell_type": "code",
   "execution_count": null,
   "metadata": {},
   "outputs": [],
   "source": []
  },
  {
   "cell_type": "code",
   "execution_count": 27,
   "metadata": {},
   "outputs": [],
   "source": [
    "exog_vars = [\"signal\"]\n",
    "depe_var = [\"target\"]\n",
    "exog = sm.add_constant(merge_df[exog_vars])\n",
    "depe = merge_df[depe_var]"
   ]
  },
  {
   "cell_type": "code",
   "execution_count": null,
   "metadata": {},
   "outputs": [],
   "source": []
  },
  {
   "cell_type": "code",
   "execution_count": 28,
   "metadata": {},
   "outputs": [],
   "source": [
    "mod = FamaMacBeth(depe,exog)"
   ]
  },
  {
   "cell_type": "code",
   "execution_count": 34,
   "metadata": {},
   "outputs": [],
   "source": [
    "res = mod.fit(cov_type='kernel',kernel=\"bartlett\")"
   ]
  },
  {
   "cell_type": "code",
   "execution_count": 35,
   "metadata": {},
   "outputs": [
    {
     "data": {
      "text/html": [
       "<table class=\"simpletable\">\n",
       "<caption>FamaMacBeth Estimation Summary</caption>\n",
       "<tr>\n",
       "  <th>Dep. Variable:</th>            <td>target</td>          <th>  R-squared:         </th>   <td>-7.399e-05</td> \n",
       "</tr>\n",
       "<tr>\n",
       "  <th>Estimator:</th>              <td>FamaMacBeth</td>       <th>  R-squared (Between):</th>    <td>-0.1069</td>  \n",
       "</tr>\n",
       "<tr>\n",
       "  <th>No. Observations:</th>         <td>103645</td>          <th>  R-squared (Within):</th>    <td>2.385e-05</td> \n",
       "</tr>\n",
       "<tr>\n",
       "  <th>Date:</th>                <td>Sat, Jan 09 2021</td>     <th>  R-squared (Overall):</th>  <td>-7.399e-05</td> \n",
       "</tr>\n",
       "<tr>\n",
       "  <th>Time:</th>                    <td>16:26:11</td>         <th>  Log-likelihood     </th>    <td>2.486e+04</td> \n",
       "</tr>\n",
       "<tr>\n",
       "  <th>Cov. Estimator:</th>   <td>Fama-MacBeth Kernel Cov</td> <th>                     </th>        <td></td>      \n",
       "</tr>\n",
       "<tr>\n",
       "  <th></th>                             <td></td>             <th>  F-statistic:       </th>     <td>-7.6677</td>  \n",
       "</tr>\n",
       "<tr>\n",
       "  <th>Entities:</th>                   <td>95</td>            <th>  P-value            </th>     <td>1.0000</td>   \n",
       "</tr>\n",
       "<tr>\n",
       "  <th>Avg Obs:</th>                  <td>1091.0</td>          <th>  Distribution:      </th>   <td>F(1,103643)</td>\n",
       "</tr>\n",
       "<tr>\n",
       "  <th>Min Obs:</th>                  <td>1091.0</td>          <th>                     </th>        <td></td>      \n",
       "</tr>\n",
       "<tr>\n",
       "  <th>Max Obs:</th>                  <td>1091.0</td>          <th>  F-statistic (robust):</th>   <td>10.434</td>   \n",
       "</tr>\n",
       "<tr>\n",
       "  <th></th>                             <td></td>             <th>  P-value            </th>     <td>0.0012</td>   \n",
       "</tr>\n",
       "<tr>\n",
       "  <th>Time periods:</th>              <td>1091</td>           <th>  Distribution:      </th>   <td>F(1,103643)</td>\n",
       "</tr>\n",
       "<tr>\n",
       "  <th>Avg Obs:</th>                  <td>95.000</td>          <th>                     </th>        <td></td>      \n",
       "</tr>\n",
       "<tr>\n",
       "  <th>Min Obs:</th>                  <td>95.000</td>          <th>                     </th>        <td></td>      \n",
       "</tr>\n",
       "<tr>\n",
       "  <th>Max Obs:</th>                  <td>95.000</td>          <th>                     </th>        <td></td>      \n",
       "</tr>\n",
       "<tr>\n",
       "  <th></th>                             <td></td>             <th>                     </th>        <td></td>      \n",
       "</tr>\n",
       "</table>\n",
       "<table class=\"simpletable\">\n",
       "<caption>Parameter Estimates</caption>\n",
       "<tr>\n",
       "     <td></td>     <th>Parameter</th> <th>Std. Err.</th> <th>T-stat</th>  <th>P-value</th> <th>Lower CI</th> <th>Upper CI</th>\n",
       "</tr>\n",
       "<tr>\n",
       "  <th>const</th>  <td>-4.135e-05</td>  <td>0.0016</td>   <td>-0.0266</td> <td>0.9788</td>   <td>-0.0031</td>  <td>0.0030</td> \n",
       "</tr>\n",
       "<tr>\n",
       "  <th>signal</th>   <td>-0.0294</td>   <td>0.0091</td>   <td>-3.2302</td> <td>0.0012</td>   <td>-0.0472</td>  <td>-0.0116</td>\n",
       "</tr>\n",
       "</table><br/>id: 0x254c27b1910"
      ],
      "text/plain": [
       "                            FamaMacBeth Estimation Summary                           \n",
       "=====================================================================================\n",
       "Dep. Variable:                      target   R-squared:                    -7.399e-05\n",
       "Estimator:                     FamaMacBeth   R-squared (Between):             -0.1069\n",
       "No. Observations:                   103645   R-squared (Within):            2.385e-05\n",
       "Date:                     Sat, Jan 09 2021   R-squared (Overall):          -7.399e-05\n",
       "Time:                             16:26:11   Log-likelihood                 2.486e+04\n",
       "Cov. Estimator:    Fama-MacBeth Kernel Cov                                           \n",
       "                                             F-statistic:                     -7.6677\n",
       "Entities:                               95   P-value                           1.0000\n",
       "Avg Obs:                            1091.0   Distribution:                F(1,103643)\n",
       "Min Obs:                            1091.0                                           \n",
       "Max Obs:                            1091.0   F-statistic (robust):             10.434\n",
       "                                             P-value                           0.0012\n",
       "Time periods:                         1091   Distribution:                F(1,103643)\n",
       "Avg Obs:                            95.000                                           \n",
       "Min Obs:                            95.000                                           \n",
       "Max Obs:                            95.000                                           \n",
       "                                                                                     \n",
       "                             Parameter Estimates                              \n",
       "==============================================================================\n",
       "            Parameter  Std. Err.     T-stat    P-value    Lower CI    Upper CI\n",
       "------------------------------------------------------------------------------\n",
       "const      -4.135e-05     0.0016    -0.0266     0.9788     -0.0031      0.0030\n",
       "signal        -0.0294     0.0091    -3.2302     0.0012     -0.0472     -0.0116\n",
       "==============================================================================\n",
       "FamaMacBethResults, id: 0x254c27b1910"
      ]
     },
     "execution_count": 35,
     "metadata": {},
     "output_type": "execute_result"
    }
   ],
   "source": [
    "res"
   ]
  },
  {
   "cell_type": "code",
   "execution_count": null,
   "metadata": {},
   "outputs": [],
   "source": []
  },
  {
   "cell_type": "markdown",
   "metadata": {},
   "source": [
    "### Multiple Signal Panel Regression"
   ]
  },
  {
   "cell_type": "markdown",
   "metadata": {},
   "source": [
    "#### Create Multiple Signal "
   ]
  },
  {
   "cell_type": "code",
   "execution_count": 38,
   "metadata": {},
   "outputs": [],
   "source": [
    "momentum_period = 1\n",
    "waiting_time = 1"
   ]
  },
  {
   "cell_type": "code",
   "execution_count": 39,
   "metadata": {},
   "outputs": [],
   "source": [
    "complete_ret_sub_df_s1 = universe_df.pct_change(periods=momentum_period).shift(waiting_time).dropna()\n",
    "complete_ret_sub_df_s1_long = complete_ret_sub_df_s1.stack()"
   ]
  },
  {
   "cell_type": "code",
   "execution_count": 40,
   "metadata": {},
   "outputs": [],
   "source": [
    "momentum_period = 3\n",
    "waiting_time = 1"
   ]
  },
  {
   "cell_type": "code",
   "execution_count": 41,
   "metadata": {},
   "outputs": [],
   "source": [
    "complete_ret_sub_df_s3 = universe_df.pct_change(periods=momentum_period).shift(waiting_time).dropna()\n",
    "complete_ret_sub_df_s3_long = complete_ret_sub_df_s3.stack()"
   ]
  },
  {
   "cell_type": "code",
   "execution_count": 42,
   "metadata": {},
   "outputs": [],
   "source": [
    "momentum_period = 5\n",
    "waiting_time = 1"
   ]
  },
  {
   "cell_type": "code",
   "execution_count": 43,
   "metadata": {},
   "outputs": [],
   "source": [
    "complete_ret_sub_df_s5 = universe_df.pct_change(periods=momentum_period).shift(waiting_time).dropna()\n",
    "complete_ret_sub_df_s5_long = complete_ret_sub_df_s5.stack()"
   ]
  },
  {
   "cell_type": "code",
   "execution_count": 44,
   "metadata": {},
   "outputs": [],
   "source": [
    "momentum_period = 7\n",
    "waiting_time = 1"
   ]
  },
  {
   "cell_type": "code",
   "execution_count": 45,
   "metadata": {},
   "outputs": [],
   "source": [
    "complete_ret_sub_df_s7 = universe_df.pct_change(periods=momentum_period).shift(waiting_time).dropna()\n",
    "complete_ret_sub_df_s7_long = complete_ret_sub_df_s7.stack()"
   ]
  },
  {
   "cell_type": "code",
   "execution_count": null,
   "metadata": {},
   "outputs": [],
   "source": []
  },
  {
   "cell_type": "markdown",
   "metadata": {},
   "source": [
    "#### Create Future Return"
   ]
  },
  {
   "cell_type": "code",
   "execution_count": 46,
   "metadata": {},
   "outputs": [],
   "source": [
    "future_return_days = 1\n",
    "\n",
    "future_return_df = universe_df.pct_change(future_return_days).shift(-(future_return_days-1))\n",
    "future_return_df_long = future_return_df.stack()\n",
    "\n",
    "future_return_df_long = pd.DataFrame(future_return_df_long)"
   ]
  },
  {
   "cell_type": "code",
   "execution_count": null,
   "metadata": {},
   "outputs": [],
   "source": []
  },
  {
   "cell_type": "code",
   "execution_count": null,
   "metadata": {},
   "outputs": [],
   "source": []
  },
  {
   "cell_type": "markdown",
   "metadata": {},
   "source": [
    "#### Merge the dataframe"
   ]
  },
  {
   "cell_type": "code",
   "execution_count": null,
   "metadata": {},
   "outputs": [],
   "source": []
  },
  {
   "cell_type": "code",
   "execution_count": 52,
   "metadata": {},
   "outputs": [],
   "source": [
    "future_return_df_long = pd.DataFrame(future_return_df_long)"
   ]
  },
  {
   "cell_type": "code",
   "execution_count": 51,
   "metadata": {},
   "outputs": [],
   "source": [
    "signal_df = pd.concat([complete_ret_sub_df_s1_long,\n",
    "                       complete_ret_sub_df_s3_long,\n",
    "                       complete_ret_sub_df_s5_long,\n",
    "                       complete_ret_sub_df_s7_long],axis=1)"
   ]
  },
  {
   "cell_type": "code",
   "execution_count": null,
   "metadata": {},
   "outputs": [],
   "source": []
  },
  {
   "cell_type": "code",
   "execution_count": 59,
   "metadata": {},
   "outputs": [],
   "source": [
    "merge_df = future_return_df_long.merge(signal_df,left_index=True,right_index=True)"
   ]
  },
  {
   "cell_type": "code",
   "execution_count": null,
   "metadata": {},
   "outputs": [],
   "source": []
  },
  {
   "cell_type": "code",
   "execution_count": 63,
   "metadata": {},
   "outputs": [],
   "source": [
    "merge_df.columns = [\"target\",\"s1\",\"s3\",\"s5\",\"s7\"]\n",
    "\n",
    "\n",
    "\n",
    "index_df = merge_df.index.to_frame()\n",
    "index_df.columns = [\"date\",\"asset\"]\n",
    "\n",
    "\n",
    "index_df[\"target\"] = merge_df[\"target\"]\n",
    "index_df[\"s1\"] = merge_df[\"s1\"]\n",
    "index_df[\"s3\"] = merge_df[\"s3\"]\n",
    "index_df[\"s5\"] = merge_df[\"s5\"]\n",
    "index_df[\"s7\"] = merge_df[\"s7\"]\n",
    "\n",
    "index_df.index = range(0,index_df.shape[0])"
   ]
  },
  {
   "cell_type": "code",
   "execution_count": null,
   "metadata": {},
   "outputs": [],
   "source": []
  },
  {
   "cell_type": "code",
   "execution_count": 64,
   "metadata": {},
   "outputs": [],
   "source": [
    "merge_df = index_df\n",
    "\n",
    "merge_df = merge_df.set_index([\"asset\",\"date\"])\n",
    "merge_df = merge_df.dropna()"
   ]
  },
  {
   "cell_type": "markdown",
   "metadata": {},
   "source": [
    "#### Panel Regression"
   ]
  },
  {
   "cell_type": "code",
   "execution_count": null,
   "metadata": {},
   "outputs": [],
   "source": []
  },
  {
   "cell_type": "code",
   "execution_count": 69,
   "metadata": {},
   "outputs": [],
   "source": [
    "exog_vars = [\"s1\",\"s3\",\"s5\",\"s7\"]\n",
    "depe_var = [\"target\"]\n",
    "exog = sm.add_constant(merge_df[exog_vars])\n",
    "depe = merge_df[depe_var]"
   ]
  },
  {
   "cell_type": "code",
   "execution_count": null,
   "metadata": {},
   "outputs": [],
   "source": []
  },
  {
   "cell_type": "code",
   "execution_count": 70,
   "metadata": {},
   "outputs": [],
   "source": [
    "mod = PanelOLS(depe,exog,entity_effects=True,time_effects=True)\n",
    "mod.fit(cov_type=\"clustered\",cluster_entity=True,cluster_time=True)"
   ]
  },
  {
   "cell_type": "code",
   "execution_count": null,
   "metadata": {},
   "outputs": [],
   "source": []
  },
  {
   "cell_type": "code",
   "execution_count": null,
   "metadata": {},
   "outputs": [],
   "source": []
  },
  {
   "cell_type": "code",
   "execution_count": 72,
   "metadata": {},
   "outputs": [],
   "source": [
    "mod = PanelOLS(depe,exog,entity_effects=False,time_effects=False)"
   ]
  },
  {
   "cell_type": "code",
   "execution_count": 74,
   "metadata": {},
   "outputs": [
    {
     "data": {
      "text/html": [
       "<table class=\"simpletable\">\n",
       "<caption>PanelOLS Estimation Summary</caption>\n",
       "<tr>\n",
       "  <th>Dep. Variable:</th>         <td>target</td>      <th>  R-squared:         </th>     <td>0.0023</td>   \n",
       "</tr>\n",
       "<tr>\n",
       "  <th>Estimator:</th>            <td>PanelOLS</td>     <th>  R-squared (Between):</th>    <td>-0.0755</td>  \n",
       "</tr>\n",
       "<tr>\n",
       "  <th>No. Observations:</th>      <td>103455</td>      <th>  R-squared (Within):</th>     <td>0.0023</td>   \n",
       "</tr>\n",
       "<tr>\n",
       "  <th>Date:</th>             <td>Thu, Jan 14 2021</td> <th>  R-squared (Overall):</th>    <td>0.0023</td>   \n",
       "</tr>\n",
       "<tr>\n",
       "  <th>Time:</th>                 <td>21:24:22</td>     <th>  Log-likelihood     </th>    <td>2.496e+04</td> \n",
       "</tr>\n",
       "<tr>\n",
       "  <th>Cov. Estimator:</th>       <td>Clustered</td>    <th>                     </th>        <td></td>      \n",
       "</tr>\n",
       "<tr>\n",
       "  <th></th>                          <td></td>         <th>  F-statistic:       </th>     <td>58.860</td>   \n",
       "</tr>\n",
       "<tr>\n",
       "  <th>Entities:</th>                <td>95</td>        <th>  P-value            </th>     <td>0.0000</td>   \n",
       "</tr>\n",
       "<tr>\n",
       "  <th>Avg Obs:</th>               <td>1089.0</td>      <th>  Distribution:      </th>   <td>F(4,103450)</td>\n",
       "</tr>\n",
       "<tr>\n",
       "  <th>Min Obs:</th>               <td>1089.0</td>      <th>                     </th>        <td></td>      \n",
       "</tr>\n",
       "<tr>\n",
       "  <th>Max Obs:</th>               <td>1089.0</td>      <th>  F-statistic (robust):</th>   <td>30.036</td>   \n",
       "</tr>\n",
       "<tr>\n",
       "  <th></th>                          <td></td>         <th>  P-value            </th>     <td>0.0000</td>   \n",
       "</tr>\n",
       "<tr>\n",
       "  <th>Time periods:</th>           <td>1095</td>       <th>  Distribution:      </th>   <td>F(4,103450)</td>\n",
       "</tr>\n",
       "<tr>\n",
       "  <th>Avg Obs:</th>               <td>94.479</td>      <th>                     </th>        <td></td>      \n",
       "</tr>\n",
       "<tr>\n",
       "  <th>Min Obs:</th>               <td>0.0000</td>      <th>                     </th>        <td></td>      \n",
       "</tr>\n",
       "<tr>\n",
       "  <th>Max Obs:</th>               <td>95.000</td>      <th>                     </th>        <td></td>      \n",
       "</tr>\n",
       "<tr>\n",
       "  <th></th>                          <td></td>         <th>                     </th>        <td></td>      \n",
       "</tr>\n",
       "</table>\n",
       "<table class=\"simpletable\">\n",
       "<caption>Parameter Estimates</caption>\n",
       "<tr>\n",
       "    <td></td>    <th>Parameter</th> <th>Std. Err.</th> <th>T-stat</th>  <th>P-value</th> <th>Lower CI</th> <th>Upper CI</th>\n",
       "</tr>\n",
       "<tr>\n",
       "  <th>const</th>  <td>0.0008</td>    <td>0.0015</td>   <td>0.5454</td>  <td>0.5855</td>   <td>-0.0021</td>  <td>0.0036</td> \n",
       "</tr>\n",
       "<tr>\n",
       "  <th>s1</th>     <td>-0.0629</td>   <td>0.0170</td>   <td>-3.6974</td> <td>0.0002</td>   <td>-0.0962</td>  <td>-0.0296</td>\n",
       "</tr>\n",
       "<tr>\n",
       "  <th>s3</th>     <td>-0.0317</td>   <td>0.0181</td>   <td>-1.7523</td> <td>0.0797</td>   <td>-0.0672</td>  <td>0.0038</td> \n",
       "</tr>\n",
       "<tr>\n",
       "  <th>s5</th>     <td>0.0664</td>    <td>0.0392</td>   <td>1.6967</td>  <td>0.0898</td>   <td>-0.0103</td>  <td>0.1432</td> \n",
       "</tr>\n",
       "<tr>\n",
       "  <th>s7</th>     <td>-0.0289</td>   <td>0.0189</td>   <td>-1.5270</td> <td>0.1268</td>   <td>-0.0660</td>  <td>0.0082</td> \n",
       "</tr>\n",
       "</table><br/><br/><br/>id: 0x1e73f383d90"
      ],
      "text/plain": [
       "                          PanelOLS Estimation Summary                           \n",
       "================================================================================\n",
       "Dep. Variable:                 target   R-squared:                        0.0023\n",
       "Estimator:                   PanelOLS   R-squared (Between):             -0.0755\n",
       "No. Observations:              103455   R-squared (Within):               0.0023\n",
       "Date:                Thu, Jan 14 2021   R-squared (Overall):              0.0023\n",
       "Time:                        21:24:22   Log-likelihood                 2.496e+04\n",
       "Cov. Estimator:             Clustered                                           \n",
       "                                        F-statistic:                      58.860\n",
       "Entities:                          95   P-value                           0.0000\n",
       "Avg Obs:                       1089.0   Distribution:                F(4,103450)\n",
       "Min Obs:                       1089.0                                           \n",
       "Max Obs:                       1089.0   F-statistic (robust):             30.036\n",
       "                                        P-value                           0.0000\n",
       "Time periods:                    1095   Distribution:                F(4,103450)\n",
       "Avg Obs:                       94.479                                           \n",
       "Min Obs:                       0.0000                                           \n",
       "Max Obs:                       95.000                                           \n",
       "                                                                                \n",
       "                             Parameter Estimates                              \n",
       "==============================================================================\n",
       "            Parameter  Std. Err.     T-stat    P-value    Lower CI    Upper CI\n",
       "------------------------------------------------------------------------------\n",
       "const          0.0008     0.0015     0.5454     0.5855     -0.0021      0.0036\n",
       "s1            -0.0629     0.0170    -3.6974     0.0002     -0.0962     -0.0296\n",
       "s3            -0.0317     0.0181    -1.7523     0.0797     -0.0672      0.0038\n",
       "s5             0.0664     0.0392     1.6967     0.0898     -0.0103      0.1432\n",
       "s7            -0.0289     0.0189    -1.5270     0.1268     -0.0660      0.0082\n",
       "==============================================================================\n",
       "\n",
       "\n",
       "PanelEffectsResults, id: 0x1e73f383d90"
      ]
     },
     "execution_count": 74,
     "metadata": {},
     "output_type": "execute_result"
    }
   ],
   "source": [
    "mod.fit(cov_type=\"clustered\",cluster_entity=True,cluster_time=True)"
   ]
  },
  {
   "cell_type": "code",
   "execution_count": null,
   "metadata": {},
   "outputs": [],
   "source": []
  },
  {
   "cell_type": "markdown",
   "metadata": {},
   "source": [
    "#### Multiple Fama Macbeth Regression"
   ]
  },
  {
   "cell_type": "code",
   "execution_count": 75,
   "metadata": {},
   "outputs": [],
   "source": [
    "mod = FamaMacBeth(depe,exog)"
   ]
  },
  {
   "cell_type": "code",
   "execution_count": 76,
   "metadata": {},
   "outputs": [],
   "source": [
    "res = mod.fit(cov_type='kernel',kernel=\"bartlett\")"
   ]
  },
  {
   "cell_type": "code",
   "execution_count": 77,
   "metadata": {},
   "outputs": [
    {
     "data": {
      "text/html": [
       "<table class=\"simpletable\">\n",
       "<caption>FamaMacBeth Estimation Summary</caption>\n",
       "<tr>\n",
       "  <th>Dep. Variable:</th>            <td>target</td>          <th>  R-squared:         </th>     <td>-0.0123</td>  \n",
       "</tr>\n",
       "<tr>\n",
       "  <th>Estimator:</th>              <td>FamaMacBeth</td>       <th>  R-squared (Between):</th>    <td>-0.6027</td>  \n",
       "</tr>\n",
       "<tr>\n",
       "  <th>No. Observations:</th>         <td>103455</td>          <th>  R-squared (Within):</th>     <td>-0.0118</td>  \n",
       "</tr>\n",
       "<tr>\n",
       "  <th>Date:</th>                <td>Thu, Jan 14 2021</td>     <th>  R-squared (Overall):</th>    <td>-0.0123</td>  \n",
       "</tr>\n",
       "<tr>\n",
       "  <th>Time:</th>                    <td>21:25:37</td>         <th>  Log-likelihood     </th>    <td>2.421e+04</td> \n",
       "</tr>\n",
       "<tr>\n",
       "  <th>Cov. Estimator:</th>   <td>Fama-MacBeth Kernel Cov</td> <th>                     </th>        <td></td>      \n",
       "</tr>\n",
       "<tr>\n",
       "  <th></th>                             <td></td>             <th>  F-statistic:       </th>     <td>-314.32</td>  \n",
       "</tr>\n",
       "<tr>\n",
       "  <th>Entities:</th>                   <td>95</td>            <th>  P-value            </th>     <td>1.0000</td>   \n",
       "</tr>\n",
       "<tr>\n",
       "  <th>Avg Obs:</th>                  <td>1089.0</td>          <th>  Distribution:      </th>   <td>F(4,103450)</td>\n",
       "</tr>\n",
       "<tr>\n",
       "  <th>Min Obs:</th>                  <td>1089.0</td>          <th>                     </th>        <td></td>      \n",
       "</tr>\n",
       "<tr>\n",
       "  <th>Max Obs:</th>                  <td>1089.0</td>          <th>  F-statistic (robust):</th>   <td>26.607</td>   \n",
       "</tr>\n",
       "<tr>\n",
       "  <th></th>                             <td></td>             <th>  P-value            </th>     <td>0.0000</td>   \n",
       "</tr>\n",
       "<tr>\n",
       "  <th>Time periods:</th>              <td>1095</td>           <th>  Distribution:      </th>   <td>F(4,103450)</td>\n",
       "</tr>\n",
       "<tr>\n",
       "  <th>Avg Obs:</th>                  <td>94.479</td>          <th>                     </th>        <td></td>      \n",
       "</tr>\n",
       "<tr>\n",
       "  <th>Min Obs:</th>                  <td>0.0000</td>          <th>                     </th>        <td></td>      \n",
       "</tr>\n",
       "<tr>\n",
       "  <th>Max Obs:</th>                  <td>95.000</td>          <th>                     </th>        <td></td>      \n",
       "</tr>\n",
       "<tr>\n",
       "  <th></th>                             <td></td>             <th>                     </th>        <td></td>      \n",
       "</tr>\n",
       "</table>\n",
       "<table class=\"simpletable\">\n",
       "<caption>Parameter Estimates</caption>\n",
       "<tr>\n",
       "    <td></td>    <th>Parameter</th> <th>Std. Err.</th> <th>T-stat</th>  <th>P-value</th> <th>Lower CI</th> <th>Upper CI</th>\n",
       "</tr>\n",
       "<tr>\n",
       "  <th>const</th>  <td>-0.0021</td>   <td>0.0018</td>   <td>-1.1654</td> <td>0.2439</td>   <td>-0.0057</td>  <td>0.0014</td> \n",
       "</tr>\n",
       "<tr>\n",
       "  <th>s1</th>     <td>-0.1584</td>   <td>0.0579</td>   <td>-2.7349</td> <td>0.0062</td>   <td>-0.2719</td>  <td>-0.0449</td>\n",
       "</tr>\n",
       "<tr>\n",
       "  <th>s3</th>     <td>-0.0394</td>   <td>0.0136</td>   <td>-2.9003</td> <td>0.0037</td>   <td>-0.0660</td>  <td>-0.0128</td>\n",
       "</tr>\n",
       "<tr>\n",
       "  <th>s5</th>     <td>0.0384</td>    <td>0.0307</td>   <td>1.2476</td>  <td>0.2122</td>   <td>-0.0219</td>  <td>0.0986</td> \n",
       "</tr>\n",
       "<tr>\n",
       "  <th>s7</th>     <td>-0.0090</td>   <td>0.0068</td>   <td>-1.3209</td> <td>0.1865</td>   <td>-0.0224</td>  <td>0.0044</td> \n",
       "</tr>\n",
       "</table><br/>id: 0x1e72e0ff340"
      ],
      "text/plain": [
       "                            FamaMacBeth Estimation Summary                           \n",
       "=====================================================================================\n",
       "Dep. Variable:                      target   R-squared:                       -0.0123\n",
       "Estimator:                     FamaMacBeth   R-squared (Between):             -0.6027\n",
       "No. Observations:                   103455   R-squared (Within):              -0.0118\n",
       "Date:                     Thu, Jan 14 2021   R-squared (Overall):             -0.0123\n",
       "Time:                             21:25:37   Log-likelihood                 2.421e+04\n",
       "Cov. Estimator:    Fama-MacBeth Kernel Cov                                           \n",
       "                                             F-statistic:                     -314.32\n",
       "Entities:                               95   P-value                           1.0000\n",
       "Avg Obs:                            1089.0   Distribution:                F(4,103450)\n",
       "Min Obs:                            1089.0                                           \n",
       "Max Obs:                            1089.0   F-statistic (robust):             26.607\n",
       "                                             P-value                           0.0000\n",
       "Time periods:                         1095   Distribution:                F(4,103450)\n",
       "Avg Obs:                            94.479                                           \n",
       "Min Obs:                            0.0000                                           \n",
       "Max Obs:                            95.000                                           \n",
       "                                                                                     \n",
       "                             Parameter Estimates                              \n",
       "==============================================================================\n",
       "            Parameter  Std. Err.     T-stat    P-value    Lower CI    Upper CI\n",
       "------------------------------------------------------------------------------\n",
       "const         -0.0021     0.0018    -1.1654     0.2439     -0.0057      0.0014\n",
       "s1            -0.1584     0.0579    -2.7349     0.0062     -0.2719     -0.0449\n",
       "s3            -0.0394     0.0136    -2.9003     0.0037     -0.0660     -0.0128\n",
       "s5             0.0384     0.0307     1.2476     0.2122     -0.0219      0.0986\n",
       "s7            -0.0090     0.0068    -1.3209     0.1865     -0.0224      0.0044\n",
       "==============================================================================\n",
       "FamaMacBethResults, id: 0x1e72e0ff340"
      ]
     },
     "execution_count": 77,
     "metadata": {},
     "output_type": "execute_result"
    }
   ],
   "source": [
    "res"
   ]
  },
  {
   "cell_type": "code",
   "execution_count": null,
   "metadata": {},
   "outputs": [],
   "source": []
  },
  {
   "cell_type": "code",
   "execution_count": null,
   "metadata": {},
   "outputs": [],
   "source": []
  },
  {
   "cell_type": "code",
   "execution_count": null,
   "metadata": {},
   "outputs": [],
   "source": []
  },
  {
   "cell_type": "code",
   "execution_count": null,
   "metadata": {},
   "outputs": [],
   "source": []
  },
  {
   "cell_type": "code",
   "execution_count": null,
   "metadata": {},
   "outputs": [],
   "source": []
  },
  {
   "cell_type": "markdown",
   "metadata": {},
   "source": [
    "### Multiple Holding Days"
   ]
  },
  {
   "cell_type": "code",
   "execution_count": 78,
   "metadata": {},
   "outputs": [],
   "source": [
    "future_return_days = 2\n",
    "\n",
    "future_return_df = universe_df.pct_change(future_return_days).shift(-(future_return_days-1))\n",
    "future_return_df_long = future_return_df.stack()\n",
    "\n",
    "future_return_df_long = pd.DataFrame(future_return_df_long)"
   ]
  },
  {
   "cell_type": "code",
   "execution_count": 79,
   "metadata": {},
   "outputs": [],
   "source": [
    "merge_df = future_return_df_long.merge(signal_df,left_index=True,right_index=True)"
   ]
  },
  {
   "cell_type": "code",
   "execution_count": 80,
   "metadata": {},
   "outputs": [
    {
     "data": {
      "text/html": [
       "<div>\n",
       "<style scoped>\n",
       "    .dataframe tbody tr th:only-of-type {\n",
       "        vertical-align: middle;\n",
       "    }\n",
       "\n",
       "    .dataframe tbody tr th {\n",
       "        vertical-align: top;\n",
       "    }\n",
       "\n",
       "    .dataframe thead th {\n",
       "        text-align: right;\n",
       "    }\n",
       "</style>\n",
       "<table border=\"1\" class=\"dataframe\">\n",
       "  <thead>\n",
       "    <tr style=\"text-align: right;\">\n",
       "      <th></th>\n",
       "      <th></th>\n",
       "      <th>0</th>\n",
       "      <th>s1</th>\n",
       "      <th>s3</th>\n",
       "      <th>s5</th>\n",
       "      <th>s7</th>\n",
       "    </tr>\n",
       "    <tr>\n",
       "      <th>date</th>\n",
       "      <th></th>\n",
       "      <th></th>\n",
       "      <th></th>\n",
       "      <th></th>\n",
       "      <th></th>\n",
       "      <th></th>\n",
       "    </tr>\n",
       "  </thead>\n",
       "  <tbody>\n",
       "    <tr>\n",
       "      <th rowspan=\"5\" valign=\"top\">2018-01-02</th>\n",
       "      <th>ADA-USD</th>\n",
       "      <td>0.481712</td>\n",
       "      <td>0.012453</td>\n",
       "      <td>NaN</td>\n",
       "      <td>NaN</td>\n",
       "      <td>NaN</td>\n",
       "    </tr>\n",
       "    <tr>\n",
       "      <th>ADX-USD</th>\n",
       "      <td>-0.080739</td>\n",
       "      <td>0.114517</td>\n",
       "      <td>NaN</td>\n",
       "      <td>NaN</td>\n",
       "      <td>NaN</td>\n",
       "    </tr>\n",
       "    <tr>\n",
       "      <th>AE-USD</th>\n",
       "      <td>0.175440</td>\n",
       "      <td>-0.015999</td>\n",
       "      <td>NaN</td>\n",
       "      <td>NaN</td>\n",
       "      <td>NaN</td>\n",
       "    </tr>\n",
       "    <tr>\n",
       "      <th>ANT-USD</th>\n",
       "      <td>0.532966</td>\n",
       "      <td>0.098899</td>\n",
       "      <td>NaN</td>\n",
       "      <td>NaN</td>\n",
       "      <td>NaN</td>\n",
       "    </tr>\n",
       "    <tr>\n",
       "      <th>ARDR-USD</th>\n",
       "      <td>0.215451</td>\n",
       "      <td>-0.065361</td>\n",
       "      <td>NaN</td>\n",
       "      <td>NaN</td>\n",
       "      <td>NaN</td>\n",
       "    </tr>\n",
       "    <tr>\n",
       "      <th>...</th>\n",
       "      <th>...</th>\n",
       "      <td>...</td>\n",
       "      <td>...</td>\n",
       "      <td>...</td>\n",
       "      <td>...</td>\n",
       "      <td>...</td>\n",
       "    </tr>\n",
       "    <tr>\n",
       "      <th rowspan=\"5\" valign=\"top\">2021-01-02</th>\n",
       "      <th>XVG-USD</th>\n",
       "      <td>0.417309</td>\n",
       "      <td>-0.022395</td>\n",
       "      <td>-0.015002</td>\n",
       "      <td>-0.065067</td>\n",
       "      <td>0.100306</td>\n",
       "    </tr>\n",
       "    <tr>\n",
       "      <th>XZC-USD</th>\n",
       "      <td>-0.045698</td>\n",
       "      <td>-0.094004</td>\n",
       "      <td>-0.056278</td>\n",
       "      <td>-0.142921</td>\n",
       "      <td>-0.056563</td>\n",
       "    </tr>\n",
       "    <tr>\n",
       "      <th>ZEC-USD</th>\n",
       "      <td>0.029607</td>\n",
       "      <td>-0.112465</td>\n",
       "      <td>-0.146453</td>\n",
       "      <td>-0.160452</td>\n",
       "      <td>-0.086150</td>\n",
       "    </tr>\n",
       "    <tr>\n",
       "      <th>ZEN-USD</th>\n",
       "      <td>0.182516</td>\n",
       "      <td>0.018508</td>\n",
       "      <td>0.018827</td>\n",
       "      <td>-0.059865</td>\n",
       "      <td>0.050730</td>\n",
       "    </tr>\n",
       "    <tr>\n",
       "      <th>ZRX-USD</th>\n",
       "      <td>0.019493</td>\n",
       "      <td>0.058472</td>\n",
       "      <td>0.026020</td>\n",
       "      <td>0.004323</td>\n",
       "      <td>0.046617</td>\n",
       "    </tr>\n",
       "  </tbody>\n",
       "</table>\n",
       "<p>103930 rows × 5 columns</p>\n",
       "</div>"
      ],
      "text/plain": [
       "                            0        s1        s3        s5        s7\n",
       "date                                                                 \n",
       "2018-01-02 ADA-USD   0.481712  0.012453       NaN       NaN       NaN\n",
       "           ADX-USD  -0.080739  0.114517       NaN       NaN       NaN\n",
       "           AE-USD    0.175440 -0.015999       NaN       NaN       NaN\n",
       "           ANT-USD   0.532966  0.098899       NaN       NaN       NaN\n",
       "           ARDR-USD  0.215451 -0.065361       NaN       NaN       NaN\n",
       "...                       ...       ...       ...       ...       ...\n",
       "2021-01-02 XVG-USD   0.417309 -0.022395 -0.015002 -0.065067  0.100306\n",
       "           XZC-USD  -0.045698 -0.094004 -0.056278 -0.142921 -0.056563\n",
       "           ZEC-USD   0.029607 -0.112465 -0.146453 -0.160452 -0.086150\n",
       "           ZEN-USD   0.182516  0.018508  0.018827 -0.059865  0.050730\n",
       "           ZRX-USD   0.019493  0.058472  0.026020  0.004323  0.046617\n",
       "\n",
       "[103930 rows x 5 columns]"
      ]
     },
     "execution_count": 80,
     "metadata": {},
     "output_type": "execute_result"
    }
   ],
   "source": [
    "merge_df"
   ]
  },
  {
   "cell_type": "code",
   "execution_count": 81,
   "metadata": {},
   "outputs": [
    {
     "data": {
      "text/html": [
       "<div>\n",
       "<style scoped>\n",
       "    .dataframe tbody tr th:only-of-type {\n",
       "        vertical-align: middle;\n",
       "    }\n",
       "\n",
       "    .dataframe tbody tr th {\n",
       "        vertical-align: top;\n",
       "    }\n",
       "\n",
       "    .dataframe thead th {\n",
       "        text-align: right;\n",
       "    }\n",
       "</style>\n",
       "<table border=\"1\" class=\"dataframe\">\n",
       "  <thead>\n",
       "    <tr style=\"text-align: right;\">\n",
       "      <th></th>\n",
       "      <th></th>\n",
       "      <th>0</th>\n",
       "      <th>s1</th>\n",
       "      <th>s3</th>\n",
       "      <th>s5</th>\n",
       "      <th>s7</th>\n",
       "    </tr>\n",
       "    <tr>\n",
       "      <th>date</th>\n",
       "      <th></th>\n",
       "      <th></th>\n",
       "      <th></th>\n",
       "      <th></th>\n",
       "      <th></th>\n",
       "      <th></th>\n",
       "    </tr>\n",
       "  </thead>\n",
       "  <tbody>\n",
       "    <tr>\n",
       "      <th rowspan=\"5\" valign=\"top\">2018-01-02</th>\n",
       "      <th>ADA-USD</th>\n",
       "      <td>0.481712</td>\n",
       "      <td>0.012453</td>\n",
       "      <td>NaN</td>\n",
       "      <td>NaN</td>\n",
       "      <td>NaN</td>\n",
       "    </tr>\n",
       "    <tr>\n",
       "      <th>ADX-USD</th>\n",
       "      <td>-0.080739</td>\n",
       "      <td>0.114517</td>\n",
       "      <td>NaN</td>\n",
       "      <td>NaN</td>\n",
       "      <td>NaN</td>\n",
       "    </tr>\n",
       "    <tr>\n",
       "      <th>AE-USD</th>\n",
       "      <td>0.175440</td>\n",
       "      <td>-0.015999</td>\n",
       "      <td>NaN</td>\n",
       "      <td>NaN</td>\n",
       "      <td>NaN</td>\n",
       "    </tr>\n",
       "    <tr>\n",
       "      <th>ANT-USD</th>\n",
       "      <td>0.532966</td>\n",
       "      <td>0.098899</td>\n",
       "      <td>NaN</td>\n",
       "      <td>NaN</td>\n",
       "      <td>NaN</td>\n",
       "    </tr>\n",
       "    <tr>\n",
       "      <th>ARDR-USD</th>\n",
       "      <td>0.215451</td>\n",
       "      <td>-0.065361</td>\n",
       "      <td>NaN</td>\n",
       "      <td>NaN</td>\n",
       "      <td>NaN</td>\n",
       "    </tr>\n",
       "    <tr>\n",
       "      <th>...</th>\n",
       "      <th>...</th>\n",
       "      <td>...</td>\n",
       "      <td>...</td>\n",
       "      <td>...</td>\n",
       "      <td>...</td>\n",
       "      <td>...</td>\n",
       "    </tr>\n",
       "    <tr>\n",
       "      <th rowspan=\"5\" valign=\"top\">2021-01-02</th>\n",
       "      <th>XVG-USD</th>\n",
       "      <td>0.417309</td>\n",
       "      <td>-0.022395</td>\n",
       "      <td>-0.015002</td>\n",
       "      <td>-0.065067</td>\n",
       "      <td>0.100306</td>\n",
       "    </tr>\n",
       "    <tr>\n",
       "      <th>XZC-USD</th>\n",
       "      <td>-0.045698</td>\n",
       "      <td>-0.094004</td>\n",
       "      <td>-0.056278</td>\n",
       "      <td>-0.142921</td>\n",
       "      <td>-0.056563</td>\n",
       "    </tr>\n",
       "    <tr>\n",
       "      <th>ZEC-USD</th>\n",
       "      <td>0.029607</td>\n",
       "      <td>-0.112465</td>\n",
       "      <td>-0.146453</td>\n",
       "      <td>-0.160452</td>\n",
       "      <td>-0.086150</td>\n",
       "    </tr>\n",
       "    <tr>\n",
       "      <th>ZEN-USD</th>\n",
       "      <td>0.182516</td>\n",
       "      <td>0.018508</td>\n",
       "      <td>0.018827</td>\n",
       "      <td>-0.059865</td>\n",
       "      <td>0.050730</td>\n",
       "    </tr>\n",
       "    <tr>\n",
       "      <th>ZRX-USD</th>\n",
       "      <td>0.019493</td>\n",
       "      <td>0.058472</td>\n",
       "      <td>0.026020</td>\n",
       "      <td>0.004323</td>\n",
       "      <td>0.046617</td>\n",
       "    </tr>\n",
       "  </tbody>\n",
       "</table>\n",
       "<p>103930 rows × 5 columns</p>\n",
       "</div>"
      ],
      "text/plain": [
       "                            0        s1        s3        s5        s7\n",
       "date                                                                 \n",
       "2018-01-02 ADA-USD   0.481712  0.012453       NaN       NaN       NaN\n",
       "           ADX-USD  -0.080739  0.114517       NaN       NaN       NaN\n",
       "           AE-USD    0.175440 -0.015999       NaN       NaN       NaN\n",
       "           ANT-USD   0.532966  0.098899       NaN       NaN       NaN\n",
       "           ARDR-USD  0.215451 -0.065361       NaN       NaN       NaN\n",
       "...                       ...       ...       ...       ...       ...\n",
       "2021-01-02 XVG-USD   0.417309 -0.022395 -0.015002 -0.065067  0.100306\n",
       "           XZC-USD  -0.045698 -0.094004 -0.056278 -0.142921 -0.056563\n",
       "           ZEC-USD   0.029607 -0.112465 -0.146453 -0.160452 -0.086150\n",
       "           ZEN-USD   0.182516  0.018508  0.018827 -0.059865  0.050730\n",
       "           ZRX-USD   0.019493  0.058472  0.026020  0.004323  0.046617\n",
       "\n",
       "[103930 rows x 5 columns]"
      ]
     },
     "execution_count": 81,
     "metadata": {},
     "output_type": "execute_result"
    }
   ],
   "source": [
    "merge_df"
   ]
  },
  {
   "cell_type": "code",
   "execution_count": 82,
   "metadata": {},
   "outputs": [],
   "source": [
    "merge_df.columns = [\"target\",\"s1\",\"s3\",\"s5\",\"s7\"]\n",
    "\n",
    "\n",
    "\n",
    "index_df = merge_df.index.to_frame()\n",
    "index_df.columns = [\"date\",\"asset\"]\n",
    "\n",
    "\n",
    "index_df[\"target\"] = merge_df[\"target\"]\n",
    "index_df[\"s1\"] = merge_df[\"s1\"]\n",
    "index_df[\"s3\"] = merge_df[\"s3\"]\n",
    "index_df[\"s5\"] = merge_df[\"s5\"]\n",
    "index_df[\"s7\"] = merge_df[\"s7\"]\n",
    "\n",
    "index_df.index = range(0,index_df.shape[0])"
   ]
  },
  {
   "cell_type": "code",
   "execution_count": null,
   "metadata": {},
   "outputs": [],
   "source": []
  },
  {
   "cell_type": "code",
   "execution_count": 83,
   "metadata": {},
   "outputs": [],
   "source": [
    "merge_df = index_df\n",
    "\n",
    "merge_df = merge_df.set_index([\"asset\",\"date\"])\n",
    "merge_df = merge_df.dropna()"
   ]
  },
  {
   "cell_type": "code",
   "execution_count": null,
   "metadata": {},
   "outputs": [],
   "source": []
  },
  {
   "cell_type": "markdown",
   "metadata": {},
   "source": [
    "#### Panel Regression"
   ]
  },
  {
   "cell_type": "code",
   "execution_count": 84,
   "metadata": {},
   "outputs": [],
   "source": [
    "exog_vars = [\"s1\",\"s3\",\"s5\",\"s7\"]\n",
    "depe_var = [\"target\"]\n",
    "exog = sm.add_constant(merge_df[exog_vars])\n",
    "depe = merge_df[depe_var]"
   ]
  },
  {
   "cell_type": "code",
   "execution_count": null,
   "metadata": {},
   "outputs": [],
   "source": []
  },
  {
   "cell_type": "code",
   "execution_count": 85,
   "metadata": {},
   "outputs": [
    {
     "name": "stderr",
     "output_type": "stream",
     "text": [
      "C:\\app_user_download\\anaconda\\lib\\site-packages\\linearmodels\\panel\\results.py:84: RuntimeWarning: invalid value encountered in sqrt\n",
      "  return Series(np.sqrt(np.diag(self.cov)), self._var_names, name=\"std_error\")\n"
     ]
    },
    {
     "data": {
      "text/html": [
       "<table class=\"simpletable\">\n",
       "<caption>PanelOLS Estimation Summary</caption>\n",
       "<tr>\n",
       "  <th>Dep. Variable:</th>         <td>target</td>      <th>  R-squared:         </th>     <td>0.0018</td>   \n",
       "</tr>\n",
       "<tr>\n",
       "  <th>Estimator:</th>            <td>PanelOLS</td>     <th>  R-squared (Between):</th>    <td>-0.0708</td>  \n",
       "</tr>\n",
       "<tr>\n",
       "  <th>No. Observations:</th>      <td>103360</td>      <th>  R-squared (Within):</th>     <td>0.0014</td>   \n",
       "</tr>\n",
       "<tr>\n",
       "  <th>Date:</th>             <td>Thu, Jan 14 2021</td> <th>  R-squared (Overall):</th>    <td>0.0013</td>   \n",
       "</tr>\n",
       "<tr>\n",
       "  <th>Time:</th>                 <td>21:32:21</td>     <th>  Log-likelihood     </th>    <td>4.906e+04</td> \n",
       "</tr>\n",
       "<tr>\n",
       "  <th>Cov. Estimator:</th>       <td>Clustered</td>    <th>                     </th>        <td></td>      \n",
       "</tr>\n",
       "<tr>\n",
       "  <th></th>                          <td></td>         <th>  F-statistic:       </th>     <td>46.153</td>   \n",
       "</tr>\n",
       "<tr>\n",
       "  <th>Entities:</th>                <td>95</td>        <th>  P-value            </th>     <td>0.0000</td>   \n",
       "</tr>\n",
       "<tr>\n",
       "  <th>Avg Obs:</th>               <td>1088.0</td>      <th>  Distribution:      </th>   <td>F(4,102174)</td>\n",
       "</tr>\n",
       "<tr>\n",
       "  <th>Min Obs:</th>               <td>1088.0</td>      <th>                     </th>        <td></td>      \n",
       "</tr>\n",
       "<tr>\n",
       "  <th>Max Obs:</th>               <td>1088.0</td>      <th>  F-statistic (robust):</th>   <td>23.508</td>   \n",
       "</tr>\n",
       "<tr>\n",
       "  <th></th>                          <td></td>         <th>  P-value            </th>     <td>0.0000</td>   \n",
       "</tr>\n",
       "<tr>\n",
       "  <th>Time periods:</th>           <td>1094</td>       <th>  Distribution:      </th>   <td>F(4,102174)</td>\n",
       "</tr>\n",
       "<tr>\n",
       "  <th>Avg Obs:</th>               <td>94.479</td>      <th>                     </th>        <td></td>      \n",
       "</tr>\n",
       "<tr>\n",
       "  <th>Min Obs:</th>               <td>0.0000</td>      <th>                     </th>        <td></td>      \n",
       "</tr>\n",
       "<tr>\n",
       "  <th>Max Obs:</th>               <td>95.000</td>      <th>                     </th>        <td></td>      \n",
       "</tr>\n",
       "<tr>\n",
       "  <th></th>                          <td></td>         <th>                     </th>        <td></td>      \n",
       "</tr>\n",
       "</table>\n",
       "<table class=\"simpletable\">\n",
       "<caption>Parameter Estimates</caption>\n",
       "<tr>\n",
       "    <td></td>    <th>Parameter</th> <th>Std. Err.</th>  <th>T-stat</th>   <th>P-value</th> <th>Lower CI</th> <th>Upper CI</th>\n",
       "</tr>\n",
       "<tr>\n",
       "  <th>const</th>  <td>0.0001</td>   <td>        </td>  <td>        </td> <td>        </td> <td>        </td> <td>        </td>\n",
       "</tr>\n",
       "<tr>\n",
       "  <th>s1</th>     <td>-0.0325</td>   <td>0.0177</td>    <td>-1.8393</td>  <td>0.0659</td>   <td>-0.0672</td>  <td>0.0021</td> \n",
       "</tr>\n",
       "<tr>\n",
       "  <th>s3</th>     <td>0.0048</td>    <td>0.0406</td>    <td>0.1191</td>   <td>0.9052</td>   <td>-0.0748</td>  <td>0.0844</td> \n",
       "</tr>\n",
       "<tr>\n",
       "  <th>s5</th>     <td>-0.0119</td>   <td>0.0545</td>    <td>-0.2182</td>  <td>0.8272</td>   <td>-0.1188</td>  <td>0.0950</td> \n",
       "</tr>\n",
       "<tr>\n",
       "  <th>s7</th>     <td>0.0095</td>    <td>0.0362</td>    <td>0.2621</td>   <td>0.7933</td>   <td>-0.0615</td>  <td>0.0805</td> \n",
       "</tr>\n",
       "</table><br/><br/>F-test for Poolability: 14.734<br/>P-value: 0.0000<br/>Distribution: F(1181,102174)<br/><br/>Included effects: Entity, Time<br/>id: 0x1e73f3a0d90"
      ],
      "text/plain": [
       "                          PanelOLS Estimation Summary                           \n",
       "================================================================================\n",
       "Dep. Variable:                 target   R-squared:                        0.0018\n",
       "Estimator:                   PanelOLS   R-squared (Between):             -0.0708\n",
       "No. Observations:              103360   R-squared (Within):               0.0014\n",
       "Date:                Thu, Jan 14 2021   R-squared (Overall):              0.0013\n",
       "Time:                        21:32:21   Log-likelihood                 4.906e+04\n",
       "Cov. Estimator:             Clustered                                           \n",
       "                                        F-statistic:                      46.153\n",
       "Entities:                          95   P-value                           0.0000\n",
       "Avg Obs:                       1088.0   Distribution:                F(4,102174)\n",
       "Min Obs:                       1088.0                                           \n",
       "Max Obs:                       1088.0   F-statistic (robust):             23.508\n",
       "                                        P-value                           0.0000\n",
       "Time periods:                    1094   Distribution:                F(4,102174)\n",
       "Avg Obs:                       94.479                                           \n",
       "Min Obs:                       0.0000                                           \n",
       "Max Obs:                       95.000                                           \n",
       "                                                                                \n",
       "                             Parameter Estimates                              \n",
       "==============================================================================\n",
       "            Parameter  Std. Err.     T-stat    P-value    Lower CI    Upper CI\n",
       "------------------------------------------------------------------------------\n",
       "const          0.0001                                                         \n",
       "s1            -0.0325     0.0177    -1.8393     0.0659     -0.0672      0.0021\n",
       "s3             0.0048     0.0406     0.1191     0.9052     -0.0748      0.0844\n",
       "s5            -0.0119     0.0545    -0.2182     0.8272     -0.1188      0.0950\n",
       "s7             0.0095     0.0362     0.2621     0.7933     -0.0615      0.0805\n",
       "==============================================================================\n",
       "\n",
       "F-test for Poolability: 14.734\n",
       "P-value: 0.0000\n",
       "Distribution: F(1181,102174)\n",
       "\n",
       "Included effects: Entity, Time\n",
       "PanelEffectsResults, id: 0x1e73f3a0d90"
      ]
     },
     "execution_count": 85,
     "metadata": {},
     "output_type": "execute_result"
    }
   ],
   "source": [
    "mod = PanelOLS(depe,exog,entity_effects=True,time_effects=True)\n",
    "mod.fit(cov_type=\"clustered\",cluster_entity=True,cluster_time=True)"
   ]
  },
  {
   "cell_type": "code",
   "execution_count": 86,
   "metadata": {},
   "outputs": [
    {
     "data": {
      "text/html": [
       "<table class=\"simpletable\">\n",
       "<caption>PanelOLS Estimation Summary</caption>\n",
       "<tr>\n",
       "  <th>Dep. Variable:</th>         <td>target</td>      <th>  R-squared:         </th>     <td>0.0016</td>   \n",
       "</tr>\n",
       "<tr>\n",
       "  <th>Estimator:</th>            <td>PanelOLS</td>     <th>  R-squared (Between):</th>    <td>-0.0573</td>  \n",
       "</tr>\n",
       "<tr>\n",
       "  <th>No. Observations:</th>      <td>103360</td>      <th>  R-squared (Within):</th>     <td>0.0017</td>   \n",
       "</tr>\n",
       "<tr>\n",
       "  <th>Date:</th>             <td>Thu, Jan 14 2021</td> <th>  R-squared (Overall):</th>    <td>0.0016</td>   \n",
       "</tr>\n",
       "<tr>\n",
       "  <th>Time:</th>                 <td>21:33:02</td>     <th>  Log-likelihood     </th>    <td>4.094e+04</td> \n",
       "</tr>\n",
       "<tr>\n",
       "  <th>Cov. Estimator:</th>       <td>Clustered</td>    <th>                     </th>        <td></td>      \n",
       "</tr>\n",
       "<tr>\n",
       "  <th></th>                          <td></td>         <th>  F-statistic:       </th>     <td>41.770</td>   \n",
       "</tr>\n",
       "<tr>\n",
       "  <th>Entities:</th>                <td>95</td>        <th>  P-value            </th>     <td>0.0000</td>   \n",
       "</tr>\n",
       "<tr>\n",
       "  <th>Avg Obs:</th>               <td>1088.0</td>      <th>  Distribution:      </th>   <td>F(4,103355)</td>\n",
       "</tr>\n",
       "<tr>\n",
       "  <th>Min Obs:</th>               <td>1088.0</td>      <th>                     </th>        <td></td>      \n",
       "</tr>\n",
       "<tr>\n",
       "  <th>Max Obs:</th>               <td>1088.0</td>      <th>  F-statistic (robust):</th>   <td>2.5268</td>   \n",
       "</tr>\n",
       "<tr>\n",
       "  <th></th>                          <td></td>         <th>  P-value            </th>     <td>0.0387</td>   \n",
       "</tr>\n",
       "<tr>\n",
       "  <th>Time periods:</th>           <td>1094</td>       <th>  Distribution:      </th>   <td>F(4,103355)</td>\n",
       "</tr>\n",
       "<tr>\n",
       "  <th>Avg Obs:</th>               <td>94.479</td>      <th>                     </th>        <td></td>      \n",
       "</tr>\n",
       "<tr>\n",
       "  <th>Min Obs:</th>               <td>0.0000</td>      <th>                     </th>        <td></td>      \n",
       "</tr>\n",
       "<tr>\n",
       "  <th>Max Obs:</th>               <td>95.000</td>      <th>                     </th>        <td></td>      \n",
       "</tr>\n",
       "<tr>\n",
       "  <th></th>                          <td></td>         <th>                     </th>        <td></td>      \n",
       "</tr>\n",
       "</table>\n",
       "<table class=\"simpletable\">\n",
       "<caption>Parameter Estimates</caption>\n",
       "<tr>\n",
       "    <td></td>    <th>Parameter</th> <th>Std. Err.</th> <th>T-stat</th>  <th>P-value</th> <th>Lower CI</th> <th>Upper CI</th>\n",
       "</tr>\n",
       "<tr>\n",
       "  <th>const</th>  <td>0.0001</td>    <td>0.0019</td>   <td>0.0707</td>  <td>0.9436</td>   <td>-0.0035</td>  <td>0.0038</td> \n",
       "</tr>\n",
       "<tr>\n",
       "  <th>s1</th>     <td>-0.0480</td>   <td>0.0192</td>   <td>-2.4978</td> <td>0.0125</td>   <td>-0.0857</td>  <td>-0.0103</td>\n",
       "</tr>\n",
       "<tr>\n",
       "  <th>s3</th>     <td>-0.0077</td>   <td>0.0367</td>   <td>-0.2112</td> <td>0.8328</td>   <td>-0.0796</td>  <td>0.0641</td> \n",
       "</tr>\n",
       "<tr>\n",
       "  <th>s5</th>     <td>0.0192</td>    <td>0.0484</td>   <td>0.3966</td>  <td>0.6916</td>   <td>-0.0757</td>  <td>0.1141</td> \n",
       "</tr>\n",
       "<tr>\n",
       "  <th>s7</th>     <td>0.0005</td>    <td>0.0321</td>   <td>0.0154</td>  <td>0.9877</td>   <td>-0.0624</td>  <td>0.0634</td> \n",
       "</tr>\n",
       "</table><br/><br/><br/>id: 0x1e73f45c730"
      ],
      "text/plain": [
       "                          PanelOLS Estimation Summary                           \n",
       "================================================================================\n",
       "Dep. Variable:                 target   R-squared:                        0.0016\n",
       "Estimator:                   PanelOLS   R-squared (Between):             -0.0573\n",
       "No. Observations:              103360   R-squared (Within):               0.0017\n",
       "Date:                Thu, Jan 14 2021   R-squared (Overall):              0.0016\n",
       "Time:                        21:33:02   Log-likelihood                 4.094e+04\n",
       "Cov. Estimator:             Clustered                                           \n",
       "                                        F-statistic:                      41.770\n",
       "Entities:                          95   P-value                           0.0000\n",
       "Avg Obs:                       1088.0   Distribution:                F(4,103355)\n",
       "Min Obs:                       1088.0                                           \n",
       "Max Obs:                       1088.0   F-statistic (robust):             2.5268\n",
       "                                        P-value                           0.0387\n",
       "Time periods:                    1094   Distribution:                F(4,103355)\n",
       "Avg Obs:                       94.479                                           \n",
       "Min Obs:                       0.0000                                           \n",
       "Max Obs:                       95.000                                           \n",
       "                                                                                \n",
       "                             Parameter Estimates                              \n",
       "==============================================================================\n",
       "            Parameter  Std. Err.     T-stat    P-value    Lower CI    Upper CI\n",
       "------------------------------------------------------------------------------\n",
       "const          0.0001     0.0019     0.0707     0.9436     -0.0035      0.0038\n",
       "s1            -0.0480     0.0192    -2.4978     0.0125     -0.0857     -0.0103\n",
       "s3            -0.0077     0.0367    -0.2112     0.8328     -0.0796      0.0641\n",
       "s5             0.0192     0.0484     0.3966     0.6916     -0.0757      0.1141\n",
       "s7             0.0005     0.0321     0.0154     0.9877     -0.0624      0.0634\n",
       "==============================================================================\n",
       "\n",
       "\n",
       "PanelEffectsResults, id: 0x1e73f45c730"
      ]
     },
     "execution_count": 86,
     "metadata": {},
     "output_type": "execute_result"
    }
   ],
   "source": [
    "mod = PanelOLS(depe,exog,entity_effects=False,time_effects=False)\n",
    "mod.fit(cov_type=\"clustered\",cluster_entity=False,cluster_time=True)"
   ]
  },
  {
   "cell_type": "code",
   "execution_count": null,
   "metadata": {},
   "outputs": [],
   "source": []
  },
  {
   "cell_type": "code",
   "execution_count": 88,
   "metadata": {},
   "outputs": [
    {
     "data": {
      "text/html": [
       "<table class=\"simpletable\">\n",
       "<caption>PanelOLS Estimation Summary</caption>\n",
       "<tr>\n",
       "  <th>Dep. Variable:</th>         <td>target</td>      <th>  R-squared:         </th>     <td>0.0016</td>   \n",
       "</tr>\n",
       "<tr>\n",
       "  <th>Estimator:</th>            <td>PanelOLS</td>     <th>  R-squared (Between):</th>    <td>-0.0573</td>  \n",
       "</tr>\n",
       "<tr>\n",
       "  <th>No. Observations:</th>      <td>103360</td>      <th>  R-squared (Within):</th>     <td>0.0017</td>   \n",
       "</tr>\n",
       "<tr>\n",
       "  <th>Date:</th>             <td>Thu, Jan 14 2021</td> <th>  R-squared (Overall):</th>    <td>0.0016</td>   \n",
       "</tr>\n",
       "<tr>\n",
       "  <th>Time:</th>                 <td>21:33:32</td>     <th>  Log-likelihood     </th>    <td>4.094e+04</td> \n",
       "</tr>\n",
       "<tr>\n",
       "  <th>Cov. Estimator:</th>       <td>Clustered</td>    <th>                     </th>        <td></td>      \n",
       "</tr>\n",
       "<tr>\n",
       "  <th></th>                          <td></td>         <th>  F-statistic:       </th>     <td>41.770</td>   \n",
       "</tr>\n",
       "<tr>\n",
       "  <th>Entities:</th>                <td>95</td>        <th>  P-value            </th>     <td>0.0000</td>   \n",
       "</tr>\n",
       "<tr>\n",
       "  <th>Avg Obs:</th>               <td>1088.0</td>      <th>  Distribution:      </th>   <td>F(4,103355)</td>\n",
       "</tr>\n",
       "<tr>\n",
       "  <th>Min Obs:</th>               <td>1088.0</td>      <th>                     </th>        <td></td>      \n",
       "</tr>\n",
       "<tr>\n",
       "  <th>Max Obs:</th>               <td>1088.0</td>      <th>  F-statistic (robust):</th>   <td>8.2934</td>   \n",
       "</tr>\n",
       "<tr>\n",
       "  <th></th>                          <td></td>         <th>  P-value            </th>     <td>0.0000</td>   \n",
       "</tr>\n",
       "<tr>\n",
       "  <th>Time periods:</th>           <td>1094</td>       <th>  Distribution:      </th>   <td>F(4,103355)</td>\n",
       "</tr>\n",
       "<tr>\n",
       "  <th>Avg Obs:</th>               <td>94.479</td>      <th>                     </th>        <td></td>      \n",
       "</tr>\n",
       "<tr>\n",
       "  <th>Min Obs:</th>               <td>0.0000</td>      <th>                     </th>        <td></td>      \n",
       "</tr>\n",
       "<tr>\n",
       "  <th>Max Obs:</th>               <td>95.000</td>      <th>                     </th>        <td></td>      \n",
       "</tr>\n",
       "<tr>\n",
       "  <th></th>                          <td></td>         <th>                     </th>        <td></td>      \n",
       "</tr>\n",
       "</table>\n",
       "<table class=\"simpletable\">\n",
       "<caption>Parameter Estimates</caption>\n",
       "<tr>\n",
       "    <td></td>    <th>Parameter</th> <th>Std. Err.</th> <th>T-stat</th>  <th>P-value</th> <th>Lower CI</th> <th>Upper CI</th>\n",
       "</tr>\n",
       "<tr>\n",
       "  <th>const</th>  <td>0.0001</td>    <td>0.0019</td>   <td>0.0706</td>  <td>0.9437</td>   <td>-0.0035</td>  <td>0.0038</td> \n",
       "</tr>\n",
       "<tr>\n",
       "  <th>s1</th>     <td>-0.0480</td>   <td>0.0195</td>   <td>-2.4661</td> <td>0.0137</td>   <td>-0.0862</td>  <td>-0.0099</td>\n",
       "</tr>\n",
       "<tr>\n",
       "  <th>s3</th>     <td>-0.0077</td>   <td>0.0328</td>   <td>-0.2364</td> <td>0.8132</td>   <td>-0.0720</td>  <td>0.0565</td> \n",
       "</tr>\n",
       "<tr>\n",
       "  <th>s5</th>     <td>0.0192</td>    <td>0.0405</td>   <td>0.4740</td>  <td>0.6355</td>   <td>-0.0602</td>  <td>0.0986</td> \n",
       "</tr>\n",
       "<tr>\n",
       "  <th>s7</th>     <td>0.0005</td>    <td>0.0281</td>   <td>0.0176</td>  <td>0.9860</td>   <td>-0.0546</td>  <td>0.0556</td> \n",
       "</tr>\n",
       "</table><br/><br/><br/>id: 0x1e73f464fd0"
      ],
      "text/plain": [
       "                          PanelOLS Estimation Summary                           \n",
       "================================================================================\n",
       "Dep. Variable:                 target   R-squared:                        0.0016\n",
       "Estimator:                   PanelOLS   R-squared (Between):             -0.0573\n",
       "No. Observations:              103360   R-squared (Within):               0.0017\n",
       "Date:                Thu, Jan 14 2021   R-squared (Overall):              0.0016\n",
       "Time:                        21:33:32   Log-likelihood                 4.094e+04\n",
       "Cov. Estimator:             Clustered                                           \n",
       "                                        F-statistic:                      41.770\n",
       "Entities:                          95   P-value                           0.0000\n",
       "Avg Obs:                       1088.0   Distribution:                F(4,103355)\n",
       "Min Obs:                       1088.0                                           \n",
       "Max Obs:                       1088.0   F-statistic (robust):             8.2934\n",
       "                                        P-value                           0.0000\n",
       "Time periods:                    1094   Distribution:                F(4,103355)\n",
       "Avg Obs:                       94.479                                           \n",
       "Min Obs:                       0.0000                                           \n",
       "Max Obs:                       95.000                                           \n",
       "                                                                                \n",
       "                             Parameter Estimates                              \n",
       "==============================================================================\n",
       "            Parameter  Std. Err.     T-stat    P-value    Lower CI    Upper CI\n",
       "------------------------------------------------------------------------------\n",
       "const          0.0001     0.0019     0.0706     0.9437     -0.0035      0.0038\n",
       "s1            -0.0480     0.0195    -2.4661     0.0137     -0.0862     -0.0099\n",
       "s3            -0.0077     0.0328    -0.2364     0.8132     -0.0720      0.0565\n",
       "s5             0.0192     0.0405     0.4740     0.6355     -0.0602      0.0986\n",
       "s7             0.0005     0.0281     0.0176     0.9860     -0.0546      0.0556\n",
       "==============================================================================\n",
       "\n",
       "\n",
       "PanelEffectsResults, id: 0x1e73f464fd0"
      ]
     },
     "execution_count": 88,
     "metadata": {},
     "output_type": "execute_result"
    }
   ],
   "source": [
    "mod = PanelOLS(depe,exog,entity_effects=False,time_effects=False)\n",
    "mod.fit(cov_type=\"clustered\",cluster_entity=True,cluster_time=True)"
   ]
  },
  {
   "cell_type": "code",
   "execution_count": null,
   "metadata": {},
   "outputs": [],
   "source": []
  },
  {
   "cell_type": "markdown",
   "metadata": {},
   "source": [
    "#### Fama Macbeth"
   ]
  },
  {
   "cell_type": "code",
   "execution_count": 89,
   "metadata": {},
   "outputs": [],
   "source": [
    "mod = FamaMacBeth(depe,exog)"
   ]
  },
  {
   "cell_type": "code",
   "execution_count": 90,
   "metadata": {},
   "outputs": [
    {
     "data": {
      "text/html": [
       "<table class=\"simpletable\">\n",
       "<caption>FamaMacBeth Estimation Summary</caption>\n",
       "<tr>\n",
       "  <th>Dep. Variable:</th>            <td>target</td>          <th>  R-squared:         </th>     <td>-0.0110</td>  \n",
       "</tr>\n",
       "<tr>\n",
       "  <th>Estimator:</th>              <td>FamaMacBeth</td>       <th>  R-squared (Between):</th>    <td>-0.5999</td>  \n",
       "</tr>\n",
       "<tr>\n",
       "  <th>No. Observations:</th>         <td>103360</td>          <th>  R-squared (Within):</th>     <td>-0.0104</td>  \n",
       "</tr>\n",
       "<tr>\n",
       "  <th>Date:</th>                <td>Thu, Jan 14 2021</td>     <th>  R-squared (Overall):</th>    <td>-0.0110</td>  \n",
       "</tr>\n",
       "<tr>\n",
       "  <th>Time:</th>                    <td>21:35:15</td>         <th>  Log-likelihood     </th>    <td>4.029e+04</td> \n",
       "</tr>\n",
       "<tr>\n",
       "  <th>Cov. Estimator:</th>   <td>Fama-MacBeth Kernel Cov</td> <th>                     </th>        <td></td>      \n",
       "</tr>\n",
       "<tr>\n",
       "  <th></th>                             <td></td>             <th>  F-statistic:       </th>     <td>-280.84</td>  \n",
       "</tr>\n",
       "<tr>\n",
       "  <th>Entities:</th>                   <td>95</td>            <th>  P-value            </th>     <td>1.0000</td>   \n",
       "</tr>\n",
       "<tr>\n",
       "  <th>Avg Obs:</th>                  <td>1088.0</td>          <th>  Distribution:      </th>   <td>F(4,103355)</td>\n",
       "</tr>\n",
       "<tr>\n",
       "  <th>Min Obs:</th>                  <td>1088.0</td>          <th>                     </th>        <td></td>      \n",
       "</tr>\n",
       "<tr>\n",
       "  <th>Max Obs:</th>                  <td>1088.0</td>          <th>  F-statistic (robust):</th>   <td>15.834</td>   \n",
       "</tr>\n",
       "<tr>\n",
       "  <th></th>                             <td></td>             <th>  P-value            </th>     <td>0.0000</td>   \n",
       "</tr>\n",
       "<tr>\n",
       "  <th>Time periods:</th>              <td>1094</td>           <th>  Distribution:      </th>   <td>F(4,103355)</td>\n",
       "</tr>\n",
       "<tr>\n",
       "  <th>Avg Obs:</th>                  <td>94.479</td>          <th>                     </th>        <td></td>      \n",
       "</tr>\n",
       "<tr>\n",
       "  <th>Min Obs:</th>                  <td>0.0000</td>          <th>                     </th>        <td></td>      \n",
       "</tr>\n",
       "<tr>\n",
       "  <th>Max Obs:</th>                  <td>95.000</td>          <th>                     </th>        <td></td>      \n",
       "</tr>\n",
       "<tr>\n",
       "  <th></th>                             <td></td>             <th>                     </th>        <td></td>      \n",
       "</tr>\n",
       "</table>\n",
       "<table class=\"simpletable\">\n",
       "<caption>Parameter Estimates</caption>\n",
       "<tr>\n",
       "    <td></td>    <th>Parameter</th> <th>Std. Err.</th> <th>T-stat</th>  <th>P-value</th> <th>Lower CI</th> <th>Upper CI</th>\n",
       "</tr>\n",
       "<tr>\n",
       "  <th>const</th>  <td>-0.0026</td>   <td>0.0026</td>   <td>-0.9795</td> <td>0.3273</td>   <td>-0.0077</td>  <td>0.0026</td> \n",
       "</tr>\n",
       "<tr>\n",
       "  <th>s1</th>     <td>-0.0983</td>   <td>0.0220</td>   <td>-4.4670</td> <td>0.0000</td>   <td>-0.1414</td>  <td>-0.0551</td>\n",
       "</tr>\n",
       "<tr>\n",
       "  <th>s3</th>     <td>-0.0280</td>   <td>0.0146</td>   <td>-1.9223</td> <td>0.0546</td>   <td>-0.0566</td>  <td>0.0006</td> \n",
       "</tr>\n",
       "<tr>\n",
       "  <th>s5</th>     <td>-0.0076</td>   <td>0.0195</td>   <td>-0.3921</td> <td>0.6950</td>   <td>-0.0458</td>  <td>0.0305</td> \n",
       "</tr>\n",
       "<tr>\n",
       "  <th>s7</th>     <td>0.0104</td>    <td>0.0115</td>   <td>0.9029</td>  <td>0.3666</td>   <td>-0.0122</td>  <td>0.0329</td> \n",
       "</tr>\n",
       "</table><br/>id: 0x1e73f476550"
      ],
      "text/plain": [
       "                            FamaMacBeth Estimation Summary                           \n",
       "=====================================================================================\n",
       "Dep. Variable:                      target   R-squared:                       -0.0110\n",
       "Estimator:                     FamaMacBeth   R-squared (Between):             -0.5999\n",
       "No. Observations:                   103360   R-squared (Within):              -0.0104\n",
       "Date:                     Thu, Jan 14 2021   R-squared (Overall):             -0.0110\n",
       "Time:                             21:35:15   Log-likelihood                 4.029e+04\n",
       "Cov. Estimator:    Fama-MacBeth Kernel Cov                                           \n",
       "                                             F-statistic:                     -280.84\n",
       "Entities:                               95   P-value                           1.0000\n",
       "Avg Obs:                            1088.0   Distribution:                F(4,103355)\n",
       "Min Obs:                            1088.0                                           \n",
       "Max Obs:                            1088.0   F-statistic (robust):             15.834\n",
       "                                             P-value                           0.0000\n",
       "Time periods:                         1094   Distribution:                F(4,103355)\n",
       "Avg Obs:                            94.479                                           \n",
       "Min Obs:                            0.0000                                           \n",
       "Max Obs:                            95.000                                           \n",
       "                                                                                     \n",
       "                             Parameter Estimates                              \n",
       "==============================================================================\n",
       "            Parameter  Std. Err.     T-stat    P-value    Lower CI    Upper CI\n",
       "------------------------------------------------------------------------------\n",
       "const         -0.0026     0.0026    -0.9795     0.3273     -0.0077      0.0026\n",
       "s1            -0.0983     0.0220    -4.4670     0.0000     -0.1414     -0.0551\n",
       "s3            -0.0280     0.0146    -1.9223     0.0546     -0.0566      0.0006\n",
       "s5            -0.0076     0.0195    -0.3921     0.6950     -0.0458      0.0305\n",
       "s7             0.0104     0.0115     0.9029     0.3666     -0.0122      0.0329\n",
       "==============================================================================\n",
       "FamaMacBethResults, id: 0x1e73f476550"
      ]
     },
     "execution_count": 90,
     "metadata": {},
     "output_type": "execute_result"
    }
   ],
   "source": [
    "mod.fit(cov_type='kernel',kernel=\"bartlett\")"
   ]
  },
  {
   "cell_type": "code",
   "execution_count": null,
   "metadata": {},
   "outputs": [],
   "source": []
  },
  {
   "cell_type": "code",
   "execution_count": null,
   "metadata": {},
   "outputs": [],
   "source": []
  },
  {
   "cell_type": "code",
   "execution_count": null,
   "metadata": {},
   "outputs": [],
   "source": []
  },
  {
   "cell_type": "code",
   "execution_count": null,
   "metadata": {},
   "outputs": [],
   "source": []
  },
  {
   "cell_type": "code",
   "execution_count": null,
   "metadata": {},
   "outputs": [],
   "source": []
  },
  {
   "cell_type": "code",
   "execution_count": null,
   "metadata": {},
   "outputs": [],
   "source": []
  },
  {
   "cell_type": "code",
   "execution_count": null,
   "metadata": {},
   "outputs": [],
   "source": []
  },
  {
   "cell_type": "code",
   "execution_count": null,
   "metadata": {},
   "outputs": [],
   "source": []
  },
  {
   "cell_type": "code",
   "execution_count": null,
   "metadata": {},
   "outputs": [],
   "source": []
  },
  {
   "cell_type": "code",
   "execution_count": null,
   "metadata": {},
   "outputs": [],
   "source": []
  }
 ],
 "metadata": {
  "kernelspec": {
   "display_name": "Python 3",
   "language": "python",
   "name": "python3"
  },
  "language_info": {
   "codemirror_mode": {
    "name": "ipython",
    "version": 3
   },
   "file_extension": ".py",
   "mimetype": "text/x-python",
   "name": "python",
   "nbconvert_exporter": "python",
   "pygments_lexer": "ipython3",
   "version": "3.8.5"
  }
 },
 "nbformat": 4,
 "nbformat_minor": 4
}
