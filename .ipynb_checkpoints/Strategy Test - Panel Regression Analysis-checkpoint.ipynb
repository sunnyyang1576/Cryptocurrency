{
 "cells": [
  {
   "cell_type": "code",
   "execution_count": null,
   "metadata": {},
   "outputs": [],
   "source": []
  },
  {
   "cell_type": "markdown",
   "metadata": {},
   "source": [
    "### Import Library"
   ]
  },
  {
   "cell_type": "code",
   "execution_count": null,
   "metadata": {},
   "outputs": [],
   "source": []
  },
  {
   "cell_type": "code",
   "execution_count": 25,
   "metadata": {},
   "outputs": [],
   "source": [
    "import pandas as pd\n",
    "import numpy as np\n",
    "from linearmodels import PanelOLS,FamaMacBeth"
   ]
  },
  {
   "cell_type": "code",
   "execution_count": 2,
   "metadata": {},
   "outputs": [],
   "source": [
    "import statsmodels.api as sm"
   ]
  },
  {
   "cell_type": "code",
   "execution_count": null,
   "metadata": {},
   "outputs": [],
   "source": []
  },
  {
   "cell_type": "markdown",
   "metadata": {},
   "source": [
    "### Import Data"
   ]
  },
  {
   "cell_type": "code",
   "execution_count": null,
   "metadata": {},
   "outputs": [],
   "source": []
  },
  {
   "cell_type": "code",
   "execution_count": 3,
   "metadata": {},
   "outputs": [],
   "source": [
    "data_directory = \"data/\"\n",
    "file = \"yahoo_data_filter_0_1.csv\""
   ]
  },
  {
   "cell_type": "code",
   "execution_count": null,
   "metadata": {},
   "outputs": [],
   "source": []
  },
  {
   "cell_type": "code",
   "execution_count": 4,
   "metadata": {},
   "outputs": [],
   "source": [
    "df = pd.read_csv(data_directory + file)\n",
    "df[\"date\"] = pd.to_datetime(df[\"date\"])\n",
    "df = df.set_index(\"date\")"
   ]
  },
  {
   "cell_type": "code",
   "execution_count": null,
   "metadata": {},
   "outputs": [],
   "source": []
  },
  {
   "cell_type": "code",
   "execution_count": null,
   "metadata": {},
   "outputs": [],
   "source": []
  },
  {
   "cell_type": "markdown",
   "metadata": {},
   "source": [
    "### Calculate the momentun signal"
   ]
  },
  {
   "cell_type": "code",
   "execution_count": 5,
   "metadata": {},
   "outputs": [],
   "source": [
    "universe_df = df"
   ]
  },
  {
   "cell_type": "code",
   "execution_count": 6,
   "metadata": {},
   "outputs": [],
   "source": [
    "momentum_period = 5\n",
    "waiting_time = 1"
   ]
  },
  {
   "cell_type": "code",
   "execution_count": 7,
   "metadata": {},
   "outputs": [],
   "source": [
    "complete_ret_sub_df = universe_df.pct_change(periods=momentum_period).shift(waiting_time).dropna()"
   ]
  },
  {
   "cell_type": "code",
   "execution_count": 8,
   "metadata": {},
   "outputs": [],
   "source": [
    "complete_ret_sub_df_long = complete_ret_sub_df.stack()"
   ]
  },
  {
   "cell_type": "code",
   "execution_count": null,
   "metadata": {},
   "outputs": [],
   "source": []
  },
  {
   "cell_type": "markdown",
   "metadata": {},
   "source": [
    "### Create the future return"
   ]
  },
  {
   "cell_type": "code",
   "execution_count": 9,
   "metadata": {},
   "outputs": [],
   "source": [
    "future_return_days = 1"
   ]
  },
  {
   "cell_type": "code",
   "execution_count": 10,
   "metadata": {},
   "outputs": [],
   "source": [
    "future_return_df = universe_df.pct_change(future_return_days).shift(-(future_return_days-1))"
   ]
  },
  {
   "cell_type": "code",
   "execution_count": 11,
   "metadata": {},
   "outputs": [],
   "source": [
    "future_return_df_long = future_return_df.stack()"
   ]
  },
  {
   "cell_type": "code",
   "execution_count": null,
   "metadata": {},
   "outputs": [],
   "source": []
  },
  {
   "cell_type": "markdown",
   "metadata": {},
   "source": [
    "### Merge Return with Signal"
   ]
  },
  {
   "cell_type": "code",
   "execution_count": 12,
   "metadata": {},
   "outputs": [],
   "source": [
    "future_return_df_long = pd.DataFrame(future_return_df_long)\n",
    "complete_ret_sub_df_long = pd.DataFrame(complete_ret_sub_df_long)"
   ]
  },
  {
   "cell_type": "code",
   "execution_count": 13,
   "metadata": {},
   "outputs": [],
   "source": [
    "future_return_df_long.columns = [\"target\"]\n",
    "complete_ret_sub_df_long.columns = [\"signal\"]"
   ]
  },
  {
   "cell_type": "code",
   "execution_count": 14,
   "metadata": {},
   "outputs": [],
   "source": [
    "merge_df = future_return_df_long.merge(complete_ret_sub_df_long,left_index=True,right_index=True)"
   ]
  },
  {
   "cell_type": "code",
   "execution_count": null,
   "metadata": {},
   "outputs": [],
   "source": []
  },
  {
   "cell_type": "code",
   "execution_count": 15,
   "metadata": {},
   "outputs": [],
   "source": [
    "index_df = merge_df.index.to_frame()\n",
    "index_df.columns = [\"date\",\"asset\"]\n",
    "index_df[\"target\"] = merge_df[\"target\"]\n",
    "index_df[\"signal\"] = merge_df[\"signal\"]\n",
    "index_df.index = range(0,index_df.shape[0])"
   ]
  },
  {
   "cell_type": "code",
   "execution_count": 16,
   "metadata": {},
   "outputs": [],
   "source": [
    "merge_df = index_df"
   ]
  },
  {
   "cell_type": "code",
   "execution_count": 17,
   "metadata": {},
   "outputs": [],
   "source": [
    "merge_df = merge_df.set_index([\"asset\",\"date\"])"
   ]
  },
  {
   "cell_type": "code",
   "execution_count": null,
   "metadata": {},
   "outputs": [],
   "source": []
  },
  {
   "cell_type": "code",
   "execution_count": null,
   "metadata": {},
   "outputs": [],
   "source": []
  },
  {
   "cell_type": "markdown",
   "metadata": {},
   "source": [
    "### Panel Regression"
   ]
  },
  {
   "cell_type": "code",
   "execution_count": null,
   "metadata": {},
   "outputs": [],
   "source": []
  },
  {
   "cell_type": "code",
   "execution_count": 18,
   "metadata": {},
   "outputs": [],
   "source": [
    "exog_vars = [\"signal\"]\n",
    "depe_var = [\"target\"]\n",
    "exog = sm.add_constant(merge_df[exog_vars])\n",
    "depe = merge_df[depe_var]"
   ]
  },
  {
   "cell_type": "code",
   "execution_count": null,
   "metadata": {},
   "outputs": [],
   "source": []
  },
  {
   "cell_type": "code",
   "execution_count": 19,
   "metadata": {},
   "outputs": [],
   "source": [
    "mod = PanelOLS(depe,exog,entity_effects=True,time_effects=True)"
   ]
  },
  {
   "cell_type": "code",
   "execution_count": 20,
   "metadata": {},
   "outputs": [
    {
     "name": "stderr",
     "output_type": "stream",
     "text": [
      "C:\\app_user_download\\anaconda\\lib\\site-packages\\linearmodels\\panel\\results.py:84: RuntimeWarning: invalid value encountered in sqrt\n",
      "  return Series(np.sqrt(np.diag(self.cov)), self._var_names, name=\"std_error\")\n"
     ]
    },
    {
     "data": {
      "text/html": [
       "<table class=\"simpletable\">\n",
       "<caption>PanelOLS Estimation Summary</caption>\n",
       "<tr>\n",
       "  <th>Dep. Variable:</th>         <td>target</td>      <th>  R-squared:         </th>     <td>0.0007</td>   \n",
       "</tr>\n",
       "<tr>\n",
       "  <th>Estimator:</th>            <td>PanelOLS</td>     <th>  R-squared (Between):</th>    <td>-0.0523</td>  \n",
       "</tr>\n",
       "<tr>\n",
       "  <th>No. Observations:</th>      <td>103645</td>      <th>  R-squared (Within):</th>     <td>0.0004</td>   \n",
       "</tr>\n",
       "<tr>\n",
       "  <th>Date:</th>             <td>Sat, Jan 09 2021</td> <th>  R-squared (Overall):</th>    <td>0.0004</td>   \n",
       "</tr>\n",
       "<tr>\n",
       "  <th>Time:</th>                 <td>16:10:09</td>     <th>  Log-likelihood     </th>    <td>2.83e+04</td>  \n",
       "</tr>\n",
       "<tr>\n",
       "  <th>Cov. Estimator:</th>       <td>Clustered</td>    <th>                     </th>        <td></td>      \n",
       "</tr>\n",
       "<tr>\n",
       "  <th></th>                          <td></td>         <th>  F-statistic:       </th>     <td>73.082</td>   \n",
       "</tr>\n",
       "<tr>\n",
       "  <th>Entities:</th>                <td>95</td>        <th>  P-value            </th>     <td>0.0000</td>   \n",
       "</tr>\n",
       "<tr>\n",
       "  <th>Avg Obs:</th>               <td>1091.0</td>      <th>  Distribution:      </th>   <td>F(1,102459)</td>\n",
       "</tr>\n",
       "<tr>\n",
       "  <th>Min Obs:</th>               <td>1091.0</td>      <th>                     </th>        <td></td>      \n",
       "</tr>\n",
       "<tr>\n",
       "  <th>Max Obs:</th>               <td>1091.0</td>      <th>  F-statistic (robust):</th>   <td>18.335</td>   \n",
       "</tr>\n",
       "<tr>\n",
       "  <th></th>                          <td></td>         <th>  P-value            </th>     <td>0.0000</td>   \n",
       "</tr>\n",
       "<tr>\n",
       "  <th>Time periods:</th>           <td>1091</td>       <th>  Distribution:      </th>   <td>F(1,102459)</td>\n",
       "</tr>\n",
       "<tr>\n",
       "  <th>Avg Obs:</th>               <td>95.000</td>      <th>                     </th>        <td></td>      \n",
       "</tr>\n",
       "<tr>\n",
       "  <th>Min Obs:</th>               <td>95.000</td>      <th>                     </th>        <td></td>      \n",
       "</tr>\n",
       "<tr>\n",
       "  <th>Max Obs:</th>               <td>95.000</td>      <th>                     </th>        <td></td>      \n",
       "</tr>\n",
       "<tr>\n",
       "  <th></th>                          <td></td>         <th>                     </th>        <td></td>      \n",
       "</tr>\n",
       "</table>\n",
       "<table class=\"simpletable\">\n",
       "<caption>Parameter Estimates</caption>\n",
       "<tr>\n",
       "     <td></td>    <th>Parameter</th> <th>Std. Err.</th>  <th>T-stat</th>   <th>P-value</th> <th>Lower CI</th> <th>Upper CI</th>\n",
       "</tr>\n",
       "<tr>\n",
       "  <th>const</th>   <td>0.0009</td>   <td>        </td>  <td>        </td> <td>        </td> <td>        </td> <td>        </td>\n",
       "</tr>\n",
       "<tr>\n",
       "  <th>signal</th>  <td>-0.0194</td>   <td>0.0045</td>    <td>-4.2820</td>  <td>0.0000</td>   <td>-0.0283</td>  <td>-0.0105</td>\n",
       "</tr>\n",
       "</table><br/><br/>F-test for Poolability: 5.9046<br/>P-value: 0.0000<br/>Distribution: F(1184,102459)<br/><br/>Included effects: Entity, Time<br/>id: 0x254c0eac610"
      ],
      "text/plain": [
       "                          PanelOLS Estimation Summary                           \n",
       "================================================================================\n",
       "Dep. Variable:                 target   R-squared:                        0.0007\n",
       "Estimator:                   PanelOLS   R-squared (Between):             -0.0523\n",
       "No. Observations:              103645   R-squared (Within):               0.0004\n",
       "Date:                Sat, Jan 09 2021   R-squared (Overall):              0.0004\n",
       "Time:                        16:10:09   Log-likelihood                  2.83e+04\n",
       "Cov. Estimator:             Clustered                                           \n",
       "                                        F-statistic:                      73.082\n",
       "Entities:                          95   P-value                           0.0000\n",
       "Avg Obs:                       1091.0   Distribution:                F(1,102459)\n",
       "Min Obs:                       1091.0                                           \n",
       "Max Obs:                       1091.0   F-statistic (robust):             18.335\n",
       "                                        P-value                           0.0000\n",
       "Time periods:                    1091   Distribution:                F(1,102459)\n",
       "Avg Obs:                       95.000                                           \n",
       "Min Obs:                       95.000                                           \n",
       "Max Obs:                       95.000                                           \n",
       "                                                                                \n",
       "                             Parameter Estimates                              \n",
       "==============================================================================\n",
       "            Parameter  Std. Err.     T-stat    P-value    Lower CI    Upper CI\n",
       "------------------------------------------------------------------------------\n",
       "const          0.0009                                                         \n",
       "signal        -0.0194     0.0045    -4.2820     0.0000     -0.0283     -0.0105\n",
       "==============================================================================\n",
       "\n",
       "F-test for Poolability: 5.9046\n",
       "P-value: 0.0000\n",
       "Distribution: F(1184,102459)\n",
       "\n",
       "Included effects: Entity, Time\n",
       "PanelEffectsResults, id: 0x254c0eac610"
      ]
     },
     "execution_count": 20,
     "metadata": {},
     "output_type": "execute_result"
    }
   ],
   "source": [
    "mod.fit(cov_type=\"clustered\",cluster_entity=True,cluster_time=True)"
   ]
  },
  {
   "cell_type": "code",
   "execution_count": null,
   "metadata": {},
   "outputs": [],
   "source": []
  },
  {
   "cell_type": "code",
   "execution_count": null,
   "metadata": {},
   "outputs": [],
   "source": []
  },
  {
   "cell_type": "code",
   "execution_count": null,
   "metadata": {},
   "outputs": [],
   "source": [
    "mod = PanelOLS(depe,exog,entity_effects=True,time_effects=True)"
   ]
  },
  {
   "cell_type": "code",
   "execution_count": 24,
   "metadata": {},
   "outputs": [
    {
     "data": {
      "text/html": [
       "<table class=\"simpletable\">\n",
       "<caption>PanelOLS Estimation Summary</caption>\n",
       "<tr>\n",
       "  <th>Dep. Variable:</th>         <td>target</td>      <th>  R-squared:         </th>     <td>0.0007</td>   \n",
       "</tr>\n",
       "<tr>\n",
       "  <th>Estimator:</th>            <td>PanelOLS</td>     <th>  R-squared (Between):</th>    <td>-0.0523</td>  \n",
       "</tr>\n",
       "<tr>\n",
       "  <th>No. Observations:</th>      <td>103645</td>      <th>  R-squared (Within):</th>     <td>0.0004</td>   \n",
       "</tr>\n",
       "<tr>\n",
       "  <th>Date:</th>             <td>Sat, Jan 09 2021</td> <th>  R-squared (Overall):</th>    <td>0.0004</td>   \n",
       "</tr>\n",
       "<tr>\n",
       "  <th>Time:</th>                 <td>16:14:10</td>     <th>  Log-likelihood     </th>    <td>2.83e+04</td>  \n",
       "</tr>\n",
       "<tr>\n",
       "  <th>Cov. Estimator:</th>    <td>Driscoll-Kraay</td>  <th>                     </th>        <td></td>      \n",
       "</tr>\n",
       "<tr>\n",
       "  <th></th>                          <td></td>         <th>  F-statistic:       </th>     <td>73.082</td>   \n",
       "</tr>\n",
       "<tr>\n",
       "  <th>Entities:</th>                <td>95</td>        <th>  P-value            </th>     <td>0.0000</td>   \n",
       "</tr>\n",
       "<tr>\n",
       "  <th>Avg Obs:</th>               <td>1091.0</td>      <th>  Distribution:      </th>   <td>F(1,102459)</td>\n",
       "</tr>\n",
       "<tr>\n",
       "  <th>Min Obs:</th>               <td>1091.0</td>      <th>                     </th>        <td></td>      \n",
       "</tr>\n",
       "<tr>\n",
       "  <th>Max Obs:</th>               <td>1091.0</td>      <th>  F-statistic (robust):</th>   <td>19.586</td>   \n",
       "</tr>\n",
       "<tr>\n",
       "  <th></th>                          <td></td>         <th>  P-value            </th>     <td>0.0000</td>   \n",
       "</tr>\n",
       "<tr>\n",
       "  <th>Time periods:</th>           <td>1091</td>       <th>  Distribution:      </th>   <td>F(1,102459)</td>\n",
       "</tr>\n",
       "<tr>\n",
       "  <th>Avg Obs:</th>               <td>95.000</td>      <th>                     </th>        <td></td>      \n",
       "</tr>\n",
       "<tr>\n",
       "  <th>Min Obs:</th>               <td>95.000</td>      <th>                     </th>        <td></td>      \n",
       "</tr>\n",
       "<tr>\n",
       "  <th>Max Obs:</th>               <td>95.000</td>      <th>                     </th>        <td></td>      \n",
       "</tr>\n",
       "<tr>\n",
       "  <th></th>                          <td></td>         <th>                     </th>        <td></td>      \n",
       "</tr>\n",
       "</table>\n",
       "<table class=\"simpletable\">\n",
       "<caption>Parameter Estimates</caption>\n",
       "<tr>\n",
       "     <td></td>    <th>Parameter</th> <th>Std. Err.</th> <th>T-stat</th>  <th>P-value</th> <th>Lower CI</th> <th>Upper CI</th>\n",
       "</tr>\n",
       "<tr>\n",
       "  <th>const</th>   <td>0.0009</td>   <td>6.705e-07</td> <td>1348.9</td>  <td>0.0000</td>   <td>0.0009</td>   <td>0.0009</td> \n",
       "</tr>\n",
       "<tr>\n",
       "  <th>signal</th>  <td>-0.0194</td>   <td>0.0044</td>   <td>-4.4256</td> <td>0.0000</td>   <td>-0.0280</td>  <td>-0.0108</td>\n",
       "</tr>\n",
       "</table><br/><br/>F-test for Poolability: 5.9046<br/>P-value: 0.0000<br/>Distribution: F(1184,102459)<br/><br/>Included effects: Entity, Time<br/>id: 0x254c0ea2130"
      ],
      "text/plain": [
       "                          PanelOLS Estimation Summary                           \n",
       "================================================================================\n",
       "Dep. Variable:                 target   R-squared:                        0.0007\n",
       "Estimator:                   PanelOLS   R-squared (Between):             -0.0523\n",
       "No. Observations:              103645   R-squared (Within):               0.0004\n",
       "Date:                Sat, Jan 09 2021   R-squared (Overall):              0.0004\n",
       "Time:                        16:14:10   Log-likelihood                  2.83e+04\n",
       "Cov. Estimator:        Driscoll-Kraay                                           \n",
       "                                        F-statistic:                      73.082\n",
       "Entities:                          95   P-value                           0.0000\n",
       "Avg Obs:                       1091.0   Distribution:                F(1,102459)\n",
       "Min Obs:                       1091.0                                           \n",
       "Max Obs:                       1091.0   F-statistic (robust):             19.586\n",
       "                                        P-value                           0.0000\n",
       "Time periods:                    1091   Distribution:                F(1,102459)\n",
       "Avg Obs:                       95.000                                           \n",
       "Min Obs:                       95.000                                           \n",
       "Max Obs:                       95.000                                           \n",
       "                                                                                \n",
       "                             Parameter Estimates                              \n",
       "==============================================================================\n",
       "            Parameter  Std. Err.     T-stat    P-value    Lower CI    Upper CI\n",
       "------------------------------------------------------------------------------\n",
       "const          0.0009  6.705e-07     1348.9     0.0000      0.0009      0.0009\n",
       "signal        -0.0194     0.0044    -4.4256     0.0000     -0.0280     -0.0108\n",
       "==============================================================================\n",
       "\n",
       "F-test for Poolability: 5.9046\n",
       "P-value: 0.0000\n",
       "Distribution: F(1184,102459)\n",
       "\n",
       "Included effects: Entity, Time\n",
       "PanelEffectsResults, id: 0x254c0ea2130"
      ]
     },
     "execution_count": 24,
     "metadata": {},
     "output_type": "execute_result"
    }
   ],
   "source": [
    "mod.fit(cov_type=\"kernel\",kernel=\"parzen\",cluster_entity=True,cluster_time=True)"
   ]
  },
  {
   "cell_type": "code",
   "execution_count": null,
   "metadata": {},
   "outputs": [],
   "source": []
  },
  {
   "cell_type": "code",
   "execution_count": null,
   "metadata": {},
   "outputs": [],
   "source": []
  },
  {
   "cell_type": "markdown",
   "metadata": {},
   "source": [
    "### Fama Macbeth Regression"
   ]
  },
  {
   "cell_type": "code",
   "execution_count": null,
   "metadata": {},
   "outputs": [],
   "source": []
  },
  {
   "cell_type": "code",
   "execution_count": 27,
   "metadata": {},
   "outputs": [],
   "source": [
    "exog_vars = [\"signal\"]\n",
    "depe_var = [\"target\"]\n",
    "exog = sm.add_constant(merge_df[exog_vars])\n",
    "depe = merge_df[depe_var]"
   ]
  },
  {
   "cell_type": "code",
   "execution_count": null,
   "metadata": {},
   "outputs": [],
   "source": []
  },
  {
   "cell_type": "code",
   "execution_count": 28,
   "metadata": {},
   "outputs": [],
   "source": [
    "mod = FamaMacBeth(depe,exog)"
   ]
  },
  {
   "cell_type": "code",
   "execution_count": 34,
   "metadata": {},
   "outputs": [],
   "source": [
    "res = mod.fit(cov_type='kernel',kernel=\"bartlett\")"
   ]
  },
  {
   "cell_type": "code",
   "execution_count": 35,
   "metadata": {},
   "outputs": [
    {
     "data": {
      "text/html": [
       "<table class=\"simpletable\">\n",
       "<caption>FamaMacBeth Estimation Summary</caption>\n",
       "<tr>\n",
       "  <th>Dep. Variable:</th>            <td>target</td>          <th>  R-squared:         </th>   <td>-7.399e-05</td> \n",
       "</tr>\n",
       "<tr>\n",
       "  <th>Estimator:</th>              <td>FamaMacBeth</td>       <th>  R-squared (Between):</th>    <td>-0.1069</td>  \n",
       "</tr>\n",
       "<tr>\n",
       "  <th>No. Observations:</th>         <td>103645</td>          <th>  R-squared (Within):</th>    <td>2.385e-05</td> \n",
       "</tr>\n",
       "<tr>\n",
       "  <th>Date:</th>                <td>Sat, Jan 09 2021</td>     <th>  R-squared (Overall):</th>  <td>-7.399e-05</td> \n",
       "</tr>\n",
       "<tr>\n",
       "  <th>Time:</th>                    <td>16:26:11</td>         <th>  Log-likelihood     </th>    <td>2.486e+04</td> \n",
       "</tr>\n",
       "<tr>\n",
       "  <th>Cov. Estimator:</th>   <td>Fama-MacBeth Kernel Cov</td> <th>                     </th>        <td></td>      \n",
       "</tr>\n",
       "<tr>\n",
       "  <th></th>                             <td></td>             <th>  F-statistic:       </th>     <td>-7.6677</td>  \n",
       "</tr>\n",
       "<tr>\n",
       "  <th>Entities:</th>                   <td>95</td>            <th>  P-value            </th>     <td>1.0000</td>   \n",
       "</tr>\n",
       "<tr>\n",
       "  <th>Avg Obs:</th>                  <td>1091.0</td>          <th>  Distribution:      </th>   <td>F(1,103643)</td>\n",
       "</tr>\n",
       "<tr>\n",
       "  <th>Min Obs:</th>                  <td>1091.0</td>          <th>                     </th>        <td></td>      \n",
       "</tr>\n",
       "<tr>\n",
       "  <th>Max Obs:</th>                  <td>1091.0</td>          <th>  F-statistic (robust):</th>   <td>10.434</td>   \n",
       "</tr>\n",
       "<tr>\n",
       "  <th></th>                             <td></td>             <th>  P-value            </th>     <td>0.0012</td>   \n",
       "</tr>\n",
       "<tr>\n",
       "  <th>Time periods:</th>              <td>1091</td>           <th>  Distribution:      </th>   <td>F(1,103643)</td>\n",
       "</tr>\n",
       "<tr>\n",
       "  <th>Avg Obs:</th>                  <td>95.000</td>          <th>                     </th>        <td></td>      \n",
       "</tr>\n",
       "<tr>\n",
       "  <th>Min Obs:</th>                  <td>95.000</td>          <th>                     </th>        <td></td>      \n",
       "</tr>\n",
       "<tr>\n",
       "  <th>Max Obs:</th>                  <td>95.000</td>          <th>                     </th>        <td></td>      \n",
       "</tr>\n",
       "<tr>\n",
       "  <th></th>                             <td></td>             <th>                     </th>        <td></td>      \n",
       "</tr>\n",
       "</table>\n",
       "<table class=\"simpletable\">\n",
       "<caption>Parameter Estimates</caption>\n",
       "<tr>\n",
       "     <td></td>     <th>Parameter</th> <th>Std. Err.</th> <th>T-stat</th>  <th>P-value</th> <th>Lower CI</th> <th>Upper CI</th>\n",
       "</tr>\n",
       "<tr>\n",
       "  <th>const</th>  <td>-4.135e-05</td>  <td>0.0016</td>   <td>-0.0266</td> <td>0.9788</td>   <td>-0.0031</td>  <td>0.0030</td> \n",
       "</tr>\n",
       "<tr>\n",
       "  <th>signal</th>   <td>-0.0294</td>   <td>0.0091</td>   <td>-3.2302</td> <td>0.0012</td>   <td>-0.0472</td>  <td>-0.0116</td>\n",
       "</tr>\n",
       "</table><br/>id: 0x254c27b1910"
      ],
      "text/plain": [
       "                            FamaMacBeth Estimation Summary                           \n",
       "=====================================================================================\n",
       "Dep. Variable:                      target   R-squared:                    -7.399e-05\n",
       "Estimator:                     FamaMacBeth   R-squared (Between):             -0.1069\n",
       "No. Observations:                   103645   R-squared (Within):            2.385e-05\n",
       "Date:                     Sat, Jan 09 2021   R-squared (Overall):          -7.399e-05\n",
       "Time:                             16:26:11   Log-likelihood                 2.486e+04\n",
       "Cov. Estimator:    Fama-MacBeth Kernel Cov                                           \n",
       "                                             F-statistic:                     -7.6677\n",
       "Entities:                               95   P-value                           1.0000\n",
       "Avg Obs:                            1091.0   Distribution:                F(1,103643)\n",
       "Min Obs:                            1091.0                                           \n",
       "Max Obs:                            1091.0   F-statistic (robust):             10.434\n",
       "                                             P-value                           0.0012\n",
       "Time periods:                         1091   Distribution:                F(1,103643)\n",
       "Avg Obs:                            95.000                                           \n",
       "Min Obs:                            95.000                                           \n",
       "Max Obs:                            95.000                                           \n",
       "                                                                                     \n",
       "                             Parameter Estimates                              \n",
       "==============================================================================\n",
       "            Parameter  Std. Err.     T-stat    P-value    Lower CI    Upper CI\n",
       "------------------------------------------------------------------------------\n",
       "const      -4.135e-05     0.0016    -0.0266     0.9788     -0.0031      0.0030\n",
       "signal        -0.0294     0.0091    -3.2302     0.0012     -0.0472     -0.0116\n",
       "==============================================================================\n",
       "FamaMacBethResults, id: 0x254c27b1910"
      ]
     },
     "execution_count": 35,
     "metadata": {},
     "output_type": "execute_result"
    }
   ],
   "source": [
    "res"
   ]
  },
  {
   "cell_type": "code",
   "execution_count": null,
   "metadata": {},
   "outputs": [],
   "source": []
  },
  {
   "cell_type": "code",
   "execution_count": null,
   "metadata": {},
   "outputs": [],
   "source": []
  },
  {
   "cell_type": "code",
   "execution_count": null,
   "metadata": {},
   "outputs": [],
   "source": []
  },
  {
   "cell_type": "code",
   "execution_count": null,
   "metadata": {},
   "outputs": [],
   "source": []
  },
  {
   "cell_type": "code",
   "execution_count": null,
   "metadata": {},
   "outputs": [],
   "source": []
  }
 ],
 "metadata": {
  "kernelspec": {
   "display_name": "Python 3",
   "language": "python",
   "name": "python3"
  },
  "language_info": {
   "codemirror_mode": {
    "name": "ipython",
    "version": 3
   },
   "file_extension": ".py",
   "mimetype": "text/x-python",
   "name": "python",
   "nbconvert_exporter": "python",
   "pygments_lexer": "ipython3",
   "version": "3.8.5"
  }
 },
 "nbformat": 4,
 "nbformat_minor": 4
}
