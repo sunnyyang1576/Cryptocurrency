{
 "cells": [
  {
   "cell_type": "code",
   "execution_count": null,
   "metadata": {},
   "outputs": [],
   "source": []
  },
  {
   "cell_type": "code",
   "execution_count": 1,
   "metadata": {},
   "outputs": [],
   "source": [
    "import pandas as pd\n",
    "import numpy as np\n",
    "from yahoo_fin.stock_info import get_data\n",
    "import datetime"
   ]
  },
  {
   "cell_type": "code",
   "execution_count": null,
   "metadata": {},
   "outputs": [],
   "source": []
  },
  {
   "cell_type": "code",
   "execution_count": null,
   "metadata": {},
   "outputs": [],
   "source": []
  },
  {
   "cell_type": "markdown",
   "metadata": {},
   "source": [
    "### Defined the directory and model parameter"
   ]
  },
  {
   "cell_type": "code",
   "execution_count": 2,
   "metadata": {},
   "outputs": [],
   "source": [
    "log_directory = \"strategy_log/\"\n",
    "file_directory = \"data/\""
   ]
  },
  {
   "cell_type": "code",
   "execution_count": 3,
   "metadata": {},
   "outputs": [],
   "source": [
    "look_back = 3\n",
    "portfolio_size = 10"
   ]
  },
  {
   "cell_type": "code",
   "execution_count": null,
   "metadata": {},
   "outputs": [],
   "source": []
  },
  {
   "cell_type": "code",
   "execution_count": null,
   "metadata": {},
   "outputs": [],
   "source": []
  },
  {
   "cell_type": "markdown",
   "metadata": {},
   "source": [
    "### Extract the data from Yahoo Finance"
   ]
  },
  {
   "cell_type": "code",
   "execution_count": 4,
   "metadata": {},
   "outputs": [],
   "source": [
    "with open(file_directory+\"yahoo_finance_crypto_list.txt\") as f:\n",
    "    \n",
    "    ticker_list = f.readlines()\n",
    "    \n",
    "    ticker_list = [ticker.strip() for ticker in ticker_list]"
   ]
  },
  {
   "cell_type": "code",
   "execution_count": null,
   "metadata": {},
   "outputs": [],
   "source": []
  },
  {
   "cell_type": "code",
   "execution_count": null,
   "metadata": {},
   "outputs": [],
   "source": []
  },
  {
   "cell_type": "code",
   "execution_count": null,
   "metadata": {},
   "outputs": [],
   "source": []
  },
  {
   "cell_type": "code",
   "execution_count": 26,
   "metadata": {},
   "outputs": [],
   "source": [
    "start_date = \"2021-01-05\"\n",
    "end_date = \"2021-01-13\""
   ]
  },
  {
   "cell_type": "code",
   "execution_count": 37,
   "metadata": {},
   "outputs": [],
   "source": [
    "start_date = (datetime.datetime.today()-datetime.timedelta(days=look_back)).strftime(\"%Y-%m-%d\")\n",
    "end_date = (datetime.datetime.today()).strftime(\"%Y-%m-%d\")"
   ]
  },
  {
   "cell_type": "code",
   "execution_count": null,
   "metadata": {},
   "outputs": [],
   "source": []
  },
  {
   "cell_type": "code",
   "execution_count": 39,
   "metadata": {
    "scrolled": true
   },
   "outputs": [
    {
     "name": "stdout",
     "output_type": "stream",
     "text": [
      "Error.\n",
      "Error.\n",
      "Error.\n",
      "Error.\n",
      "Error.\n",
      "Error.\n",
      "Error.\n",
      "Error.\n",
      "Error.\n",
      "Error.\n"
     ]
    }
   ],
   "source": [
    "price_dic = {}\n",
    "error_list = []\n",
    "\n",
    "for ticker in ticker_list:\n",
    "    \n",
    "    try:\n",
    "        price_df = get_data(ticker=ticker,\n",
    "                        start_date=start_date,\n",
    "                        end_date=end_date,\n",
    "                        index_as_date=True,\n",
    "                        interval=\"1d\")\n",
    "        \n",
    "        price_dic[ticker] = price_df\n",
    "    \n",
    "    except:\n",
    "        \n",
    "        print(\"Error.\")\n",
    "        error_list.append(ticker)\n",
    "    \n",
    "    #time.sleep(1)"
   ]
  },
  {
   "cell_type": "code",
   "execution_count": null,
   "metadata": {},
   "outputs": [],
   "source": []
  },
  {
   "cell_type": "code",
   "execution_count": null,
   "metadata": {},
   "outputs": [],
   "source": []
  },
  {
   "cell_type": "code",
   "execution_count": 40,
   "metadata": {},
   "outputs": [],
   "source": [
    "price_df_list = [price_dic[ticker] for ticker in ticker_list if ticker not in error_list]\n",
    "price_df = pd.concat(price_df_list,axis=0)"
   ]
  },
  {
   "cell_type": "code",
   "execution_count": null,
   "metadata": {},
   "outputs": [],
   "source": []
  },
  {
   "cell_type": "markdown",
   "metadata": {},
   "source": [
    "### Filter the universe by average transaction volume"
   ]
  },
  {
   "cell_type": "code",
   "execution_count": null,
   "metadata": {},
   "outputs": [],
   "source": []
  },
  {
   "cell_type": "code",
   "execution_count": 41,
   "metadata": {},
   "outputs": [],
   "source": [
    "average_volume = price_df[[\"volume\",\"ticker\"]].groupby(\"ticker\").mean()\n",
    "volume_threshold = average_volume.describe().loc[\"25%\",:][0]\n",
    "universe_list = list(average_volume[average_volume>volume_threshold].index)"
   ]
  },
  {
   "cell_type": "code",
   "execution_count": null,
   "metadata": {},
   "outputs": [],
   "source": []
  },
  {
   "cell_type": "code",
   "execution_count": 42,
   "metadata": {},
   "outputs": [],
   "source": [
    "price_df_list = [price_dic[ticker] for ticker in universe_list]\n",
    "price_df = pd.concat(price_df_list,axis=0)"
   ]
  },
  {
   "cell_type": "code",
   "execution_count": null,
   "metadata": {},
   "outputs": [],
   "source": []
  },
  {
   "cell_type": "code",
   "execution_count": null,
   "metadata": {},
   "outputs": [],
   "source": []
  },
  {
   "cell_type": "markdown",
   "metadata": {},
   "source": [
    "### Calculate Signal"
   ]
  },
  {
   "cell_type": "code",
   "execution_count": 43,
   "metadata": {},
   "outputs": [],
   "source": [
    "price_df[\"date\"] = price_df.index\n",
    "price_wide = price_df.pivot_table(values=\"close\",columns=\"ticker\",index=\"date\")\n",
    "\n",
    "\n",
    "signal = price_wide.pct_change(look_back)\n",
    "signal = signal.iloc[-1,:].dropna()"
   ]
  },
  {
   "cell_type": "code",
   "execution_count": null,
   "metadata": {},
   "outputs": [],
   "source": []
  },
  {
   "cell_type": "code",
   "execution_count": null,
   "metadata": {},
   "outputs": [],
   "source": []
  },
  {
   "cell_type": "markdown",
   "metadata": {},
   "source": [
    "### Create Portfolios"
   ]
  },
  {
   "cell_type": "code",
   "execution_count": 44,
   "metadata": {},
   "outputs": [],
   "source": [
    "top_portfolio = signal.nlargest(portfolio_size)\n",
    "bottom_portfolio = signal.nsmallest(portfolio_size)\n",
    "\n",
    "top_portfolio = pd.DataFrame(top_portfolio).T\n",
    "bottom_portfolio = pd.DataFrame(bottom_portfolio).T"
   ]
  },
  {
   "cell_type": "code",
   "execution_count": 45,
   "metadata": {},
   "outputs": [
    {
     "data": {
      "text/html": [
       "<div>\n",
       "<style scoped>\n",
       "    .dataframe tbody tr th:only-of-type {\n",
       "        vertical-align: middle;\n",
       "    }\n",
       "\n",
       "    .dataframe tbody tr th {\n",
       "        vertical-align: top;\n",
       "    }\n",
       "\n",
       "    .dataframe thead th {\n",
       "        text-align: right;\n",
       "    }\n",
       "</style>\n",
       "<table border=\"1\" class=\"dataframe\">\n",
       "  <thead>\n",
       "    <tr style=\"text-align: right;\">\n",
       "      <th>ticker</th>\n",
       "      <th>HSS-USD</th>\n",
       "      <th>EDG-USD</th>\n",
       "      <th>BPS-USD</th>\n",
       "      <th>INSTAR-USD</th>\n",
       "      <th>NIX-USD</th>\n",
       "      <th>DIME-USD</th>\n",
       "      <th>DUN-USD</th>\n",
       "      <th>QRK-USD</th>\n",
       "      <th>SFT-USD</th>\n",
       "      <th>BCA-USD</th>\n",
       "    </tr>\n",
       "  </thead>\n",
       "  <tbody>\n",
       "    <tr>\n",
       "      <th>2021-01-14</th>\n",
       "      <td>-0.656698</td>\n",
       "      <td>-0.387778</td>\n",
       "      <td>-0.317568</td>\n",
       "      <td>-0.303853</td>\n",
       "      <td>-0.303275</td>\n",
       "      <td>-0.257898</td>\n",
       "      <td>-0.250261</td>\n",
       "      <td>-0.217668</td>\n",
       "      <td>-0.20359</td>\n",
       "      <td>-0.192585</td>\n",
       "    </tr>\n",
       "  </tbody>\n",
       "</table>\n",
       "</div>"
      ],
      "text/plain": [
       "ticker       HSS-USD   EDG-USD   BPS-USD  INSTAR-USD   NIX-USD  DIME-USD  \\\n",
       "2021-01-14 -0.656698 -0.387778 -0.317568   -0.303853 -0.303275 -0.257898   \n",
       "\n",
       "ticker       DUN-USD   QRK-USD  SFT-USD   BCA-USD  \n",
       "2021-01-14 -0.250261 -0.217668 -0.20359 -0.192585  "
      ]
     },
     "execution_count": 45,
     "metadata": {},
     "output_type": "execute_result"
    }
   ],
   "source": [
    "bottom_portfolio"
   ]
  },
  {
   "cell_type": "code",
   "execution_count": null,
   "metadata": {},
   "outputs": [],
   "source": []
  },
  {
   "cell_type": "code",
   "execution_count": null,
   "metadata": {},
   "outputs": [],
   "source": []
  },
  {
   "cell_type": "markdown",
   "metadata": {},
   "source": [
    "### Write the Log"
   ]
  },
  {
   "cell_type": "code",
   "execution_count": 46,
   "metadata": {},
   "outputs": [],
   "source": [
    "top_portfolio.to_csv(log_directory+\"top_portfolio\"+end_date+\"current.csv\")\n",
    "bottom_portfolio.to_csv(log_directory+\"bottom_portfolio\"+end_date+\"current.csv\")"
   ]
  },
  {
   "cell_type": "code",
   "execution_count": null,
   "metadata": {},
   "outputs": [],
   "source": []
  },
  {
   "cell_type": "code",
   "execution_count": 48,
   "metadata": {},
   "outputs": [],
   "source": [
    "price_df.to_csv(log_directory+\"track_1214_record_1214_current.csv\")"
   ]
  },
  {
   "cell_type": "code",
   "execution_count": 47,
   "metadata": {},
   "outputs": [
    {
     "data": {
      "text/html": [
       "<div>\n",
       "<style scoped>\n",
       "    .dataframe tbody tr th:only-of-type {\n",
       "        vertical-align: middle;\n",
       "    }\n",
       "\n",
       "    .dataframe tbody tr th {\n",
       "        vertical-align: top;\n",
       "    }\n",
       "\n",
       "    .dataframe thead th {\n",
       "        text-align: right;\n",
       "    }\n",
       "</style>\n",
       "<table border=\"1\" class=\"dataframe\">\n",
       "  <thead>\n",
       "    <tr style=\"text-align: right;\">\n",
       "      <th></th>\n",
       "      <th>open</th>\n",
       "      <th>high</th>\n",
       "      <th>low</th>\n",
       "      <th>close</th>\n",
       "      <th>adjclose</th>\n",
       "      <th>volume</th>\n",
       "      <th>ticker</th>\n",
       "      <th>date</th>\n",
       "    </tr>\n",
       "  </thead>\n",
       "  <tbody>\n",
       "    <tr>\n",
       "      <th>2021-01-11</th>\n",
       "      <td>0.211938</td>\n",
       "      <td>0.211938</td>\n",
       "      <td>0.171604</td>\n",
       "      <td>0.191714</td>\n",
       "      <td>0.191714</td>\n",
       "      <td>31669775.0</td>\n",
       "      <td>ABBC-USD</td>\n",
       "      <td>2021-01-11</td>\n",
       "    </tr>\n",
       "    <tr>\n",
       "      <th>2021-01-12</th>\n",
       "      <td>0.191850</td>\n",
       "      <td>0.195341</td>\n",
       "      <td>0.181000</td>\n",
       "      <td>0.183068</td>\n",
       "      <td>0.183068</td>\n",
       "      <td>49136081.0</td>\n",
       "      <td>ABBC-USD</td>\n",
       "      <td>2021-01-12</td>\n",
       "    </tr>\n",
       "    <tr>\n",
       "      <th>2021-01-13</th>\n",
       "      <td>0.183223</td>\n",
       "      <td>0.218106</td>\n",
       "      <td>0.178832</td>\n",
       "      <td>0.207765</td>\n",
       "      <td>0.207765</td>\n",
       "      <td>50210576.0</td>\n",
       "      <td>ABBC-USD</td>\n",
       "      <td>2021-01-13</td>\n",
       "    </tr>\n",
       "    <tr>\n",
       "      <th>2021-01-14</th>\n",
       "      <td>0.206644</td>\n",
       "      <td>0.240374</td>\n",
       "      <td>0.203359</td>\n",
       "      <td>0.238555</td>\n",
       "      <td>0.238555</td>\n",
       "      <td>52376480.0</td>\n",
       "      <td>ABBC-USD</td>\n",
       "      <td>2021-01-14</td>\n",
       "    </tr>\n",
       "    <tr>\n",
       "      <th>2021-01-11</th>\n",
       "      <td>0.003684</td>\n",
       "      <td>0.003686</td>\n",
       "      <td>0.002915</td>\n",
       "      <td>0.003209</td>\n",
       "      <td>0.003209</td>\n",
       "      <td>1327925.0</td>\n",
       "      <td>ACH-USD</td>\n",
       "      <td>2021-01-11</td>\n",
       "    </tr>\n",
       "    <tr>\n",
       "      <th>...</th>\n",
       "      <td>...</td>\n",
       "      <td>...</td>\n",
       "      <td>...</td>\n",
       "      <td>...</td>\n",
       "      <td>...</td>\n",
       "      <td>...</td>\n",
       "      <td>...</td>\n",
       "      <td>...</td>\n",
       "    </tr>\n",
       "    <tr>\n",
       "      <th>2021-01-14</th>\n",
       "      <td>0.492583</td>\n",
       "      <td>0.506074</td>\n",
       "      <td>0.482297</td>\n",
       "      <td>0.501299</td>\n",
       "      <td>0.501299</td>\n",
       "      <td>148594064.0</td>\n",
       "      <td>ZRX-USD</td>\n",
       "      <td>2021-01-14</td>\n",
       "    </tr>\n",
       "    <tr>\n",
       "      <th>2021-01-11</th>\n",
       "      <td>0.847574</td>\n",
       "      <td>0.898814</td>\n",
       "      <td>0.770470</td>\n",
       "      <td>0.879544</td>\n",
       "      <td>0.879544</td>\n",
       "      <td>206798.0</td>\n",
       "      <td>ZYN-USD</td>\n",
       "      <td>2021-01-11</td>\n",
       "    </tr>\n",
       "    <tr>\n",
       "      <th>2021-01-12</th>\n",
       "      <td>0.880410</td>\n",
       "      <td>0.952647</td>\n",
       "      <td>0.847289</td>\n",
       "      <td>0.866702</td>\n",
       "      <td>0.866702</td>\n",
       "      <td>185179.0</td>\n",
       "      <td>ZYN-USD</td>\n",
       "      <td>2021-01-12</td>\n",
       "    </tr>\n",
       "    <tr>\n",
       "      <th>2021-01-13</th>\n",
       "      <td>0.867233</td>\n",
       "      <td>0.909577</td>\n",
       "      <td>0.853265</td>\n",
       "      <td>0.907526</td>\n",
       "      <td>0.907526</td>\n",
       "      <td>127190.0</td>\n",
       "      <td>ZYN-USD</td>\n",
       "      <td>2021-01-13</td>\n",
       "    </tr>\n",
       "    <tr>\n",
       "      <th>2021-01-14</th>\n",
       "      <td>0.903188</td>\n",
       "      <td>0.973713</td>\n",
       "      <td>0.888943</td>\n",
       "      <td>0.934009</td>\n",
       "      <td>0.934009</td>\n",
       "      <td>82124.0</td>\n",
       "      <td>ZYN-USD</td>\n",
       "      <td>2021-01-14</td>\n",
       "    </tr>\n",
       "  </tbody>\n",
       "</table>\n",
       "<p>1445 rows × 8 columns</p>\n",
       "</div>"
      ],
      "text/plain": [
       "                open      high       low     close  adjclose       volume  \\\n",
       "2021-01-11  0.211938  0.211938  0.171604  0.191714  0.191714   31669775.0   \n",
       "2021-01-12  0.191850  0.195341  0.181000  0.183068  0.183068   49136081.0   \n",
       "2021-01-13  0.183223  0.218106  0.178832  0.207765  0.207765   50210576.0   \n",
       "2021-01-14  0.206644  0.240374  0.203359  0.238555  0.238555   52376480.0   \n",
       "2021-01-11  0.003684  0.003686  0.002915  0.003209  0.003209    1327925.0   \n",
       "...              ...       ...       ...       ...       ...          ...   \n",
       "2021-01-14  0.492583  0.506074  0.482297  0.501299  0.501299  148594064.0   \n",
       "2021-01-11  0.847574  0.898814  0.770470  0.879544  0.879544     206798.0   \n",
       "2021-01-12  0.880410  0.952647  0.847289  0.866702  0.866702     185179.0   \n",
       "2021-01-13  0.867233  0.909577  0.853265  0.907526  0.907526     127190.0   \n",
       "2021-01-14  0.903188  0.973713  0.888943  0.934009  0.934009      82124.0   \n",
       "\n",
       "              ticker       date  \n",
       "2021-01-11  ABBC-USD 2021-01-11  \n",
       "2021-01-12  ABBC-USD 2021-01-12  \n",
       "2021-01-13  ABBC-USD 2021-01-13  \n",
       "2021-01-14  ABBC-USD 2021-01-14  \n",
       "2021-01-11   ACH-USD 2021-01-11  \n",
       "...              ...        ...  \n",
       "2021-01-14   ZRX-USD 2021-01-14  \n",
       "2021-01-11   ZYN-USD 2021-01-11  \n",
       "2021-01-12   ZYN-USD 2021-01-12  \n",
       "2021-01-13   ZYN-USD 2021-01-13  \n",
       "2021-01-14   ZYN-USD 2021-01-14  \n",
       "\n",
       "[1445 rows x 8 columns]"
      ]
     },
     "execution_count": 47,
     "metadata": {},
     "output_type": "execute_result"
    }
   ],
   "source": [
    "price_df"
   ]
  },
  {
   "cell_type": "code",
   "execution_count": null,
   "metadata": {},
   "outputs": [],
   "source": []
  },
  {
   "cell_type": "code",
   "execution_count": null,
   "metadata": {},
   "outputs": [],
   "source": []
  },
  {
   "cell_type": "code",
   "execution_count": null,
   "metadata": {},
   "outputs": [],
   "source": []
  },
  {
   "cell_type": "code",
   "execution_count": null,
   "metadata": {},
   "outputs": [],
   "source": []
  },
  {
   "cell_type": "code",
   "execution_count": null,
   "metadata": {},
   "outputs": [],
   "source": []
  },
  {
   "cell_type": "code",
   "execution_count": null,
   "metadata": {},
   "outputs": [],
   "source": []
  },
  {
   "cell_type": "code",
   "execution_count": null,
   "metadata": {},
   "outputs": [],
   "source": []
  },
  {
   "cell_type": "code",
   "execution_count": null,
   "metadata": {},
   "outputs": [],
   "source": []
  },
  {
   "cell_type": "code",
   "execution_count": null,
   "metadata": {},
   "outputs": [],
   "source": []
  },
  {
   "cell_type": "code",
   "execution_count": null,
   "metadata": {},
   "outputs": [],
   "source": []
  },
  {
   "cell_type": "code",
   "execution_count": null,
   "metadata": {},
   "outputs": [],
   "source": []
  },
  {
   "cell_type": "code",
   "execution_count": null,
   "metadata": {},
   "outputs": [],
   "source": []
  },
  {
   "cell_type": "code",
   "execution_count": null,
   "metadata": {},
   "outputs": [],
   "source": []
  },
  {
   "cell_type": "code",
   "execution_count": null,
   "metadata": {},
   "outputs": [],
   "source": []
  },
  {
   "cell_type": "code",
   "execution_count": null,
   "metadata": {},
   "outputs": [],
   "source": []
  },
  {
   "cell_type": "code",
   "execution_count": null,
   "metadata": {},
   "outputs": [],
   "source": []
  }
 ],
 "metadata": {
  "kernelspec": {
   "display_name": "Python 3",
   "language": "python",
   "name": "python3"
  },
  "language_info": {
   "codemirror_mode": {
    "name": "ipython",
    "version": 3
   },
   "file_extension": ".py",
   "mimetype": "text/x-python",
   "name": "python",
   "nbconvert_exporter": "python",
   "pygments_lexer": "ipython3",
   "version": "3.8.5"
  }
 },
 "nbformat": 4,
 "nbformat_minor": 4
}
