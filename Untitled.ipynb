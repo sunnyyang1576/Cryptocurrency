{
 "cells": [
  {
   "cell_type": "code",
   "execution_count": null,
   "metadata": {},
   "outputs": [],
   "source": []
  },
  {
   "cell_type": "code",
   "execution_count": 1,
   "metadata": {},
   "outputs": [],
   "source": [
    "import pandas as pd\n",
    "import numpy as np"
   ]
  },
  {
   "cell_type": "code",
   "execution_count": null,
   "metadata": {},
   "outputs": [],
   "source": []
  },
  {
   "cell_type": "code",
   "execution_count": 3,
   "metadata": {},
   "outputs": [],
   "source": [
    "df = pd.read_csv(\"data/all_cryptocurrency_price_data.csv\")"
   ]
  },
  {
   "cell_type": "code",
   "execution_count": 5,
   "metadata": {},
   "outputs": [],
   "source": [
    "df.iloc[:,0] = pd.to_datetime(df.iloc[:,0])\n",
    "df.index = df.iloc[:,0]\n",
    "df = df.iloc[:,1:]"
   ]
  },
  {
   "cell_type": "code",
   "execution_count": 15,
   "metadata": {},
   "outputs": [],
   "source": [
    "sub_df = df[df.index > \"2018-01-01\"]"
   ]
  },
  {
   "cell_type": "code",
   "execution_count": 20,
   "metadata": {},
   "outputs": [],
   "source": [
    "asset_list = list(sub_df.iloc[0,:].dropna().index)"
   ]
  },
  {
   "cell_type": "code",
   "execution_count": 28,
   "metadata": {},
   "outputs": [],
   "source": [
    "meta_list = [\"id\",\"name\"]"
   ]
  },
  {
   "cell_type": "code",
   "execution_count": 37,
   "metadata": {},
   "outputs": [],
   "source": [
    "asset_string = \",\".join(asset_list)\n",
    "meta_string = \",\".join(meta_list)"
   ]
  },
  {
   "cell_type": "code",
   "execution_count": 38,
   "metadata": {},
   "outputs": [],
   "source": [
    "common_url_part = \"https://api.nomics.com/\"\n",
    "HEADER = {'User-Agent':\"Mozilla/5.0 (Macintosh; Intel Mac OS X 10_14_6) AppleWebKit/537.36 (KHTML, like Gecko) Chrome/85.0.4183.102 Safari/537.36\"}\n",
    "time_sleep = 1\n",
    "\n",
    "\n",
    "API_KEY = \"d8bd9f65d2056ef411a62282b83778ff\""
   ]
  },
  {
   "cell_type": "code",
   "execution_count": null,
   "metadata": {},
   "outputs": [],
   "source": []
  },
  {
   "cell_type": "code",
   "execution_count": 39,
   "metadata": {},
   "outputs": [],
   "source": [
    "url = \"{}v1/currencies?key={}&ids={}&attributes={}\".format(common_url_part,API_KEY,asset_string,meta_string)"
   ]
  },
  {
   "cell_type": "code",
   "execution_count": 40,
   "metadata": {},
   "outputs": [
    {
     "data": {
      "text/plain": [
       "'https://api.nomics.com/v1/currencies?key=d8bd9f65d2056ef411a62282b83778ff&ids=CLF,NAD,AMD,SCR,RSD,BMD,MMK,SEK,BGN,CRC,SLL,WST,IMP,IDR,BIF,IRR,XPF,DKK,ARS,SOS,COP,BWP,AUD,MVR,USD,JPY,GHS,RUB,VEF,NOK,SHP,BYR,CVE,ALL,HTG,SZL,KWD,BTC,BHD,HNL,MYR,CHF,GYD,TRY,FKP,ZMW,CAD,PLN,SYP,TOP,CDF,NIO,UAH,BTN,PKR,KZT,SVC,GBP,MWK,RON,KHR,LKR,PYG,DZD,HRK,SGD,RWF,IQD,GNF,NPR,SDG,ANG,BBD,AWG,MAD,CUP,LRD,JOD,KYD,PGK,HUF,LVL,GTQ,HKD,MRO,PAB,TJS,BDT,EGP,JMD,MZN,KRW,XDR,KMF,MOP,OMR,XCD,MNT,KES,VND,SAR,NZD,GGP,LTL,ETH,ILS,KGS,FJD,AFN,QAR,AZN,TMT,INR,TWD,JEP,KPW,ETB,MDL,VUV,SBD,MUR,PHP,BRL,ZAR,MGA,AOA,BZD,DOP,YER,BND,CUC,STD,TTD,ISK,TND,LAK,UGX,TZS,XOF,LYD,LBP,CLP,LSL,MXN,CNY,BOB,GIP,THB,CZK,GMD,EUR,UYU,XAU,XAF,XAG,GEL,SRD,MKD,NGN,UZS,ZMK,BSD,ZWL,ERN,PEN,DJF,AED,BAM,BYN&attributes=id,name'"
      ]
     },
     "execution_count": 40,
     "metadata": {},
     "output_type": "execute_result"
    }
   ],
   "source": [
    "url"
   ]
  },
  {
   "cell_type": "code",
   "execution_count": null,
   "metadata": {},
   "outputs": [],
   "source": []
  },
  {
   "cell_type": "code",
   "execution_count": 36,
   "metadata": {},
   "outputs": [],
   "source": [
    "asset_list = list(sub_df.columns)"
   ]
  },
  {
   "cell_type": "code",
   "execution_count": null,
   "metadata": {},
   "outputs": [],
   "source": []
  },
  {
   "cell_type": "code",
   "execution_count": null,
   "metadata": {},
   "outputs": [],
   "source": []
  }
 ],
 "metadata": {
  "kernelspec": {
   "display_name": "Python 3",
   "language": "python",
   "name": "python3"
  },
  "language_info": {
   "codemirror_mode": {
    "name": "ipython",
    "version": 3
   },
   "file_extension": ".py",
   "mimetype": "text/x-python",
   "name": "python",
   "nbconvert_exporter": "python",
   "pygments_lexer": "ipython3",
   "version": "3.7.6"
  }
 },
 "nbformat": 4,
 "nbformat_minor": 4
}
