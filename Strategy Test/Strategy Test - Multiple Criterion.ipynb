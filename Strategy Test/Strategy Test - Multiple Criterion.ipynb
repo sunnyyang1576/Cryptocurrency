{
 "cells": [
  {
   "cell_type": "code",
   "execution_count": null,
   "metadata": {},
   "outputs": [],
   "source": []
  },
  {
   "cell_type": "code",
   "execution_count": 1,
   "metadata": {},
   "outputs": [],
   "source": [
    "import pandas as pd\n",
    "import numpy as np"
   ]
  },
  {
   "cell_type": "code",
   "execution_count": null,
   "metadata": {},
   "outputs": [],
   "source": []
  },
  {
   "cell_type": "code",
   "execution_count": 2,
   "metadata": {},
   "outputs": [],
   "source": [
    "from src.PortfolioIndicator import PortfolioIndicator\n",
    "from src.PortfolioConstructor import PortfolioConstructor"
   ]
  },
  {
   "cell_type": "code",
   "execution_count": null,
   "metadata": {},
   "outputs": [],
   "source": []
  },
  {
   "cell_type": "markdown",
   "metadata": {},
   "source": [
    "### Import Data"
   ]
  },
  {
   "cell_type": "code",
   "execution_count": 3,
   "metadata": {},
   "outputs": [],
   "source": [
    "data_directory = \"data/\"\n",
    "file = \"yahoo_data_filter_0_1.csv\""
   ]
  },
  {
   "cell_type": "code",
   "execution_count": 4,
   "metadata": {},
   "outputs": [],
   "source": [
    "df = pd.read_csv(data_directory+file)\n",
    "df.index = pd.to_datetime(df.iloc[:,0])\n",
    "df = df.iloc[:,1:]"
   ]
  },
  {
   "cell_type": "code",
   "execution_count": 5,
   "metadata": {},
   "outputs": [
    {
     "data": {
      "text/html": [
       "<div>\n",
       "<style scoped>\n",
       "    .dataframe tbody tr th:only-of-type {\n",
       "        vertical-align: middle;\n",
       "    }\n",
       "\n",
       "    .dataframe tbody tr th {\n",
       "        vertical-align: top;\n",
       "    }\n",
       "\n",
       "    .dataframe thead th {\n",
       "        text-align: right;\n",
       "    }\n",
       "</style>\n",
       "<table border=\"1\" class=\"dataframe\">\n",
       "  <thead>\n",
       "    <tr style=\"text-align: right;\">\n",
       "      <th></th>\n",
       "      <th>ADA-USD</th>\n",
       "      <th>ADX-USD</th>\n",
       "      <th>AE-USD</th>\n",
       "      <th>ANT-USD</th>\n",
       "      <th>ARDR-USD</th>\n",
       "      <th>ARK-USD</th>\n",
       "      <th>ATB-USD</th>\n",
       "      <th>BAT-USD</th>\n",
       "      <th>BCH-USD</th>\n",
       "      <th>BLOCK-USD</th>\n",
       "      <th>...</th>\n",
       "      <th>XEM-USD</th>\n",
       "      <th>XLM-USD</th>\n",
       "      <th>XMR-USD</th>\n",
       "      <th>XRP-USD</th>\n",
       "      <th>XUC-USD</th>\n",
       "      <th>XVG-USD</th>\n",
       "      <th>XZC-USD</th>\n",
       "      <th>ZEC-USD</th>\n",
       "      <th>ZEN-USD</th>\n",
       "      <th>ZRX-USD</th>\n",
       "    </tr>\n",
       "    <tr>\n",
       "      <th>date</th>\n",
       "      <th></th>\n",
       "      <th></th>\n",
       "      <th></th>\n",
       "      <th></th>\n",
       "      <th></th>\n",
       "      <th></th>\n",
       "      <th></th>\n",
       "      <th></th>\n",
       "      <th></th>\n",
       "      <th></th>\n",
       "      <th></th>\n",
       "      <th></th>\n",
       "      <th></th>\n",
       "      <th></th>\n",
       "      <th></th>\n",
       "      <th></th>\n",
       "      <th></th>\n",
       "      <th></th>\n",
       "      <th></th>\n",
       "      <th></th>\n",
       "      <th></th>\n",
       "    </tr>\n",
       "  </thead>\n",
       "  <tbody>\n",
       "    <tr>\n",
       "      <th>2017-12-31</th>\n",
       "      <td>0.719695</td>\n",
       "      <td>2.78937</td>\n",
       "      <td>1.32136</td>\n",
       "      <td>3.88903</td>\n",
       "      <td>1.72013</td>\n",
       "      <td>7.04232</td>\n",
       "      <td>0.447756</td>\n",
       "      <td>0.412203</td>\n",
       "      <td>2533.010010</td>\n",
       "      <td>44.567799</td>\n",
       "      <td>...</td>\n",
       "      <td>1.03405</td>\n",
       "      <td>0.360756</td>\n",
       "      <td>349.026001</td>\n",
       "      <td>2.30057</td>\n",
       "      <td>8.88856</td>\n",
       "      <td>0.222600</td>\n",
       "      <td>112.322998</td>\n",
       "      <td>505.510986</td>\n",
       "      <td>59.787899</td>\n",
       "      <td>0.895721</td>\n",
       "    </tr>\n",
       "    <tr>\n",
       "      <th>2018-01-01</th>\n",
       "      <td>0.728657</td>\n",
       "      <td>3.10880</td>\n",
       "      <td>1.30022</td>\n",
       "      <td>4.27365</td>\n",
       "      <td>1.60770</td>\n",
       "      <td>7.60626</td>\n",
       "      <td>0.445190</td>\n",
       "      <td>0.475599</td>\n",
       "      <td>2432.540039</td>\n",
       "      <td>41.992901</td>\n",
       "      <td>...</td>\n",
       "      <td>1.04137</td>\n",
       "      <td>0.480008</td>\n",
       "      <td>358.989990</td>\n",
       "      <td>2.39103</td>\n",
       "      <td>9.01810</td>\n",
       "      <td>0.156131</td>\n",
       "      <td>125.442001</td>\n",
       "      <td>577.192993</td>\n",
       "      <td>56.268101</td>\n",
       "      <td>0.877714</td>\n",
       "    </tr>\n",
       "    <tr>\n",
       "      <th>2018-01-02</th>\n",
       "      <td>0.782587</td>\n",
       "      <td>2.95154</td>\n",
       "      <td>1.38313</td>\n",
       "      <td>4.60514</td>\n",
       "      <td>1.83907</td>\n",
       "      <td>7.87181</td>\n",
       "      <td>0.462033</td>\n",
       "      <td>0.563300</td>\n",
       "      <td>2711.000000</td>\n",
       "      <td>44.665798</td>\n",
       "      <td>...</td>\n",
       "      <td>1.16018</td>\n",
       "      <td>0.564766</td>\n",
       "      <td>383.416992</td>\n",
       "      <td>2.48090</td>\n",
       "      <td>9.47555</td>\n",
       "      <td>0.144905</td>\n",
       "      <td>126.078003</td>\n",
       "      <td>583.505981</td>\n",
       "      <td>52.121899</td>\n",
       "      <td>0.896672</td>\n",
       "    </tr>\n",
       "    <tr>\n",
       "      <th>2018-01-03</th>\n",
       "      <td>1.079660</td>\n",
       "      <td>2.85780</td>\n",
       "      <td>1.52833</td>\n",
       "      <td>6.55136</td>\n",
       "      <td>1.95408</td>\n",
       "      <td>7.59385</td>\n",
       "      <td>0.490322</td>\n",
       "      <td>0.651219</td>\n",
       "      <td>2608.689941</td>\n",
       "      <td>49.891701</td>\n",
       "      <td>...</td>\n",
       "      <td>1.79028</td>\n",
       "      <td>0.896227</td>\n",
       "      <td>412.062988</td>\n",
       "      <td>3.10537</td>\n",
       "      <td>9.92106</td>\n",
       "      <td>0.145221</td>\n",
       "      <td>124.279999</td>\n",
       "      <td>581.888977</td>\n",
       "      <td>50.143101</td>\n",
       "      <td>0.974472</td>\n",
       "    </tr>\n",
       "    <tr>\n",
       "      <th>2018-01-04</th>\n",
       "      <td>1.114120</td>\n",
       "      <td>2.85536</td>\n",
       "      <td>1.80678</td>\n",
       "      <td>6.27358</td>\n",
       "      <td>1.78215</td>\n",
       "      <td>7.11654</td>\n",
       "      <td>0.474837</td>\n",
       "      <td>0.634125</td>\n",
       "      <td>2430.179932</td>\n",
       "      <td>50.342300</td>\n",
       "      <td>...</td>\n",
       "      <td>1.64481</td>\n",
       "      <td>0.724050</td>\n",
       "      <td>403.048004</td>\n",
       "      <td>3.19663</td>\n",
       "      <td>10.46710</td>\n",
       "      <td>0.159184</td>\n",
       "      <td>117.002998</td>\n",
       "      <td>595.190002</td>\n",
       "      <td>55.009499</td>\n",
       "      <td>1.045260</td>\n",
       "    </tr>\n",
       "  </tbody>\n",
       "</table>\n",
       "<p>5 rows × 95 columns</p>\n",
       "</div>"
      ],
      "text/plain": [
       "             ADA-USD  ADX-USD   AE-USD  ANT-USD  ARDR-USD  ARK-USD   ATB-USD  \\\n",
       "date                                                                           \n",
       "2017-12-31  0.719695  2.78937  1.32136  3.88903   1.72013  7.04232  0.447756   \n",
       "2018-01-01  0.728657  3.10880  1.30022  4.27365   1.60770  7.60626  0.445190   \n",
       "2018-01-02  0.782587  2.95154  1.38313  4.60514   1.83907  7.87181  0.462033   \n",
       "2018-01-03  1.079660  2.85780  1.52833  6.55136   1.95408  7.59385  0.490322   \n",
       "2018-01-04  1.114120  2.85536  1.80678  6.27358   1.78215  7.11654  0.474837   \n",
       "\n",
       "             BAT-USD      BCH-USD  BLOCK-USD  ...  XEM-USD   XLM-USD  \\\n",
       "date                                          ...                      \n",
       "2017-12-31  0.412203  2533.010010  44.567799  ...  1.03405  0.360756   \n",
       "2018-01-01  0.475599  2432.540039  41.992901  ...  1.04137  0.480008   \n",
       "2018-01-02  0.563300  2711.000000  44.665798  ...  1.16018  0.564766   \n",
       "2018-01-03  0.651219  2608.689941  49.891701  ...  1.79028  0.896227   \n",
       "2018-01-04  0.634125  2430.179932  50.342300  ...  1.64481  0.724050   \n",
       "\n",
       "               XMR-USD  XRP-USD   XUC-USD   XVG-USD     XZC-USD     ZEC-USD  \\\n",
       "date                                                                          \n",
       "2017-12-31  349.026001  2.30057   8.88856  0.222600  112.322998  505.510986   \n",
       "2018-01-01  358.989990  2.39103   9.01810  0.156131  125.442001  577.192993   \n",
       "2018-01-02  383.416992  2.48090   9.47555  0.144905  126.078003  583.505981   \n",
       "2018-01-03  412.062988  3.10537   9.92106  0.145221  124.279999  581.888977   \n",
       "2018-01-04  403.048004  3.19663  10.46710  0.159184  117.002998  595.190002   \n",
       "\n",
       "              ZEN-USD   ZRX-USD  \n",
       "date                             \n",
       "2017-12-31  59.787899  0.895721  \n",
       "2018-01-01  56.268101  0.877714  \n",
       "2018-01-02  52.121899  0.896672  \n",
       "2018-01-03  50.143101  0.974472  \n",
       "2018-01-04  55.009499  1.045260  \n",
       "\n",
       "[5 rows x 95 columns]"
      ]
     },
     "execution_count": 5,
     "metadata": {},
     "output_type": "execute_result"
    }
   ],
   "source": [
    "df.head()"
   ]
  },
  {
   "cell_type": "code",
   "execution_count": null,
   "metadata": {},
   "outputs": [],
   "source": []
  },
  {
   "cell_type": "markdown",
   "metadata": {},
   "source": [
    "### Strategy Test"
   ]
  },
  {
   "cell_type": "code",
   "execution_count": 7,
   "metadata": {},
   "outputs": [],
   "source": [
    "universe_df = df"
   ]
  },
  {
   "cell_type": "markdown",
   "metadata": {},
   "source": [
    "#### Calculate Multiple Signal"
   ]
  },
  {
   "cell_type": "code",
   "execution_count": null,
   "metadata": {},
   "outputs": [],
   "source": []
  },
  {
   "cell_type": "code",
   "execution_count": 8,
   "metadata": {},
   "outputs": [],
   "source": [
    "momentum_period = 3\n",
    "waiting_time = 1"
   ]
  },
  {
   "cell_type": "code",
   "execution_count": 9,
   "metadata": {},
   "outputs": [],
   "source": [
    "complete_ret_sub_df_3 = universe_df.pct_change(periods=momentum_period).shift(waiting_time).dropna()"
   ]
  },
  {
   "cell_type": "code",
   "execution_count": 11,
   "metadata": {},
   "outputs": [],
   "source": [
    "momentum_period = 1\n",
    "waiting_time = 1"
   ]
  },
  {
   "cell_type": "code",
   "execution_count": 12,
   "metadata": {},
   "outputs": [],
   "source": [
    "complete_ret_sub_df_1 = universe_df.pct_change(periods=momentum_period).shift(waiting_time).dropna()"
   ]
  },
  {
   "cell_type": "code",
   "execution_count": null,
   "metadata": {},
   "outputs": [],
   "source": []
  },
  {
   "cell_type": "code",
   "execution_count": null,
   "metadata": {},
   "outputs": [],
   "source": []
  },
  {
   "cell_type": "code",
   "execution_count": 14,
   "metadata": {},
   "outputs": [],
   "source": [
    "complete_ret_sub_df_long_3 = complete_ret_sub_df_3.stack()\n",
    "\n",
    "complete_ret_sub_df_long_1 = complete_ret_sub_df_1.stack()\n",
    "\n"
   ]
  },
  {
   "cell_type": "code",
   "execution_count": null,
   "metadata": {},
   "outputs": [],
   "source": []
  },
  {
   "cell_type": "code",
   "execution_count": 15,
   "metadata": {},
   "outputs": [],
   "source": [
    "signal_df_3 = complete_ret_sub_df_long_3.index.to_frame()\n",
    "signal_df_3.index = range(0,signal_df_3.shape[0])\n",
    "signal_df_3[\"momentum_3\"] = list(complete_ret_sub_df_long_3)\n",
    "signal_df_3.columns=[\"date\",\"ticker\",\"momentum_3\"]"
   ]
  },
  {
   "cell_type": "code",
   "execution_count": 17,
   "metadata": {},
   "outputs": [],
   "source": [
    "signal_df_1 = complete_ret_sub_df_long_1.index.to_frame()\n",
    "signal_df_1.index = range(0,signal_df_1.shape[0])\n",
    "signal_df_1[\"momentum_1\"] = list(complete_ret_sub_df_long_1)\n",
    "signal_df_1.columns=[\"date\",\"ticker\",\"momentum_1\"]"
   ]
  },
  {
   "cell_type": "code",
   "execution_count": 25,
   "metadata": {},
   "outputs": [],
   "source": [
    "signal_merge_df = signal_df_3.merge(signal_df_1,on=[\"date\",\"ticker\"],how=\"left\")"
   ]
  },
  {
   "cell_type": "code",
   "execution_count": null,
   "metadata": {},
   "outputs": [],
   "source": []
  },
  {
   "cell_type": "markdown",
   "metadata": {},
   "source": [
    "#### Create Double Sort Indicator"
   ]
  },
  {
   "cell_type": "code",
   "execution_count": null,
   "metadata": {},
   "outputs": [],
   "source": []
  },
  {
   "cell_type": "code",
   "execution_count": 88,
   "metadata": {},
   "outputs": [],
   "source": [
    "signal_1 = \"momentum_1\"\n",
    "signal_2 = \"momentum_3\"\n",
    "df = signal_merge_df\n",
    "\n",
    "rebalance_date_series = list(set(signal_df_3[\"date\"]))\n",
    "\n",
    "number_1 = 5\n",
    "number_2 = 2"
   ]
  },
  {
   "cell_type": "code",
   "execution_count": null,
   "metadata": {},
   "outputs": [],
   "source": []
  },
  {
   "cell_type": "code",
   "execution_count": 135,
   "metadata": {},
   "outputs": [],
   "source": [
    "rebalance_date = rebalance_date_series[0]"
   ]
  },
  {
   "cell_type": "code",
   "execution_count": 136,
   "metadata": {},
   "outputs": [],
   "source": [
    "sub_df = df[df[\"date\"] == rebalance_date]"
   ]
  },
  {
   "cell_type": "code",
   "execution_count": 137,
   "metadata": {},
   "outputs": [],
   "source": [
    "indicator_1 = pd.qcut(sub_df[signal_1],q=number_1,labels=False,duplicates=\"drop\")"
   ]
  },
  {
   "cell_type": "code",
   "execution_count": 138,
   "metadata": {},
   "outputs": [],
   "source": [
    "indicator_df_1 = pd.concat([sub_df[\"date\"],sub_df[\"ticker\"],indicator_1],axis=1)\n",
    "indicator_df_1.columns = [\"date\",\"ticker\",\"indicator_1\"]"
   ]
  },
  {
   "cell_type": "code",
   "execution_count": 139,
   "metadata": {},
   "outputs": [],
   "source": [
    "sub_df = sub_df.merge(indicator_df_1,on=[\"date\",\"ticker\"],how=\"left\")"
   ]
  },
  {
   "cell_type": "code",
   "execution_count": 140,
   "metadata": {},
   "outputs": [],
   "source": [
    "sub_df.index = sub_df[\"ticker\"]"
   ]
  },
  {
   "cell_type": "code",
   "execution_count": null,
   "metadata": {},
   "outputs": [],
   "source": []
  },
  {
   "cell_type": "code",
   "execution_count": 141,
   "metadata": {},
   "outputs": [],
   "source": [
    "def qcut(x):\n",
    "    \n",
    "    indicator_2 = pd.qcut(x[signal_2],q=number_2,labels=False,duplicates=\"drop\")\n",
    "    \n",
    "    return indicator_2"
   ]
  },
  {
   "cell_type": "code",
   "execution_count": 142,
   "metadata": {},
   "outputs": [],
   "source": [
    "indicator_2 = sub_df.groupby(\"indicator_1\").apply(qcut)"
   ]
  },
  {
   "cell_type": "code",
   "execution_count": 143,
   "metadata": {},
   "outputs": [
    {
     "data": {
      "text/plain": [
       "indicator_1  ticker   \n",
       "0            ADA-USD      1\n",
       "             ANT-USD      1\n",
       "             ARK-USD      1\n",
       "             ATB-USD      0\n",
       "             EDG-USD      0\n",
       "                         ..\n",
       "4            SYS-USD      0\n",
       "             VERI-USD     1\n",
       "             WAVES-USD    0\n",
       "             WINGS-USD    1\n",
       "             XEM-USD      0\n",
       "Name: momentum_3, Length: 95, dtype: int64"
      ]
     },
     "execution_count": 143,
     "metadata": {},
     "output_type": "execute_result"
    }
   ],
   "source": [
    "indicator_2"
   ]
  },
  {
   "cell_type": "code",
   "execution_count": 144,
   "metadata": {},
   "outputs": [],
   "source": [
    "index_df.index = index_df.iloc[:,1]"
   ]
  },
  {
   "cell_type": "code",
   "execution_count": 145,
   "metadata": {},
   "outputs": [],
   "source": [
    "index_df = indicator_2.index.to_frame()\n",
    "index_df[\"indicator_2\"] = indicator_2"
   ]
  },
  {
   "cell_type": "code",
   "execution_count": 146,
   "metadata": {},
   "outputs": [],
   "source": [
    "index_df.index = range(0,index_df.shape[0])"
   ]
  },
  {
   "cell_type": "code",
   "execution_count": 147,
   "metadata": {},
   "outputs": [],
   "source": [
    "indicator_2 = index_df"
   ]
  },
  {
   "cell_type": "code",
   "execution_count": 149,
   "metadata": {},
   "outputs": [],
   "source": [
    "sub_df.index = range(0,sub_df.shape[0])"
   ]
  },
  {
   "cell_type": "code",
   "execution_count": null,
   "metadata": {},
   "outputs": [],
   "source": []
  },
  {
   "cell_type": "code",
   "execution_count": 151,
   "metadata": {},
   "outputs": [],
   "source": [
    "sub_df = sub_df.merge(indicator_2,on=[\"indicator_1\",\"ticker\"],how=\"left\")"
   ]
  },
  {
   "cell_type": "code",
   "execution_count": 153,
   "metadata": {},
   "outputs": [],
   "source": [
    "indicator_df = sub_df[[\"date\",\"ticker\",\"indicator_1\",\"indicator_2\"]]"
   ]
  },
  {
   "cell_type": "code",
   "execution_count": 154,
   "metadata": {},
   "outputs": [
    {
     "data": {
      "text/html": [
       "<div>\n",
       "<style scoped>\n",
       "    .dataframe tbody tr th:only-of-type {\n",
       "        vertical-align: middle;\n",
       "    }\n",
       "\n",
       "    .dataframe tbody tr th {\n",
       "        vertical-align: top;\n",
       "    }\n",
       "\n",
       "    .dataframe thead th {\n",
       "        text-align: right;\n",
       "    }\n",
       "</style>\n",
       "<table border=\"1\" class=\"dataframe\">\n",
       "  <thead>\n",
       "    <tr style=\"text-align: right;\">\n",
       "      <th></th>\n",
       "      <th>date</th>\n",
       "      <th>ticker</th>\n",
       "      <th>indicator_1</th>\n",
       "      <th>indicator_2</th>\n",
       "    </tr>\n",
       "  </thead>\n",
       "  <tbody>\n",
       "    <tr>\n",
       "      <th>0</th>\n",
       "      <td>2020-09-26</td>\n",
       "      <td>ADA-USD</td>\n",
       "      <td>0</td>\n",
       "      <td>1</td>\n",
       "    </tr>\n",
       "    <tr>\n",
       "      <th>1</th>\n",
       "      <td>2020-09-26</td>\n",
       "      <td>ADX-USD</td>\n",
       "      <td>4</td>\n",
       "      <td>1</td>\n",
       "    </tr>\n",
       "    <tr>\n",
       "      <th>2</th>\n",
       "      <td>2020-09-26</td>\n",
       "      <td>AE-USD</td>\n",
       "      <td>2</td>\n",
       "      <td>1</td>\n",
       "    </tr>\n",
       "    <tr>\n",
       "      <th>3</th>\n",
       "      <td>2020-09-26</td>\n",
       "      <td>ANT-USD</td>\n",
       "      <td>0</td>\n",
       "      <td>1</td>\n",
       "    </tr>\n",
       "    <tr>\n",
       "      <th>4</th>\n",
       "      <td>2020-09-26</td>\n",
       "      <td>ARDR-USD</td>\n",
       "      <td>1</td>\n",
       "      <td>0</td>\n",
       "    </tr>\n",
       "    <tr>\n",
       "      <th>...</th>\n",
       "      <td>...</td>\n",
       "      <td>...</td>\n",
       "      <td>...</td>\n",
       "      <td>...</td>\n",
       "    </tr>\n",
       "    <tr>\n",
       "      <th>90</th>\n",
       "      <td>2020-09-26</td>\n",
       "      <td>XVG-USD</td>\n",
       "      <td>0</td>\n",
       "      <td>0</td>\n",
       "    </tr>\n",
       "    <tr>\n",
       "      <th>91</th>\n",
       "      <td>2020-09-26</td>\n",
       "      <td>XZC-USD</td>\n",
       "      <td>0</td>\n",
       "      <td>1</td>\n",
       "    </tr>\n",
       "    <tr>\n",
       "      <th>92</th>\n",
       "      <td>2020-09-26</td>\n",
       "      <td>ZEC-USD</td>\n",
       "      <td>3</td>\n",
       "      <td>1</td>\n",
       "    </tr>\n",
       "    <tr>\n",
       "      <th>93</th>\n",
       "      <td>2020-09-26</td>\n",
       "      <td>ZEN-USD</td>\n",
       "      <td>1</td>\n",
       "      <td>1</td>\n",
       "    </tr>\n",
       "    <tr>\n",
       "      <th>94</th>\n",
       "      <td>2020-09-26</td>\n",
       "      <td>ZRX-USD</td>\n",
       "      <td>0</td>\n",
       "      <td>1</td>\n",
       "    </tr>\n",
       "  </tbody>\n",
       "</table>\n",
       "<p>95 rows × 4 columns</p>\n",
       "</div>"
      ],
      "text/plain": [
       "         date    ticker  indicator_1  indicator_2\n",
       "0  2020-09-26   ADA-USD            0            1\n",
       "1  2020-09-26   ADX-USD            4            1\n",
       "2  2020-09-26    AE-USD            2            1\n",
       "3  2020-09-26   ANT-USD            0            1\n",
       "4  2020-09-26  ARDR-USD            1            0\n",
       "..        ...       ...          ...          ...\n",
       "90 2020-09-26   XVG-USD            0            0\n",
       "91 2020-09-26   XZC-USD            0            1\n",
       "92 2020-09-26   ZEC-USD            3            1\n",
       "93 2020-09-26   ZEN-USD            1            1\n",
       "94 2020-09-26   ZRX-USD            0            1\n",
       "\n",
       "[95 rows x 4 columns]"
      ]
     },
     "execution_count": 154,
     "metadata": {},
     "output_type": "execute_result"
    }
   ],
   "source": [
    "indicator_df"
   ]
  },
  {
   "cell_type": "code",
   "execution_count": null,
   "metadata": {},
   "outputs": [],
   "source": []
  },
  {
   "cell_type": "code",
   "execution_count": null,
   "metadata": {},
   "outputs": [],
   "source": []
  },
  {
   "cell_type": "code",
   "execution_count": null,
   "metadata": {},
   "outputs": [],
   "source": []
  },
  {
   "cell_type": "code",
   "execution_count": null,
   "metadata": {},
   "outputs": [],
   "source": []
  },
  {
   "cell_type": "code",
   "execution_count": null,
   "metadata": {},
   "outputs": [],
   "source": []
  },
  {
   "cell_type": "code",
   "execution_count": null,
   "metadata": {},
   "outputs": [],
   "source": []
  },
  {
   "cell_type": "code",
   "execution_count": null,
   "metadata": {},
   "outputs": [],
   "source": []
  }
 ],
 "metadata": {
  "kernelspec": {
   "display_name": "Python 3",
   "language": "python",
   "name": "python3"
  },
  "language_info": {
   "codemirror_mode": {
    "name": "ipython",
    "version": 3
   },
   "file_extension": ".py",
   "mimetype": "text/x-python",
   "name": "python",
   "nbconvert_exporter": "python",
   "pygments_lexer": "ipython3",
   "version": "3.8.5"
  }
 },
 "nbformat": 4,
 "nbformat_minor": 4
}
