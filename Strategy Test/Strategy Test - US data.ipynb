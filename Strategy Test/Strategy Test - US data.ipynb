{
 "cells": [
  {
   "cell_type": "code",
   "execution_count": null,
   "metadata": {},
   "outputs": [],
   "source": []
  },
  {
   "cell_type": "code",
   "execution_count": 1,
   "metadata": {},
   "outputs": [],
   "source": [
    "import pandas as pd\n",
    "import numpy as np\n",
    "\n",
    "from src.PortfolioIndicator import PortfolioIndicator\n",
    "from src.PortfolioConstructor import PortfolioConstructor"
   ]
  },
  {
   "cell_type": "code",
   "execution_count": null,
   "metadata": {},
   "outputs": [],
   "source": []
  },
  {
   "cell_type": "code",
   "execution_count": 2,
   "metadata": {},
   "outputs": [],
   "source": [
    "data_directory = \"data/\"\n",
    "file = \"us_stock_price_2015_2019.csv\""
   ]
  },
  {
   "cell_type": "code",
   "execution_count": null,
   "metadata": {},
   "outputs": [],
   "source": []
  },
  {
   "cell_type": "code",
   "execution_count": 108,
   "metadata": {},
   "outputs": [],
   "source": [
    "df = pd.read_csv(data_directory+file)\n",
    "df = df.iloc[:,1:]\n",
    "df[\"date\"] = pd.to_datetime(df[\"date\"])\n",
    "df = df[[\"date\",\"TICKER\",\"PRC\"]]"
   ]
  },
  {
   "cell_type": "code",
   "execution_count": 109,
   "metadata": {},
   "outputs": [],
   "source": [
    "price_df = df"
   ]
  },
  {
   "cell_type": "code",
   "execution_count": 111,
   "metadata": {},
   "outputs": [],
   "source": [
    "price_df_wide = price_df.pivot_table(values=\"PRC\",columns=\"TICKER\",index=\"date\")"
   ]
  },
  {
   "cell_type": "code",
   "execution_count": 112,
   "metadata": {},
   "outputs": [],
   "source": [
    "price_df_wide = price_df_wide.fillna(method=\"ffill\")"
   ]
  },
  {
   "cell_type": "code",
   "execution_count": null,
   "metadata": {},
   "outputs": [],
   "source": []
  },
  {
   "cell_type": "code",
   "execution_count": null,
   "metadata": {},
   "outputs": [],
   "source": []
  },
  {
   "cell_type": "code",
   "execution_count": null,
   "metadata": {},
   "outputs": [],
   "source": []
  },
  {
   "cell_type": "code",
   "execution_count": 113,
   "metadata": {},
   "outputs": [],
   "source": [
    "universe_df = price_df_wide"
   ]
  },
  {
   "cell_type": "code",
   "execution_count": 114,
   "metadata": {},
   "outputs": [],
   "source": [
    "sub_universe_df = universe_df[universe_df.index>\"2018-01-01\"].dropna(axis=1)"
   ]
  },
  {
   "cell_type": "code",
   "execution_count": 115,
   "metadata": {},
   "outputs": [],
   "source": [
    "universe_df = sub_universe_df"
   ]
  },
  {
   "cell_type": "code",
   "execution_count": null,
   "metadata": {},
   "outputs": [],
   "source": []
  },
  {
   "cell_type": "code",
   "execution_count": null,
   "metadata": {},
   "outputs": [],
   "source": []
  },
  {
   "cell_type": "code",
   "execution_count": null,
   "metadata": {},
   "outputs": [],
   "source": []
  },
  {
   "cell_type": "code",
   "execution_count": null,
   "metadata": {},
   "outputs": [],
   "source": []
  },
  {
   "cell_type": "code",
   "execution_count": 116,
   "metadata": {},
   "outputs": [],
   "source": [
    "momentum_period = 3\n",
    "waiting_time = 1"
   ]
  },
  {
   "cell_type": "code",
   "execution_count": 117,
   "metadata": {},
   "outputs": [],
   "source": [
    "complete_ret_sub_df = universe_df.pct_change(periods=momentum_period).shift(waiting_time)"
   ]
  },
  {
   "cell_type": "code",
   "execution_count": 118,
   "metadata": {},
   "outputs": [],
   "source": [
    "complete_ret_sub_df_long = complete_ret_sub_df.stack()"
   ]
  },
  {
   "cell_type": "code",
   "execution_count": 119,
   "metadata": {},
   "outputs": [
    {
     "data": {
      "text/plain": [
       "date        TICKER\n",
       "2018-01-08  A         0.034024\n",
       "            AA       -0.019576\n",
       "            AAAP      0.000244\n",
       "            AABA      0.045946\n",
       "            AAC      -0.016181\n",
       "                        ...   \n",
       "2019-12-31  ZU        0.000000\n",
       "            ZUMZ      0.052371\n",
       "            ZX        0.000000\n",
       "            ZYME     -0.003333\n",
       "            ZYNE     -0.060000\n",
       "Length: 4463554, dtype: float64"
      ]
     },
     "execution_count": 119,
     "metadata": {},
     "output_type": "execute_result"
    }
   ],
   "source": [
    "complete_ret_sub_df_long"
   ]
  },
  {
   "cell_type": "code",
   "execution_count": null,
   "metadata": {},
   "outputs": [],
   "source": []
  },
  {
   "cell_type": "code",
   "execution_count": 120,
   "metadata": {},
   "outputs": [],
   "source": [
    "signal_df = complete_ret_sub_df_long.index.to_frame()\n",
    "signal_df.index = range(0,signal_df.shape[0])\n",
    "signal_df[\"momentum\"] = list(complete_ret_sub_df_long)\n",
    "signal_df.columns=[\"date\",\"ticker\",\"momentum\"]"
   ]
  },
  {
   "cell_type": "code",
   "execution_count": null,
   "metadata": {},
   "outputs": [],
   "source": []
  },
  {
   "cell_type": "code",
   "execution_count": 121,
   "metadata": {},
   "outputs": [],
   "source": [
    "rebalance_date_series = list(complete_ret_sub_df.index)"
   ]
  },
  {
   "cell_type": "code",
   "execution_count": null,
   "metadata": {},
   "outputs": [],
   "source": []
  },
  {
   "cell_type": "code",
   "execution_count": 122,
   "metadata": {},
   "outputs": [],
   "source": [
    "portfolio_indicator = PortfolioIndicator()"
   ]
  },
  {
   "cell_type": "code",
   "execution_count": null,
   "metadata": {},
   "outputs": [],
   "source": []
  },
  {
   "cell_type": "code",
   "execution_count": 123,
   "metadata": {},
   "outputs": [],
   "source": [
    "portfolio_indicator = portfolio_indicator.create_indicator(signal_df,\"momentum\",rebalance_date_series,5)"
   ]
  },
  {
   "cell_type": "code",
   "execution_count": null,
   "metadata": {},
   "outputs": [],
   "source": []
  },
  {
   "cell_type": "code",
   "execution_count": null,
   "metadata": {},
   "outputs": [],
   "source": []
  },
  {
   "cell_type": "code",
   "execution_count": null,
   "metadata": {},
   "outputs": [],
   "source": []
  },
  {
   "cell_type": "code",
   "execution_count": 124,
   "metadata": {},
   "outputs": [],
   "source": [
    "complete_sub_df_1 = universe_df.pct_change()\n",
    "complete_sub_df_1_long = complete_sub_df_1.stack()"
   ]
  },
  {
   "cell_type": "code",
   "execution_count": 125,
   "metadata": {},
   "outputs": [],
   "source": [
    "index_df = complete_sub_df_1_long.index.to_frame()\n",
    "index_df[\"ret\"] = complete_sub_df_1_long\n",
    "index_df.index=range(0,index_df.shape[0])\n",
    "index_df.columns = [\"date\",\"ticker\",\"ret\"]"
   ]
  },
  {
   "cell_type": "code",
   "execution_count": 126,
   "metadata": {},
   "outputs": [],
   "source": [
    "return_df = index_df"
   ]
  },
  {
   "cell_type": "code",
   "execution_count": 127,
   "metadata": {},
   "outputs": [
    {
     "data": {
      "text/html": [
       "<div>\n",
       "<style scoped>\n",
       "    .dataframe tbody tr th:only-of-type {\n",
       "        vertical-align: middle;\n",
       "    }\n",
       "\n",
       "    .dataframe tbody tr th {\n",
       "        vertical-align: top;\n",
       "    }\n",
       "\n",
       "    .dataframe thead th {\n",
       "        text-align: right;\n",
       "    }\n",
       "</style>\n",
       "<table border=\"1\" class=\"dataframe\">\n",
       "  <thead>\n",
       "    <tr style=\"text-align: right;\">\n",
       "      <th></th>\n",
       "      <th>date</th>\n",
       "      <th>ticker</th>\n",
       "      <th>momentum_indicator</th>\n",
       "    </tr>\n",
       "  </thead>\n",
       "  <tbody>\n",
       "    <tr>\n",
       "      <th>0</th>\n",
       "      <td>2018-01-08</td>\n",
       "      <td>A</td>\n",
       "      <td>4</td>\n",
       "    </tr>\n",
       "    <tr>\n",
       "      <th>1</th>\n",
       "      <td>2018-01-08</td>\n",
       "      <td>AA</td>\n",
       "      <td>0</td>\n",
       "    </tr>\n",
       "    <tr>\n",
       "      <th>2</th>\n",
       "      <td>2018-01-08</td>\n",
       "      <td>AAAP</td>\n",
       "      <td>2</td>\n",
       "    </tr>\n",
       "    <tr>\n",
       "      <th>3</th>\n",
       "      <td>2018-01-08</td>\n",
       "      <td>AABA</td>\n",
       "      <td>4</td>\n",
       "    </tr>\n",
       "    <tr>\n",
       "      <th>4</th>\n",
       "      <td>2018-01-08</td>\n",
       "      <td>AAC</td>\n",
       "      <td>0</td>\n",
       "    </tr>\n",
       "    <tr>\n",
       "      <th>...</th>\n",
       "      <td>...</td>\n",
       "      <td>...</td>\n",
       "      <td>...</td>\n",
       "    </tr>\n",
       "    <tr>\n",
       "      <th>4463549</th>\n",
       "      <td>2019-12-31</td>\n",
       "      <td>ZU</td>\n",
       "      <td>2</td>\n",
       "    </tr>\n",
       "    <tr>\n",
       "      <th>4463550</th>\n",
       "      <td>2019-12-31</td>\n",
       "      <td>ZUMZ</td>\n",
       "      <td>4</td>\n",
       "    </tr>\n",
       "    <tr>\n",
       "      <th>4463551</th>\n",
       "      <td>2019-12-31</td>\n",
       "      <td>ZX</td>\n",
       "      <td>2</td>\n",
       "    </tr>\n",
       "    <tr>\n",
       "      <th>4463552</th>\n",
       "      <td>2019-12-31</td>\n",
       "      <td>ZYME</td>\n",
       "      <td>1</td>\n",
       "    </tr>\n",
       "    <tr>\n",
       "      <th>4463553</th>\n",
       "      <td>2019-12-31</td>\n",
       "      <td>ZYNE</td>\n",
       "      <td>0</td>\n",
       "    </tr>\n",
       "  </tbody>\n",
       "</table>\n",
       "<p>4463554 rows × 3 columns</p>\n",
       "</div>"
      ],
      "text/plain": [
       "              date ticker  momentum_indicator\n",
       "0       2018-01-08      A                   4\n",
       "1       2018-01-08     AA                   0\n",
       "2       2018-01-08   AAAP                   2\n",
       "3       2018-01-08   AABA                   4\n",
       "4       2018-01-08    AAC                   0\n",
       "...            ...    ...                 ...\n",
       "4463549 2019-12-31     ZU                   2\n",
       "4463550 2019-12-31   ZUMZ                   4\n",
       "4463551 2019-12-31     ZX                   2\n",
       "4463552 2019-12-31   ZYME                   1\n",
       "4463553 2019-12-31   ZYNE                   0\n",
       "\n",
       "[4463554 rows x 3 columns]"
      ]
     },
     "execution_count": 127,
     "metadata": {},
     "output_type": "execute_result"
    }
   ],
   "source": [
    "portfolio_indicator"
   ]
  },
  {
   "cell_type": "code",
   "execution_count": 128,
   "metadata": {},
   "outputs": [],
   "source": [
    "merge_df = return_df.merge(portfolio_indicator,on=[\"date\",\"ticker\"])"
   ]
  },
  {
   "cell_type": "code",
   "execution_count": null,
   "metadata": {},
   "outputs": [],
   "source": []
  },
  {
   "cell_type": "code",
   "execution_count": 129,
   "metadata": {},
   "outputs": [],
   "source": [
    "portfolio_constructor = PortfolioConstructor(merge_df)"
   ]
  },
  {
   "cell_type": "code",
   "execution_count": null,
   "metadata": {},
   "outputs": [],
   "source": []
  },
  {
   "cell_type": "code",
   "execution_count": 130,
   "metadata": {},
   "outputs": [],
   "source": [
    "strategy_ret_df = portfolio_constructor.create_portfolio_series(\"momentum_indicator\",equal_weight=True)"
   ]
  },
  {
   "cell_type": "code",
   "execution_count": null,
   "metadata": {},
   "outputs": [],
   "source": []
  },
  {
   "cell_type": "code",
   "execution_count": 131,
   "metadata": {},
   "outputs": [],
   "source": [
    "strategy_ret_df = strategy_ret_df.replace([np.inf, -np.inf], np.nan)"
   ]
  },
  {
   "cell_type": "code",
   "execution_count": 132,
   "metadata": {},
   "outputs": [],
   "source": [
    "strategy_ret_df = strategy_ret_df.dropna()"
   ]
  },
  {
   "cell_type": "code",
   "execution_count": 133,
   "metadata": {},
   "outputs": [],
   "source": [
    "strategy_cum_ret_df = (strategy_ret_df+1).cumprod()"
   ]
  },
  {
   "cell_type": "code",
   "execution_count": 134,
   "metadata": {},
   "outputs": [
    {
     "data": {
      "text/html": [
       "<div>\n",
       "<style scoped>\n",
       "    .dataframe tbody tr th:only-of-type {\n",
       "        vertical-align: middle;\n",
       "    }\n",
       "\n",
       "    .dataframe tbody tr th {\n",
       "        vertical-align: top;\n",
       "    }\n",
       "\n",
       "    .dataframe thead th {\n",
       "        text-align: right;\n",
       "    }\n",
       "</style>\n",
       "<table border=\"1\" class=\"dataframe\">\n",
       "  <thead>\n",
       "    <tr style=\"text-align: right;\">\n",
       "      <th>momentum_indicator</th>\n",
       "      <th>0</th>\n",
       "      <th>1</th>\n",
       "      <th>2</th>\n",
       "      <th>3</th>\n",
       "      <th>4</th>\n",
       "    </tr>\n",
       "  </thead>\n",
       "  <tbody>\n",
       "    <tr>\n",
       "      <th>count</th>\n",
       "      <td>352.000000</td>\n",
       "      <td>352.000000</td>\n",
       "      <td>352.000000</td>\n",
       "      <td>352.000000</td>\n",
       "      <td>352.000000</td>\n",
       "    </tr>\n",
       "    <tr>\n",
       "      <th>mean</th>\n",
       "      <td>-0.238450</td>\n",
       "      <td>-0.018604</td>\n",
       "      <td>-0.055199</td>\n",
       "      <td>-0.029094</td>\n",
       "      <td>-0.014096</td>\n",
       "    </tr>\n",
       "    <tr>\n",
       "      <th>std</th>\n",
       "      <td>3.997285</td>\n",
       "      <td>0.022958</td>\n",
       "      <td>0.521586</td>\n",
       "      <td>0.016897</td>\n",
       "      <td>0.908828</td>\n",
       "    </tr>\n",
       "    <tr>\n",
       "      <th>min</th>\n",
       "      <td>-46.936462</td>\n",
       "      <td>-0.207521</td>\n",
       "      <td>-9.800446</td>\n",
       "      <td>-0.106858</td>\n",
       "      <td>-1.977226</td>\n",
       "    </tr>\n",
       "    <tr>\n",
       "      <th>25%</th>\n",
       "      <td>-0.275501</td>\n",
       "      <td>-0.027407</td>\n",
       "      <td>-0.039631</td>\n",
       "      <td>-0.039205</td>\n",
       "      <td>-0.036012</td>\n",
       "    </tr>\n",
       "    <tr>\n",
       "      <th>50%</th>\n",
       "      <td>-0.123632</td>\n",
       "      <td>-0.015356</td>\n",
       "      <td>-0.021712</td>\n",
       "      <td>-0.026908</td>\n",
       "      <td>-0.017563</td>\n",
       "    </tr>\n",
       "    <tr>\n",
       "      <th>75%</th>\n",
       "      <td>-0.058122</td>\n",
       "      <td>-0.006605</td>\n",
       "      <td>-0.009328</td>\n",
       "      <td>-0.017421</td>\n",
       "      <td>-0.006393</td>\n",
       "    </tr>\n",
       "    <tr>\n",
       "      <th>max</th>\n",
       "      <td>16.994954</td>\n",
       "      <td>0.203949</td>\n",
       "      <td>0.024468</td>\n",
       "      <td>0.017170</td>\n",
       "      <td>16.533791</td>\n",
       "    </tr>\n",
       "  </tbody>\n",
       "</table>\n",
       "</div>"
      ],
      "text/plain": [
       "momentum_indicator           0           1           2           3           4\n",
       "count               352.000000  352.000000  352.000000  352.000000  352.000000\n",
       "mean                 -0.238450   -0.018604   -0.055199   -0.029094   -0.014096\n",
       "std                   3.997285    0.022958    0.521586    0.016897    0.908828\n",
       "min                 -46.936462   -0.207521   -9.800446   -0.106858   -1.977226\n",
       "25%                  -0.275501   -0.027407   -0.039631   -0.039205   -0.036012\n",
       "50%                  -0.123632   -0.015356   -0.021712   -0.026908   -0.017563\n",
       "75%                  -0.058122   -0.006605   -0.009328   -0.017421   -0.006393\n",
       "max                  16.994954    0.203949    0.024468    0.017170   16.533791"
      ]
     },
     "execution_count": 134,
     "metadata": {},
     "output_type": "execute_result"
    }
   ],
   "source": [
    "strategy_ret_df.describe()"
   ]
  },
  {
   "cell_type": "code",
   "execution_count": null,
   "metadata": {},
   "outputs": [],
   "source": []
  },
  {
   "cell_type": "code",
   "execution_count": null,
   "metadata": {},
   "outputs": [],
   "source": []
  },
  {
   "cell_type": "code",
   "execution_count": null,
   "metadata": {},
   "outputs": [],
   "source": []
  }
 ],
 "metadata": {
  "kernelspec": {
   "display_name": "Python 3",
   "language": "python",
   "name": "python3"
  },
  "language_info": {
   "codemirror_mode": {
    "name": "ipython",
    "version": 3
   },
   "file_extension": ".py",
   "mimetype": "text/x-python",
   "name": "python",
   "nbconvert_exporter": "python",
   "pygments_lexer": "ipython3",
   "version": "3.8.5"
  }
 },
 "nbformat": 4,
 "nbformat_minor": 4
}
