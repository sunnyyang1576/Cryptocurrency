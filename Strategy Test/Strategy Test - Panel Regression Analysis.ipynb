{
 "cells": [
  {
   "cell_type": "code",
   "execution_count": null,
   "metadata": {},
   "outputs": [],
   "source": []
  },
  {
   "cell_type": "markdown",
   "metadata": {},
   "source": [
    "### Import Library"
   ]
  },
  {
   "cell_type": "code",
   "execution_count": null,
   "metadata": {},
   "outputs": [],
   "source": []
  },
  {
   "cell_type": "code",
   "execution_count": 1,
   "metadata": {},
   "outputs": [],
   "source": [
    "import pandas as pd\n",
    "import numpy as np\n",
    "from linearmodels import PanelOLS,FamaMacBeth"
   ]
  },
  {
   "cell_type": "code",
   "execution_count": 2,
   "metadata": {},
   "outputs": [],
   "source": [
    "import statsmodels.api as sm"
   ]
  },
  {
   "cell_type": "code",
   "execution_count": null,
   "metadata": {},
   "outputs": [],
   "source": []
  },
  {
   "cell_type": "markdown",
   "metadata": {},
   "source": [
    "### Import Data"
   ]
  },
  {
   "cell_type": "code",
   "execution_count": null,
   "metadata": {},
   "outputs": [],
   "source": []
  },
  {
   "cell_type": "code",
   "execution_count": 4,
   "metadata": {},
   "outputs": [],
   "source": [
    "data_directory = \"data/\"\n",
    "file = \"yahoo_data_filter_0_0_1.csv\""
   ]
  },
  {
   "cell_type": "code",
   "execution_count": null,
   "metadata": {},
   "outputs": [],
   "source": []
  },
  {
   "cell_type": "code",
   "execution_count": 5,
   "metadata": {},
   "outputs": [],
   "source": [
    "df = pd.read_csv(data_directory + file)\n",
    "df[\"date\"] = pd.to_datetime(df[\"date\"])\n",
    "df = df.set_index(\"date\")"
   ]
  },
  {
   "cell_type": "code",
   "execution_count": null,
   "metadata": {},
   "outputs": [],
   "source": []
  },
  {
   "cell_type": "code",
   "execution_count": null,
   "metadata": {},
   "outputs": [],
   "source": []
  },
  {
   "cell_type": "markdown",
   "metadata": {},
   "source": [
    "### Calculate the momentun signal"
   ]
  },
  {
   "cell_type": "code",
   "execution_count": 11,
   "metadata": {},
   "outputs": [],
   "source": [
    "universe_df = df"
   ]
  },
  {
   "cell_type": "code",
   "execution_count": 12,
   "metadata": {},
   "outputs": [],
   "source": [
    "momentum_period = 5\n",
    "waiting_time = 1"
   ]
  },
  {
   "cell_type": "code",
   "execution_count": 13,
   "metadata": {},
   "outputs": [],
   "source": [
    "complete_ret_sub_df = universe_df.pct_change(periods=momentum_period).shift(waiting_time).dropna()"
   ]
  },
  {
   "cell_type": "code",
   "execution_count": 14,
   "metadata": {},
   "outputs": [],
   "source": [
    "complete_ret_sub_df_long = complete_ret_sub_df.stack()"
   ]
  },
  {
   "cell_type": "code",
   "execution_count": null,
   "metadata": {},
   "outputs": [],
   "source": []
  },
  {
   "cell_type": "markdown",
   "metadata": {},
   "source": [
    "### Create the future return"
   ]
  },
  {
   "cell_type": "code",
   "execution_count": 15,
   "metadata": {},
   "outputs": [],
   "source": [
    "future_return_days = 1"
   ]
  },
  {
   "cell_type": "code",
   "execution_count": 16,
   "metadata": {},
   "outputs": [],
   "source": [
    "future_return_df = universe_df.pct_change(future_return_days).shift(-(future_return_days-1))"
   ]
  },
  {
   "cell_type": "code",
   "execution_count": 17,
   "metadata": {},
   "outputs": [],
   "source": [
    "future_return_df_long = future_return_df.stack()"
   ]
  },
  {
   "cell_type": "code",
   "execution_count": null,
   "metadata": {},
   "outputs": [],
   "source": []
  },
  {
   "cell_type": "markdown",
   "metadata": {},
   "source": [
    "### Merge Return with Signal"
   ]
  },
  {
   "cell_type": "code",
   "execution_count": 18,
   "metadata": {},
   "outputs": [],
   "source": [
    "future_return_df_long = pd.DataFrame(future_return_df_long)\n",
    "complete_ret_sub_df_long = pd.DataFrame(complete_ret_sub_df_long)"
   ]
  },
  {
   "cell_type": "code",
   "execution_count": 19,
   "metadata": {},
   "outputs": [],
   "source": [
    "future_return_df_long.columns = [\"target\"]\n",
    "complete_ret_sub_df_long.columns = [\"signal\"]"
   ]
  },
  {
   "cell_type": "code",
   "execution_count": 20,
   "metadata": {},
   "outputs": [],
   "source": [
    "merge_df = future_return_df_long.merge(complete_ret_sub_df_long,left_index=True,right_index=True)"
   ]
  },
  {
   "cell_type": "code",
   "execution_count": null,
   "metadata": {},
   "outputs": [],
   "source": []
  },
  {
   "cell_type": "code",
   "execution_count": 21,
   "metadata": {},
   "outputs": [],
   "source": [
    "index_df = merge_df.index.to_frame()\n",
    "index_df.columns = [\"date\",\"asset\"]\n",
    "index_df[\"target\"] = merge_df[\"target\"]\n",
    "index_df[\"signal\"] = merge_df[\"signal\"]\n",
    "index_df.index = range(0,index_df.shape[0])"
   ]
  },
  {
   "cell_type": "code",
   "execution_count": 22,
   "metadata": {},
   "outputs": [],
   "source": [
    "merge_df = index_df"
   ]
  },
  {
   "cell_type": "code",
   "execution_count": 23,
   "metadata": {},
   "outputs": [],
   "source": [
    "merge_df = merge_df.set_index([\"asset\",\"date\"])"
   ]
  },
  {
   "cell_type": "code",
   "execution_count": null,
   "metadata": {},
   "outputs": [],
   "source": []
  },
  {
   "cell_type": "code",
   "execution_count": null,
   "metadata": {},
   "outputs": [],
   "source": []
  },
  {
   "cell_type": "markdown",
   "metadata": {},
   "source": [
    "### Panel Regression"
   ]
  },
  {
   "cell_type": "code",
   "execution_count": null,
   "metadata": {},
   "outputs": [],
   "source": []
  },
  {
   "cell_type": "code",
   "execution_count": 24,
   "metadata": {},
   "outputs": [],
   "source": [
    "exog_vars = [\"signal\"]\n",
    "depe_var = [\"target\"]\n",
    "exog = sm.add_constant(merge_df[exog_vars])\n",
    "depe = merge_df[depe_var]"
   ]
  },
  {
   "cell_type": "code",
   "execution_count": null,
   "metadata": {},
   "outputs": [],
   "source": []
  },
  {
   "cell_type": "code",
   "execution_count": 25,
   "metadata": {},
   "outputs": [],
   "source": [
    "mod = PanelOLS(depe,exog,entity_effects=True,time_effects=True)"
   ]
  },
  {
   "cell_type": "code",
   "execution_count": 26,
   "metadata": {},
   "outputs": [
    {
     "name": "stderr",
     "output_type": "stream",
     "text": [
      "C:\\app_user_download\\anaconda\\lib\\site-packages\\linearmodels\\panel\\results.py:84: RuntimeWarning: invalid value encountered in sqrt\n",
      "  return Series(np.sqrt(np.diag(self.cov)), self._var_names, name=\"std_error\")\n"
     ]
    },
    {
     "data": {
      "text/html": [
       "<table class=\"simpletable\">\n",
       "<caption>PanelOLS Estimation Summary</caption>\n",
       "<tr>\n",
       "  <th>Dep. Variable:</th>         <td>target</td>      <th>  R-squared:         </th>     <td>0.0028</td>  \n",
       "</tr>\n",
       "<tr>\n",
       "  <th>Estimator:</th>            <td>PanelOLS</td>     <th>  R-squared (Between):</th>    <td>-0.2396</td> \n",
       "</tr>\n",
       "<tr>\n",
       "  <th>No. Observations:</th>       <td>80734</td>      <th>  R-squared (Within):</th>     <td>-0.0003</td> \n",
       "</tr>\n",
       "<tr>\n",
       "  <th>Date:</th>             <td>Wed, Jan 20 2021</td> <th>  R-squared (Overall):</th>    <td>-0.0004</td> \n",
       "</tr>\n",
       "<tr>\n",
       "  <th>Time:</th>                 <td>23:52:25</td>     <th>  Log-likelihood     </th>    <td>1.237e+05</td>\n",
       "</tr>\n",
       "<tr>\n",
       "  <th>Cov. Estimator:</th>       <td>Clustered</td>    <th>                     </th>        <td></td>     \n",
       "</tr>\n",
       "<tr>\n",
       "  <th></th>                          <td></td>         <th>  F-statistic:       </th>     <td>226.73</td>  \n",
       "</tr>\n",
       "<tr>\n",
       "  <th>Entities:</th>                <td>74</td>        <th>  P-value            </th>     <td>0.0000</td>  \n",
       "</tr>\n",
       "<tr>\n",
       "  <th>Avg Obs:</th>               <td>1091.0</td>      <th>  Distribution:      </th>   <td>F(1,79569)</td>\n",
       "</tr>\n",
       "<tr>\n",
       "  <th>Min Obs:</th>               <td>1091.0</td>      <th>                     </th>        <td></td>     \n",
       "</tr>\n",
       "<tr>\n",
       "  <th>Max Obs:</th>               <td>1091.0</td>      <th>  F-statistic (robust):</th>   <td>9.1725</td>  \n",
       "</tr>\n",
       "<tr>\n",
       "  <th></th>                          <td></td>         <th>  P-value            </th>     <td>0.0025</td>  \n",
       "</tr>\n",
       "<tr>\n",
       "  <th>Time periods:</th>           <td>1091</td>       <th>  Distribution:      </th>   <td>F(1,79569)</td>\n",
       "</tr>\n",
       "<tr>\n",
       "  <th>Avg Obs:</th>               <td>74.000</td>      <th>                     </th>        <td></td>     \n",
       "</tr>\n",
       "<tr>\n",
       "  <th>Min Obs:</th>               <td>74.000</td>      <th>                     </th>        <td></td>     \n",
       "</tr>\n",
       "<tr>\n",
       "  <th>Max Obs:</th>               <td>74.000</td>      <th>                     </th>        <td></td>     \n",
       "</tr>\n",
       "<tr>\n",
       "  <th></th>                          <td></td>         <th>                     </th>        <td></td>     \n",
       "</tr>\n",
       "</table>\n",
       "<table class=\"simpletable\">\n",
       "<caption>Parameter Estimates</caption>\n",
       "<tr>\n",
       "     <td></td>    <th>Parameter</th> <th>Std. Err.</th>  <th>T-stat</th>   <th>P-value</th> <th>Lower CI</th> <th>Upper CI</th>\n",
       "</tr>\n",
       "<tr>\n",
       "  <th>const</th>   <td>0.0002</td>   <td>        </td>  <td>        </td> <td>        </td> <td>        </td> <td>        </td>\n",
       "</tr>\n",
       "<tr>\n",
       "  <th>signal</th>  <td>-0.0239</td>   <td>0.0079</td>    <td>-3.0286</td>  <td>0.0025</td>   <td>-0.0394</td>  <td>-0.0084</td>\n",
       "</tr>\n",
       "</table><br/><br/>F-test for Poolability: 52.176<br/>P-value: 0.0000<br/>Distribution: F(1163,79569)<br/><br/>Included effects: Entity, Time<br/>id: 0x265c8df68e0"
      ],
      "text/plain": [
       "                          PanelOLS Estimation Summary                           \n",
       "================================================================================\n",
       "Dep. Variable:                 target   R-squared:                        0.0028\n",
       "Estimator:                   PanelOLS   R-squared (Between):             -0.2396\n",
       "No. Observations:               80734   R-squared (Within):              -0.0003\n",
       "Date:                Wed, Jan 20 2021   R-squared (Overall):             -0.0004\n",
       "Time:                        23:52:25   Log-likelihood                 1.237e+05\n",
       "Cov. Estimator:             Clustered                                           \n",
       "                                        F-statistic:                      226.73\n",
       "Entities:                          74   P-value                           0.0000\n",
       "Avg Obs:                       1091.0   Distribution:                 F(1,79569)\n",
       "Min Obs:                       1091.0                                           \n",
       "Max Obs:                       1091.0   F-statistic (robust):             9.1725\n",
       "                                        P-value                           0.0025\n",
       "Time periods:                    1091   Distribution:                 F(1,79569)\n",
       "Avg Obs:                       74.000                                           \n",
       "Min Obs:                       74.000                                           \n",
       "Max Obs:                       74.000                                           \n",
       "                                                                                \n",
       "                             Parameter Estimates                              \n",
       "==============================================================================\n",
       "            Parameter  Std. Err.     T-stat    P-value    Lower CI    Upper CI\n",
       "------------------------------------------------------------------------------\n",
       "const          0.0002                                                         \n",
       "signal        -0.0239     0.0079    -3.0286     0.0025     -0.0394     -0.0084\n",
       "==============================================================================\n",
       "\n",
       "F-test for Poolability: 52.176\n",
       "P-value: 0.0000\n",
       "Distribution: F(1163,79569)\n",
       "\n",
       "Included effects: Entity, Time\n",
       "PanelEffectsResults, id: 0x265c8df68e0"
      ]
     },
     "execution_count": 26,
     "metadata": {},
     "output_type": "execute_result"
    }
   ],
   "source": [
    "mod.fit(cov_type=\"clustered\",cluster_entity=True,cluster_time=True)"
   ]
  },
  {
   "cell_type": "code",
   "execution_count": null,
   "metadata": {},
   "outputs": [],
   "source": []
  },
  {
   "cell_type": "code",
   "execution_count": null,
   "metadata": {},
   "outputs": [],
   "source": []
  },
  {
   "cell_type": "code",
   "execution_count": 27,
   "metadata": {},
   "outputs": [],
   "source": [
    "mod = PanelOLS(depe,exog,entity_effects=True,time_effects=True)"
   ]
  },
  {
   "cell_type": "code",
   "execution_count": 28,
   "metadata": {},
   "outputs": [
    {
     "data": {
      "text/html": [
       "<table class=\"simpletable\">\n",
       "<caption>PanelOLS Estimation Summary</caption>\n",
       "<tr>\n",
       "  <th>Dep. Variable:</th>         <td>target</td>      <th>  R-squared:         </th>     <td>0.0028</td>  \n",
       "</tr>\n",
       "<tr>\n",
       "  <th>Estimator:</th>            <td>PanelOLS</td>     <th>  R-squared (Between):</th>    <td>-0.2396</td> \n",
       "</tr>\n",
       "<tr>\n",
       "  <th>No. Observations:</th>       <td>80734</td>      <th>  R-squared (Within):</th>     <td>-0.0003</td> \n",
       "</tr>\n",
       "<tr>\n",
       "  <th>Date:</th>             <td>Wed, Jan 20 2021</td> <th>  R-squared (Overall):</th>    <td>-0.0004</td> \n",
       "</tr>\n",
       "<tr>\n",
       "  <th>Time:</th>                 <td>23:52:35</td>     <th>  Log-likelihood     </th>    <td>1.237e+05</td>\n",
       "</tr>\n",
       "<tr>\n",
       "  <th>Cov. Estimator:</th>    <td>Driscoll-Kraay</td>  <th>                     </th>        <td></td>     \n",
       "</tr>\n",
       "<tr>\n",
       "  <th></th>                          <td></td>         <th>  F-statistic:       </th>     <td>226.73</td>  \n",
       "</tr>\n",
       "<tr>\n",
       "  <th>Entities:</th>                <td>74</td>        <th>  P-value            </th>     <td>0.0000</td>  \n",
       "</tr>\n",
       "<tr>\n",
       "  <th>Avg Obs:</th>               <td>1091.0</td>      <th>  Distribution:      </th>   <td>F(1,79569)</td>\n",
       "</tr>\n",
       "<tr>\n",
       "  <th>Min Obs:</th>               <td>1091.0</td>      <th>                     </th>        <td></td>     \n",
       "</tr>\n",
       "<tr>\n",
       "  <th>Max Obs:</th>               <td>1091.0</td>      <th>  F-statistic (robust):</th>   <td>17.137</td>  \n",
       "</tr>\n",
       "<tr>\n",
       "  <th></th>                          <td></td>         <th>  P-value            </th>     <td>0.0000</td>  \n",
       "</tr>\n",
       "<tr>\n",
       "  <th>Time periods:</th>           <td>1091</td>       <th>  Distribution:      </th>   <td>F(1,79569)</td>\n",
       "</tr>\n",
       "<tr>\n",
       "  <th>Avg Obs:</th>               <td>74.000</td>      <th>                     </th>        <td></td>     \n",
       "</tr>\n",
       "<tr>\n",
       "  <th>Min Obs:</th>               <td>74.000</td>      <th>                     </th>        <td></td>     \n",
       "</tr>\n",
       "<tr>\n",
       "  <th>Max Obs:</th>               <td>74.000</td>      <th>                     </th>        <td></td>     \n",
       "</tr>\n",
       "<tr>\n",
       "  <th></th>                          <td></td>         <th>                     </th>        <td></td>     \n",
       "</tr>\n",
       "</table>\n",
       "<table class=\"simpletable\">\n",
       "<caption>Parameter Estimates</caption>\n",
       "<tr>\n",
       "     <td></td>    <th>Parameter</th> <th>Std. Err.</th> <th>T-stat</th>  <th>P-value</th> <th>Lower CI</th> <th>Upper CI</th>\n",
       "</tr>\n",
       "<tr>\n",
       "  <th>const</th>   <td>0.0002</td>   <td>2.362e-07</td> <td>852.15</td>  <td>0.0000</td>   <td>0.0002</td>   <td>0.0002</td> \n",
       "</tr>\n",
       "<tr>\n",
       "  <th>signal</th>  <td>-0.0239</td>   <td>0.0058</td>   <td>-4.1397</td> <td>0.0000</td>   <td>-0.0353</td>  <td>-0.0126</td>\n",
       "</tr>\n",
       "</table><br/><br/>F-test for Poolability: 52.176<br/>P-value: 0.0000<br/>Distribution: F(1163,79569)<br/><br/>Included effects: Entity, Time<br/>id: 0x265cc4fad90"
      ],
      "text/plain": [
       "                          PanelOLS Estimation Summary                           \n",
       "================================================================================\n",
       "Dep. Variable:                 target   R-squared:                        0.0028\n",
       "Estimator:                   PanelOLS   R-squared (Between):             -0.2396\n",
       "No. Observations:               80734   R-squared (Within):              -0.0003\n",
       "Date:                Wed, Jan 20 2021   R-squared (Overall):             -0.0004\n",
       "Time:                        23:52:35   Log-likelihood                 1.237e+05\n",
       "Cov. Estimator:        Driscoll-Kraay                                           \n",
       "                                        F-statistic:                      226.73\n",
       "Entities:                          74   P-value                           0.0000\n",
       "Avg Obs:                       1091.0   Distribution:                 F(1,79569)\n",
       "Min Obs:                       1091.0                                           \n",
       "Max Obs:                       1091.0   F-statistic (robust):             17.137\n",
       "                                        P-value                           0.0000\n",
       "Time periods:                    1091   Distribution:                 F(1,79569)\n",
       "Avg Obs:                       74.000                                           \n",
       "Min Obs:                       74.000                                           \n",
       "Max Obs:                       74.000                                           \n",
       "                                                                                \n",
       "                             Parameter Estimates                              \n",
       "==============================================================================\n",
       "            Parameter  Std. Err.     T-stat    P-value    Lower CI    Upper CI\n",
       "------------------------------------------------------------------------------\n",
       "const          0.0002  2.362e-07     852.15     0.0000      0.0002      0.0002\n",
       "signal        -0.0239     0.0058    -4.1397     0.0000     -0.0353     -0.0126\n",
       "==============================================================================\n",
       "\n",
       "F-test for Poolability: 52.176\n",
       "P-value: 0.0000\n",
       "Distribution: F(1163,79569)\n",
       "\n",
       "Included effects: Entity, Time\n",
       "PanelEffectsResults, id: 0x265cc4fad90"
      ]
     },
     "execution_count": 28,
     "metadata": {},
     "output_type": "execute_result"
    }
   ],
   "source": [
    "mod.fit(cov_type=\"kernel\",kernel=\"parzen\",cluster_entity=True,cluster_time=True)"
   ]
  },
  {
   "cell_type": "code",
   "execution_count": null,
   "metadata": {},
   "outputs": [],
   "source": []
  },
  {
   "cell_type": "code",
   "execution_count": null,
   "metadata": {},
   "outputs": [],
   "source": []
  },
  {
   "cell_type": "markdown",
   "metadata": {},
   "source": [
    "### Fama Macbeth Regression"
   ]
  },
  {
   "cell_type": "code",
   "execution_count": null,
   "metadata": {},
   "outputs": [],
   "source": []
  },
  {
   "cell_type": "code",
   "execution_count": 29,
   "metadata": {},
   "outputs": [],
   "source": [
    "exog_vars = [\"signal\"]\n",
    "depe_var = [\"target\"]\n",
    "exog = sm.add_constant(merge_df[exog_vars])\n",
    "depe = merge_df[depe_var]"
   ]
  },
  {
   "cell_type": "code",
   "execution_count": null,
   "metadata": {},
   "outputs": [],
   "source": []
  },
  {
   "cell_type": "code",
   "execution_count": 30,
   "metadata": {},
   "outputs": [],
   "source": [
    "mod = FamaMacBeth(depe,exog)"
   ]
  },
  {
   "cell_type": "code",
   "execution_count": 31,
   "metadata": {},
   "outputs": [],
   "source": [
    "res = mod.fit(cov_type='kernel',kernel=\"bartlett\")"
   ]
  },
  {
   "cell_type": "code",
   "execution_count": 32,
   "metadata": {},
   "outputs": [
    {
     "data": {
      "text/html": [
       "<table class=\"simpletable\">\n",
       "<caption>FamaMacBeth Estimation Summary</caption>\n",
       "<tr>\n",
       "  <th>Dep. Variable:</th>            <td>target</td>          <th>  R-squared:         </th>   <td>-6.967e-05</td>\n",
       "</tr>\n",
       "<tr>\n",
       "  <th>Estimator:</th>              <td>FamaMacBeth</td>       <th>  R-squared (Between):</th>    <td>-0.4612</td> \n",
       "</tr>\n",
       "<tr>\n",
       "  <th>No. Observations:</th>          <td>80734</td>          <th>  R-squared (Within):</th>    <td>6.389e-05</td>\n",
       "</tr>\n",
       "<tr>\n",
       "  <th>Date:</th>                <td>Wed, Jan 20 2021</td>     <th>  R-squared (Overall):</th>  <td>-6.967e-05</td>\n",
       "</tr>\n",
       "<tr>\n",
       "  <th>Time:</th>                    <td>23:52:44</td>         <th>  Log-likelihood     </th>    <td>1.008e+05</td>\n",
       "</tr>\n",
       "<tr>\n",
       "  <th>Cov. Estimator:</th>   <td>Fama-MacBeth Kernel Cov</td> <th>                     </th>        <td></td>     \n",
       "</tr>\n",
       "<tr>\n",
       "  <th></th>                             <td></td>             <th>  F-statistic:       </th>     <td>-5.6243</td> \n",
       "</tr>\n",
       "<tr>\n",
       "  <th>Entities:</th>                   <td>74</td>            <th>  P-value            </th>     <td>1.0000</td>  \n",
       "</tr>\n",
       "<tr>\n",
       "  <th>Avg Obs:</th>                  <td>1091.0</td>          <th>  Distribution:      </th>   <td>F(1,80732)</td>\n",
       "</tr>\n",
       "<tr>\n",
       "  <th>Min Obs:</th>                  <td>1091.0</td>          <th>                     </th>        <td></td>     \n",
       "</tr>\n",
       "<tr>\n",
       "  <th>Max Obs:</th>                  <td>1091.0</td>          <th>  F-statistic (robust):</th>   <td>21.511</td>  \n",
       "</tr>\n",
       "<tr>\n",
       "  <th></th>                             <td></td>             <th>  P-value            </th>     <td>0.0000</td>  \n",
       "</tr>\n",
       "<tr>\n",
       "  <th>Time periods:</th>              <td>1091</td>           <th>  Distribution:      </th>   <td>F(1,80732)</td>\n",
       "</tr>\n",
       "<tr>\n",
       "  <th>Avg Obs:</th>                  <td>74.000</td>          <th>                     </th>        <td></td>     \n",
       "</tr>\n",
       "<tr>\n",
       "  <th>Min Obs:</th>                  <td>74.000</td>          <th>                     </th>        <td></td>     \n",
       "</tr>\n",
       "<tr>\n",
       "  <th>Max Obs:</th>                  <td>74.000</td>          <th>                     </th>        <td></td>     \n",
       "</tr>\n",
       "<tr>\n",
       "  <th></th>                             <td></td>             <th>                     </th>        <td></td>     \n",
       "</tr>\n",
       "</table>\n",
       "<table class=\"simpletable\">\n",
       "<caption>Parameter Estimates</caption>\n",
       "<tr>\n",
       "     <td></td>    <th>Parameter</th> <th>Std. Err.</th> <th>T-stat</th>  <th>P-value</th> <th>Lower CI</th> <th>Upper CI</th>\n",
       "</tr>\n",
       "<tr>\n",
       "  <th>const</th>   <td>-0.0004</td>   <td>0.0016</td>   <td>-0.2538</td> <td>0.7996</td>   <td>-0.0035</td>  <td>0.0027</td> \n",
       "</tr>\n",
       "<tr>\n",
       "  <th>signal</th>  <td>-0.0207</td>   <td>0.0045</td>   <td>-4.6380</td> <td>0.0000</td>   <td>-0.0295</td>  <td>-0.0120</td>\n",
       "</tr>\n",
       "</table><br/>id: 0x265cc500100"
      ],
      "text/plain": [
       "                            FamaMacBeth Estimation Summary                           \n",
       "=====================================================================================\n",
       "Dep. Variable:                      target   R-squared:                    -6.967e-05\n",
       "Estimator:                     FamaMacBeth   R-squared (Between):             -0.4612\n",
       "No. Observations:                    80734   R-squared (Within):            6.389e-05\n",
       "Date:                     Wed, Jan 20 2021   R-squared (Overall):          -6.967e-05\n",
       "Time:                             23:52:44   Log-likelihood                 1.008e+05\n",
       "Cov. Estimator:    Fama-MacBeth Kernel Cov                                           \n",
       "                                             F-statistic:                     -5.6243\n",
       "Entities:                               74   P-value                           1.0000\n",
       "Avg Obs:                            1091.0   Distribution:                 F(1,80732)\n",
       "Min Obs:                            1091.0                                           \n",
       "Max Obs:                            1091.0   F-statistic (robust):             21.511\n",
       "                                             P-value                           0.0000\n",
       "Time periods:                         1091   Distribution:                 F(1,80732)\n",
       "Avg Obs:                            74.000                                           \n",
       "Min Obs:                            74.000                                           \n",
       "Max Obs:                            74.000                                           \n",
       "                                                                                     \n",
       "                             Parameter Estimates                              \n",
       "==============================================================================\n",
       "            Parameter  Std. Err.     T-stat    P-value    Lower CI    Upper CI\n",
       "------------------------------------------------------------------------------\n",
       "const         -0.0004     0.0016    -0.2538     0.7996     -0.0035      0.0027\n",
       "signal        -0.0207     0.0045    -4.6380     0.0000     -0.0295     -0.0120\n",
       "==============================================================================\n",
       "FamaMacBethResults, id: 0x265cc500100"
      ]
     },
     "execution_count": 32,
     "metadata": {},
     "output_type": "execute_result"
    }
   ],
   "source": [
    "res"
   ]
  },
  {
   "cell_type": "code",
   "execution_count": null,
   "metadata": {},
   "outputs": [],
   "source": []
  },
  {
   "cell_type": "markdown",
   "metadata": {},
   "source": [
    "### Multiple Signal Panel Regression"
   ]
  },
  {
   "cell_type": "markdown",
   "metadata": {},
   "source": [
    "#### Create Multiple Signal "
   ]
  },
  {
   "cell_type": "code",
   "execution_count": 33,
   "metadata": {},
   "outputs": [],
   "source": [
    "momentum_period = 1\n",
    "waiting_time = 1"
   ]
  },
  {
   "cell_type": "code",
   "execution_count": 34,
   "metadata": {},
   "outputs": [],
   "source": [
    "complete_ret_sub_df_s1 = universe_df.pct_change(periods=momentum_period).shift(waiting_time).dropna()\n",
    "complete_ret_sub_df_s1_long = complete_ret_sub_df_s1.stack()"
   ]
  },
  {
   "cell_type": "code",
   "execution_count": 35,
   "metadata": {},
   "outputs": [],
   "source": [
    "momentum_period = 3\n",
    "waiting_time = 1"
   ]
  },
  {
   "cell_type": "code",
   "execution_count": 36,
   "metadata": {},
   "outputs": [],
   "source": [
    "complete_ret_sub_df_s3 = universe_df.pct_change(periods=momentum_period).shift(waiting_time).dropna()\n",
    "complete_ret_sub_df_s3_long = complete_ret_sub_df_s3.stack()"
   ]
  },
  {
   "cell_type": "code",
   "execution_count": 37,
   "metadata": {},
   "outputs": [],
   "source": [
    "momentum_period = 5\n",
    "waiting_time = 1"
   ]
  },
  {
   "cell_type": "code",
   "execution_count": 38,
   "metadata": {},
   "outputs": [],
   "source": [
    "complete_ret_sub_df_s5 = universe_df.pct_change(periods=momentum_period).shift(waiting_time).dropna()\n",
    "complete_ret_sub_df_s5_long = complete_ret_sub_df_s5.stack()"
   ]
  },
  {
   "cell_type": "code",
   "execution_count": 39,
   "metadata": {},
   "outputs": [],
   "source": [
    "momentum_period = 7\n",
    "waiting_time = 1"
   ]
  },
  {
   "cell_type": "code",
   "execution_count": 40,
   "metadata": {},
   "outputs": [],
   "source": [
    "complete_ret_sub_df_s7 = universe_df.pct_change(periods=momentum_period).shift(waiting_time).dropna()\n",
    "complete_ret_sub_df_s7_long = complete_ret_sub_df_s7.stack()"
   ]
  },
  {
   "cell_type": "code",
   "execution_count": null,
   "metadata": {},
   "outputs": [],
   "source": []
  },
  {
   "cell_type": "markdown",
   "metadata": {},
   "source": [
    "#### Create Future Return"
   ]
  },
  {
   "cell_type": "code",
   "execution_count": 41,
   "metadata": {},
   "outputs": [],
   "source": [
    "future_return_days = 1\n",
    "\n",
    "future_return_df = universe_df.pct_change(future_return_days).shift(-(future_return_days-1))\n",
    "future_return_df_long = future_return_df.stack()\n",
    "\n",
    "future_return_df_long = pd.DataFrame(future_return_df_long)"
   ]
  },
  {
   "cell_type": "code",
   "execution_count": null,
   "metadata": {},
   "outputs": [],
   "source": []
  },
  {
   "cell_type": "code",
   "execution_count": null,
   "metadata": {},
   "outputs": [],
   "source": []
  },
  {
   "cell_type": "markdown",
   "metadata": {},
   "source": [
    "#### Merge the dataframe"
   ]
  },
  {
   "cell_type": "code",
   "execution_count": null,
   "metadata": {},
   "outputs": [],
   "source": []
  },
  {
   "cell_type": "code",
   "execution_count": 42,
   "metadata": {},
   "outputs": [],
   "source": [
    "future_return_df_long = pd.DataFrame(future_return_df_long)"
   ]
  },
  {
   "cell_type": "code",
   "execution_count": 43,
   "metadata": {},
   "outputs": [],
   "source": [
    "signal_df = pd.concat([complete_ret_sub_df_s1_long,\n",
    "                       complete_ret_sub_df_s3_long,\n",
    "                       complete_ret_sub_df_s5_long,\n",
    "                       complete_ret_sub_df_s7_long],axis=1)"
   ]
  },
  {
   "cell_type": "code",
   "execution_count": null,
   "metadata": {},
   "outputs": [],
   "source": []
  },
  {
   "cell_type": "code",
   "execution_count": 44,
   "metadata": {},
   "outputs": [],
   "source": [
    "merge_df = future_return_df_long.merge(signal_df,left_index=True,right_index=True)"
   ]
  },
  {
   "cell_type": "code",
   "execution_count": null,
   "metadata": {},
   "outputs": [],
   "source": []
  },
  {
   "cell_type": "code",
   "execution_count": 45,
   "metadata": {},
   "outputs": [],
   "source": [
    "merge_df.columns = [\"target\",\"s1\",\"s3\",\"s5\",\"s7\"]\n",
    "\n",
    "\n",
    "\n",
    "index_df = merge_df.index.to_frame()\n",
    "index_df.columns = [\"date\",\"asset\"]\n",
    "\n",
    "\n",
    "index_df[\"target\"] = merge_df[\"target\"]\n",
    "index_df[\"s1\"] = merge_df[\"s1\"]\n",
    "index_df[\"s3\"] = merge_df[\"s3\"]\n",
    "index_df[\"s5\"] = merge_df[\"s5\"]\n",
    "index_df[\"s7\"] = merge_df[\"s7\"]\n",
    "\n",
    "index_df.index = range(0,index_df.shape[0])"
   ]
  },
  {
   "cell_type": "code",
   "execution_count": null,
   "metadata": {},
   "outputs": [],
   "source": []
  },
  {
   "cell_type": "code",
   "execution_count": 46,
   "metadata": {},
   "outputs": [],
   "source": [
    "merge_df = index_df\n",
    "\n",
    "merge_df = merge_df.set_index([\"asset\",\"date\"])\n",
    "merge_df = merge_df.dropna()"
   ]
  },
  {
   "cell_type": "markdown",
   "metadata": {},
   "source": [
    "#### Panel Regression"
   ]
  },
  {
   "cell_type": "code",
   "execution_count": null,
   "metadata": {},
   "outputs": [],
   "source": []
  },
  {
   "cell_type": "code",
   "execution_count": 47,
   "metadata": {},
   "outputs": [],
   "source": [
    "exog_vars = [\"s1\",\"s3\",\"s5\",\"s7\"]\n",
    "depe_var = [\"target\"]\n",
    "exog = sm.add_constant(merge_df[exog_vars])\n",
    "depe = merge_df[depe_var]"
   ]
  },
  {
   "cell_type": "code",
   "execution_count": null,
   "metadata": {},
   "outputs": [],
   "source": []
  },
  {
   "cell_type": "code",
   "execution_count": 48,
   "metadata": {},
   "outputs": [
    {
     "name": "stderr",
     "output_type": "stream",
     "text": [
      "C:\\app_user_download\\anaconda\\lib\\site-packages\\linearmodels\\panel\\results.py:84: RuntimeWarning: invalid value encountered in sqrt\n",
      "  return Series(np.sqrt(np.diag(self.cov)), self._var_names, name=\"std_error\")\n"
     ]
    },
    {
     "data": {
      "text/html": [
       "<table class=\"simpletable\">\n",
       "<caption>PanelOLS Estimation Summary</caption>\n",
       "<tr>\n",
       "  <th>Dep. Variable:</th>         <td>target</td>      <th>  R-squared:         </th>     <td>0.0102</td>  \n",
       "</tr>\n",
       "<tr>\n",
       "  <th>Estimator:</th>            <td>PanelOLS</td>     <th>  R-squared (Between):</th>    <td>-0.2441</td> \n",
       "</tr>\n",
       "<tr>\n",
       "  <th>No. Observations:</th>       <td>80586</td>      <th>  R-squared (Within):</th>     <td>0.0077</td>  \n",
       "</tr>\n",
       "<tr>\n",
       "  <th>Date:</th>             <td>Wed, Jan 20 2021</td> <th>  R-squared (Overall):</th>    <td>0.0076</td>  \n",
       "</tr>\n",
       "<tr>\n",
       "  <th>Time:</th>                 <td>23:53:04</td>     <th>  Log-likelihood     </th>    <td>1.243e+05</td>\n",
       "</tr>\n",
       "<tr>\n",
       "  <th>Cov. Estimator:</th>       <td>Clustered</td>    <th>                     </th>        <td></td>     \n",
       "</tr>\n",
       "<tr>\n",
       "  <th></th>                          <td></td>         <th>  F-statistic:       </th>     <td>205.05</td>  \n",
       "</tr>\n",
       "<tr>\n",
       "  <th>Entities:</th>                <td>74</td>        <th>  P-value            </th>     <td>0.0000</td>  \n",
       "</tr>\n",
       "<tr>\n",
       "  <th>Avg Obs:</th>               <td>1089.0</td>      <th>  Distribution:      </th>   <td>F(4,79420)</td>\n",
       "</tr>\n",
       "<tr>\n",
       "  <th>Min Obs:</th>               <td>1089.0</td>      <th>                     </th>        <td></td>     \n",
       "</tr>\n",
       "<tr>\n",
       "  <th>Max Obs:</th>               <td>1089.0</td>      <th>  F-statistic (robust):</th>   <td>7.7276</td>  \n",
       "</tr>\n",
       "<tr>\n",
       "  <th></th>                          <td></td>         <th>  P-value            </th>     <td>0.0000</td>  \n",
       "</tr>\n",
       "<tr>\n",
       "  <th>Time periods:</th>           <td>1095</td>       <th>  Distribution:      </th>   <td>F(4,79420)</td>\n",
       "</tr>\n",
       "<tr>\n",
       "  <th>Avg Obs:</th>               <td>73.595</td>      <th>                     </th>        <td></td>     \n",
       "</tr>\n",
       "<tr>\n",
       "  <th>Min Obs:</th>               <td>0.0000</td>      <th>                     </th>        <td></td>     \n",
       "</tr>\n",
       "<tr>\n",
       "  <th>Max Obs:</th>               <td>74.000</td>      <th>                     </th>        <td></td>     \n",
       "</tr>\n",
       "<tr>\n",
       "  <th></th>                          <td></td>         <th>                     </th>        <td></td>     \n",
       "</tr>\n",
       "</table>\n",
       "<table class=\"simpletable\">\n",
       "<caption>Parameter Estimates</caption>\n",
       "<tr>\n",
       "    <td></td>     <th>Parameter</th> <th>Std. Err.</th>  <th>T-stat</th>   <th>P-value</th> <th>Lower CI</th> <th>Upper CI</th>\n",
       "</tr>\n",
       "<tr>\n",
       "  <th>const</th>  <td>5.684e-05</td> <td>        </td>  <td>        </td> <td>        </td> <td>        </td> <td>        </td>\n",
       "</tr>\n",
       "<tr>\n",
       "  <th>s1</th>      <td>-0.0939</td>   <td>0.0211</td>    <td>-4.4382</td>  <td>0.0000</td>   <td>-0.1353</td>  <td>-0.0524</td>\n",
       "</tr>\n",
       "<tr>\n",
       "  <th>s3</th>      <td>-0.0060</td>   <td>0.0098</td>    <td>-0.6096</td>  <td>0.5422</td>   <td>-0.0253</td>  <td>0.0133</td> \n",
       "</tr>\n",
       "<tr>\n",
       "  <th>s5</th>      <td>-0.0010</td>   <td>0.0059</td>    <td>-0.1630</td>  <td>0.8705</td>   <td>-0.0126</td>  <td>0.0106</td> \n",
       "</tr>\n",
       "<tr>\n",
       "  <th>s7</th>    <td>-7.216e-05</td>  <td>0.0042</td>    <td>-0.0173</td>  <td>0.9862</td>   <td>-0.0082</td>  <td>0.0081</td> \n",
       "</tr>\n",
       "</table><br/><br/>F-test for Poolability: 52.489<br/>P-value: 0.0000<br/>Distribution: F(1161,79420)<br/><br/>Included effects: Entity, Time<br/>id: 0x265cc97b430"
      ],
      "text/plain": [
       "                          PanelOLS Estimation Summary                           \n",
       "================================================================================\n",
       "Dep. Variable:                 target   R-squared:                        0.0102\n",
       "Estimator:                   PanelOLS   R-squared (Between):             -0.2441\n",
       "No. Observations:               80586   R-squared (Within):               0.0077\n",
       "Date:                Wed, Jan 20 2021   R-squared (Overall):              0.0076\n",
       "Time:                        23:53:04   Log-likelihood                 1.243e+05\n",
       "Cov. Estimator:             Clustered                                           \n",
       "                                        F-statistic:                      205.05\n",
       "Entities:                          74   P-value                           0.0000\n",
       "Avg Obs:                       1089.0   Distribution:                 F(4,79420)\n",
       "Min Obs:                       1089.0                                           \n",
       "Max Obs:                       1089.0   F-statistic (robust):             7.7276\n",
       "                                        P-value                           0.0000\n",
       "Time periods:                    1095   Distribution:                 F(4,79420)\n",
       "Avg Obs:                       73.595                                           \n",
       "Min Obs:                       0.0000                                           \n",
       "Max Obs:                       74.000                                           \n",
       "                                                                                \n",
       "                             Parameter Estimates                              \n",
       "==============================================================================\n",
       "            Parameter  Std. Err.     T-stat    P-value    Lower CI    Upper CI\n",
       "------------------------------------------------------------------------------\n",
       "const       5.684e-05                                                         \n",
       "s1            -0.0939     0.0211    -4.4382     0.0000     -0.1353     -0.0524\n",
       "s3            -0.0060     0.0098    -0.6096     0.5422     -0.0253      0.0133\n",
       "s5            -0.0010     0.0059    -0.1630     0.8705     -0.0126      0.0106\n",
       "s7         -7.216e-05     0.0042    -0.0173     0.9862     -0.0082      0.0081\n",
       "==============================================================================\n",
       "\n",
       "F-test for Poolability: 52.489\n",
       "P-value: 0.0000\n",
       "Distribution: F(1161,79420)\n",
       "\n",
       "Included effects: Entity, Time\n",
       "PanelEffectsResults, id: 0x265cc97b430"
      ]
     },
     "execution_count": 48,
     "metadata": {},
     "output_type": "execute_result"
    }
   ],
   "source": [
    "mod = PanelOLS(depe,exog,entity_effects=True,time_effects=True)\n",
    "mod.fit(cov_type=\"clustered\",cluster_entity=True,cluster_time=True)"
   ]
  },
  {
   "cell_type": "code",
   "execution_count": null,
   "metadata": {},
   "outputs": [],
   "source": []
  },
  {
   "cell_type": "code",
   "execution_count": null,
   "metadata": {},
   "outputs": [],
   "source": []
  },
  {
   "cell_type": "code",
   "execution_count": 49,
   "metadata": {},
   "outputs": [],
   "source": [
    "mod = PanelOLS(depe,exog,entity_effects=False,time_effects=False)"
   ]
  },
  {
   "cell_type": "code",
   "execution_count": 50,
   "metadata": {},
   "outputs": [
    {
     "data": {
      "text/html": [
       "<table class=\"simpletable\">\n",
       "<caption>PanelOLS Estimation Summary</caption>\n",
       "<tr>\n",
       "  <th>Dep. Variable:</th>         <td>target</td>      <th>  R-squared:         </th>     <td>0.0083</td>  \n",
       "</tr>\n",
       "<tr>\n",
       "  <th>Estimator:</th>            <td>PanelOLS</td>     <th>  R-squared (Between):</th>    <td>-0.1325</td> \n",
       "</tr>\n",
       "<tr>\n",
       "  <th>No. Observations:</th>       <td>80586</td>      <th>  R-squared (Within):</th>     <td>0.0083</td>  \n",
       "</tr>\n",
       "<tr>\n",
       "  <th>Date:</th>             <td>Wed, Jan 20 2021</td> <th>  R-squared (Overall):</th>    <td>0.0083</td>  \n",
       "</tr>\n",
       "<tr>\n",
       "  <th>Time:</th>                 <td>23:53:53</td>     <th>  Log-likelihood     </th>    <td>1.013e+05</td>\n",
       "</tr>\n",
       "<tr>\n",
       "  <th>Cov. Estimator:</th>       <td>Clustered</td>    <th>                     </th>        <td></td>     \n",
       "</tr>\n",
       "<tr>\n",
       "  <th></th>                          <td></td>         <th>  F-statistic:       </th>     <td>168.15</td>  \n",
       "</tr>\n",
       "<tr>\n",
       "  <th>Entities:</th>                <td>74</td>        <th>  P-value            </th>     <td>0.0000</td>  \n",
       "</tr>\n",
       "<tr>\n",
       "  <th>Avg Obs:</th>               <td>1089.0</td>      <th>  Distribution:      </th>   <td>F(4,80581)</td>\n",
       "</tr>\n",
       "<tr>\n",
       "  <th>Min Obs:</th>               <td>1089.0</td>      <th>                     </th>        <td></td>     \n",
       "</tr>\n",
       "<tr>\n",
       "  <th>Max Obs:</th>               <td>1089.0</td>      <th>  F-statistic (robust):</th>   <td>4.1737</td>  \n",
       "</tr>\n",
       "<tr>\n",
       "  <th></th>                          <td></td>         <th>  P-value            </th>     <td>0.0022</td>  \n",
       "</tr>\n",
       "<tr>\n",
       "  <th>Time periods:</th>           <td>1095</td>       <th>  Distribution:      </th>   <td>F(4,80581)</td>\n",
       "</tr>\n",
       "<tr>\n",
       "  <th>Avg Obs:</th>               <td>73.595</td>      <th>                     </th>        <td></td>     \n",
       "</tr>\n",
       "<tr>\n",
       "  <th>Min Obs:</th>               <td>0.0000</td>      <th>                     </th>        <td></td>     \n",
       "</tr>\n",
       "<tr>\n",
       "  <th>Max Obs:</th>               <td>74.000</td>      <th>                     </th>        <td></td>     \n",
       "</tr>\n",
       "<tr>\n",
       "  <th></th>                          <td></td>         <th>                     </th>        <td></td>     \n",
       "</tr>\n",
       "</table>\n",
       "<table class=\"simpletable\">\n",
       "<caption>Parameter Estimates</caption>\n",
       "<tr>\n",
       "    <td></td>    <th>Parameter</th> <th>Std. Err.</th> <th>T-stat</th>  <th>P-value</th> <th>Lower CI</th> <th>Upper CI</th>\n",
       "</tr>\n",
       "<tr>\n",
       "  <th>const</th> <td>6.532e-05</td>  <td>0.0014</td>   <td>0.0481</td>  <td>0.9617</td>   <td>-0.0026</td>  <td>0.0027</td> \n",
       "</tr>\n",
       "<tr>\n",
       "  <th>s1</th>     <td>-0.0971</td>   <td>0.0248</td>   <td>-3.9167</td> <td>0.0001</td>   <td>-0.1458</td>  <td>-0.0485</td>\n",
       "</tr>\n",
       "<tr>\n",
       "  <th>s3</th>     <td>0.0005</td>    <td>0.0195</td>   <td>0.0238</td>  <td>0.9810</td>   <td>-0.0377</td>  <td>0.0387</td> \n",
       "</tr>\n",
       "<tr>\n",
       "  <th>s5</th>     <td>0.0089</td>    <td>0.0189</td>   <td>0.4701</td>  <td>0.6383</td>   <td>-0.0282</td>  <td>0.0460</td> \n",
       "</tr>\n",
       "<tr>\n",
       "  <th>s7</th>     <td>-0.0016</td>   <td>0.0122</td>   <td>-0.1269</td> <td>0.8990</td>   <td>-0.0255</td>  <td>0.0224</td> \n",
       "</tr>\n",
       "</table><br/><br/><br/>id: 0x265cc95f670"
      ],
      "text/plain": [
       "                          PanelOLS Estimation Summary                           \n",
       "================================================================================\n",
       "Dep. Variable:                 target   R-squared:                        0.0083\n",
       "Estimator:                   PanelOLS   R-squared (Between):             -0.1325\n",
       "No. Observations:               80586   R-squared (Within):               0.0083\n",
       "Date:                Wed, Jan 20 2021   R-squared (Overall):              0.0083\n",
       "Time:                        23:53:53   Log-likelihood                 1.013e+05\n",
       "Cov. Estimator:             Clustered                                           \n",
       "                                        F-statistic:                      168.15\n",
       "Entities:                          74   P-value                           0.0000\n",
       "Avg Obs:                       1089.0   Distribution:                 F(4,80581)\n",
       "Min Obs:                       1089.0                                           \n",
       "Max Obs:                       1089.0   F-statistic (robust):             4.1737\n",
       "                                        P-value                           0.0022\n",
       "Time periods:                    1095   Distribution:                 F(4,80581)\n",
       "Avg Obs:                       73.595                                           \n",
       "Min Obs:                       0.0000                                           \n",
       "Max Obs:                       74.000                                           \n",
       "                                                                                \n",
       "                             Parameter Estimates                              \n",
       "==============================================================================\n",
       "            Parameter  Std. Err.     T-stat    P-value    Lower CI    Upper CI\n",
       "------------------------------------------------------------------------------\n",
       "const       6.532e-05     0.0014     0.0481     0.9617     -0.0026      0.0027\n",
       "s1            -0.0971     0.0248    -3.9167     0.0001     -0.1458     -0.0485\n",
       "s3             0.0005     0.0195     0.0238     0.9810     -0.0377      0.0387\n",
       "s5             0.0089     0.0189     0.4701     0.6383     -0.0282      0.0460\n",
       "s7            -0.0016     0.0122    -0.1269     0.8990     -0.0255      0.0224\n",
       "==============================================================================\n",
       "\n",
       "\n",
       "PanelEffectsResults, id: 0x265cc95f670"
      ]
     },
     "execution_count": 50,
     "metadata": {},
     "output_type": "execute_result"
    }
   ],
   "source": [
    "mod.fit(cov_type=\"clustered\",cluster_entity=True,cluster_time=True)"
   ]
  },
  {
   "cell_type": "code",
   "execution_count": null,
   "metadata": {},
   "outputs": [],
   "source": []
  },
  {
   "cell_type": "markdown",
   "metadata": {},
   "source": [
    "#### Multiple Fama Macbeth Regression"
   ]
  },
  {
   "cell_type": "code",
   "execution_count": 51,
   "metadata": {},
   "outputs": [],
   "source": [
    "mod = FamaMacBeth(depe,exog)"
   ]
  },
  {
   "cell_type": "code",
   "execution_count": 52,
   "metadata": {},
   "outputs": [],
   "source": [
    "res = mod.fit(cov_type='kernel',kernel=\"bartlett\")"
   ]
  },
  {
   "cell_type": "code",
   "execution_count": 53,
   "metadata": {},
   "outputs": [
    {
     "data": {
      "text/html": [
       "<table class=\"simpletable\">\n",
       "<caption>FamaMacBeth Estimation Summary</caption>\n",
       "<tr>\n",
       "  <th>Dep. Variable:</th>            <td>target</td>          <th>  R-squared:         </th>     <td>0.0073</td>  \n",
       "</tr>\n",
       "<tr>\n",
       "  <th>Estimator:</th>              <td>FamaMacBeth</td>       <th>  R-squared (Between):</th>    <td>-1.3296</td> \n",
       "</tr>\n",
       "<tr>\n",
       "  <th>No. Observations:</th>          <td>80586</td>          <th>  R-squared (Within):</th>     <td>0.0077</td>  \n",
       "</tr>\n",
       "<tr>\n",
       "  <th>Date:</th>                <td>Wed, Jan 20 2021</td>     <th>  R-squared (Overall):</th>    <td>0.0073</td>  \n",
       "</tr>\n",
       "<tr>\n",
       "  <th>Time:</th>                    <td>23:54:00</td>         <th>  Log-likelihood     </th>    <td>1.013e+05</td>\n",
       "</tr>\n",
       "<tr>\n",
       "  <th>Cov. Estimator:</th>   <td>Fama-MacBeth Kernel Cov</td> <th>                     </th>        <td></td>     \n",
       "</tr>\n",
       "<tr>\n",
       "  <th></th>                             <td></td>             <th>  F-statistic:       </th>     <td>148.77</td>  \n",
       "</tr>\n",
       "<tr>\n",
       "  <th>Entities:</th>                   <td>74</td>            <th>  P-value            </th>     <td>0.0000</td>  \n",
       "</tr>\n",
       "<tr>\n",
       "  <th>Avg Obs:</th>                  <td>1089.0</td>          <th>  Distribution:      </th>   <td>F(4,80581)</td>\n",
       "</tr>\n",
       "<tr>\n",
       "  <th>Min Obs:</th>                  <td>1089.0</td>          <th>                     </th>        <td></td>     \n",
       "</tr>\n",
       "<tr>\n",
       "  <th>Max Obs:</th>                  <td>1089.0</td>          <th>  F-statistic (robust):</th>   <td>20.683</td>  \n",
       "</tr>\n",
       "<tr>\n",
       "  <th></th>                             <td></td>             <th>  P-value            </th>     <td>0.0000</td>  \n",
       "</tr>\n",
       "<tr>\n",
       "  <th>Time periods:</th>              <td>1095</td>           <th>  Distribution:      </th>   <td>F(4,80581)</td>\n",
       "</tr>\n",
       "<tr>\n",
       "  <th>Avg Obs:</th>                  <td>73.595</td>          <th>                     </th>        <td></td>     \n",
       "</tr>\n",
       "<tr>\n",
       "  <th>Min Obs:</th>                  <td>0.0000</td>          <th>                     </th>        <td></td>     \n",
       "</tr>\n",
       "<tr>\n",
       "  <th>Max Obs:</th>                  <td>74.000</td>          <th>                     </th>        <td></td>     \n",
       "</tr>\n",
       "<tr>\n",
       "  <th></th>                             <td></td>             <th>                     </th>        <td></td>     \n",
       "</tr>\n",
       "</table>\n",
       "<table class=\"simpletable\">\n",
       "<caption>Parameter Estimates</caption>\n",
       "<tr>\n",
       "    <td></td>    <th>Parameter</th> <th>Std. Err.</th> <th>T-stat</th>  <th>P-value</th> <th>Lower CI</th> <th>Upper CI</th>\n",
       "</tr>\n",
       "<tr>\n",
       "  <th>const</th>  <td>-0.0012</td>   <td>0.0014</td>   <td>-0.8640</td> <td>0.3876</td>   <td>-0.0039</td>  <td>0.0015</td> \n",
       "</tr>\n",
       "<tr>\n",
       "  <th>s1</th>     <td>-0.0708</td>   <td>0.0089</td>   <td>-7.9613</td> <td>0.0000</td>   <td>-0.0882</td>  <td>-0.0533</td>\n",
       "</tr>\n",
       "<tr>\n",
       "  <th>s3</th>     <td>-0.0123</td>   <td>0.0071</td>   <td>-1.7381</td> <td>0.0822</td>   <td>-0.0262</td>  <td>0.0016</td> \n",
       "</tr>\n",
       "<tr>\n",
       "  <th>s5</th>     <td>0.0027</td>    <td>0.0071</td>   <td>0.3805</td>  <td>0.7036</td>   <td>-0.0112</td>  <td>0.0165</td> \n",
       "</tr>\n",
       "<tr>\n",
       "  <th>s7</th>     <td>0.0020</td>    <td>0.0047</td>   <td>0.4380</td>  <td>0.6614</td>   <td>-0.0071</td>  <td>0.0112</td> \n",
       "</tr>\n",
       "</table><br/>id: 0x265cc506d90"
      ],
      "text/plain": [
       "                            FamaMacBeth Estimation Summary                           \n",
       "=====================================================================================\n",
       "Dep. Variable:                      target   R-squared:                        0.0073\n",
       "Estimator:                     FamaMacBeth   R-squared (Between):             -1.3296\n",
       "No. Observations:                    80586   R-squared (Within):               0.0077\n",
       "Date:                     Wed, Jan 20 2021   R-squared (Overall):              0.0073\n",
       "Time:                             23:54:00   Log-likelihood                 1.013e+05\n",
       "Cov. Estimator:    Fama-MacBeth Kernel Cov                                           \n",
       "                                             F-statistic:                      148.77\n",
       "Entities:                               74   P-value                           0.0000\n",
       "Avg Obs:                            1089.0   Distribution:                 F(4,80581)\n",
       "Min Obs:                            1089.0                                           \n",
       "Max Obs:                            1089.0   F-statistic (robust):             20.683\n",
       "                                             P-value                           0.0000\n",
       "Time periods:                         1095   Distribution:                 F(4,80581)\n",
       "Avg Obs:                            73.595                                           \n",
       "Min Obs:                            0.0000                                           \n",
       "Max Obs:                            74.000                                           \n",
       "                                                                                     \n",
       "                             Parameter Estimates                              \n",
       "==============================================================================\n",
       "            Parameter  Std. Err.     T-stat    P-value    Lower CI    Upper CI\n",
       "------------------------------------------------------------------------------\n",
       "const         -0.0012     0.0014    -0.8640     0.3876     -0.0039      0.0015\n",
       "s1            -0.0708     0.0089    -7.9613     0.0000     -0.0882     -0.0533\n",
       "s3            -0.0123     0.0071    -1.7381     0.0822     -0.0262      0.0016\n",
       "s5             0.0027     0.0071     0.3805     0.7036     -0.0112      0.0165\n",
       "s7             0.0020     0.0047     0.4380     0.6614     -0.0071      0.0112\n",
       "==============================================================================\n",
       "FamaMacBethResults, id: 0x265cc506d90"
      ]
     },
     "execution_count": 53,
     "metadata": {},
     "output_type": "execute_result"
    }
   ],
   "source": [
    "res"
   ]
  },
  {
   "cell_type": "code",
   "execution_count": null,
   "metadata": {},
   "outputs": [],
   "source": []
  },
  {
   "cell_type": "code",
   "execution_count": null,
   "metadata": {},
   "outputs": [],
   "source": []
  },
  {
   "cell_type": "code",
   "execution_count": null,
   "metadata": {},
   "outputs": [],
   "source": []
  },
  {
   "cell_type": "code",
   "execution_count": null,
   "metadata": {},
   "outputs": [],
   "source": []
  },
  {
   "cell_type": "code",
   "execution_count": null,
   "metadata": {},
   "outputs": [],
   "source": []
  },
  {
   "cell_type": "markdown",
   "metadata": {},
   "source": [
    "### Multiple Holding Days"
   ]
  },
  {
   "cell_type": "code",
   "execution_count": 54,
   "metadata": {},
   "outputs": [],
   "source": [
    "future_return_days = 2\n",
    "\n",
    "future_return_df = universe_df.pct_change(future_return_days).shift(-(future_return_days-1))\n",
    "future_return_df_long = future_return_df.stack()\n",
    "\n",
    "future_return_df_long = pd.DataFrame(future_return_df_long)"
   ]
  },
  {
   "cell_type": "code",
   "execution_count": 55,
   "metadata": {},
   "outputs": [],
   "source": [
    "merge_df = future_return_df_long.merge(signal_df,left_index=True,right_index=True)"
   ]
  },
  {
   "cell_type": "code",
   "execution_count": 56,
   "metadata": {},
   "outputs": [
    {
     "data": {
      "text/html": [
       "<div>\n",
       "<style scoped>\n",
       "    .dataframe tbody tr th:only-of-type {\n",
       "        vertical-align: middle;\n",
       "    }\n",
       "\n",
       "    .dataframe tbody tr th {\n",
       "        vertical-align: top;\n",
       "    }\n",
       "\n",
       "    .dataframe thead th {\n",
       "        text-align: right;\n",
       "    }\n",
       "</style>\n",
       "<table border=\"1\" class=\"dataframe\">\n",
       "  <thead>\n",
       "    <tr style=\"text-align: right;\">\n",
       "      <th></th>\n",
       "      <th></th>\n",
       "      <th>0_x</th>\n",
       "      <th>0_y</th>\n",
       "      <th>1</th>\n",
       "      <th>2</th>\n",
       "      <th>3</th>\n",
       "    </tr>\n",
       "    <tr>\n",
       "      <th>date</th>\n",
       "      <th></th>\n",
       "      <th></th>\n",
       "      <th></th>\n",
       "      <th></th>\n",
       "      <th></th>\n",
       "      <th></th>\n",
       "    </tr>\n",
       "  </thead>\n",
       "  <tbody>\n",
       "    <tr>\n",
       "      <th rowspan=\"5\" valign=\"top\">2018-01-02</th>\n",
       "      <th>ADA-USD</th>\n",
       "      <td>0.481712</td>\n",
       "      <td>0.012453</td>\n",
       "      <td>NaN</td>\n",
       "      <td>NaN</td>\n",
       "      <td>NaN</td>\n",
       "    </tr>\n",
       "    <tr>\n",
       "      <th>ADX-USD</th>\n",
       "      <td>-0.080739</td>\n",
       "      <td>0.114517</td>\n",
       "      <td>NaN</td>\n",
       "      <td>NaN</td>\n",
       "      <td>NaN</td>\n",
       "    </tr>\n",
       "    <tr>\n",
       "      <th>AE-USD</th>\n",
       "      <td>0.175440</td>\n",
       "      <td>-0.015999</td>\n",
       "      <td>NaN</td>\n",
       "      <td>NaN</td>\n",
       "      <td>NaN</td>\n",
       "    </tr>\n",
       "    <tr>\n",
       "      <th>ARDR-USD</th>\n",
       "      <td>0.215451</td>\n",
       "      <td>-0.065361</td>\n",
       "      <td>NaN</td>\n",
       "      <td>NaN</td>\n",
       "      <td>NaN</td>\n",
       "    </tr>\n",
       "    <tr>\n",
       "      <th>ARK-USD</th>\n",
       "      <td>-0.001632</td>\n",
       "      <td>0.080079</td>\n",
       "      <td>NaN</td>\n",
       "      <td>NaN</td>\n",
       "      <td>NaN</td>\n",
       "    </tr>\n",
       "    <tr>\n",
       "      <th>...</th>\n",
       "      <th>...</th>\n",
       "      <td>...</td>\n",
       "      <td>...</td>\n",
       "      <td>...</td>\n",
       "      <td>...</td>\n",
       "      <td>...</td>\n",
       "    </tr>\n",
       "    <tr>\n",
       "      <th rowspan=\"5\" valign=\"top\">2021-01-02</th>\n",
       "      <th>XVG-USD</th>\n",
       "      <td>0.417309</td>\n",
       "      <td>-0.022395</td>\n",
       "      <td>-0.015002</td>\n",
       "      <td>-0.065067</td>\n",
       "      <td>0.100306</td>\n",
       "    </tr>\n",
       "    <tr>\n",
       "      <th>XZC-USD</th>\n",
       "      <td>-0.045698</td>\n",
       "      <td>-0.094004</td>\n",
       "      <td>-0.056278</td>\n",
       "      <td>-0.142921</td>\n",
       "      <td>-0.056563</td>\n",
       "    </tr>\n",
       "    <tr>\n",
       "      <th>ZEC-USD</th>\n",
       "      <td>0.029607</td>\n",
       "      <td>-0.112465</td>\n",
       "      <td>-0.146453</td>\n",
       "      <td>-0.160452</td>\n",
       "      <td>-0.086150</td>\n",
       "    </tr>\n",
       "    <tr>\n",
       "      <th>ZEN-USD</th>\n",
       "      <td>0.182516</td>\n",
       "      <td>0.018508</td>\n",
       "      <td>0.018827</td>\n",
       "      <td>-0.059865</td>\n",
       "      <td>0.050730</td>\n",
       "    </tr>\n",
       "    <tr>\n",
       "      <th>ZRX-USD</th>\n",
       "      <td>0.019493</td>\n",
       "      <td>0.058472</td>\n",
       "      <td>0.026020</td>\n",
       "      <td>0.004323</td>\n",
       "      <td>0.046617</td>\n",
       "    </tr>\n",
       "  </tbody>\n",
       "</table>\n",
       "<p>80956 rows × 5 columns</p>\n",
       "</div>"
      ],
      "text/plain": [
       "                          0_x       0_y         1         2         3\n",
       "date                                                                 \n",
       "2018-01-02 ADA-USD   0.481712  0.012453       NaN       NaN       NaN\n",
       "           ADX-USD  -0.080739  0.114517       NaN       NaN       NaN\n",
       "           AE-USD    0.175440 -0.015999       NaN       NaN       NaN\n",
       "           ARDR-USD  0.215451 -0.065361       NaN       NaN       NaN\n",
       "           ARK-USD  -0.001632  0.080079       NaN       NaN       NaN\n",
       "...                       ...       ...       ...       ...       ...\n",
       "2021-01-02 XVG-USD   0.417309 -0.022395 -0.015002 -0.065067  0.100306\n",
       "           XZC-USD  -0.045698 -0.094004 -0.056278 -0.142921 -0.056563\n",
       "           ZEC-USD   0.029607 -0.112465 -0.146453 -0.160452 -0.086150\n",
       "           ZEN-USD   0.182516  0.018508  0.018827 -0.059865  0.050730\n",
       "           ZRX-USD   0.019493  0.058472  0.026020  0.004323  0.046617\n",
       "\n",
       "[80956 rows x 5 columns]"
      ]
     },
     "execution_count": 56,
     "metadata": {},
     "output_type": "execute_result"
    }
   ],
   "source": [
    "merge_df"
   ]
  },
  {
   "cell_type": "code",
   "execution_count": 57,
   "metadata": {},
   "outputs": [
    {
     "data": {
      "text/html": [
       "<div>\n",
       "<style scoped>\n",
       "    .dataframe tbody tr th:only-of-type {\n",
       "        vertical-align: middle;\n",
       "    }\n",
       "\n",
       "    .dataframe tbody tr th {\n",
       "        vertical-align: top;\n",
       "    }\n",
       "\n",
       "    .dataframe thead th {\n",
       "        text-align: right;\n",
       "    }\n",
       "</style>\n",
       "<table border=\"1\" class=\"dataframe\">\n",
       "  <thead>\n",
       "    <tr style=\"text-align: right;\">\n",
       "      <th></th>\n",
       "      <th></th>\n",
       "      <th>0_x</th>\n",
       "      <th>0_y</th>\n",
       "      <th>1</th>\n",
       "      <th>2</th>\n",
       "      <th>3</th>\n",
       "    </tr>\n",
       "    <tr>\n",
       "      <th>date</th>\n",
       "      <th></th>\n",
       "      <th></th>\n",
       "      <th></th>\n",
       "      <th></th>\n",
       "      <th></th>\n",
       "      <th></th>\n",
       "    </tr>\n",
       "  </thead>\n",
       "  <tbody>\n",
       "    <tr>\n",
       "      <th rowspan=\"5\" valign=\"top\">2018-01-02</th>\n",
       "      <th>ADA-USD</th>\n",
       "      <td>0.481712</td>\n",
       "      <td>0.012453</td>\n",
       "      <td>NaN</td>\n",
       "      <td>NaN</td>\n",
       "      <td>NaN</td>\n",
       "    </tr>\n",
       "    <tr>\n",
       "      <th>ADX-USD</th>\n",
       "      <td>-0.080739</td>\n",
       "      <td>0.114517</td>\n",
       "      <td>NaN</td>\n",
       "      <td>NaN</td>\n",
       "      <td>NaN</td>\n",
       "    </tr>\n",
       "    <tr>\n",
       "      <th>AE-USD</th>\n",
       "      <td>0.175440</td>\n",
       "      <td>-0.015999</td>\n",
       "      <td>NaN</td>\n",
       "      <td>NaN</td>\n",
       "      <td>NaN</td>\n",
       "    </tr>\n",
       "    <tr>\n",
       "      <th>ARDR-USD</th>\n",
       "      <td>0.215451</td>\n",
       "      <td>-0.065361</td>\n",
       "      <td>NaN</td>\n",
       "      <td>NaN</td>\n",
       "      <td>NaN</td>\n",
       "    </tr>\n",
       "    <tr>\n",
       "      <th>ARK-USD</th>\n",
       "      <td>-0.001632</td>\n",
       "      <td>0.080079</td>\n",
       "      <td>NaN</td>\n",
       "      <td>NaN</td>\n",
       "      <td>NaN</td>\n",
       "    </tr>\n",
       "    <tr>\n",
       "      <th>...</th>\n",
       "      <th>...</th>\n",
       "      <td>...</td>\n",
       "      <td>...</td>\n",
       "      <td>...</td>\n",
       "      <td>...</td>\n",
       "      <td>...</td>\n",
       "    </tr>\n",
       "    <tr>\n",
       "      <th rowspan=\"5\" valign=\"top\">2021-01-02</th>\n",
       "      <th>XVG-USD</th>\n",
       "      <td>0.417309</td>\n",
       "      <td>-0.022395</td>\n",
       "      <td>-0.015002</td>\n",
       "      <td>-0.065067</td>\n",
       "      <td>0.100306</td>\n",
       "    </tr>\n",
       "    <tr>\n",
       "      <th>XZC-USD</th>\n",
       "      <td>-0.045698</td>\n",
       "      <td>-0.094004</td>\n",
       "      <td>-0.056278</td>\n",
       "      <td>-0.142921</td>\n",
       "      <td>-0.056563</td>\n",
       "    </tr>\n",
       "    <tr>\n",
       "      <th>ZEC-USD</th>\n",
       "      <td>0.029607</td>\n",
       "      <td>-0.112465</td>\n",
       "      <td>-0.146453</td>\n",
       "      <td>-0.160452</td>\n",
       "      <td>-0.086150</td>\n",
       "    </tr>\n",
       "    <tr>\n",
       "      <th>ZEN-USD</th>\n",
       "      <td>0.182516</td>\n",
       "      <td>0.018508</td>\n",
       "      <td>0.018827</td>\n",
       "      <td>-0.059865</td>\n",
       "      <td>0.050730</td>\n",
       "    </tr>\n",
       "    <tr>\n",
       "      <th>ZRX-USD</th>\n",
       "      <td>0.019493</td>\n",
       "      <td>0.058472</td>\n",
       "      <td>0.026020</td>\n",
       "      <td>0.004323</td>\n",
       "      <td>0.046617</td>\n",
       "    </tr>\n",
       "  </tbody>\n",
       "</table>\n",
       "<p>80956 rows × 5 columns</p>\n",
       "</div>"
      ],
      "text/plain": [
       "                          0_x       0_y         1         2         3\n",
       "date                                                                 \n",
       "2018-01-02 ADA-USD   0.481712  0.012453       NaN       NaN       NaN\n",
       "           ADX-USD  -0.080739  0.114517       NaN       NaN       NaN\n",
       "           AE-USD    0.175440 -0.015999       NaN       NaN       NaN\n",
       "           ARDR-USD  0.215451 -0.065361       NaN       NaN       NaN\n",
       "           ARK-USD  -0.001632  0.080079       NaN       NaN       NaN\n",
       "...                       ...       ...       ...       ...       ...\n",
       "2021-01-02 XVG-USD   0.417309 -0.022395 -0.015002 -0.065067  0.100306\n",
       "           XZC-USD  -0.045698 -0.094004 -0.056278 -0.142921 -0.056563\n",
       "           ZEC-USD   0.029607 -0.112465 -0.146453 -0.160452 -0.086150\n",
       "           ZEN-USD   0.182516  0.018508  0.018827 -0.059865  0.050730\n",
       "           ZRX-USD   0.019493  0.058472  0.026020  0.004323  0.046617\n",
       "\n",
       "[80956 rows x 5 columns]"
      ]
     },
     "execution_count": 57,
     "metadata": {},
     "output_type": "execute_result"
    }
   ],
   "source": [
    "merge_df"
   ]
  },
  {
   "cell_type": "code",
   "execution_count": 58,
   "metadata": {},
   "outputs": [],
   "source": [
    "merge_df.columns = [\"target\",\"s1\",\"s3\",\"s5\",\"s7\"]\n",
    "\n",
    "\n",
    "\n",
    "index_df = merge_df.index.to_frame()\n",
    "index_df.columns = [\"date\",\"asset\"]\n",
    "\n",
    "\n",
    "index_df[\"target\"] = merge_df[\"target\"]\n",
    "index_df[\"s1\"] = merge_df[\"s1\"]\n",
    "index_df[\"s3\"] = merge_df[\"s3\"]\n",
    "index_df[\"s5\"] = merge_df[\"s5\"]\n",
    "index_df[\"s7\"] = merge_df[\"s7\"]\n",
    "\n",
    "index_df.index = range(0,index_df.shape[0])"
   ]
  },
  {
   "cell_type": "code",
   "execution_count": null,
   "metadata": {},
   "outputs": [],
   "source": []
  },
  {
   "cell_type": "code",
   "execution_count": 59,
   "metadata": {},
   "outputs": [],
   "source": [
    "merge_df = index_df\n",
    "\n",
    "merge_df = merge_df.set_index([\"asset\",\"date\"])\n",
    "merge_df = merge_df.dropna()"
   ]
  },
  {
   "cell_type": "code",
   "execution_count": null,
   "metadata": {},
   "outputs": [],
   "source": []
  },
  {
   "cell_type": "markdown",
   "metadata": {},
   "source": [
    "#### Panel Regression"
   ]
  },
  {
   "cell_type": "code",
   "execution_count": 60,
   "metadata": {},
   "outputs": [],
   "source": [
    "exog_vars = [\"s1\",\"s3\",\"s5\",\"s7\"]\n",
    "depe_var = [\"target\"]\n",
    "exog = sm.add_constant(merge_df[exog_vars])\n",
    "depe = merge_df[depe_var]"
   ]
  },
  {
   "cell_type": "code",
   "execution_count": null,
   "metadata": {},
   "outputs": [],
   "source": []
  },
  {
   "cell_type": "code",
   "execution_count": 61,
   "metadata": {},
   "outputs": [
    {
     "name": "stderr",
     "output_type": "stream",
     "text": [
      "C:\\app_user_download\\anaconda\\lib\\site-packages\\linearmodels\\panel\\results.py:84: RuntimeWarning: invalid value encountered in sqrt\n",
      "  return Series(np.sqrt(np.diag(self.cov)), self._var_names, name=\"std_error\")\n"
     ]
    },
    {
     "data": {
      "text/html": [
       "<table class=\"simpletable\">\n",
       "<caption>PanelOLS Estimation Summary</caption>\n",
       "<tr>\n",
       "  <th>Dep. Variable:</th>         <td>target</td>      <th>  R-squared:         </th>     <td>0.0085</td>  \n",
       "</tr>\n",
       "<tr>\n",
       "  <th>Estimator:</th>            <td>PanelOLS</td>     <th>  R-squared (Between):</th>    <td>-0.1229</td> \n",
       "</tr>\n",
       "<tr>\n",
       "  <th>No. Observations:</th>       <td>80512</td>      <th>  R-squared (Within):</th>     <td>0.0026</td>  \n",
       "</tr>\n",
       "<tr>\n",
       "  <th>Date:</th>             <td>Wed, Jan 20 2021</td> <th>  R-squared (Overall):</th>    <td>0.0025</td>  \n",
       "</tr>\n",
       "<tr>\n",
       "  <th>Time:</th>                 <td>23:54:15</td>     <th>  Log-likelihood     </th>    <td>9.963e+04</td>\n",
       "</tr>\n",
       "<tr>\n",
       "  <th>Cov. Estimator:</th>       <td>Clustered</td>    <th>                     </th>        <td></td>     \n",
       "</tr>\n",
       "<tr>\n",
       "  <th></th>                          <td></td>         <th>  F-statistic:       </th>     <td>169.12</td>  \n",
       "</tr>\n",
       "<tr>\n",
       "  <th>Entities:</th>                <td>74</td>        <th>  P-value            </th>     <td>0.0000</td>  \n",
       "</tr>\n",
       "<tr>\n",
       "  <th>Avg Obs:</th>               <td>1088.0</td>      <th>  Distribution:      </th>   <td>F(4,79347)</td>\n",
       "</tr>\n",
       "<tr>\n",
       "  <th>Min Obs:</th>               <td>1088.0</td>      <th>                     </th>        <td></td>     \n",
       "</tr>\n",
       "<tr>\n",
       "  <th>Max Obs:</th>               <td>1088.0</td>      <th>  F-statistic (robust):</th>   <td>10.388</td>  \n",
       "</tr>\n",
       "<tr>\n",
       "  <th></th>                          <td></td>         <th>  P-value            </th>     <td>0.0000</td>  \n",
       "</tr>\n",
       "<tr>\n",
       "  <th>Time periods:</th>           <td>1094</td>       <th>  Distribution:      </th>   <td>F(4,79347)</td>\n",
       "</tr>\n",
       "<tr>\n",
       "  <th>Avg Obs:</th>               <td>73.594</td>      <th>                     </th>        <td></td>     \n",
       "</tr>\n",
       "<tr>\n",
       "  <th>Min Obs:</th>               <td>0.0000</td>      <th>                     </th>        <td></td>     \n",
       "</tr>\n",
       "<tr>\n",
       "  <th>Max Obs:</th>               <td>74.000</td>      <th>                     </th>        <td></td>     \n",
       "</tr>\n",
       "<tr>\n",
       "  <th></th>                          <td></td>         <th>                     </th>        <td></td>     \n",
       "</tr>\n",
       "</table>\n",
       "<table class=\"simpletable\">\n",
       "<caption>Parameter Estimates</caption>\n",
       "<tr>\n",
       "    <td></td>    <th>Parameter</th> <th>Std. Err.</th>  <th>T-stat</th>   <th>P-value</th> <th>Lower CI</th> <th>Upper CI</th>\n",
       "</tr>\n",
       "<tr>\n",
       "  <th>const</th>  <td>-0.0003</td>  <td>        </td>  <td>        </td> <td>        </td> <td>        </td> <td>        </td>\n",
       "</tr>\n",
       "<tr>\n",
       "  <th>s1</th>     <td>-0.1296</td>   <td>0.0227</td>    <td>-5.7154</td>  <td>0.0000</td>   <td>-0.1740</td>  <td>-0.0851</td>\n",
       "</tr>\n",
       "<tr>\n",
       "  <th>s3</th>     <td>0.0076</td>    <td>0.0187</td>    <td>0.4033</td>   <td>0.6867</td>   <td>-0.0292</td>  <td>0.0443</td> \n",
       "</tr>\n",
       "<tr>\n",
       "  <th>s5</th>     <td>0.0034</td>    <td>0.0077</td>    <td>0.4468</td>   <td>0.6550</td>   <td>-0.0117</td>  <td>0.0185</td> \n",
       "</tr>\n",
       "<tr>\n",
       "  <th>s7</th>     <td>-0.0046</td>   <td>0.0057</td>    <td>-0.8088</td>  <td>0.4186</td>   <td>-0.0159</td>  <td>0.0066</td> \n",
       "</tr>\n",
       "</table><br/><br/>F-test for Poolability: 53.447<br/>P-value: 0.0000<br/>Distribution: F(1160,79347)<br/><br/>Included effects: Entity, Time<br/>id: 0x265cc500760"
      ],
      "text/plain": [
       "                          PanelOLS Estimation Summary                           \n",
       "================================================================================\n",
       "Dep. Variable:                 target   R-squared:                        0.0085\n",
       "Estimator:                   PanelOLS   R-squared (Between):             -0.1229\n",
       "No. Observations:               80512   R-squared (Within):               0.0026\n",
       "Date:                Wed, Jan 20 2021   R-squared (Overall):              0.0025\n",
       "Time:                        23:54:15   Log-likelihood                 9.963e+04\n",
       "Cov. Estimator:             Clustered                                           \n",
       "                                        F-statistic:                      169.12\n",
       "Entities:                          74   P-value                           0.0000\n",
       "Avg Obs:                       1088.0   Distribution:                 F(4,79347)\n",
       "Min Obs:                       1088.0                                           \n",
       "Max Obs:                       1088.0   F-statistic (robust):             10.388\n",
       "                                        P-value                           0.0000\n",
       "Time periods:                    1094   Distribution:                 F(4,79347)\n",
       "Avg Obs:                       73.594                                           \n",
       "Min Obs:                       0.0000                                           \n",
       "Max Obs:                       74.000                                           \n",
       "                                                                                \n",
       "                             Parameter Estimates                              \n",
       "==============================================================================\n",
       "            Parameter  Std. Err.     T-stat    P-value    Lower CI    Upper CI\n",
       "------------------------------------------------------------------------------\n",
       "const         -0.0003                                                         \n",
       "s1            -0.1296     0.0227    -5.7154     0.0000     -0.1740     -0.0851\n",
       "s3             0.0076     0.0187     0.4033     0.6867     -0.0292      0.0443\n",
       "s5             0.0034     0.0077     0.4468     0.6550     -0.0117      0.0185\n",
       "s7            -0.0046     0.0057    -0.8088     0.4186     -0.0159      0.0066\n",
       "==============================================================================\n",
       "\n",
       "F-test for Poolability: 53.447\n",
       "P-value: 0.0000\n",
       "Distribution: F(1160,79347)\n",
       "\n",
       "Included effects: Entity, Time\n",
       "PanelEffectsResults, id: 0x265cc500760"
      ]
     },
     "execution_count": 61,
     "metadata": {},
     "output_type": "execute_result"
    }
   ],
   "source": [
    "mod = PanelOLS(depe,exog,entity_effects=True,time_effects=True)\n",
    "mod.fit(cov_type=\"clustered\",cluster_entity=True,cluster_time=True)"
   ]
  },
  {
   "cell_type": "code",
   "execution_count": 62,
   "metadata": {},
   "outputs": [
    {
     "data": {
      "text/html": [
       "<table class=\"simpletable\">\n",
       "<caption>PanelOLS Estimation Summary</caption>\n",
       "<tr>\n",
       "  <th>Dep. Variable:</th>         <td>target</td>      <th>  R-squared:         </th>     <td>0.0046</td>  \n",
       "</tr>\n",
       "<tr>\n",
       "  <th>Estimator:</th>            <td>PanelOLS</td>     <th>  R-squared (Between):</th>    <td>-0.0164</td> \n",
       "</tr>\n",
       "<tr>\n",
       "  <th>No. Observations:</th>       <td>80512</td>      <th>  R-squared (Within):</th>     <td>0.0046</td>  \n",
       "</tr>\n",
       "<tr>\n",
       "  <th>Date:</th>             <td>Wed, Jan 20 2021</td> <th>  R-squared (Overall):</th>    <td>0.0046</td>  \n",
       "</tr>\n",
       "<tr>\n",
       "  <th>Time:</th>                 <td>23:54:16</td>     <th>  Log-likelihood     </th>    <td>7.639e+04</td>\n",
       "</tr>\n",
       "<tr>\n",
       "  <th>Cov. Estimator:</th>       <td>Clustered</td>    <th>                     </th>        <td></td>     \n",
       "</tr>\n",
       "<tr>\n",
       "  <th></th>                          <td></td>         <th>  F-statistic:       </th>     <td>92.526</td>  \n",
       "</tr>\n",
       "<tr>\n",
       "  <th>Entities:</th>                <td>74</td>        <th>  P-value            </th>     <td>0.0000</td>  \n",
       "</tr>\n",
       "<tr>\n",
       "  <th>Avg Obs:</th>               <td>1088.0</td>      <th>  Distribution:      </th>   <td>F(4,80507)</td>\n",
       "</tr>\n",
       "<tr>\n",
       "  <th>Min Obs:</th>               <td>1088.0</td>      <th>                     </th>        <td></td>     \n",
       "</tr>\n",
       "<tr>\n",
       "  <th>Max Obs:</th>               <td>1088.0</td>      <th>  F-statistic (robust):</th>   <td>4.4062</td>  \n",
       "</tr>\n",
       "<tr>\n",
       "  <th></th>                          <td></td>         <th>  P-value            </th>     <td>0.0015</td>  \n",
       "</tr>\n",
       "<tr>\n",
       "  <th>Time periods:</th>           <td>1094</td>       <th>  Distribution:      </th>   <td>F(4,80507)</td>\n",
       "</tr>\n",
       "<tr>\n",
       "  <th>Avg Obs:</th>               <td>73.594</td>      <th>                     </th>        <td></td>     \n",
       "</tr>\n",
       "<tr>\n",
       "  <th>Min Obs:</th>               <td>0.0000</td>      <th>                     </th>        <td></td>     \n",
       "</tr>\n",
       "<tr>\n",
       "  <th>Max Obs:</th>               <td>74.000</td>      <th>                     </th>        <td></td>     \n",
       "</tr>\n",
       "<tr>\n",
       "  <th></th>                          <td></td>         <th>                     </th>        <td></td>     \n",
       "</tr>\n",
       "</table>\n",
       "<table class=\"simpletable\">\n",
       "<caption>Parameter Estimates</caption>\n",
       "<tr>\n",
       "    <td></td>    <th>Parameter</th> <th>Std. Err.</th> <th>T-stat</th>  <th>P-value</th> <th>Lower CI</th> <th>Upper CI</th>\n",
       "</tr>\n",
       "<tr>\n",
       "  <th>const</th>  <td>-0.0003</td>   <td>0.0019</td>   <td>-0.1642</td> <td>0.8695</td>   <td>-0.0040</td>  <td>0.0034</td> \n",
       "</tr>\n",
       "<tr>\n",
       "  <th>s1</th>     <td>-0.0959</td>   <td>0.0302</td>   <td>-3.1706</td> <td>0.0015</td>   <td>-0.1552</td>  <td>-0.0366</td>\n",
       "</tr>\n",
       "<tr>\n",
       "  <th>s3</th>     <td>-0.0068</td>   <td>0.0252</td>   <td>-0.2705</td> <td>0.7868</td>   <td>-0.0561</td>  <td>0.0425</td> \n",
       "</tr>\n",
       "<tr>\n",
       "  <th>s5</th>     <td>0.0399</td>    <td>0.0239</td>   <td>1.6691</td>  <td>0.0951</td>   <td>-0.0070</td>  <td>0.0867</td> \n",
       "</tr>\n",
       "<tr>\n",
       "  <th>s7</th>     <td>-0.0152</td>   <td>0.0174</td>   <td>-0.8732</td> <td>0.3825</td>   <td>-0.0493</td>  <td>0.0189</td> \n",
       "</tr>\n",
       "</table><br/><br/><br/>id: 0x265d473f490"
      ],
      "text/plain": [
       "                          PanelOLS Estimation Summary                           \n",
       "================================================================================\n",
       "Dep. Variable:                 target   R-squared:                        0.0046\n",
       "Estimator:                   PanelOLS   R-squared (Between):             -0.0164\n",
       "No. Observations:               80512   R-squared (Within):               0.0046\n",
       "Date:                Wed, Jan 20 2021   R-squared (Overall):              0.0046\n",
       "Time:                        23:54:16   Log-likelihood                 7.639e+04\n",
       "Cov. Estimator:             Clustered                                           \n",
       "                                        F-statistic:                      92.526\n",
       "Entities:                          74   P-value                           0.0000\n",
       "Avg Obs:                       1088.0   Distribution:                 F(4,80507)\n",
       "Min Obs:                       1088.0                                           \n",
       "Max Obs:                       1088.0   F-statistic (robust):             4.4062\n",
       "                                        P-value                           0.0015\n",
       "Time periods:                    1094   Distribution:                 F(4,80507)\n",
       "Avg Obs:                       73.594                                           \n",
       "Min Obs:                       0.0000                                           \n",
       "Max Obs:                       74.000                                           \n",
       "                                                                                \n",
       "                             Parameter Estimates                              \n",
       "==============================================================================\n",
       "            Parameter  Std. Err.     T-stat    P-value    Lower CI    Upper CI\n",
       "------------------------------------------------------------------------------\n",
       "const         -0.0003     0.0019    -0.1642     0.8695     -0.0040      0.0034\n",
       "s1            -0.0959     0.0302    -3.1706     0.0015     -0.1552     -0.0366\n",
       "s3            -0.0068     0.0252    -0.2705     0.7868     -0.0561      0.0425\n",
       "s5             0.0399     0.0239     1.6691     0.0951     -0.0070      0.0867\n",
       "s7            -0.0152     0.0174    -0.8732     0.3825     -0.0493      0.0189\n",
       "==============================================================================\n",
       "\n",
       "\n",
       "PanelEffectsResults, id: 0x265d473f490"
      ]
     },
     "execution_count": 62,
     "metadata": {},
     "output_type": "execute_result"
    }
   ],
   "source": [
    "mod = PanelOLS(depe,exog,entity_effects=False,time_effects=False)\n",
    "mod.fit(cov_type=\"clustered\",cluster_entity=False,cluster_time=True)"
   ]
  },
  {
   "cell_type": "code",
   "execution_count": null,
   "metadata": {},
   "outputs": [],
   "source": []
  },
  {
   "cell_type": "code",
   "execution_count": 63,
   "metadata": {},
   "outputs": [
    {
     "data": {
      "text/html": [
       "<table class=\"simpletable\">\n",
       "<caption>PanelOLS Estimation Summary</caption>\n",
       "<tr>\n",
       "  <th>Dep. Variable:</th>         <td>target</td>      <th>  R-squared:         </th>     <td>0.0046</td>  \n",
       "</tr>\n",
       "<tr>\n",
       "  <th>Estimator:</th>            <td>PanelOLS</td>     <th>  R-squared (Between):</th>    <td>-0.0164</td> \n",
       "</tr>\n",
       "<tr>\n",
       "  <th>No. Observations:</th>       <td>80512</td>      <th>  R-squared (Within):</th>     <td>0.0046</td>  \n",
       "</tr>\n",
       "<tr>\n",
       "  <th>Date:</th>             <td>Wed, Jan 20 2021</td> <th>  R-squared (Overall):</th>    <td>0.0046</td>  \n",
       "</tr>\n",
       "<tr>\n",
       "  <th>Time:</th>                 <td>23:54:16</td>     <th>  Log-likelihood     </th>    <td>7.639e+04</td>\n",
       "</tr>\n",
       "<tr>\n",
       "  <th>Cov. Estimator:</th>       <td>Clustered</td>    <th>                     </th>        <td></td>     \n",
       "</tr>\n",
       "<tr>\n",
       "  <th></th>                          <td></td>         <th>  F-statistic:       </th>     <td>92.526</td>  \n",
       "</tr>\n",
       "<tr>\n",
       "  <th>Entities:</th>                <td>74</td>        <th>  P-value            </th>     <td>0.0000</td>  \n",
       "</tr>\n",
       "<tr>\n",
       "  <th>Avg Obs:</th>               <td>1088.0</td>      <th>  Distribution:      </th>   <td>F(4,80507)</td>\n",
       "</tr>\n",
       "<tr>\n",
       "  <th>Min Obs:</th>               <td>1088.0</td>      <th>                     </th>        <td></td>     \n",
       "</tr>\n",
       "<tr>\n",
       "  <th>Max Obs:</th>               <td>1088.0</td>      <th>  F-statistic (robust):</th>   <td>3.7952</td>  \n",
       "</tr>\n",
       "<tr>\n",
       "  <th></th>                          <td></td>         <th>  P-value            </th>     <td>0.0043</td>  \n",
       "</tr>\n",
       "<tr>\n",
       "  <th>Time periods:</th>           <td>1094</td>       <th>  Distribution:      </th>   <td>F(4,80507)</td>\n",
       "</tr>\n",
       "<tr>\n",
       "  <th>Avg Obs:</th>               <td>73.594</td>      <th>                     </th>        <td></td>     \n",
       "</tr>\n",
       "<tr>\n",
       "  <th>Min Obs:</th>               <td>0.0000</td>      <th>                     </th>        <td></td>     \n",
       "</tr>\n",
       "<tr>\n",
       "  <th>Max Obs:</th>               <td>74.000</td>      <th>                     </th>        <td></td>     \n",
       "</tr>\n",
       "<tr>\n",
       "  <th></th>                          <td></td>         <th>                     </th>        <td></td>     \n",
       "</tr>\n",
       "</table>\n",
       "<table class=\"simpletable\">\n",
       "<caption>Parameter Estimates</caption>\n",
       "<tr>\n",
       "    <td></td>    <th>Parameter</th> <th>Std. Err.</th> <th>T-stat</th>  <th>P-value</th> <th>Lower CI</th> <th>Upper CI</th>\n",
       "</tr>\n",
       "<tr>\n",
       "  <th>const</th>  <td>-0.0003</td>   <td>0.0019</td>   <td>-0.1652</td> <td>0.8688</td>   <td>-0.0040</td>  <td>0.0033</td> \n",
       "</tr>\n",
       "<tr>\n",
       "  <th>s1</th>     <td>-0.0959</td>   <td>0.0318</td>   <td>-3.0187</td> <td>0.0025</td>   <td>-0.1582</td>  <td>-0.0336</td>\n",
       "</tr>\n",
       "<tr>\n",
       "  <th>s3</th>     <td>-0.0068</td>   <td>0.0261</td>   <td>-0.2603</td> <td>0.7947</td>   <td>-0.0580</td>  <td>0.0444</td> \n",
       "</tr>\n",
       "<tr>\n",
       "  <th>s5</th>     <td>0.0399</td>    <td>0.0240</td>   <td>1.6637</td>  <td>0.0962</td>   <td>-0.0071</td>  <td>0.0869</td> \n",
       "</tr>\n",
       "<tr>\n",
       "  <th>s7</th>     <td>-0.0152</td>   <td>0.0176</td>   <td>-0.8663</td> <td>0.3863</td>   <td>-0.0496</td>  <td>0.0192</td> \n",
       "</tr>\n",
       "</table><br/><br/><br/>id: 0x265cc32f730"
      ],
      "text/plain": [
       "                          PanelOLS Estimation Summary                           \n",
       "================================================================================\n",
       "Dep. Variable:                 target   R-squared:                        0.0046\n",
       "Estimator:                   PanelOLS   R-squared (Between):             -0.0164\n",
       "No. Observations:               80512   R-squared (Within):               0.0046\n",
       "Date:                Wed, Jan 20 2021   R-squared (Overall):              0.0046\n",
       "Time:                        23:54:16   Log-likelihood                 7.639e+04\n",
       "Cov. Estimator:             Clustered                                           \n",
       "                                        F-statistic:                      92.526\n",
       "Entities:                          74   P-value                           0.0000\n",
       "Avg Obs:                       1088.0   Distribution:                 F(4,80507)\n",
       "Min Obs:                       1088.0                                           \n",
       "Max Obs:                       1088.0   F-statistic (robust):             3.7952\n",
       "                                        P-value                           0.0043\n",
       "Time periods:                    1094   Distribution:                 F(4,80507)\n",
       "Avg Obs:                       73.594                                           \n",
       "Min Obs:                       0.0000                                           \n",
       "Max Obs:                       74.000                                           \n",
       "                                                                                \n",
       "                             Parameter Estimates                              \n",
       "==============================================================================\n",
       "            Parameter  Std. Err.     T-stat    P-value    Lower CI    Upper CI\n",
       "------------------------------------------------------------------------------\n",
       "const         -0.0003     0.0019    -0.1652     0.8688     -0.0040      0.0033\n",
       "s1            -0.0959     0.0318    -3.0187     0.0025     -0.1582     -0.0336\n",
       "s3            -0.0068     0.0261    -0.2603     0.7947     -0.0580      0.0444\n",
       "s5             0.0399     0.0240     1.6637     0.0962     -0.0071      0.0869\n",
       "s7            -0.0152     0.0176    -0.8663     0.3863     -0.0496      0.0192\n",
       "==============================================================================\n",
       "\n",
       "\n",
       "PanelEffectsResults, id: 0x265cc32f730"
      ]
     },
     "execution_count": 63,
     "metadata": {},
     "output_type": "execute_result"
    }
   ],
   "source": [
    "mod = PanelOLS(depe,exog,entity_effects=False,time_effects=False)\n",
    "mod.fit(cov_type=\"clustered\",cluster_entity=True,cluster_time=True)"
   ]
  },
  {
   "cell_type": "code",
   "execution_count": null,
   "metadata": {},
   "outputs": [],
   "source": []
  },
  {
   "cell_type": "markdown",
   "metadata": {},
   "source": [
    "#### Fama Macbeth"
   ]
  },
  {
   "cell_type": "code",
   "execution_count": 64,
   "metadata": {},
   "outputs": [],
   "source": [
    "mod = FamaMacBeth(depe,exog)"
   ]
  },
  {
   "cell_type": "code",
   "execution_count": 65,
   "metadata": {},
   "outputs": [
    {
     "data": {
      "text/html": [
       "<table class=\"simpletable\">\n",
       "<caption>FamaMacBeth Estimation Summary</caption>\n",
       "<tr>\n",
       "  <th>Dep. Variable:</th>            <td>target</td>          <th>  R-squared:         </th>     <td>0.0031</td>  \n",
       "</tr>\n",
       "<tr>\n",
       "  <th>Estimator:</th>              <td>FamaMacBeth</td>       <th>  R-squared (Between):</th>    <td>-0.7816</td> \n",
       "</tr>\n",
       "<tr>\n",
       "  <th>No. Observations:</th>          <td>80512</td>          <th>  R-squared (Within):</th>     <td>0.0035</td>  \n",
       "</tr>\n",
       "<tr>\n",
       "  <th>Date:</th>                <td>Wed, Jan 20 2021</td>     <th>  R-squared (Overall):</th>    <td>0.0031</td>  \n",
       "</tr>\n",
       "<tr>\n",
       "  <th>Time:</th>                    <td>23:54:18</td>         <th>  Log-likelihood     </th>    <td>7.633e+04</td>\n",
       "</tr>\n",
       "<tr>\n",
       "  <th>Cov. Estimator:</th>   <td>Fama-MacBeth Kernel Cov</td> <th>                     </th>        <td></td>     \n",
       "</tr>\n",
       "<tr>\n",
       "  <th></th>                             <td></td>             <th>  F-statistic:       </th>     <td>61.583</td>  \n",
       "</tr>\n",
       "<tr>\n",
       "  <th>Entities:</th>                   <td>74</td>            <th>  P-value            </th>     <td>0.0000</td>  \n",
       "</tr>\n",
       "<tr>\n",
       "  <th>Avg Obs:</th>                  <td>1088.0</td>          <th>  Distribution:      </th>   <td>F(4,80507)</td>\n",
       "</tr>\n",
       "<tr>\n",
       "  <th>Min Obs:</th>                  <td>1088.0</td>          <th>                     </th>        <td></td>     \n",
       "</tr>\n",
       "<tr>\n",
       "  <th>Max Obs:</th>                  <td>1088.0</td>          <th>  F-statistic (robust):</th>   <td>13.208</td>  \n",
       "</tr>\n",
       "<tr>\n",
       "  <th></th>                             <td></td>             <th>  P-value            </th>     <td>0.0000</td>  \n",
       "</tr>\n",
       "<tr>\n",
       "  <th>Time periods:</th>              <td>1094</td>           <th>  Distribution:      </th>   <td>F(4,80507)</td>\n",
       "</tr>\n",
       "<tr>\n",
       "  <th>Avg Obs:</th>                  <td>73.594</td>          <th>                     </th>        <td></td>     \n",
       "</tr>\n",
       "<tr>\n",
       "  <th>Min Obs:</th>                  <td>0.0000</td>          <th>                     </th>        <td></td>     \n",
       "</tr>\n",
       "<tr>\n",
       "  <th>Max Obs:</th>                  <td>74.000</td>          <th>                     </th>        <td></td>     \n",
       "</tr>\n",
       "<tr>\n",
       "  <th></th>                             <td></td>             <th>                     </th>        <td></td>     \n",
       "</tr>\n",
       "</table>\n",
       "<table class=\"simpletable\">\n",
       "<caption>Parameter Estimates</caption>\n",
       "<tr>\n",
       "    <td></td>    <th>Parameter</th> <th>Std. Err.</th> <th>T-stat</th>  <th>P-value</th> <th>Lower CI</th> <th>Upper CI</th>\n",
       "</tr>\n",
       "<tr>\n",
       "  <th>const</th>  <td>-0.0023</td>   <td>0.0026</td>   <td>-0.8636</td> <td>0.3878</td>   <td>-0.0074</td>  <td>0.0029</td> \n",
       "</tr>\n",
       "<tr>\n",
       "  <th>s1</th>     <td>-0.0833</td>   <td>0.0119</td>   <td>-7.0063</td> <td>0.0000</td>   <td>-0.1066</td>  <td>-0.0600</td>\n",
       "</tr>\n",
       "<tr>\n",
       "  <th>s3</th>     <td>-0.0114</td>   <td>0.0094</td>   <td>-1.2171</td> <td>0.2236</td>   <td>-0.0299</td>  <td>0.0070</td> \n",
       "</tr>\n",
       "<tr>\n",
       "  <th>s5</th>     <td>0.0027</td>    <td>0.0084</td>   <td>0.3203</td>  <td>0.7488</td>   <td>-0.0137</td>  <td>0.0191</td> \n",
       "</tr>\n",
       "<tr>\n",
       "  <th>s7</th>     <td>0.0094</td>    <td>0.0068</td>   <td>1.3837</td>  <td>0.1665</td>   <td>-0.0039</td>  <td>0.0227</td> \n",
       "</tr>\n",
       "</table><br/>id: 0x265cc2d8460"
      ],
      "text/plain": [
       "                            FamaMacBeth Estimation Summary                           \n",
       "=====================================================================================\n",
       "Dep. Variable:                      target   R-squared:                        0.0031\n",
       "Estimator:                     FamaMacBeth   R-squared (Between):             -0.7816\n",
       "No. Observations:                    80512   R-squared (Within):               0.0035\n",
       "Date:                     Wed, Jan 20 2021   R-squared (Overall):              0.0031\n",
       "Time:                             23:54:18   Log-likelihood                 7.633e+04\n",
       "Cov. Estimator:    Fama-MacBeth Kernel Cov                                           \n",
       "                                             F-statistic:                      61.583\n",
       "Entities:                               74   P-value                           0.0000\n",
       "Avg Obs:                            1088.0   Distribution:                 F(4,80507)\n",
       "Min Obs:                            1088.0                                           \n",
       "Max Obs:                            1088.0   F-statistic (robust):             13.208\n",
       "                                             P-value                           0.0000\n",
       "Time periods:                         1094   Distribution:                 F(4,80507)\n",
       "Avg Obs:                            73.594                                           \n",
       "Min Obs:                            0.0000                                           \n",
       "Max Obs:                            74.000                                           \n",
       "                                                                                     \n",
       "                             Parameter Estimates                              \n",
       "==============================================================================\n",
       "            Parameter  Std. Err.     T-stat    P-value    Lower CI    Upper CI\n",
       "------------------------------------------------------------------------------\n",
       "const         -0.0023     0.0026    -0.8636     0.3878     -0.0074      0.0029\n",
       "s1            -0.0833     0.0119    -7.0063     0.0000     -0.1066     -0.0600\n",
       "s3            -0.0114     0.0094    -1.2171     0.2236     -0.0299      0.0070\n",
       "s5             0.0027     0.0084     0.3203     0.7488     -0.0137      0.0191\n",
       "s7             0.0094     0.0068     1.3837     0.1665     -0.0039      0.0227\n",
       "==============================================================================\n",
       "FamaMacBethResults, id: 0x265cc2d8460"
      ]
     },
     "execution_count": 65,
     "metadata": {},
     "output_type": "execute_result"
    }
   ],
   "source": [
    "mod.fit(cov_type='kernel',kernel=\"bartlett\")"
   ]
  },
  {
   "cell_type": "code",
   "execution_count": null,
   "metadata": {},
   "outputs": [],
   "source": []
  },
  {
   "cell_type": "code",
   "execution_count": null,
   "metadata": {},
   "outputs": [],
   "source": []
  },
  {
   "cell_type": "code",
   "execution_count": null,
   "metadata": {},
   "outputs": [],
   "source": []
  },
  {
   "cell_type": "code",
   "execution_count": null,
   "metadata": {},
   "outputs": [],
   "source": []
  },
  {
   "cell_type": "code",
   "execution_count": null,
   "metadata": {},
   "outputs": [],
   "source": []
  },
  {
   "cell_type": "code",
   "execution_count": null,
   "metadata": {},
   "outputs": [],
   "source": []
  },
  {
   "cell_type": "code",
   "execution_count": null,
   "metadata": {},
   "outputs": [],
   "source": []
  },
  {
   "cell_type": "code",
   "execution_count": null,
   "metadata": {},
   "outputs": [],
   "source": []
  },
  {
   "cell_type": "code",
   "execution_count": null,
   "metadata": {},
   "outputs": [],
   "source": []
  },
  {
   "cell_type": "code",
   "execution_count": null,
   "metadata": {},
   "outputs": [],
   "source": []
  }
 ],
 "metadata": {
  "kernelspec": {
   "display_name": "Python 3",
   "language": "python",
   "name": "python3"
  },
  "language_info": {
   "codemirror_mode": {
    "name": "ipython",
    "version": 3
   },
   "file_extension": ".py",
   "mimetype": "text/x-python",
   "name": "python",
   "nbconvert_exporter": "python",
   "pygments_lexer": "ipython3",
   "version": "3.8.5"
  }
 },
 "nbformat": 4,
 "nbformat_minor": 4
}
