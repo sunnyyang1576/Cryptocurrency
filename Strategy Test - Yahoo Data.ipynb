{
 "cells": [
  {
   "cell_type": "code",
   "execution_count": null,
   "metadata": {},
   "outputs": [],
   "source": []
  },
  {
   "cell_type": "markdown",
   "metadata": {},
   "source": [
    "### Import Library"
   ]
  },
  {
   "cell_type": "code",
   "execution_count": 1,
   "metadata": {},
   "outputs": [],
   "source": [
    "import pandas as pd\n",
    "import numpy as np"
   ]
  },
  {
   "cell_type": "code",
   "execution_count": 2,
   "metadata": {},
   "outputs": [],
   "source": [
    "from src.PortfolioIndicator import PortfolioIndicator\n",
    "from src.PortfolioConstructor import PortfolioConstructor"
   ]
  },
  {
   "cell_type": "code",
   "execution_count": null,
   "metadata": {},
   "outputs": [],
   "source": []
  },
  {
   "cell_type": "code",
   "execution_count": null,
   "metadata": {},
   "outputs": [],
   "source": []
  },
  {
   "cell_type": "markdown",
   "metadata": {},
   "source": [
    "### Import Data"
   ]
  },
  {
   "cell_type": "code",
   "execution_count": 3,
   "metadata": {},
   "outputs": [],
   "source": [
    "data_directory = \"data/\"\n",
    "file = \"yahoo_data_filter_0_1.csv\""
   ]
  },
  {
   "cell_type": "code",
   "execution_count": 4,
   "metadata": {},
   "outputs": [],
   "source": [
    "df = pd.read_csv(data_directory+file)\n",
    "df.index = pd.to_datetime(df.iloc[:,0])\n",
    "df = df.iloc[:,1:]"
   ]
  },
  {
   "cell_type": "code",
   "execution_count": 5,
   "metadata": {},
   "outputs": [
    {
     "data": {
      "text/html": [
       "<div>\n",
       "<style scoped>\n",
       "    .dataframe tbody tr th:only-of-type {\n",
       "        vertical-align: middle;\n",
       "    }\n",
       "\n",
       "    .dataframe tbody tr th {\n",
       "        vertical-align: top;\n",
       "    }\n",
       "\n",
       "    .dataframe thead th {\n",
       "        text-align: right;\n",
       "    }\n",
       "</style>\n",
       "<table border=\"1\" class=\"dataframe\">\n",
       "  <thead>\n",
       "    <tr style=\"text-align: right;\">\n",
       "      <th></th>\n",
       "      <th>ADA-USD</th>\n",
       "      <th>ADX-USD</th>\n",
       "      <th>AE-USD</th>\n",
       "      <th>ANT-USD</th>\n",
       "      <th>ARDR-USD</th>\n",
       "      <th>ARK-USD</th>\n",
       "      <th>ATB-USD</th>\n",
       "      <th>BAT-USD</th>\n",
       "      <th>BCH-USD</th>\n",
       "      <th>BLOCK-USD</th>\n",
       "      <th>...</th>\n",
       "      <th>XEM-USD</th>\n",
       "      <th>XLM-USD</th>\n",
       "      <th>XMR-USD</th>\n",
       "      <th>XRP-USD</th>\n",
       "      <th>XUC-USD</th>\n",
       "      <th>XVG-USD</th>\n",
       "      <th>XZC-USD</th>\n",
       "      <th>ZEC-USD</th>\n",
       "      <th>ZEN-USD</th>\n",
       "      <th>ZRX-USD</th>\n",
       "    </tr>\n",
       "    <tr>\n",
       "      <th>date</th>\n",
       "      <th></th>\n",
       "      <th></th>\n",
       "      <th></th>\n",
       "      <th></th>\n",
       "      <th></th>\n",
       "      <th></th>\n",
       "      <th></th>\n",
       "      <th></th>\n",
       "      <th></th>\n",
       "      <th></th>\n",
       "      <th></th>\n",
       "      <th></th>\n",
       "      <th></th>\n",
       "      <th></th>\n",
       "      <th></th>\n",
       "      <th></th>\n",
       "      <th></th>\n",
       "      <th></th>\n",
       "      <th></th>\n",
       "      <th></th>\n",
       "      <th></th>\n",
       "    </tr>\n",
       "  </thead>\n",
       "  <tbody>\n",
       "    <tr>\n",
       "      <th>2017-12-31</th>\n",
       "      <td>0.719695</td>\n",
       "      <td>2.78937</td>\n",
       "      <td>1.32136</td>\n",
       "      <td>3.88903</td>\n",
       "      <td>1.72013</td>\n",
       "      <td>7.04232</td>\n",
       "      <td>0.447756</td>\n",
       "      <td>0.412203</td>\n",
       "      <td>2533.010010</td>\n",
       "      <td>44.567799</td>\n",
       "      <td>...</td>\n",
       "      <td>1.03405</td>\n",
       "      <td>0.360756</td>\n",
       "      <td>349.026001</td>\n",
       "      <td>2.30057</td>\n",
       "      <td>8.88856</td>\n",
       "      <td>0.222600</td>\n",
       "      <td>112.322998</td>\n",
       "      <td>505.510986</td>\n",
       "      <td>59.787899</td>\n",
       "      <td>0.895721</td>\n",
       "    </tr>\n",
       "    <tr>\n",
       "      <th>2018-01-01</th>\n",
       "      <td>0.728657</td>\n",
       "      <td>3.10880</td>\n",
       "      <td>1.30022</td>\n",
       "      <td>4.27365</td>\n",
       "      <td>1.60770</td>\n",
       "      <td>7.60626</td>\n",
       "      <td>0.445190</td>\n",
       "      <td>0.475599</td>\n",
       "      <td>2432.540039</td>\n",
       "      <td>41.992901</td>\n",
       "      <td>...</td>\n",
       "      <td>1.04137</td>\n",
       "      <td>0.480008</td>\n",
       "      <td>358.989990</td>\n",
       "      <td>2.39103</td>\n",
       "      <td>9.01810</td>\n",
       "      <td>0.156131</td>\n",
       "      <td>125.442001</td>\n",
       "      <td>577.192993</td>\n",
       "      <td>56.268101</td>\n",
       "      <td>0.877714</td>\n",
       "    </tr>\n",
       "    <tr>\n",
       "      <th>2018-01-02</th>\n",
       "      <td>0.782587</td>\n",
       "      <td>2.95154</td>\n",
       "      <td>1.38313</td>\n",
       "      <td>4.60514</td>\n",
       "      <td>1.83907</td>\n",
       "      <td>7.87181</td>\n",
       "      <td>0.462033</td>\n",
       "      <td>0.563300</td>\n",
       "      <td>2711.000000</td>\n",
       "      <td>44.665798</td>\n",
       "      <td>...</td>\n",
       "      <td>1.16018</td>\n",
       "      <td>0.564766</td>\n",
       "      <td>383.416992</td>\n",
       "      <td>2.48090</td>\n",
       "      <td>9.47555</td>\n",
       "      <td>0.144905</td>\n",
       "      <td>126.078003</td>\n",
       "      <td>583.505981</td>\n",
       "      <td>52.121899</td>\n",
       "      <td>0.896672</td>\n",
       "    </tr>\n",
       "    <tr>\n",
       "      <th>2018-01-03</th>\n",
       "      <td>1.079660</td>\n",
       "      <td>2.85780</td>\n",
       "      <td>1.52833</td>\n",
       "      <td>6.55136</td>\n",
       "      <td>1.95408</td>\n",
       "      <td>7.59385</td>\n",
       "      <td>0.490322</td>\n",
       "      <td>0.651219</td>\n",
       "      <td>2608.689941</td>\n",
       "      <td>49.891701</td>\n",
       "      <td>...</td>\n",
       "      <td>1.79028</td>\n",
       "      <td>0.896227</td>\n",
       "      <td>412.062988</td>\n",
       "      <td>3.10537</td>\n",
       "      <td>9.92106</td>\n",
       "      <td>0.145221</td>\n",
       "      <td>124.279999</td>\n",
       "      <td>581.888977</td>\n",
       "      <td>50.143101</td>\n",
       "      <td>0.974472</td>\n",
       "    </tr>\n",
       "    <tr>\n",
       "      <th>2018-01-04</th>\n",
       "      <td>1.114120</td>\n",
       "      <td>2.85536</td>\n",
       "      <td>1.80678</td>\n",
       "      <td>6.27358</td>\n",
       "      <td>1.78215</td>\n",
       "      <td>7.11654</td>\n",
       "      <td>0.474837</td>\n",
       "      <td>0.634125</td>\n",
       "      <td>2430.179932</td>\n",
       "      <td>50.342300</td>\n",
       "      <td>...</td>\n",
       "      <td>1.64481</td>\n",
       "      <td>0.724050</td>\n",
       "      <td>403.048004</td>\n",
       "      <td>3.19663</td>\n",
       "      <td>10.46710</td>\n",
       "      <td>0.159184</td>\n",
       "      <td>117.002998</td>\n",
       "      <td>595.190002</td>\n",
       "      <td>55.009499</td>\n",
       "      <td>1.045260</td>\n",
       "    </tr>\n",
       "  </tbody>\n",
       "</table>\n",
       "<p>5 rows × 95 columns</p>\n",
       "</div>"
      ],
      "text/plain": [
       "             ADA-USD  ADX-USD   AE-USD  ANT-USD  ARDR-USD  ARK-USD   ATB-USD  \\\n",
       "date                                                                           \n",
       "2017-12-31  0.719695  2.78937  1.32136  3.88903   1.72013  7.04232  0.447756   \n",
       "2018-01-01  0.728657  3.10880  1.30022  4.27365   1.60770  7.60626  0.445190   \n",
       "2018-01-02  0.782587  2.95154  1.38313  4.60514   1.83907  7.87181  0.462033   \n",
       "2018-01-03  1.079660  2.85780  1.52833  6.55136   1.95408  7.59385  0.490322   \n",
       "2018-01-04  1.114120  2.85536  1.80678  6.27358   1.78215  7.11654  0.474837   \n",
       "\n",
       "             BAT-USD      BCH-USD  BLOCK-USD  ...  XEM-USD   XLM-USD  \\\n",
       "date                                          ...                      \n",
       "2017-12-31  0.412203  2533.010010  44.567799  ...  1.03405  0.360756   \n",
       "2018-01-01  0.475599  2432.540039  41.992901  ...  1.04137  0.480008   \n",
       "2018-01-02  0.563300  2711.000000  44.665798  ...  1.16018  0.564766   \n",
       "2018-01-03  0.651219  2608.689941  49.891701  ...  1.79028  0.896227   \n",
       "2018-01-04  0.634125  2430.179932  50.342300  ...  1.64481  0.724050   \n",
       "\n",
       "               XMR-USD  XRP-USD   XUC-USD   XVG-USD     XZC-USD     ZEC-USD  \\\n",
       "date                                                                          \n",
       "2017-12-31  349.026001  2.30057   8.88856  0.222600  112.322998  505.510986   \n",
       "2018-01-01  358.989990  2.39103   9.01810  0.156131  125.442001  577.192993   \n",
       "2018-01-02  383.416992  2.48090   9.47555  0.144905  126.078003  583.505981   \n",
       "2018-01-03  412.062988  3.10537   9.92106  0.145221  124.279999  581.888977   \n",
       "2018-01-04  403.048004  3.19663  10.46710  0.159184  117.002998  595.190002   \n",
       "\n",
       "              ZEN-USD   ZRX-USD  \n",
       "date                             \n",
       "2017-12-31  59.787899  0.895721  \n",
       "2018-01-01  56.268101  0.877714  \n",
       "2018-01-02  52.121899  0.896672  \n",
       "2018-01-03  50.143101  0.974472  \n",
       "2018-01-04  55.009499  1.045260  \n",
       "\n",
       "[5 rows x 95 columns]"
      ]
     },
     "execution_count": 5,
     "metadata": {},
     "output_type": "execute_result"
    }
   ],
   "source": [
    "df.head()"
   ]
  },
  {
   "cell_type": "code",
   "execution_count": null,
   "metadata": {},
   "outputs": [],
   "source": []
  },
  {
   "cell_type": "code",
   "execution_count": 15,
   "metadata": {},
   "outputs": [],
   "source": [
    "big_asset_list = list(df.iloc[0,:][df.iloc[0,:]>1].index)\n",
    "small_asset_list = list(df.iloc[0,:][df.iloc[0,:]<=1].index)"
   ]
  },
  {
   "cell_type": "code",
   "execution_count": null,
   "metadata": {},
   "outputs": [],
   "source": []
  },
  {
   "cell_type": "code",
   "execution_count": null,
   "metadata": {},
   "outputs": [],
   "source": []
  },
  {
   "cell_type": "markdown",
   "metadata": {},
   "source": [
    "### Momentum Strategy Test"
   ]
  },
  {
   "cell_type": "code",
   "execution_count": 71,
   "metadata": {},
   "outputs": [],
   "source": [
    "universe_df = df[small_asset_list]"
   ]
  },
  {
   "cell_type": "code",
   "execution_count": null,
   "metadata": {},
   "outputs": [],
   "source": []
  },
  {
   "cell_type": "markdown",
   "metadata": {},
   "source": [
    "#### Calculate the Signal"
   ]
  },
  {
   "cell_type": "markdown",
   "metadata": {},
   "source": [
    "Define the parameter for the strategy.\n",
    "1. momentum_period : the number of days to look back\n",
    "2. waiting_period : number of days to wait before make a transaction"
   ]
  },
  {
   "cell_type": "code",
   "execution_count": 72,
   "metadata": {},
   "outputs": [],
   "source": [
    "momentum_period = 3\n",
    "waiting_time = 1"
   ]
  },
  {
   "cell_type": "code",
   "execution_count": 73,
   "metadata": {},
   "outputs": [],
   "source": [
    "complete_ret_sub_df = universe_df.pct_change(periods=momentum_period).shift(waiting_time).dropna()"
   ]
  },
  {
   "cell_type": "code",
   "execution_count": null,
   "metadata": {},
   "outputs": [],
   "source": []
  },
  {
   "cell_type": "markdown",
   "metadata": {},
   "source": [
    "### Portfolio Construciton"
   ]
  },
  {
   "cell_type": "code",
   "execution_count": null,
   "metadata": {},
   "outputs": [],
   "source": []
  },
  {
   "cell_type": "markdown",
   "metadata": {},
   "source": [
    "#### Reframe the dataset"
   ]
  },
  {
   "cell_type": "markdown",
   "metadata": {},
   "source": [
    "To use the portfolio construction class, we have to reshape the dataset to a long panel dataset."
   ]
  },
  {
   "cell_type": "code",
   "execution_count": 74,
   "metadata": {},
   "outputs": [],
   "source": [
    "complete_ret_sub_df_long = complete_ret_sub_df.stack()"
   ]
  },
  {
   "cell_type": "code",
   "execution_count": null,
   "metadata": {},
   "outputs": [],
   "source": []
  },
  {
   "cell_type": "code",
   "execution_count": 75,
   "metadata": {},
   "outputs": [],
   "source": [
    "signal_df = complete_ret_sub_df_long.index.to_frame()\n",
    "signal_df.index = range(0,signal_df.shape[0])\n",
    "signal_df[\"momentum\"] = list(complete_ret_sub_df_long)\n",
    "signal_df.columns=[\"date\",\"ticker\",\"momentum\"]"
   ]
  },
  {
   "cell_type": "code",
   "execution_count": 76,
   "metadata": {},
   "outputs": [
    {
     "data": {
      "text/html": [
       "<div>\n",
       "<style scoped>\n",
       "    .dataframe tbody tr th:only-of-type {\n",
       "        vertical-align: middle;\n",
       "    }\n",
       "\n",
       "    .dataframe tbody tr th {\n",
       "        vertical-align: top;\n",
       "    }\n",
       "\n",
       "    .dataframe thead th {\n",
       "        text-align: right;\n",
       "    }\n",
       "</style>\n",
       "<table border=\"1\" class=\"dataframe\">\n",
       "  <thead>\n",
       "    <tr style=\"text-align: right;\">\n",
       "      <th></th>\n",
       "      <th>date</th>\n",
       "      <th>ticker</th>\n",
       "      <th>momentum</th>\n",
       "    </tr>\n",
       "  </thead>\n",
       "  <tbody>\n",
       "    <tr>\n",
       "      <th>0</th>\n",
       "      <td>2018-01-04</td>\n",
       "      <td>ADA-USD</td>\n",
       "      <td>0.500163</td>\n",
       "    </tr>\n",
       "    <tr>\n",
       "      <th>1</th>\n",
       "      <td>2018-01-04</td>\n",
       "      <td>ATB-USD</td>\n",
       "      <td>0.095065</td>\n",
       "    </tr>\n",
       "    <tr>\n",
       "      <th>2</th>\n",
       "      <td>2018-01-04</td>\n",
       "      <td>BAT-USD</td>\n",
       "      <td>0.579850</td>\n",
       "    </tr>\n",
       "    <tr>\n",
       "      <th>3</th>\n",
       "      <td>2018-01-04</td>\n",
       "      <td>BTS-USD</td>\n",
       "      <td>0.356226</td>\n",
       "    </tr>\n",
       "    <tr>\n",
       "      <th>4</th>\n",
       "      <td>2018-01-04</td>\n",
       "      <td>CVC-USD</td>\n",
       "      <td>0.558696</td>\n",
       "    </tr>\n",
       "    <tr>\n",
       "      <th>...</th>\n",
       "      <td>...</td>\n",
       "      <td>...</td>\n",
       "      <td>...</td>\n",
       "    </tr>\n",
       "    <tr>\n",
       "      <th>24041</th>\n",
       "      <td>2021-01-03</td>\n",
       "      <td>SNT-USD</td>\n",
       "      <td>-0.024140</td>\n",
       "    </tr>\n",
       "    <tr>\n",
       "      <th>24042</th>\n",
       "      <td>2021-01-03</td>\n",
       "      <td>SYS-USD</td>\n",
       "      <td>0.121662</td>\n",
       "    </tr>\n",
       "    <tr>\n",
       "      <th>24043</th>\n",
       "      <td>2021-01-03</td>\n",
       "      <td>XLM-USD</td>\n",
       "      <td>-0.031025</td>\n",
       "    </tr>\n",
       "    <tr>\n",
       "      <th>24044</th>\n",
       "      <td>2021-01-03</td>\n",
       "      <td>XVG-USD</td>\n",
       "      <td>-0.050796</td>\n",
       "    </tr>\n",
       "    <tr>\n",
       "      <th>24045</th>\n",
       "      <td>2021-01-03</td>\n",
       "      <td>ZRX-USD</td>\n",
       "      <td>0.001691</td>\n",
       "    </tr>\n",
       "  </tbody>\n",
       "</table>\n",
       "<p>24046 rows × 3 columns</p>\n",
       "</div>"
      ],
      "text/plain": [
       "            date   ticker  momentum\n",
       "0     2018-01-04  ADA-USD  0.500163\n",
       "1     2018-01-04  ATB-USD  0.095065\n",
       "2     2018-01-04  BAT-USD  0.579850\n",
       "3     2018-01-04  BTS-USD  0.356226\n",
       "4     2018-01-04  CVC-USD  0.558696\n",
       "...          ...      ...       ...\n",
       "24041 2021-01-03  SNT-USD -0.024140\n",
       "24042 2021-01-03  SYS-USD  0.121662\n",
       "24043 2021-01-03  XLM-USD -0.031025\n",
       "24044 2021-01-03  XVG-USD -0.050796\n",
       "24045 2021-01-03  ZRX-USD  0.001691\n",
       "\n",
       "[24046 rows x 3 columns]"
      ]
     },
     "execution_count": 76,
     "metadata": {},
     "output_type": "execute_result"
    }
   ],
   "source": [
    "signal_df"
   ]
  },
  {
   "cell_type": "code",
   "execution_count": null,
   "metadata": {},
   "outputs": [],
   "source": []
  },
  {
   "cell_type": "code",
   "execution_count": null,
   "metadata": {},
   "outputs": [],
   "source": []
  },
  {
   "cell_type": "code",
   "execution_count": null,
   "metadata": {},
   "outputs": [],
   "source": []
  },
  {
   "cell_type": "code",
   "execution_count": null,
   "metadata": {},
   "outputs": [],
   "source": []
  },
  {
   "cell_type": "code",
   "execution_count": null,
   "metadata": {},
   "outputs": [],
   "source": []
  },
  {
   "cell_type": "markdown",
   "metadata": {},
   "source": [
    "#### Create Portfolio Indicator"
   ]
  },
  {
   "cell_type": "code",
   "execution_count": 77,
   "metadata": {},
   "outputs": [],
   "source": [
    "rebalance_date_series = list(complete_ret_sub_df.index)"
   ]
  },
  {
   "cell_type": "code",
   "execution_count": 78,
   "metadata": {},
   "outputs": [],
   "source": [
    "portfolio_indicator = PortfolioIndicator()"
   ]
  },
  {
   "cell_type": "code",
   "execution_count": 79,
   "metadata": {},
   "outputs": [],
   "source": [
    "portfolio_indicator = portfolio_indicator.create_indicator(signal_df,\"momentum\",rebalance_date_series,5)"
   ]
  },
  {
   "cell_type": "code",
   "execution_count": null,
   "metadata": {},
   "outputs": [],
   "source": []
  },
  {
   "cell_type": "code",
   "execution_count": null,
   "metadata": {},
   "outputs": [],
   "source": []
  },
  {
   "cell_type": "markdown",
   "metadata": {},
   "source": [
    "#### Example of Portfolio"
   ]
  },
  {
   "cell_type": "markdown",
   "metadata": {},
   "source": [
    "Example Date : 2019-01-06"
   ]
  },
  {
   "cell_type": "code",
   "execution_count": 80,
   "metadata": {},
   "outputs": [],
   "source": [
    "sub_df = portfolio_indicator[portfolio_indicator.date==\"2018-02-01\"]"
   ]
  },
  {
   "cell_type": "code",
   "execution_count": 81,
   "metadata": {},
   "outputs": [],
   "source": [
    "top_portfolio = sub_df[\"ticker\"][sub_df[\"momentum_indicator\"]==4]\n",
    "bottom_portfolio = sub_df[\"ticker\"][sub_df[\"momentum_indicator\"]==0]"
   ]
  },
  {
   "cell_type": "code",
   "execution_count": null,
   "metadata": {},
   "outputs": [],
   "source": []
  },
  {
   "cell_type": "code",
   "execution_count": 82,
   "metadata": {},
   "outputs": [
    {
     "data": {
      "text/html": [
       "<div>\n",
       "<style scoped>\n",
       "    .dataframe tbody tr th:only-of-type {\n",
       "        vertical-align: middle;\n",
       "    }\n",
       "\n",
       "    .dataframe tbody tr th {\n",
       "        vertical-align: top;\n",
       "    }\n",
       "\n",
       "    .dataframe thead th {\n",
       "        text-align: right;\n",
       "    }\n",
       "</style>\n",
       "<table border=\"1\" class=\"dataframe\">\n",
       "  <thead>\n",
       "    <tr style=\"text-align: right;\">\n",
       "      <th></th>\n",
       "      <th>ADA-USD</th>\n",
       "      <th>ATB-USD</th>\n",
       "      <th>BAT-USD</th>\n",
       "      <th>BTS-USD</th>\n",
       "      <th>CVC-USD</th>\n",
       "      <th>DNT-USD</th>\n",
       "      <th>GNT-USD</th>\n",
       "      <th>LINK-USD</th>\n",
       "      <th>LKK-USD</th>\n",
       "      <th>LRC-USD</th>\n",
       "      <th>...</th>\n",
       "      <th>NXT-USD</th>\n",
       "      <th>QASH-USD</th>\n",
       "      <th>SMART-USD</th>\n",
       "      <th>SNGLS-USD</th>\n",
       "      <th>SNM-USD</th>\n",
       "      <th>SNT-USD</th>\n",
       "      <th>SYS-USD</th>\n",
       "      <th>XLM-USD</th>\n",
       "      <th>XVG-USD</th>\n",
       "      <th>ZRX-USD</th>\n",
       "    </tr>\n",
       "    <tr>\n",
       "      <th>date</th>\n",
       "      <th></th>\n",
       "      <th></th>\n",
       "      <th></th>\n",
       "      <th></th>\n",
       "      <th></th>\n",
       "      <th></th>\n",
       "      <th></th>\n",
       "      <th></th>\n",
       "      <th></th>\n",
       "      <th></th>\n",
       "      <th></th>\n",
       "      <th></th>\n",
       "      <th></th>\n",
       "      <th></th>\n",
       "      <th></th>\n",
       "      <th></th>\n",
       "      <th></th>\n",
       "      <th></th>\n",
       "      <th></th>\n",
       "      <th></th>\n",
       "      <th></th>\n",
       "    </tr>\n",
       "  </thead>\n",
       "  <tbody>\n",
       "    <tr>\n",
       "      <th>2018-01-04</th>\n",
       "      <td>0.500163</td>\n",
       "      <td>0.095065</td>\n",
       "      <td>0.579850</td>\n",
       "      <td>0.356226</td>\n",
       "      <td>0.558696</td>\n",
       "      <td>0.285351</td>\n",
       "      <td>0.284730</td>\n",
       "      <td>0.132349</td>\n",
       "      <td>-0.055814</td>\n",
       "      <td>0.242796</td>\n",
       "      <td>...</td>\n",
       "      <td>-0.092744</td>\n",
       "      <td>0.227070</td>\n",
       "      <td>0.092402</td>\n",
       "      <td>0.185820</td>\n",
       "      <td>0.079772</td>\n",
       "      <td>1.960012</td>\n",
       "      <td>0.044891</td>\n",
       "      <td>1.484302</td>\n",
       "      <td>-0.347615</td>\n",
       "      <td>0.087919</td>\n",
       "    </tr>\n",
       "    <tr>\n",
       "      <th>2018-01-05</th>\n",
       "      <td>0.529005</td>\n",
       "      <td>0.066594</td>\n",
       "      <td>0.333319</td>\n",
       "      <td>0.096942</td>\n",
       "      <td>0.316937</td>\n",
       "      <td>0.432310</td>\n",
       "      <td>0.167343</td>\n",
       "      <td>0.341900</td>\n",
       "      <td>-0.064631</td>\n",
       "      <td>0.439756</td>\n",
       "      <td>...</td>\n",
       "      <td>-0.074533</td>\n",
       "      <td>0.277794</td>\n",
       "      <td>-0.005330</td>\n",
       "      <td>-0.014253</td>\n",
       "      <td>0.195796</td>\n",
       "      <td>1.044622</td>\n",
       "      <td>-0.007186</td>\n",
       "      <td>0.508412</td>\n",
       "      <td>0.019554</td>\n",
       "      <td>0.190889</td>\n",
       "    </tr>\n",
       "    <tr>\n",
       "      <th>2018-01-06</th>\n",
       "      <td>0.277250</td>\n",
       "      <td>0.403393</td>\n",
       "      <td>-0.018496</td>\n",
       "      <td>-0.021464</td>\n",
       "      <td>0.016638</td>\n",
       "      <td>0.871527</td>\n",
       "      <td>-0.127590</td>\n",
       "      <td>0.346994</td>\n",
       "      <td>-0.117691</td>\n",
       "      <td>1.113877</td>\n",
       "      <td>...</td>\n",
       "      <td>-0.175811</td>\n",
       "      <td>0.611257</td>\n",
       "      <td>-0.015111</td>\n",
       "      <td>0.431254</td>\n",
       "      <td>0.324520</td>\n",
       "      <td>0.578634</td>\n",
       "      <td>-0.138624</td>\n",
       "      <td>0.173428</td>\n",
       "      <td>0.249881</td>\n",
       "      <td>0.246788</td>\n",
       "    </tr>\n",
       "    <tr>\n",
       "      <th>2018-01-07</th>\n",
       "      <td>-0.048636</td>\n",
       "      <td>0.383550</td>\n",
       "      <td>0.019480</td>\n",
       "      <td>-0.065891</td>\n",
       "      <td>-0.101885</td>\n",
       "      <td>1.172140</td>\n",
       "      <td>-0.047887</td>\n",
       "      <td>0.561394</td>\n",
       "      <td>-0.088253</td>\n",
       "      <td>1.290404</td>\n",
       "      <td>...</td>\n",
       "      <td>-0.134997</td>\n",
       "      <td>0.936757</td>\n",
       "      <td>0.159423</td>\n",
       "      <td>0.238431</td>\n",
       "      <td>0.752312</td>\n",
       "      <td>-0.206312</td>\n",
       "      <td>0.081443</td>\n",
       "      <td>-0.207851</td>\n",
       "      <td>0.199434</td>\n",
       "      <td>0.400605</td>\n",
       "    </tr>\n",
       "    <tr>\n",
       "      <th>2018-01-08</th>\n",
       "      <td>-0.094783</td>\n",
       "      <td>1.880146</td>\n",
       "      <td>0.195715</td>\n",
       "      <td>-0.030661</td>\n",
       "      <td>-0.022982</td>\n",
       "      <td>0.472093</td>\n",
       "      <td>-0.005083</td>\n",
       "      <td>0.290635</td>\n",
       "      <td>-0.087828</td>\n",
       "      <td>0.753846</td>\n",
       "      <td>...</td>\n",
       "      <td>-0.071873</td>\n",
       "      <td>0.848356</td>\n",
       "      <td>0.316326</td>\n",
       "      <td>0.158262</td>\n",
       "      <td>0.402231</td>\n",
       "      <td>0.014527</td>\n",
       "      <td>0.174931</td>\n",
       "      <td>-0.033706</td>\n",
       "      <td>0.143061</td>\n",
       "      <td>0.304527</td>\n",
       "    </tr>\n",
       "    <tr>\n",
       "      <th>...</th>\n",
       "      <td>...</td>\n",
       "      <td>...</td>\n",
       "      <td>...</td>\n",
       "      <td>...</td>\n",
       "      <td>...</td>\n",
       "      <td>...</td>\n",
       "      <td>...</td>\n",
       "      <td>...</td>\n",
       "      <td>...</td>\n",
       "      <td>...</td>\n",
       "      <td>...</td>\n",
       "      <td>...</td>\n",
       "      <td>...</td>\n",
       "      <td>...</td>\n",
       "      <td>...</td>\n",
       "      <td>...</td>\n",
       "      <td>...</td>\n",
       "      <td>...</td>\n",
       "      <td>...</td>\n",
       "      <td>...</td>\n",
       "      <td>...</td>\n",
       "    </tr>\n",
       "    <tr>\n",
       "      <th>2020-12-30</th>\n",
       "      <td>0.217587</td>\n",
       "      <td>0.035159</td>\n",
       "      <td>-0.036104</td>\n",
       "      <td>-0.068879</td>\n",
       "      <td>-0.058449</td>\n",
       "      <td>-0.032451</td>\n",
       "      <td>0.133369</td>\n",
       "      <td>0.073530</td>\n",
       "      <td>0.013777</td>\n",
       "      <td>0.202519</td>\n",
       "      <td>...</td>\n",
       "      <td>-0.102129</td>\n",
       "      <td>-0.041482</td>\n",
       "      <td>0.034710</td>\n",
       "      <td>-0.027996</td>\n",
       "      <td>-0.053846</td>\n",
       "      <td>0.082774</td>\n",
       "      <td>0.070210</td>\n",
       "      <td>-0.055983</td>\n",
       "      <td>0.056317</td>\n",
       "      <td>0.031714</td>\n",
       "    </tr>\n",
       "    <tr>\n",
       "      <th>2020-12-31</th>\n",
       "      <td>0.191798</td>\n",
       "      <td>0.095186</td>\n",
       "      <td>-0.033307</td>\n",
       "      <td>-0.071013</td>\n",
       "      <td>-0.005365</td>\n",
       "      <td>-0.066428</td>\n",
       "      <td>0.031606</td>\n",
       "      <td>-0.072230</td>\n",
       "      <td>0.037100</td>\n",
       "      <td>0.108896</td>\n",
       "      <td>...</td>\n",
       "      <td>-0.029689</td>\n",
       "      <td>-0.034939</td>\n",
       "      <td>0.134175</td>\n",
       "      <td>-0.090944</td>\n",
       "      <td>-0.147706</td>\n",
       "      <td>0.031219</td>\n",
       "      <td>0.015134</td>\n",
       "      <td>-0.090087</td>\n",
       "      <td>-0.005151</td>\n",
       "      <td>-0.036408</td>\n",
       "    </tr>\n",
       "    <tr>\n",
       "      <th>2021-01-01</th>\n",
       "      <td>0.026381</td>\n",
       "      <td>-0.143384</td>\n",
       "      <td>-0.053256</td>\n",
       "      <td>-0.081036</td>\n",
       "      <td>-0.021709</td>\n",
       "      <td>-0.068985</td>\n",
       "      <td>-0.041445</td>\n",
       "      <td>-0.107523</td>\n",
       "      <td>-0.034939</td>\n",
       "      <td>-0.031407</td>\n",
       "      <td>...</td>\n",
       "      <td>-0.033339</td>\n",
       "      <td>-0.039916</td>\n",
       "      <td>0.087487</td>\n",
       "      <td>-0.065376</td>\n",
       "      <td>-0.204577</td>\n",
       "      <td>-0.024662</td>\n",
       "      <td>0.020226</td>\n",
       "      <td>-0.110858</td>\n",
       "      <td>-0.054374</td>\n",
       "      <td>-0.059683</td>\n",
       "    </tr>\n",
       "    <tr>\n",
       "      <th>2021-01-02</th>\n",
       "      <td>-0.087499</td>\n",
       "      <td>-0.141211</td>\n",
       "      <td>-0.002836</td>\n",
       "      <td>0.003738</td>\n",
       "      <td>0.022916</td>\n",
       "      <td>-0.030517</td>\n",
       "      <td>-0.054187</td>\n",
       "      <td>0.008617</td>\n",
       "      <td>0.007253</td>\n",
       "      <td>-0.036277</td>\n",
       "      <td>...</td>\n",
       "      <td>0.024180</td>\n",
       "      <td>0.057045</td>\n",
       "      <td>0.136570</td>\n",
       "      <td>0.220597</td>\n",
       "      <td>0.006081</td>\n",
       "      <td>-0.062733</td>\n",
       "      <td>0.070742</td>\n",
       "      <td>-0.046154</td>\n",
       "      <td>-0.015002</td>\n",
       "      <td>0.026020</td>\n",
       "    </tr>\n",
       "    <tr>\n",
       "      <th>2021-01-03</th>\n",
       "      <td>-0.035956</td>\n",
       "      <td>-0.109379</td>\n",
       "      <td>0.011501</td>\n",
       "      <td>0.102038</td>\n",
       "      <td>-0.010609</td>\n",
       "      <td>0.023371</td>\n",
       "      <td>-0.063969</td>\n",
       "      <td>0.085889</td>\n",
       "      <td>0.008171</td>\n",
       "      <td>-0.022086</td>\n",
       "      <td>...</td>\n",
       "      <td>0.084898</td>\n",
       "      <td>0.097621</td>\n",
       "      <td>0.079034</td>\n",
       "      <td>0.196118</td>\n",
       "      <td>0.034890</td>\n",
       "      <td>-0.024140</td>\n",
       "      <td>0.121662</td>\n",
       "      <td>-0.031025</td>\n",
       "      <td>-0.050796</td>\n",
       "      <td>0.001691</td>\n",
       "    </tr>\n",
       "  </tbody>\n",
       "</table>\n",
       "<p>1093 rows × 22 columns</p>\n",
       "</div>"
      ],
      "text/plain": [
       "             ADA-USD   ATB-USD   BAT-USD   BTS-USD   CVC-USD   DNT-USD  \\\n",
       "date                                                                     \n",
       "2018-01-04  0.500163  0.095065  0.579850  0.356226  0.558696  0.285351   \n",
       "2018-01-05  0.529005  0.066594  0.333319  0.096942  0.316937  0.432310   \n",
       "2018-01-06  0.277250  0.403393 -0.018496 -0.021464  0.016638  0.871527   \n",
       "2018-01-07 -0.048636  0.383550  0.019480 -0.065891 -0.101885  1.172140   \n",
       "2018-01-08 -0.094783  1.880146  0.195715 -0.030661 -0.022982  0.472093   \n",
       "...              ...       ...       ...       ...       ...       ...   \n",
       "2020-12-30  0.217587  0.035159 -0.036104 -0.068879 -0.058449 -0.032451   \n",
       "2020-12-31  0.191798  0.095186 -0.033307 -0.071013 -0.005365 -0.066428   \n",
       "2021-01-01  0.026381 -0.143384 -0.053256 -0.081036 -0.021709 -0.068985   \n",
       "2021-01-02 -0.087499 -0.141211 -0.002836  0.003738  0.022916 -0.030517   \n",
       "2021-01-03 -0.035956 -0.109379  0.011501  0.102038 -0.010609  0.023371   \n",
       "\n",
       "             GNT-USD  LINK-USD   LKK-USD   LRC-USD  ...   NXT-USD  QASH-USD  \\\n",
       "date                                                ...                       \n",
       "2018-01-04  0.284730  0.132349 -0.055814  0.242796  ... -0.092744  0.227070   \n",
       "2018-01-05  0.167343  0.341900 -0.064631  0.439756  ... -0.074533  0.277794   \n",
       "2018-01-06 -0.127590  0.346994 -0.117691  1.113877  ... -0.175811  0.611257   \n",
       "2018-01-07 -0.047887  0.561394 -0.088253  1.290404  ... -0.134997  0.936757   \n",
       "2018-01-08 -0.005083  0.290635 -0.087828  0.753846  ... -0.071873  0.848356   \n",
       "...              ...       ...       ...       ...  ...       ...       ...   \n",
       "2020-12-30  0.133369  0.073530  0.013777  0.202519  ... -0.102129 -0.041482   \n",
       "2020-12-31  0.031606 -0.072230  0.037100  0.108896  ... -0.029689 -0.034939   \n",
       "2021-01-01 -0.041445 -0.107523 -0.034939 -0.031407  ... -0.033339 -0.039916   \n",
       "2021-01-02 -0.054187  0.008617  0.007253 -0.036277  ...  0.024180  0.057045   \n",
       "2021-01-03 -0.063969  0.085889  0.008171 -0.022086  ...  0.084898  0.097621   \n",
       "\n",
       "            SMART-USD  SNGLS-USD   SNM-USD   SNT-USD   SYS-USD   XLM-USD  \\\n",
       "date                                                                       \n",
       "2018-01-04   0.092402   0.185820  0.079772  1.960012  0.044891  1.484302   \n",
       "2018-01-05  -0.005330  -0.014253  0.195796  1.044622 -0.007186  0.508412   \n",
       "2018-01-06  -0.015111   0.431254  0.324520  0.578634 -0.138624  0.173428   \n",
       "2018-01-07   0.159423   0.238431  0.752312 -0.206312  0.081443 -0.207851   \n",
       "2018-01-08   0.316326   0.158262  0.402231  0.014527  0.174931 -0.033706   \n",
       "...               ...        ...       ...       ...       ...       ...   \n",
       "2020-12-30   0.034710  -0.027996 -0.053846  0.082774  0.070210 -0.055983   \n",
       "2020-12-31   0.134175  -0.090944 -0.147706  0.031219  0.015134 -0.090087   \n",
       "2021-01-01   0.087487  -0.065376 -0.204577 -0.024662  0.020226 -0.110858   \n",
       "2021-01-02   0.136570   0.220597  0.006081 -0.062733  0.070742 -0.046154   \n",
       "2021-01-03   0.079034   0.196118  0.034890 -0.024140  0.121662 -0.031025   \n",
       "\n",
       "             XVG-USD   ZRX-USD  \n",
       "date                            \n",
       "2018-01-04 -0.347615  0.087919  \n",
       "2018-01-05  0.019554  0.190889  \n",
       "2018-01-06  0.249881  0.246788  \n",
       "2018-01-07  0.199434  0.400605  \n",
       "2018-01-08  0.143061  0.304527  \n",
       "...              ...       ...  \n",
       "2020-12-30  0.056317  0.031714  \n",
       "2020-12-31 -0.005151 -0.036408  \n",
       "2021-01-01 -0.054374 -0.059683  \n",
       "2021-01-02 -0.015002  0.026020  \n",
       "2021-01-03 -0.050796  0.001691  \n",
       "\n",
       "[1093 rows x 22 columns]"
      ]
     },
     "execution_count": 82,
     "metadata": {},
     "output_type": "execute_result"
    }
   ],
   "source": [
    "complete_ret_sub_df"
   ]
  },
  {
   "cell_type": "markdown",
   "metadata": {},
   "source": [
    "Check the signal "
   ]
  },
  {
   "cell_type": "code",
   "execution_count": 83,
   "metadata": {},
   "outputs": [],
   "source": [
    "top_signal = complete_ret_sub_df[list(top_portfolio)].loc[complete_ret_sub_df.index==\"2018-02-01\",:].iloc[0,:]"
   ]
  },
  {
   "cell_type": "code",
   "execution_count": 84,
   "metadata": {},
   "outputs": [],
   "source": [
    "bottom_signal = complete_ret_sub_df[list(bottom_portfolio)].loc[complete_ret_sub_df.index==\"2018-02-01\",:].iloc[0,:]"
   ]
  },
  {
   "cell_type": "code",
   "execution_count": 85,
   "metadata": {},
   "outputs": [
    {
     "data": {
      "text/plain": [
       "ATB-USD     -0.095202\n",
       "BTS-USD     -0.127019\n",
       "LRC-USD     -0.129946\n",
       "SMART-USD   -0.131834\n",
       "ZRX-USD     -0.066215\n",
       "Name: 2018-02-01 00:00:00, dtype: float64"
      ]
     },
     "execution_count": 85,
     "metadata": {},
     "output_type": "execute_result"
    }
   ],
   "source": [
    "top_signal"
   ]
  },
  {
   "cell_type": "code",
   "execution_count": 86,
   "metadata": {},
   "outputs": [
    {
     "data": {
      "text/plain": [
       "ADA-USD    -0.225234\n",
       "DNT-USD    -0.238842\n",
       "QASH-USD   -0.252927\n",
       "SNM-USD    -0.258864\n",
       "XVG-USD    -0.240376\n",
       "Name: 2018-02-01 00:00:00, dtype: float64"
      ]
     },
     "execution_count": 86,
     "metadata": {},
     "output_type": "execute_result"
    }
   ],
   "source": [
    "bottom_signal"
   ]
  },
  {
   "cell_type": "code",
   "execution_count": null,
   "metadata": {},
   "outputs": [],
   "source": []
  },
  {
   "cell_type": "code",
   "execution_count": null,
   "metadata": {},
   "outputs": [],
   "source": []
  },
  {
   "cell_type": "code",
   "execution_count": 87,
   "metadata": {},
   "outputs": [
    {
     "data": {
      "text/plain": [
       "-0.11004318269806541"
      ]
     },
     "execution_count": 87,
     "metadata": {},
     "output_type": "execute_result"
    }
   ],
   "source": [
    "top_signal.mean()"
   ]
  },
  {
   "cell_type": "code",
   "execution_count": 88,
   "metadata": {},
   "outputs": [
    {
     "data": {
      "text/plain": [
       "-0.24324836279234416"
      ]
     },
     "execution_count": 88,
     "metadata": {},
     "output_type": "execute_result"
    }
   ],
   "source": [
    "bottom_signal.mean()"
   ]
  },
  {
   "cell_type": "code",
   "execution_count": 89,
   "metadata": {},
   "outputs": [
    {
     "data": {
      "text/plain": [
       "-0.12701889512436715"
      ]
     },
     "execution_count": 89,
     "metadata": {},
     "output_type": "execute_result"
    }
   ],
   "source": [
    "top_signal.median()"
   ]
  },
  {
   "cell_type": "code",
   "execution_count": 90,
   "metadata": {},
   "outputs": [
    {
     "data": {
      "text/plain": [
       "-0.24037584507724474"
      ]
     },
     "execution_count": 90,
     "metadata": {},
     "output_type": "execute_result"
    }
   ],
   "source": [
    "bottom_signal.median()"
   ]
  },
  {
   "cell_type": "code",
   "execution_count": 91,
   "metadata": {},
   "outputs": [
    {
     "data": {
      "text/plain": [
       "Timestamp('2018-01-04 00:00:00')"
      ]
     },
     "execution_count": 91,
     "metadata": {},
     "output_type": "execute_result"
    }
   ],
   "source": [
    "complete_ret_sub_df.index[0]"
   ]
  },
  {
   "cell_type": "markdown",
   "metadata": {},
   "source": [
    "Check the return"
   ]
  },
  {
   "cell_type": "code",
   "execution_count": 92,
   "metadata": {},
   "outputs": [],
   "source": [
    "complete_sub_df_1_day_return = universe_df.pct_change().dropna()"
   ]
  },
  {
   "cell_type": "code",
   "execution_count": null,
   "metadata": {},
   "outputs": [],
   "source": []
  },
  {
   "cell_type": "code",
   "execution_count": null,
   "metadata": {},
   "outputs": [],
   "source": []
  },
  {
   "cell_type": "code",
   "execution_count": 93,
   "metadata": {},
   "outputs": [],
   "source": [
    "top_return = complete_sub_df_1_day_return.loc[complete_ret_sub_df.index[0],list(top_portfolio)]\n",
    "bottom_return = complete_sub_df_1_day_return.loc[complete_ret_sub_df.index[0],list(bottom_portfolio)]"
   ]
  },
  {
   "cell_type": "code",
   "execution_count": null,
   "metadata": {},
   "outputs": [],
   "source": []
  },
  {
   "cell_type": "code",
   "execution_count": null,
   "metadata": {},
   "outputs": [],
   "source": []
  },
  {
   "cell_type": "code",
   "execution_count": 94,
   "metadata": {},
   "outputs": [
    {
     "data": {
      "text/plain": [
       "0.01863760985342384"
      ]
     },
     "execution_count": 94,
     "metadata": {},
     "output_type": "execute_result"
    }
   ],
   "source": [
    "top_return.mean()"
   ]
  },
  {
   "cell_type": "code",
   "execution_count": 95,
   "metadata": {},
   "outputs": [
    {
     "data": {
      "text/plain": [
       "0.139028388013933"
      ]
     },
     "execution_count": 95,
     "metadata": {},
     "output_type": "execute_result"
    }
   ],
   "source": [
    "bottom_return.mean()"
   ]
  },
  {
   "cell_type": "code",
   "execution_count": 96,
   "metadata": {},
   "outputs": [
    {
     "data": {
      "text/plain": [
       "-0.031581265351111276"
      ]
     },
     "execution_count": 96,
     "metadata": {},
     "output_type": "execute_result"
    }
   ],
   "source": [
    "top_return.median()"
   ]
  },
  {
   "cell_type": "code",
   "execution_count": 97,
   "metadata": {},
   "outputs": [
    {
     "data": {
      "text/plain": [
       "0.0961500022775632"
      ]
     },
     "execution_count": 97,
     "metadata": {},
     "output_type": "execute_result"
    }
   ],
   "source": [
    "bottom_return.median()"
   ]
  },
  {
   "cell_type": "code",
   "execution_count": null,
   "metadata": {},
   "outputs": [],
   "source": []
  },
  {
   "cell_type": "markdown",
   "metadata": {},
   "source": [
    "### Calculate Portfolio Strategy Return"
   ]
  },
  {
   "cell_type": "code",
   "execution_count": null,
   "metadata": {},
   "outputs": [],
   "source": []
  },
  {
   "cell_type": "markdown",
   "metadata": {},
   "source": [
    "#### Prepare the daily return dataset for each asset"
   ]
  },
  {
   "cell_type": "code",
   "execution_count": 98,
   "metadata": {},
   "outputs": [],
   "source": [
    "complete_sub_df_1 = universe_df.pct_change().dropna()\n",
    "complete_sub_df_1_long = complete_sub_df_1.stack()"
   ]
  },
  {
   "cell_type": "code",
   "execution_count": 99,
   "metadata": {},
   "outputs": [],
   "source": [
    "index_df = complete_sub_df_1_long.index.to_frame()\n",
    "index_df[\"ret\"] = complete_sub_df_1_long\n",
    "index_df.index=range(0,index_df.shape[0])\n",
    "index_df.columns = [\"date\",\"ticker\",\"ret\"]"
   ]
  },
  {
   "cell_type": "code",
   "execution_count": 100,
   "metadata": {},
   "outputs": [],
   "source": [
    "return_df = index_df"
   ]
  },
  {
   "cell_type": "markdown",
   "metadata": {},
   "source": [
    "#### Merge the return and indicator "
   ]
  },
  {
   "cell_type": "code",
   "execution_count": 101,
   "metadata": {},
   "outputs": [],
   "source": [
    "merge_df = return_df.merge(portfolio_indicator,on=[\"date\",\"ticker\"])"
   ]
  },
  {
   "cell_type": "code",
   "execution_count": null,
   "metadata": {},
   "outputs": [],
   "source": []
  },
  {
   "cell_type": "code",
   "execution_count": null,
   "metadata": {},
   "outputs": [],
   "source": []
  },
  {
   "cell_type": "markdown",
   "metadata": {},
   "source": [
    "#### Calculate strategy return"
   ]
  },
  {
   "cell_type": "markdown",
   "metadata": {},
   "source": [
    "Initialize the portfolio return calculation class.\n",
    "\n",
    "The initialization of this class requires a dataframe.\n",
    "\n",
    "The dataframe should contain at least three columns.\n",
    "\n",
    "1. Date\n",
    "2. Ticker\n",
    "3. Return\n",
    "4. Portfolio Indicator"
   ]
  },
  {
   "cell_type": "code",
   "execution_count": 102,
   "metadata": {},
   "outputs": [],
   "source": [
    "portfolio_constructor = PortfolioConstructor(merge_df)"
   ]
  },
  {
   "cell_type": "code",
   "execution_count": 103,
   "metadata": {},
   "outputs": [],
   "source": [
    "strategy_ret_df = portfolio_constructor.create_portfolio_series(\"momentum_indicator\",equal_weight=True)"
   ]
  },
  {
   "cell_type": "code",
   "execution_count": null,
   "metadata": {},
   "outputs": [],
   "source": []
  },
  {
   "cell_type": "code",
   "execution_count": null,
   "metadata": {},
   "outputs": [],
   "source": []
  },
  {
   "cell_type": "markdown",
   "metadata": {},
   "source": [
    "#### Evaluate the performance of the strategy"
   ]
  },
  {
   "cell_type": "code",
   "execution_count": 104,
   "metadata": {},
   "outputs": [
    {
     "data": {
      "text/html": [
       "<div>\n",
       "<style scoped>\n",
       "    .dataframe tbody tr th:only-of-type {\n",
       "        vertical-align: middle;\n",
       "    }\n",
       "\n",
       "    .dataframe tbody tr th {\n",
       "        vertical-align: top;\n",
       "    }\n",
       "\n",
       "    .dataframe thead th {\n",
       "        text-align: right;\n",
       "    }\n",
       "</style>\n",
       "<table border=\"1\" class=\"dataframe\">\n",
       "  <thead>\n",
       "    <tr style=\"text-align: right;\">\n",
       "      <th>momentum_indicator</th>\n",
       "      <th>0</th>\n",
       "      <th>1</th>\n",
       "      <th>2</th>\n",
       "      <th>3</th>\n",
       "      <th>4</th>\n",
       "    </tr>\n",
       "  </thead>\n",
       "  <tbody>\n",
       "    <tr>\n",
       "      <th>count</th>\n",
       "      <td>1093.000000</td>\n",
       "      <td>1093.000000</td>\n",
       "      <td>1093.000000</td>\n",
       "      <td>1093.000000</td>\n",
       "      <td>1093.000000</td>\n",
       "    </tr>\n",
       "    <tr>\n",
       "      <th>mean</th>\n",
       "      <td>0.007428</td>\n",
       "      <td>0.002809</td>\n",
       "      <td>-0.000467</td>\n",
       "      <td>0.000192</td>\n",
       "      <td>-0.006148</td>\n",
       "    </tr>\n",
       "    <tr>\n",
       "      <th>std</th>\n",
       "      <td>0.054625</td>\n",
       "      <td>0.071548</td>\n",
       "      <td>0.051678</td>\n",
       "      <td>0.050926</td>\n",
       "      <td>0.059937</td>\n",
       "    </tr>\n",
       "    <tr>\n",
       "      <th>min</th>\n",
       "      <td>-0.356140</td>\n",
       "      <td>-0.387470</td>\n",
       "      <td>-0.464377</td>\n",
       "      <td>-0.384494</td>\n",
       "      <td>-0.394173</td>\n",
       "    </tr>\n",
       "    <tr>\n",
       "      <th>25%</th>\n",
       "      <td>-0.019412</td>\n",
       "      <td>-0.021197</td>\n",
       "      <td>-0.023529</td>\n",
       "      <td>-0.023117</td>\n",
       "      <td>-0.032468</td>\n",
       "    </tr>\n",
       "    <tr>\n",
       "      <th>50%</th>\n",
       "      <td>0.006384</td>\n",
       "      <td>0.002983</td>\n",
       "      <td>0.002643</td>\n",
       "      <td>0.001514</td>\n",
       "      <td>-0.005619</td>\n",
       "    </tr>\n",
       "    <tr>\n",
       "      <th>75%</th>\n",
       "      <td>0.032643</td>\n",
       "      <td>0.027221</td>\n",
       "      <td>0.026692</td>\n",
       "      <td>0.024957</td>\n",
       "      <td>0.021734</td>\n",
       "    </tr>\n",
       "    <tr>\n",
       "      <th>max</th>\n",
       "      <td>0.366042</td>\n",
       "      <td>1.656962</td>\n",
       "      <td>0.202233</td>\n",
       "      <td>0.287248</td>\n",
       "      <td>0.427571</td>\n",
       "    </tr>\n",
       "  </tbody>\n",
       "</table>\n",
       "</div>"
      ],
      "text/plain": [
       "momentum_indicator            0            1            2            3  \\\n",
       "count               1093.000000  1093.000000  1093.000000  1093.000000   \n",
       "mean                   0.007428     0.002809    -0.000467     0.000192   \n",
       "std                    0.054625     0.071548     0.051678     0.050926   \n",
       "min                   -0.356140    -0.387470    -0.464377    -0.384494   \n",
       "25%                   -0.019412    -0.021197    -0.023529    -0.023117   \n",
       "50%                    0.006384     0.002983     0.002643     0.001514   \n",
       "75%                    0.032643     0.027221     0.026692     0.024957   \n",
       "max                    0.366042     1.656962     0.202233     0.287248   \n",
       "\n",
       "momentum_indicator            4  \n",
       "count               1093.000000  \n",
       "mean                  -0.006148  \n",
       "std                    0.059937  \n",
       "min                   -0.394173  \n",
       "25%                   -0.032468  \n",
       "50%                   -0.005619  \n",
       "75%                    0.021734  \n",
       "max                    0.427571  "
      ]
     },
     "execution_count": 104,
     "metadata": {},
     "output_type": "execute_result"
    }
   ],
   "source": [
    "strategy_ret_df.describe()"
   ]
  },
  {
   "cell_type": "code",
   "execution_count": 105,
   "metadata": {},
   "outputs": [
    {
     "data": {
      "text/plain": [
       "<AxesSubplot:ylabel='Density'>"
      ]
     },
     "execution_count": 105,
     "metadata": {},
     "output_type": "execute_result"
    },
    {
     "data": {
      "image/png": "[encoded data removed]",
      "text/plain": [
       "<Figure size 1440x720 with 1 Axes>"
      ]
     },
     "metadata": {
      "needs_background": "light"
     },
     "output_type": "display_data"
    }
   ],
   "source": [
    "strategy_ret_df.plot(kind=\"density\",figsize=(20,10),xlim=(-0.5,0.5))"
   ]
  },
  {
   "cell_type": "code",
   "execution_count": null,
   "metadata": {},
   "outputs": [],
   "source": []
  },
  {
   "cell_type": "code",
   "execution_count": null,
   "metadata": {},
   "outputs": [],
   "source": []
  },
  {
   "cell_type": "code",
   "execution_count": null,
   "metadata": {},
   "outputs": [],
   "source": []
  },
  {
   "cell_type": "code",
   "execution_count": 106,
   "metadata": {},
   "outputs": [],
   "source": [
    "strategy_cum_ret_df = (strategy_ret_df+1).cumprod()"
   ]
  },
  {
   "cell_type": "code",
   "execution_count": 107,
   "metadata": {},
   "outputs": [
    {
     "data": {
      "text/plain": [
       "<AxesSubplot:xlabel='date'>"
      ]
     },
     "execution_count": 107,
     "metadata": {},
     "output_type": "execute_result"
    },
    {
     "data": {
      "image/png": "[encoded data removed]",
      "text/plain": [
       "<Figure size 1440x720 with 1 Axes>"
      ]
     },
     "metadata": {
      "needs_background": "light"
     },
     "output_type": "display_data"
    }
   ],
   "source": [
    "strategy_cum_ret_df.iloc[0:,:].plot(figsize=(20,10),grid=True)"
   ]
  },
  {
   "cell_type": "code",
   "execution_count": 108,
   "metadata": {},
   "outputs": [
    {
     "data": {
      "text/plain": [
       "<AxesSubplot:xlabel='date'>"
      ]
     },
     "execution_count": 108,
     "metadata": {},
     "output_type": "execute_result"
    },
    {
     "data": {
      "image/png": "[encoded data removed]",
      "text/plain": [
       "<Figure size 1440x720 with 1 Axes>"
      ]
     },
     "metadata": {
      "needs_background": "light"
     },
     "output_type": "display_data"
    }
   ],
   "source": [
    "strategy_cum_ret_df.iloc[0:700,:].plot(figsize=(20,10),grid=True)"
   ]
  },
  {
   "cell_type": "code",
   "execution_count": null,
   "metadata": {},
   "outputs": [],
   "source": []
  },
  {
   "cell_type": "code",
   "execution_count": null,
   "metadata": {},
   "outputs": [],
   "source": []
  },
  {
   "cell_type": "code",
   "execution_count": 109,
   "metadata": {},
   "outputs": [
    {
     "data": {
      "text/plain": [
       "momentum_indicator\n",
       "0    0.135978\n",
       "1    0.039262\n",
       "2   -0.009033\n",
       "3    0.003770\n",
       "4   -0.102581\n",
       "dtype: float64"
      ]
     },
     "execution_count": 109,
     "metadata": {},
     "output_type": "execute_result"
    }
   ],
   "source": [
    "strategy_ret_df.mean()/strategy_ret_df.std()"
   ]
  },
  {
   "cell_type": "markdown",
   "metadata": {},
   "source": [
    "Create a Long Short Strategy"
   ]
  },
  {
   "cell_type": "code",
   "execution_count": 110,
   "metadata": {},
   "outputs": [],
   "source": [
    "long_short_return = strategy_ret_df.iloc[:,0] - strategy_ret_df.iloc[:,4]"
   ]
  },
  {
   "cell_type": "code",
   "execution_count": 111,
   "metadata": {},
   "outputs": [
    {
     "data": {
      "text/plain": [
       "0.013576260769219833"
      ]
     },
     "execution_count": 111,
     "metadata": {},
     "output_type": "execute_result"
    }
   ],
   "source": [
    "long_short_return.mean()"
   ]
  },
  {
   "cell_type": "code",
   "execution_count": 112,
   "metadata": {},
   "outputs": [
    {
     "data": {
      "text/plain": [
       "0.011004278249708375"
      ]
     },
     "execution_count": 112,
     "metadata": {},
     "output_type": "execute_result"
    }
   ],
   "source": [
    "long_short_return.median()"
   ]
  },
  {
   "cell_type": "code",
   "execution_count": 113,
   "metadata": {},
   "outputs": [
    {
     "data": {
      "text/plain": [
       "0.24460107276217136"
      ]
     },
     "execution_count": 113,
     "metadata": {},
     "output_type": "execute_result"
    }
   ],
   "source": [
    "long_short_return.mean()/long_short_return.std()"
   ]
  },
  {
   "cell_type": "code",
   "execution_count": 114,
   "metadata": {},
   "outputs": [
    {
     "data": {
      "text/plain": [
       "0.011004278249708375"
      ]
     },
     "execution_count": 114,
     "metadata": {},
     "output_type": "execute_result"
    }
   ],
   "source": [
    "long_short_return.median()"
   ]
  },
  {
   "cell_type": "code",
   "execution_count": null,
   "metadata": {},
   "outputs": [],
   "source": []
  },
  {
   "cell_type": "code",
   "execution_count": 115,
   "metadata": {},
   "outputs": [],
   "source": [
    "factor_return = (long_short_return+1).cumprod()"
   ]
  },
  {
   "cell_type": "code",
   "execution_count": null,
   "metadata": {},
   "outputs": [],
   "source": []
  },
  {
   "cell_type": "code",
   "execution_count": 116,
   "metadata": {},
   "outputs": [
    {
     "data": {
      "text/plain": [
       "<AxesSubplot:xlabel='date'>"
      ]
     },
     "execution_count": 116,
     "metadata": {},
     "output_type": "execute_result"
    },
    {
     "data": {
      "image/png": "[encoded data removed]",
      "text/plain": [
       "<Figure size 432x288 with 1 Axes>"
      ]
     },
     "metadata": {
      "needs_background": "light"
     },
     "output_type": "display_data"
    }
   ],
   "source": [
    "factor_return[0:].plot()"
   ]
  },
  {
   "cell_type": "code",
   "execution_count": null,
   "metadata": {},
   "outputs": [],
   "source": []
  },
  {
   "cell_type": "code",
   "execution_count": null,
   "metadata": {},
   "outputs": [],
   "source": []
  },
  {
   "cell_type": "code",
   "execution_count": null,
   "metadata": {},
   "outputs": [],
   "source": []
  },
  {
   "cell_type": "code",
   "execution_count": null,
   "metadata": {},
   "outputs": [],
   "source": []
  },
  {
   "cell_type": "code",
   "execution_count": null,
   "metadata": {},
   "outputs": [],
   "source": []
  },
  {
   "cell_type": "code",
   "execution_count": null,
   "metadata": {},
   "outputs": [],
   "source": []
  }
 ],
 "metadata": {
  "kernelspec": {
   "display_name": "Python 3",
   "language": "python",
   "name": "python3"
  },
  "language_info": {
   "codemirror_mode": {
    "name": "ipython",
    "version": 3
   },
   "file_extension": ".py",
   "mimetype": "text/x-python",
   "name": "python",
   "nbconvert_exporter": "python",
   "pygments_lexer": "ipython3",
   "version": "3.8.5"
  }
 },
 "nbformat": 4,
 "nbformat_minor": 4
}
