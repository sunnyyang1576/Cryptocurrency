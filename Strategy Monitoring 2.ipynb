{
 "cells": [
  {
   "cell_type": "code",
   "execution_count": null,
   "metadata": {},
   "outputs": [],
   "source": []
  },
  {
   "cell_type": "code",
   "execution_count": 3,
   "metadata": {},
   "outputs": [],
   "source": [
    "import pandas as pd\n",
    "import numpy as np\n",
    "from yahoo_fin.stock_info import get_data\n",
    "import datetime"
   ]
  },
  {
   "cell_type": "code",
   "execution_count": null,
   "metadata": {},
   "outputs": [],
   "source": []
  },
  {
   "cell_type": "code",
   "execution_count": 4,
   "metadata": {},
   "outputs": [],
   "source": [
    "log_directory = \"strategy_log/\"\n",
    "file_directory = \"data/\""
   ]
  },
  {
   "cell_type": "code",
   "execution_count": null,
   "metadata": {},
   "outputs": [],
   "source": []
  },
  {
   "cell_type": "markdown",
   "metadata": {},
   "source": [
    "### Get Previous Day Portfolio"
   ]
  },
  {
   "cell_type": "code",
   "execution_count": null,
   "metadata": {},
   "outputs": [],
   "source": []
  },
  {
   "cell_type": "code",
   "execution_count": 17,
   "metadata": {},
   "outputs": [],
   "source": [
    "bottom_portfolio = pd.read_csv(log_directory+\"bottom_portfolio2021-01-12.csv\")\n",
    "top_portfolio = pd.read_csv(log_directory+\"top_portfolio2021-01-12.csv\")"
   ]
  },
  {
   "cell_type": "code",
   "execution_count": null,
   "metadata": {},
   "outputs": [],
   "source": []
  },
  {
   "cell_type": "code",
   "execution_count": 18,
   "metadata": {},
   "outputs": [],
   "source": [
    "bottom_portfolio = list(bottom_portfolio.columns[1:])\n",
    "top_portfolio = list(top_portfolio.columns[1:])"
   ]
  },
  {
   "cell_type": "code",
   "execution_count": 19,
   "metadata": {},
   "outputs": [
    {
     "data": {
      "text/plain": [
       "['AIB-USD',\n",
       " 'MOON-USD',\n",
       " 'MINT-USD',\n",
       " 'MRX-USD',\n",
       " 'ALIAS-USD',\n",
       " 'ECC-USD',\n",
       " 'NIX-USD',\n",
       " 'XDN-USD',\n",
       " 'INSTAR-USD',\n",
       " 'DTEP-USD']"
      ]
     },
     "execution_count": 19,
     "metadata": {},
     "output_type": "execute_result"
    }
   ],
   "source": [
    "bottom_portfolio"
   ]
  },
  {
   "cell_type": "code",
   "execution_count": 78,
   "metadata": {},
   "outputs": [],
   "source": [
    "start_date = (datetime.datetime.today()-datetime.timedelta(days=2)).strftime(\"%Y-%m-%d\")\n",
    "end_date = (datetime.datetime.today()).strftime(\"%Y-%m-%d\")"
   ]
  },
  {
   "cell_type": "code",
   "execution_count": 20,
   "metadata": {},
   "outputs": [],
   "source": [
    "start_date = \"2021-01-05\"\n",
    "end_date = \"2021-01-13\""
   ]
  },
  {
   "cell_type": "code",
   "execution_count": null,
   "metadata": {},
   "outputs": [],
   "source": []
  },
  {
   "cell_type": "code",
   "execution_count": null,
   "metadata": {},
   "outputs": [],
   "source": []
  },
  {
   "cell_type": "code",
   "execution_count": 21,
   "metadata": {},
   "outputs": [],
   "source": [
    "price_dic = {}\n",
    "error_list = []\n",
    "\n",
    "for ticker in top_portfolio+bottom_portfolio:\n",
    "    \n",
    "    try:\n",
    "        price_df = get_data(ticker=ticker,\n",
    "                        start_date=start_date,\n",
    "                        end_date=end_date,\n",
    "                        index_as_date=True,\n",
    "                        interval=\"1d\")\n",
    "        \n",
    "        price_dic[ticker] = price_df\n",
    "    \n",
    "    except:\n",
    "        \n",
    "        print(\"Error.\")\n",
    "        error_list.append(ticker)"
   ]
  },
  {
   "cell_type": "code",
   "execution_count": 22,
   "metadata": {},
   "outputs": [],
   "source": [
    "top_portfolio_list = [price_dic[ticker] for ticker in top_portfolio]\n",
    "top_portfolio_df = pd.concat(top_portfolio_list,axis=0)\n",
    "\n",
    "bottom_portfolio_list = [price_dic[ticker] for ticker in bottom_portfolio]\n",
    "bottom_portfolio_df = pd.concat(bottom_portfolio_list,axis=0)"
   ]
  },
  {
   "cell_type": "code",
   "execution_count": null,
   "metadata": {},
   "outputs": [],
   "source": []
  },
  {
   "cell_type": "code",
   "execution_count": null,
   "metadata": {},
   "outputs": [],
   "source": []
  },
  {
   "cell_type": "code",
   "execution_count": null,
   "metadata": {},
   "outputs": [],
   "source": []
  },
  {
   "cell_type": "code",
   "execution_count": 23,
   "metadata": {},
   "outputs": [],
   "source": [
    "top_portfolio_df[\"date\"] = top_portfolio_df.index\n",
    "top_portfolio_wide = top_portfolio_df.pivot_table(values=\"close\",columns=\"ticker\",index=\"date\")\n",
    "\n",
    "bottom_portfolio_df[\"date\"] = bottom_portfolio_df.index\n",
    "bottom_portfolio_wide = bottom_portfolio_df.pivot_table(values=\"close\",columns=\"ticker\",index=\"date\")"
   ]
  },
  {
   "cell_type": "code",
   "execution_count": null,
   "metadata": {},
   "outputs": [],
   "source": []
  },
  {
   "cell_type": "code",
   "execution_count": null,
   "metadata": {},
   "outputs": [],
   "source": []
  },
  {
   "cell_type": "code",
   "execution_count": null,
   "metadata": {},
   "outputs": [],
   "source": []
  },
  {
   "cell_type": "code",
   "execution_count": 25,
   "metadata": {},
   "outputs": [],
   "source": [
    "top_return = top_portfolio_wide.pct_change().iloc[-1,:]\n",
    "bottom_return = bottom_portfolio_wide.pct_change().iloc[-1,:]"
   ]
  },
  {
   "cell_type": "code",
   "execution_count": 26,
   "metadata": {},
   "outputs": [
    {
     "data": {
      "text/plain": [
       "count    10.000000\n",
       "mean     -0.103122\n",
       "std       0.451831\n",
       "min      -0.792206\n",
       "25%      -0.250000\n",
       "50%      -0.135845\n",
       "75%       0.039919\n",
       "max       0.877034\n",
       "Name: 2021-01-13 00:00:00, dtype: float64"
      ]
     },
     "execution_count": 26,
     "metadata": {},
     "output_type": "execute_result"
    }
   ],
   "source": [
    "top_return.describe()"
   ]
  },
  {
   "cell_type": "code",
   "execution_count": 27,
   "metadata": {},
   "outputs": [
    {
     "data": {
      "text/plain": [
       "count    10.000000\n",
       "mean      0.167519\n",
       "std       0.251929\n",
       "min      -0.183756\n",
       "25%       0.088538\n",
       "50%       0.101011\n",
       "75%       0.261665\n",
       "max       0.651206\n",
       "Name: 2021-01-13 00:00:00, dtype: float64"
      ]
     },
     "execution_count": 27,
     "metadata": {},
     "output_type": "execute_result"
    }
   ],
   "source": [
    "bottom_return.describe()"
   ]
  },
  {
   "cell_type": "code",
   "execution_count": null,
   "metadata": {},
   "outputs": [],
   "source": []
  },
  {
   "cell_type": "code",
   "execution_count": 15,
   "metadata": {},
   "outputs": [
    {
     "data": {
      "text/plain": [
       "'2021-01-12'"
      ]
     },
     "execution_count": 15,
     "metadata": {},
     "output_type": "execute_result"
    }
   ],
   "source": [
    "end_date"
   ]
  },
  {
   "cell_type": "code",
   "execution_count": 28,
   "metadata": {},
   "outputs": [],
   "source": [
    "top_return.to_csv(log_directory+\"_\"+end_date+\"_\"+\"top_portfolio_return.csv\")\n",
    "bottom_return.to_csv(log_directory+\"_\"+end_date+\"_\"+\"bottom_portfolio_return.csv\")"
   ]
  },
  {
   "cell_type": "code",
   "execution_count": null,
   "metadata": {},
   "outputs": [],
   "source": []
  },
  {
   "cell_type": "code",
   "execution_count": null,
   "metadata": {},
   "outputs": [],
   "source": []
  },
  {
   "cell_type": "code",
   "execution_count": null,
   "metadata": {},
   "outputs": [],
   "source": []
  },
  {
   "cell_type": "code",
   "execution_count": null,
   "metadata": {},
   "outputs": [],
   "source": []
  },
  {
   "cell_type": "code",
   "execution_count": null,
   "metadata": {},
   "outputs": [],
   "source": []
  },
  {
   "cell_type": "code",
   "execution_count": null,
   "metadata": {},
   "outputs": [],
   "source": []
  },
  {
   "cell_type": "code",
   "execution_count": null,
   "metadata": {},
   "outputs": [],
   "source": []
  },
  {
   "cell_type": "code",
   "execution_count": null,
   "metadata": {},
   "outputs": [],
   "source": []
  },
  {
   "cell_type": "code",
   "execution_count": null,
   "metadata": {},
   "outputs": [],
   "source": []
  },
  {
   "cell_type": "code",
   "execution_count": null,
   "metadata": {},
   "outputs": [],
   "source": []
  },
  {
   "cell_type": "code",
   "execution_count": null,
   "metadata": {},
   "outputs": [],
   "source": []
  },
  {
   "cell_type": "code",
   "execution_count": null,
   "metadata": {},
   "outputs": [],
   "source": []
  }
 ],
 "metadata": {
  "kernelspec": {
   "display_name": "Python 3",
   "language": "python",
   "name": "python3"
  },
  "language_info": {
   "codemirror_mode": {
    "name": "ipython",
    "version": 3
   },
   "file_extension": ".py",
   "mimetype": "text/x-python",
   "name": "python",
   "nbconvert_exporter": "python",
   "pygments_lexer": "ipython3",
   "version": "3.8.5"
  }
 },
 "nbformat": 4,
 "nbformat_minor": 4
}
